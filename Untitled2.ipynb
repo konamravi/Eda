{
 "cells": [
  {
   "cell_type": "code",
   "execution_count": null,
   "id": "7344df80-f226-48f7-a5ed-12a41f5f84d7",
   "metadata": {},
   "outputs": [],
   "source": [
    "# wap ask the user enter 2 number \n",
    "# number1\n",
    "# number2\n",
    "#you need to print \n",
    "# enter operation 1 for addition \n",
    "# enter operation 2 for mult \n",
    "# enter opperation 3 for sub\n",
    "# enter operation 4 for div\n",
    "\n",
    "# enter the operation between 1 to 4\n",
    "# if operation equal to 1 then do add\n",
    "# if operation equal to 2 then do mul\n",
    "# if operation equal to 3 then do sub \n",
    "# if operation equal to 4 then do div \n",
    "# if operation equal to 2 then do mu\n",
    "# otherwise print enter a volid number \n",
    "\n"
   ]
  },
  {
   "cell_type": "code",
   "execution_count": 6,
   "id": "05dc2593-697c-4688-80a9-c20e524ea2bf",
   "metadata": {},
   "outputs": [
    {
     "ename": "KeyboardInterrupt",
     "evalue": "Interrupted by user",
     "output_type": "error",
     "traceback": [
      "\u001b[1;31m---------------------------------------------------------------------------\u001b[0m",
      "\u001b[1;31mKeyboardInterrupt\u001b[0m                         Traceback (most recent call last)",
      "Cell \u001b[1;32mIn[6], line 9\u001b[0m\n\u001b[0;32m      1\u001b[0m \u001b[38;5;66;03m# wap ask the user enter 2 numbers \u001b[39;00m\n\u001b[0;32m      2\u001b[0m \u001b[38;5;66;03m# number1\u001b[39;00m\n\u001b[0;32m      3\u001b[0m \u001b[38;5;66;03m# number2\u001b[39;00m\n\u001b[1;32m   (...)\u001b[0m\n\u001b[0;32m      7\u001b[0m \u001b[38;5;66;03m# enter opperation 3 for sub\u001b[39;00m\n\u001b[0;32m      8\u001b[0m \u001b[38;5;66;03m# enter operation 4 for div\u001b[39;00m\n\u001b[1;32m----> 9\u001b[0m number1\u001b[38;5;241m=\u001b[39m\u001b[38;5;28meval\u001b[39m(\u001b[38;5;28minput\u001b[39m(\u001b[38;5;124m\"\u001b[39m\u001b[38;5;124menter the number 1:\u001b[39m\u001b[38;5;124m\"\u001b[39m))\n\u001b[0;32m     10\u001b[0m number2\u001b[38;5;241m=\u001b[39m\u001b[38;5;28meval\u001b[39m(\u001b[38;5;28minput\u001b[39m(\u001b[38;5;124m\"\u001b[39m\u001b[38;5;124menter the number 2:\u001b[39m\u001b[38;5;124m\"\u001b[39m))\n\u001b[0;32m     11\u001b[0m \u001b[38;5;28mprint\u001b[39m(\u001b[38;5;124m\"\u001b[39m\u001b[38;5;124mnumber1\u001b[39m\u001b[38;5;124m\"\u001b[39m)\n",
      "File \u001b[1;32m~\\anaconda3\\Lib\\site-packages\\ipykernel\\kernelbase.py:1262\u001b[0m, in \u001b[0;36mKernel.raw_input\u001b[1;34m(self, prompt)\u001b[0m\n\u001b[0;32m   1260\u001b[0m     msg \u001b[38;5;241m=\u001b[39m \u001b[38;5;124m\"\u001b[39m\u001b[38;5;124mraw_input was called, but this frontend does not support input requests.\u001b[39m\u001b[38;5;124m\"\u001b[39m\n\u001b[0;32m   1261\u001b[0m     \u001b[38;5;28;01mraise\u001b[39;00m StdinNotImplementedError(msg)\n\u001b[1;32m-> 1262\u001b[0m \u001b[38;5;28;01mreturn\u001b[39;00m \u001b[38;5;28mself\u001b[39m\u001b[38;5;241m.\u001b[39m_input_request(\n\u001b[0;32m   1263\u001b[0m     \u001b[38;5;28mstr\u001b[39m(prompt),\n\u001b[0;32m   1264\u001b[0m     \u001b[38;5;28mself\u001b[39m\u001b[38;5;241m.\u001b[39m_parent_ident[\u001b[38;5;124m\"\u001b[39m\u001b[38;5;124mshell\u001b[39m\u001b[38;5;124m\"\u001b[39m],\n\u001b[0;32m   1265\u001b[0m     \u001b[38;5;28mself\u001b[39m\u001b[38;5;241m.\u001b[39mget_parent(\u001b[38;5;124m\"\u001b[39m\u001b[38;5;124mshell\u001b[39m\u001b[38;5;124m\"\u001b[39m),\n\u001b[0;32m   1266\u001b[0m     password\u001b[38;5;241m=\u001b[39m\u001b[38;5;28;01mFalse\u001b[39;00m,\n\u001b[0;32m   1267\u001b[0m )\n",
      "File \u001b[1;32m~\\anaconda3\\Lib\\site-packages\\ipykernel\\kernelbase.py:1305\u001b[0m, in \u001b[0;36mKernel._input_request\u001b[1;34m(self, prompt, ident, parent, password)\u001b[0m\n\u001b[0;32m   1302\u001b[0m \u001b[38;5;28;01mexcept\u001b[39;00m \u001b[38;5;167;01mKeyboardInterrupt\u001b[39;00m:\n\u001b[0;32m   1303\u001b[0m     \u001b[38;5;66;03m# re-raise KeyboardInterrupt, to truncate traceback\u001b[39;00m\n\u001b[0;32m   1304\u001b[0m     msg \u001b[38;5;241m=\u001b[39m \u001b[38;5;124m\"\u001b[39m\u001b[38;5;124mInterrupted by user\u001b[39m\u001b[38;5;124m\"\u001b[39m\n\u001b[1;32m-> 1305\u001b[0m     \u001b[38;5;28;01mraise\u001b[39;00m \u001b[38;5;167;01mKeyboardInterrupt\u001b[39;00m(msg) \u001b[38;5;28;01mfrom\u001b[39;00m \u001b[38;5;28;01mNone\u001b[39;00m\n\u001b[0;32m   1306\u001b[0m \u001b[38;5;28;01mexcept\u001b[39;00m \u001b[38;5;167;01mException\u001b[39;00m:\n\u001b[0;32m   1307\u001b[0m     \u001b[38;5;28mself\u001b[39m\u001b[38;5;241m.\u001b[39mlog\u001b[38;5;241m.\u001b[39mwarning(\u001b[38;5;124m\"\u001b[39m\u001b[38;5;124mInvalid Message:\u001b[39m\u001b[38;5;124m\"\u001b[39m, exc_info\u001b[38;5;241m=\u001b[39m\u001b[38;5;28;01mTrue\u001b[39;00m)\n",
      "\u001b[1;31mKeyboardInterrupt\u001b[0m: Interrupted by user"
     ]
    }
   ],
   "source": [
    "# wap ask the user enter 2 numbers \n",
    "# number1\n",
    "# number2\n",
    "#you need to print \n",
    "# enter operation 1 for addition \n",
    "# enter operation 2 for mult \n",
    "# enter opperation 3 for sub\n",
    "# enter operation 4 for div\n",
    "number1=eval(input(\"enter the number 1:\"))\n",
    "number2=eval(input(\"enter the number 2:\"))\n",
    "print(\"number1\")\n",
    "print(\"number2\")\n",
    "print(\"operation 1 for addition \")\n",
    "print(\"operation 2 for mult\")\n",
    "print(\"operation 3 for sub\")\n",
    "print(\"operation 4 for div\")\n",
    "\n",
    "if op==1:\n",
    "    sum=number1+number2\n",
    "    print(\"operation 1 for addition\")\n",
    "elif op==2:\n",
    "    mulnumber1*number2\n",
    "    print(\"operation 2 for mul\")\n",
    "elif op==3: \n",
    "    sub=number1-number2\n",
    "    print(\"operation 3 for sub\")\n",
    "elif op==4:\n",
    "    div=number1/number2\n",
    "    print(\"operation 4 for div\")\n",
    "else:\n",
    "    print(\"enter choise num\")\n",
    "    "
   ]
  },
  {
   "cell_type": "code",
   "execution_count": null,
   "id": "5a6b0abb-e74c-4a8c-af8a-d4bd1e236444",
   "metadata": {},
   "outputs": [],
   "source": [
    "# enter the operation between 1 to 4\n",
    "# if operation equal to 1 then do add\n",
    "# if operation equal to 2 then do mul\n",
    "# if operation equal to 3 then do sub \n",
    "# if operation equal to 4 then do div \n",
    "# if operation equal to 2 then do mu\n",
    "# otherwise print enter a volid number \n",
    "num=eval(input(\"enter yhe num(1-4)\"))\n",
    "if "
   ]
  },
  {
   "cell_type": "code",
   "execution_count": 3,
   "id": "d018fc4a-9977-4827-aeff-113b373e5e4a",
   "metadata": {},
   "outputs": [
    {
     "ename": "SyntaxError",
     "evalue": "invalid syntax (2006519662.py, line 18)",
     "output_type": "error",
     "traceback": [
      "\u001b[1;36m  Cell \u001b[1;32mIn[3], line 18\u001b[1;36m\u001b[0m\n\u001b[1;33m    elif age>=60:\u001b[0m\n\u001b[1;37m    ^\u001b[0m\n\u001b[1;31mSyntaxError\u001b[0m\u001b[1;31m:\u001b[0m invalid syntax\n"
     ]
    }
   ],
   "source": [
    "# wap ask the user enter the gender\n",
    "# if gender equal to male \n",
    "#    ask the user enter the age \n",
    "#    if the age grater than 60 print ss\n",
    "#    if the age between 30 to 60 print maman \n",
    "#    if the age between 15 to 30 print to young man\n",
    "# elif gender equal to female\n",
    "#    ask the user enter age \n",
    "#   if the age grater than 60 print 55\n",
    "#   if the age between 30 to 60 print mawomen\n",
    "#    if the age between 15 to 30 print to young girl\n",
    "\n",
    "\n",
    "gender=input(\" enter the gender\")\n",
    "if gender==male:\n",
    "    print(\"male\")\n",
    "age=eval(input(\"enter the age:\"))\n",
    "elif age>=60:\n",
    "    print(\"senior citizen\")\n",
    "elif age>=30:\n",
    "    print(\"maman\")\n",
    "elif age>=15:\n",
    "    print(\"young age\")\n",
    "gender=input(\"enter the gender\")\n"
   ]
  },
  {
   "cell_type": "code",
   "execution_count": null,
   "id": "112ba6b2-3c7c-40dc-b041-1e0702a591d0",
   "metadata": {},
   "outputs": [],
   "source": [
    "# WAP ask the user enter the age\n",
    "# if the age greater tahn 100 print you are lucky\n",
    "# if the age gretaer than 75 print old age\n",
    "# if the age  between 50 to 75 print ss\n",
    "# if the age between  30 tp 50 print MA\n",
    "# if the age between  15 to 30 print young age\n",
    "# if the afe between less than 15 print kid\n",
    "age=eval(input(\"enter the age\"))\n",
    "if age>=75:\n",
    "    print(\"old\")\n",
    "elif age>=50:\n",
    "    print(\"senior citizen\")\n",
    "elif age>=30:\n",
    "    print(\"middle age\")\n",
    "elif age>=15:\n",
    "    print(\"young age\")\n",
    "else :\n",
    "    print(\"kid\")"
   ]
  },
  {
   "cell_type": "code",
   "execution_count": 8,
   "id": "a65fb7ba-807f-44d5-bc62-127738b48d00",
   "metadata": {},
   "outputs": [
    {
     "ename": "SyntaxError",
     "evalue": "invalid syntax (1475643544.py, line 16)",
     "output_type": "error",
     "traceback": [
      "\u001b[1;36m  Cell \u001b[1;32mIn[8], line 16\u001b[1;36m\u001b[0m\n\u001b[1;33m    else:\u001b[0m\n\u001b[1;37m    ^\u001b[0m\n\u001b[1;31mSyntaxError\u001b[0m\u001b[1;31m:\u001b[0m invalid syntax\n"
     ]
    }
   ],
   "source": [
    "# wap ask the user enter a number \n",
    "# if that number grater than or equal to zero\n",
    "#      if numbar equal to zero\n",
    "#         print zero\n",
    "# else \n",
    "#      print positive \n",
    "# else \n",
    "# print negative \n",
    "num=eval(input(\"enter a number\"))\n",
    "if num>=0:\n",
    "    print(\"grater than equal to zero\")\n",
    "elif number==0:\n",
    "    print(\"number equal to zero\")\n",
    "else:\n",
    "    print(\"positive\")\n",
    "else:\n",
    "     print(\"negative\")\n",
    " "
   ]
  },
  {
   "cell_type": "code",
   "execution_count": null,
   "id": "64818ebc-4de1-4b0d-86a6-0110b61326fd",
   "metadata": {},
   "outputs": [],
   "source": [
    "# take theree numbers\n",
    "# num1 num2 num3 \n"
   ]
  }
 ],
 "metadata": {
  "kernelspec": {
   "display_name": "Python 3 (ipykernel)",
   "language": "python",
   "name": "python3"
  },
  "language_info": {
   "codemirror_mode": {
    "name": "ipython",
    "version": 3
   },
   "file_extension": ".py",
   "mimetype": "text/x-python",
   "name": "python",
   "nbconvert_exporter": "python",
   "pygments_lexer": "ipython3",
   "version": "3.11.7"
  }
 },
 "nbformat": 4,
 "nbformat_minor": 5
}
