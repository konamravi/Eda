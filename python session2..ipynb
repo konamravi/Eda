{
 "cells": [
  {
   "cell_type": "markdown",
   "id": "d9894acc-d464-4c3e-8caa-be38a993ca10",
   "metadata": {},
   "source": [
    "**data types**"
   ]
  },
  {
   "cell_type": "markdown",
   "id": "4aa38d52-c406-4ae0-bcd0-3b21231dd59d",
   "metadata": {},
   "source": [
    "- in python type declear not required \n",
    "- python will automatically takees the type based on provided value \n",
    "- we have many data types available \n",
    "- the amin data types are \n",
    "   - integer\n",
    "   - float\n",
    "   - boolean\n",
    "   - string\n",
    "- list\n",
    "- dicionary\n",
    "- tuple\n",
    "- complex"
   ]
  },
  {
   "cell_type": "markdown",
   "id": "3847630f-1ca9-473d-8269-33ea6424e4fa",
   "metadata": {},
   "source": [
    "#### int"
   ]
  },
  {
   "cell_type": "markdown",
   "id": "f3a2fbe2-e12a-4ede-a374-91fc5d54718d",
   "metadata": {},
   "source": [
    "- binary represenation \n",
    "- octal represenation \n",
    "- hexa represenation\n"
   ]
  },
  {
   "cell_type": "code",
   "execution_count": null,
   "id": "34041dfa-b203-4634-b03b-cb6947ab38ed",
   "metadata": {},
   "outputs": [],
   "source": [
    "100000\n",
    "100\n",
    "200"
   ]
  },
  {
   "cell_type": "markdown",
   "id": "38febb90-2011-42c5-9516-55a5db1c77d3",
   "metadata": {},
   "source": [
    "**Binary**"
   ]
  },
  {
   "cell_type": "markdown",
   "id": "71513d35-0d7a-4b3d-8862-fed617ed3836",
   "metadata": {},
   "source": [
    "- bi mean 2 \n",
    "- so its requires 2 digits \n",
    "- generally we have 0 1 2 3 4 5 6 7 8 9\n",
    "- so it will represent with only 0 and 1\n",
    "- representation is 0b10,0b01111,0b111\n",
    "- wrong repreenation is ob102,ob007 "
   ]
  },
  {
   "cell_type": "code",
   "execution_count": 1,
   "id": "ff5ef042-07bf-485c-a1c2-cb5567449cb1",
   "metadata": {},
   "outputs": [
    {
     "data": {
      "text/plain": [
       "5"
      ]
     },
     "execution_count": 1,
     "metadata": {},
     "output_type": "execute_result"
    }
   ],
   "source": [
    "0b101"
   ]
  },
  {
   "cell_type": "code",
   "execution_count": 2,
   "id": "9d0470af-0a7e-4cf7-a8c4-d3dcd88f3890",
   "metadata": {},
   "outputs": [
    {
     "data": {
      "text/plain": [
       "9"
      ]
     },
     "execution_count": 2,
     "metadata": {},
     "output_type": "execute_result"
    }
   ],
   "source": [
    "0b1001"
   ]
  },
  {
   "cell_type": "code",
   "execution_count": 3,
   "id": "6027f892-fb4a-4f8d-a6ac-c4ac68a02150",
   "metadata": {},
   "outputs": [
    {
     "data": {
      "text/plain": [
       "5"
      ]
     },
     "execution_count": 3,
     "metadata": {},
     "output_type": "execute_result"
    }
   ],
   "source": [
    "0b101"
   ]
  },
  {
   "cell_type": "code",
   "execution_count": 3,
   "id": "0e8eba4f-71f9-4b7e-b093-3e8c1eaf2692",
   "metadata": {},
   "outputs": [],
   "source": [
    "import os"
   ]
  },
  {
   "cell_type": "code",
   "execution_count": 4,
   "id": "3c74832c-d0f3-41b3-9159-fb09db0fe29f",
   "metadata": {},
   "outputs": [
    {
     "data": {
      "text/plain": [
       "'C:\\\\Users\\\\Lenovo\\\\Documents\\\\naresh it\\\\python'"
      ]
     },
     "execution_count": 4,
     "metadata": {},
     "output_type": "execute_result"
    }
   ],
   "source": [
    "os.getcwd()\n",
    "\n",
    "# get current working dirctory\n",
    "# it will give the path\n",
    "# where our python file location"
   ]
  },
  {
   "cell_type": "code",
   "execution_count": 4,
   "id": "7c874615-9f5f-4d7a-b389-e1c62dcbe994",
   "metadata": {},
   "outputs": [
    {
     "data": {
      "text/plain": [
       "15"
      ]
     },
     "execution_count": 4,
     "metadata": {},
     "output_type": "execute_result"
    }
   ],
   "source": [
    "# binary\n",
    "0b1111"
   ]
  },
  {
   "cell_type": "code",
   "execution_count": null,
   "id": "c21d6f00-8a7f-4526-8ab9-51cf1986f17b",
   "metadata": {},
   "outputs": [],
   "source": [
    "8 4 2 1   num\n",
    "0 0 0 0    0\n",
    "0 0 0 1    1\n",
    "0 0 1 0    2\n",
    "0 0 1 1    3\n",
    "0 1 0 0    4\n",
    "0 1 0 1    5\n",
    "0 1 1 0    6\n",
    "0 1 1 1    7\n",
    "1 0 0 0    8 \n",
    "1 0 0 1    9 \n",
    "1 0 1 0    10 \n",
    "1 0 1 1    11\n",
    "1 1 0 0    12\n",
    "1 1 0 1    13\n",
    "1 1 1 0    14\n",
    "1 1 1 1    15\n"
   ]
  },
  {
   "cell_type": "code",
   "execution_count": 9,
   "id": "0e2b0492-1d34-4978-ab50-64fa8a46e750",
   "metadata": {},
   "outputs": [
    {
     "data": {
      "text/plain": [
       "29"
      ]
     },
     "execution_count": 9,
     "metadata": {},
     "output_type": "execute_result"
    }
   ],
   "source": [
    "0b11101"
   ]
  },
  {
   "cell_type": "code",
   "execution_count": 10,
   "id": "752a8f72-332d-43e5-a634-d38c19d1d487",
   "metadata": {},
   "outputs": [
    {
     "data": {
      "text/plain": [
       "59"
      ]
     },
     "execution_count": 10,
     "metadata": {},
     "output_type": "execute_result"
    }
   ],
   "source": [
    "0b111011"
   ]
  },
  {
   "cell_type": "markdown",
   "id": "8264325e-b4a0-4057-91a8-348f2161db31",
   "metadata": {},
   "source": [
    "**Octal**\n",
    "- octal mean 8\n",
    "- so it requires 8 digit\n",
    "- genarally we have 0 1 2 3 4 5 6 7 8 9\n",
    "- so it will represent with only 0 1 2 3 4 5 6 7\n",
    "- represantion is0o123,0o012345,0o7654321\n",
    "- wrong representation is Do10,Do987"
   ]
  },
  {
   "cell_type": "code",
   "execution_count": 12,
   "id": "589ce30b-5d2d-4b80-9b65-5fd0c19aff81",
   "metadata": {},
   "outputs": [
    {
     "data": {
      "text/plain": [
       "83"
      ]
     },
     "execution_count": 12,
     "metadata": {},
     "output_type": "execute_result"
    }
   ],
   "source": [
    "0o123"
   ]
  },
  {
   "cell_type": "code",
   "execution_count": 13,
   "id": "5c12016b-9d57-4cff-8224-7763469003f6",
   "metadata": {},
   "outputs": [
    {
     "data": {
      "text/plain": [
       "668"
      ]
     },
     "execution_count": 13,
     "metadata": {},
     "output_type": "execute_result"
    }
   ],
   "source": [
    "0o1234"
   ]
  },
  {
   "cell_type": "markdown",
   "id": "34d30a12-2891-4d3a-a768-cb10f52fe103",
   "metadata": {},
   "source": [
    "**hexa**\n",
    "- hexa mean 16\n",
    "- so it requiers 16 digit \n",
    "- genarally we have 0 1 2 3 4 5 6 7 8 9 A(10) B(11) C(12)\n",
    "- so it will repersent bwith only 0-9,A-F\n",
    "- wrong representation is OXF9,0X0123ABC\n",
    "- WRONG REPRESENATION IS 0XGH,0XABCDEFG"
   ]
  },
  {
   "cell_type": "code",
   "execution_count": 14,
   "id": "cc101d48-4033-4237-929e-dadbeebff18e",
   "metadata": {},
   "outputs": [
    {
     "data": {
      "text/plain": [
       "2748"
      ]
     },
     "execution_count": 14,
     "metadata": {},
     "output_type": "execute_result"
    }
   ],
   "source": [
    "0XABC"
   ]
  },
  {
   "cell_type": "code",
   "execution_count": 15,
   "id": "d52fa3fb-ea40-457d-bbe0-ae184e62b569",
   "metadata": {},
   "outputs": [
    {
     "data": {
      "text/plain": [
       "4671"
      ]
     },
     "execution_count": 15,
     "metadata": {},
     "output_type": "execute_result"
    }
   ],
   "source": [
    "0X123F"
   ]
  },
  {
   "cell_type": "markdown",
   "id": "09e94101-5013-4b06-8d3b-e2b1caacba77",
   "metadata": {},
   "source": [
    "### Float"
   ]
  },
  {
   "cell_type": "code",
   "execution_count": 6,
   "id": "3e5fa841-2cfc-4601-9e8e-d90870b59191",
   "metadata": {},
   "outputs": [
    {
     "data": {
      "text/plain": [
       "float"
      ]
     },
     "execution_count": 6,
     "metadata": {},
     "output_type": "execute_result"
    }
   ],
   "source": [
    "n1=1005.00\n",
    "type(n1)"
   ]
  },
  {
   "cell_type": "code",
   "execution_count": 10,
   "id": "ba2092b0-5d34-45ab-8db3-e76987b774ac",
   "metadata": {},
   "outputs": [
    {
     "data": {
      "text/plain": [
       "int"
      ]
     },
     "execution_count": 10,
     "metadata": {},
     "output_type": "execute_result"
    }
   ],
   "source": [
    "n2=1005\n",
    "type(n2)"
   ]
  },
  {
   "cell_type": "code",
   "execution_count": 22,
   "id": "e19d6470-897f-4b4f-8a2a-80ffc457b233",
   "metadata": {},
   "outputs": [
    {
     "data": {
      "text/plain": [
       "(10.0, 100.0, 1000.0, 10000.0)"
      ]
     },
     "execution_count": 22,
     "metadata": {},
     "output_type": "execute_result"
    }
   ],
   "source": [
    "1e1,1e2,1e3,1e4\n",
    "(10.0, 100.0, 1000.0, 10000.0)\n"
   ]
  },
  {
   "cell_type": "code",
   "execution_count": 23,
   "id": "c56fbf58-54f9-432b-95e4-43a46107ff16",
   "metadata": {},
   "outputs": [
    {
     "data": {
      "text/plain": [
       "24000.0"
      ]
     },
     "execution_count": 23,
     "metadata": {},
     "output_type": "execute_result"
    }
   ],
   "source": [
    "24e3"
   ]
  },
  {
   "cell_type": "code",
   "execution_count": 15,
   "id": "0225cfba-87fe-4904-a46f-a3d8a43ed548",
   "metadata": {},
   "outputs": [
    {
     "data": {
      "text/plain": [
       "(10.0, 100.0, 1000.0, 10000.0)"
      ]
     },
     "execution_count": 15,
     "metadata": {},
     "output_type": "execute_result"
    }
   ],
   "source": [
    "1e+1,1e+2,1e+3,1e+4"
   ]
  },
  {
   "cell_type": "code",
   "execution_count": 16,
   "id": "4c85b53f-6fd4-4b3e-9976-cfffb0db6f44",
   "metadata": {},
   "outputs": [
    {
     "data": {
      "text/plain": [
       "0.024"
      ]
     },
     "execution_count": 16,
     "metadata": {},
     "output_type": "execute_result"
    }
   ],
   "source": [
    "24e-3"
   ]
  },
  {
   "cell_type": "markdown",
   "id": "0f5842da-a436-4434-8086-dc0edb2d16c7",
   "metadata": {},
   "source": [
    "- passitive are used to represent the english character genarally\n",
    "- string will represent \n",
    "   "
   ]
  },
  {
   "cell_type": "markdown",
   "id": "f899f77a-417c-445d-9812-93d361451fd1",
   "metadata": {},
   "source": [
    "## String "
   ]
  },
  {
   "cell_type": "code",
   "execution_count": null,
   "id": "0bfafcfc-90ec-4c38-82ba-4900429189d8",
   "metadata": {},
   "outputs": [],
   "source": []
  },
  {
   "cell_type": "markdown",
   "id": "a53d8098-f4a3-405e-9403-b35bd3d5aaeb",
   "metadata": {},
   "source": [
    "- string are used to reresent the english characters genarally\n",
    "-  string WILL REPRESENATION IN\n",
    "   - single quotes \n",
    "   - double quotes \n",
    "   - triple quotes\n"
   ]
  },
  {
   "cell_type": "code",
   "execution_count": 21,
   "id": "b0c0ae6e-e470-4a4e-a968-2e455dbea769",
   "metadata": {},
   "outputs": [
    {
     "data": {
      "text/plain": [
       "str"
      ]
     },
     "execution_count": 21,
     "metadata": {},
     "output_type": "execute_result"
    }
   ],
   "source": [
    "name='ravi'\n",
    "type(name)"
   ]
  },
  {
   "cell_type": "code",
   "execution_count": 7,
   "id": "1776c10d-0419-4893-9ca7-423b15f08e29",
   "metadata": {},
   "outputs": [
    {
     "data": {
      "text/plain": [
       "str"
      ]
     },
     "execution_count": 7,
     "metadata": {},
     "output_type": "execute_result"
    }
   ],
   "source": [
    "name1= \"python\"\n",
    "type(name1)"
   ]
  },
  {
   "cell_type": "code",
   "execution_count": 27,
   "id": "3e7b4767-bb09-4ec6-99a9-5fc7648535e1",
   "metadata": {},
   "outputs": [
    {
     "data": {
      "text/plain": [
       "str"
      ]
     },
     "execution_count": 27,
     "metadata": {},
     "output_type": "execute_result"
    }
   ],
   "source": [
    "name2='10'\n",
    "type(name2)"
   ]
  },
  {
   "cell_type": "code",
   "execution_count": 28,
   "id": "20b6fddb-4945-4446-9337-30287e27d45f",
   "metadata": {},
   "outputs": [
    {
     "data": {
      "text/plain": [
       "str"
      ]
     },
     "execution_count": 28,
     "metadata": {},
     "output_type": "execute_result"
    }
   ],
   "source": [
    "email_id='konamravi2003@gmail.com'\n",
    "type(email_id)"
   ]
  },
  {
   "cell_type": "markdown",
   "id": "695c27b6-526d-4870-be26-8fa9eb57858a",
   "metadata": {},
   "source": [
    "## Red coulor mean string\n",
    "## green coulor mean keywords\n",
    "## Black color mean variable \n"
   ]
  },
  {
   "cell_type": "code",
   "execution_count": 8,
   "id": "353a5a21-5403-4f4b-b8e0-32877bfb3962",
   "metadata": {},
   "outputs": [
    {
     "data": {
      "text/plain": [
       "'python'"
      ]
     },
     "execution_count": 8,
     "metadata": {},
     "output_type": "execute_result"
    }
   ],
   "source": [
    "name1"
   ]
  },
  {
   "cell_type": "markdown",
   "id": "40833503-6709-450c-8ace-feaa7d26c4a3",
   "metadata": {},
   "source": [
    "- whenever you print quotes will not visible"
   ]
  },
  {
   "cell_type": "code",
   "execution_count": 29,
   "id": "3a32946e-b1c3-497d-96d9-43da3f5db6d6",
   "metadata": {},
   "outputs": [
    {
     "name": "stdout",
     "output_type": "stream",
     "text": [
      "python\n"
     ]
    }
   ],
   "source": [
    "nmae=\"i like 'python'\"\n",
    "print(name)\n"
   ]
  },
  {
   "cell_type": "code",
   "execution_count": 34,
   "id": "e89f5c50-0a1f-4140-9130-cc87bc6f5579",
   "metadata": {},
   "outputs": [
    {
     "name": "stdout",
     "output_type": "stream",
     "text": [
      "<class 'str'>\n"
     ]
    }
   ],
   "source": [
    "ste='i like \"python\"'\n",
    "print(str)"
   ]
  },
  {
   "cell_type": "code",
   "execution_count": 35,
   "id": "8b66f0b7-6bd2-433b-b660-b063339859bb",
   "metadata": {},
   "outputs": [
    {
     "ename": "SyntaxError",
     "evalue": "invalid syntax (1921891883.py, line 1)",
     "output_type": "error",
     "traceback": [
      "\u001b[1;36m  Cell \u001b[1;32mIn[35], line 1\u001b[1;36m\u001b[0m\n\u001b[1;33m    **Tripple quotes\u001b[0m\n\u001b[1;37m    ^\u001b[0m\n\u001b[1;31mSyntaxError\u001b[0m\u001b[1;31m:\u001b[0m invalid syntax\n"
     ]
    }
   ],
   "source": [
    "**Tripple quotes**\n",
    "- Tripple quotes is not used for coding \n",
    "- Tripple code is used to provide the information to the user\n",
    "- in order to provide \n",
    "-this entier process is called Doc string "
   ]
  },
  {
   "cell_type": "markdown",
   "id": "8129e669-5dc4-48ba-9ec0-e540315bf7ea",
   "metadata": {},
   "source": [
    "## Boolean "
   ]
  },
  {
   "cell_type": "code",
   "execution_count": 36,
   "id": "184d0121-2907-416f-925c-fba00a4bca36",
   "metadata": {},
   "outputs": [
    {
     "data": {
      "text/plain": [
       "bool"
      ]
     },
     "execution_count": 36,
     "metadata": {},
     "output_type": "execute_result"
    }
   ],
   "source": [
    "value=True \n",
    "type(value)"
   ]
  },
  {
   "cell_type": "code",
   "execution_count": 37,
   "id": "5f11f998-0be2-4713-8e7b-072e84c004c4",
   "metadata": {},
   "outputs": [
    {
     "data": {
      "text/plain": [
       "bool"
      ]
     },
     "execution_count": 37,
     "metadata": {},
     "output_type": "execute_result"
    }
   ],
   "source": [
    "value1=False\n",
    "type(value1)"
   ]
  },
  {
   "cell_type": "markdown",
   "id": "e45e2715-0a3f-47d5-9340-21678fe276e8",
   "metadata": {},
   "source": [
    "true=\"True\n",
    "\n",
    "false=False\n",
    "\n",
    "#### true and false are variable\n",
    "#### type true is string \n",
    "#### type false is boolean"
   ]
  },
  {
   "cell_type": "code",
   "execution_count": 2,
   "id": "2141c713-6729-4a24-bc30-5302814b074b",
   "metadata": {},
   "outputs": [
    {
     "ename": "NameError",
     "evalue": "name 'os' is not defined",
     "output_type": "error",
     "traceback": [
      "\u001b[1;31m---------------------------------------------------------------------------\u001b[0m",
      "\u001b[1;31mNameError\u001b[0m                                 Traceback (most recent call last)",
      "Cell \u001b[1;32mIn[2], line 1\u001b[0m\n\u001b[1;32m----> 1\u001b[0m os\u001b[38;5;241m.\u001b[39mgetcwd()\n",
      "\u001b[1;31mNameError\u001b[0m: name 'os' is not defined"
     ]
    }
   ],
   "source": [
    "os.getcwd()"
   ]
  },
  {
   "cell_type": "code",
   "execution_count": 3,
   "id": "6ce3c5e8-0c1e-465e-a04e-1f4f7bc19e75",
   "metadata": {},
   "outputs": [
    {
     "data": {
      "text/plain": [
       "'\\nhello\\nimwritting python code\\nthis python \\n'"
      ]
     },
     "execution_count": 3,
     "metadata": {},
     "output_type": "execute_result"
    }
   ],
   "source": [
    "\"\"\"\n",
    "hello\n",
    "imwritting python code\n",
    "this python \n",
    "\"\"\""
   ]
  },
  {
   "cell_type": "code",
   "execution_count": 2,
   "id": "c3de34b5-5a3b-4adf-a1d9-67f4947d8c20",
   "metadata": {},
   "outputs": [],
   "source": [
    "name='python'\n",
    "name1=\"python\""
   ]
  },
  {
   "cell_type": "code",
   "execution_count": 3,
   "id": "8066d427-bf98-46ac-81db-011ab0db55b8",
   "metadata": {},
   "outputs": [
    {
     "data": {
      "text/plain": [
       "'python'"
      ]
     },
     "execution_count": 3,
     "metadata": {},
     "output_type": "execute_result"
    }
   ],
   "source": [
    "name"
   ]
  },
  {
   "cell_type": "code",
   "execution_count": 4,
   "id": "e9a8902d-7d34-4c2b-8431-2ce840ae7aa0",
   "metadata": {},
   "outputs": [
    {
     "data": {
      "text/plain": [
       "'python'"
      ]
     },
     "execution_count": 4,
     "metadata": {},
     "output_type": "execute_result"
    }
   ],
   "source": [
    "name1"
   ]
  },
  {
   "cell_type": "markdown",
   "id": "296586cb-e8f6-4582-9619-d00aab287970",
   "metadata": {},
   "source": [
    "- out putalways in single quotes"
   ]
  },
  {
   "cell_type": "code",
   "execution_count": 5,
   "id": "df379769-6bb2-4f18-9874-5e74a8422fad",
   "metadata": {},
   "outputs": [
    {
     "name": "stdout",
     "output_type": "stream",
     "text": [
      "python\n"
     ]
    }
   ],
   "source": [
    "print(name)"
   ]
  },
  {
   "cell_type": "code",
   "execution_count": 7,
   "id": "81ec58bf-3375-497d-b7ba-504cb9f5d89d",
   "metadata": {},
   "outputs": [
    {
     "name": "stdout",
     "output_type": "stream",
     "text": [
      "python\n"
     ]
    }
   ],
   "source": [
    "print(name1)"
   ]
  },
  {
   "cell_type": "markdown",
   "id": "453854c3-1ae1-44c8-b086-bcd737162c78",
   "metadata": {},
   "source": [
    "- when ever you print quotes will not visible"
   ]
  },
  {
   "cell_type": "code",
   "execution_count": null,
   "id": "787f6d70-92b0-47ae-9db7-a631a6ade3c9",
   "metadata": {},
   "outputs": [],
   "source": []
  }
 ],
 "metadata": {
  "kernelspec": {
   "display_name": "Python 3 (ipykernel)",
   "language": "python",
   "name": "python3"
  },
  "language_info": {
   "codemirror_mode": {
    "name": "ipython",
    "version": 3
   },
   "file_extension": ".py",
   "mimetype": "text/x-python",
   "name": "python",
   "nbconvert_exporter": "python",
   "pygments_lexer": "ipython3",
   "version": "3.11.7"
  }
 },
 "nbformat": 4,
 "nbformat_minor": 5
}
