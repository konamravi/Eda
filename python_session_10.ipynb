{
 "cells": [
  {
   "cell_type": "markdown",
   "id": "ffb31706-1275-4c17-a2cb-21a2ae5f982c",
   "metadata": {},
   "source": [
    "**Loops**\n",
    "- iterate a pieace of code untill the condition satisfy\n",
    "- we can run a code normaly\n",
    "- we can run code by using function wrapper(function)\n",
    "- we can a code mutiple times(loops)\n",
    "- we can run code by using conditon (condition)"
   ]
  },
  {
   "cell_type": "code",
   "execution_count": 1,
   "id": "314d8d8e-f684-48d6-9437-6c1a0c5b600b",
   "metadata": {},
   "outputs": [
    {
     "name": "stdout",
     "output_type": "stream",
     "text": [
      "30\n"
     ]
    }
   ],
   "source": [
    "a=10\n",
    "b=20\n",
    "c=a+b\n",
    "print(c)"
   ]
  },
  {
   "cell_type": "code",
   "execution_count": 2,
   "id": "7b1f2248-2cf1-4000-aea6-82fd1bbb4fcd",
   "metadata": {},
   "outputs": [
    {
     "name": "stdout",
     "output_type": "stream",
     "text": [
      "30\n"
     ]
    }
   ],
   "source": [
    "if True:\n",
    "    a=10\n",
    "    b=20\n",
    "    c=a+b\n",
    "    print(c)"
   ]
  },
  {
   "cell_type": "markdown",
   "id": "478535f4-96e1-48ef-b8c1-c7e3db6e937b",
   "metadata": {},
   "source": [
    "def add():\n",
    "    a=10\n",
    "    b=20\n",
    "    c=a+b\n",
    "    print(c)\n",
    "add()"
   ]
  },
  {
   "cell_type": "code",
   "execution_count": 8,
   "id": "65e9c698-f894-46b1-8bc5-f12dcc973c37",
   "metadata": {},
   "outputs": [
    {
     "ename": "KeyboardInterrupt",
     "evalue": "Interrupted by user",
     "output_type": "error",
     "traceback": [
      "\u001b[1;31m---------------------------------------------------------------------------\u001b[0m",
      "\u001b[1;31mKeyboardInterrupt\u001b[0m                         Traceback (most recent call last)",
      "Cell \u001b[1;32mIn[8], line 1\u001b[0m\n\u001b[1;32m----> 1\u001b[0m salary\u001b[38;5;241m=\u001b[39m\u001b[38;5;28meval\u001b[39m(\u001b[38;5;28minput\u001b[39m(\u001b[38;5;124m\"\u001b[39m\u001b[38;5;124menter the salary\u001b[39m\u001b[38;5;124m\"\u001b[39m))\n\u001b[0;32m      2\u001b[0m tax_per\u001b[38;5;241m=\u001b[39m\u001b[38;5;28meval\u001b[39m(\u001b[38;5;28minput\u001b[39m(\u001b[38;5;124m\"\u001b[39m\u001b[38;5;124menter the tax_per:\u001b[39m\u001b[38;5;124m\"\u001b[39m))\n\u001b[0;32m      3\u001b[0m tax_amount\u001b[38;5;241m=\u001b[39msalary\u001b[38;5;241m+\u001b[39mtax_per\u001b[38;5;241m/\u001b[39m\u001b[38;5;241m100\u001b[39m\n",
      "File \u001b[1;32m~\\anaconda3\\Lib\\site-packages\\ipykernel\\kernelbase.py:1262\u001b[0m, in \u001b[0;36mKernel.raw_input\u001b[1;34m(self, prompt)\u001b[0m\n\u001b[0;32m   1260\u001b[0m     msg \u001b[38;5;241m=\u001b[39m \u001b[38;5;124m\"\u001b[39m\u001b[38;5;124mraw_input was called, but this frontend does not support input requests.\u001b[39m\u001b[38;5;124m\"\u001b[39m\n\u001b[0;32m   1261\u001b[0m     \u001b[38;5;28;01mraise\u001b[39;00m StdinNotImplementedError(msg)\n\u001b[1;32m-> 1262\u001b[0m \u001b[38;5;28;01mreturn\u001b[39;00m \u001b[38;5;28mself\u001b[39m\u001b[38;5;241m.\u001b[39m_input_request(\n\u001b[0;32m   1263\u001b[0m     \u001b[38;5;28mstr\u001b[39m(prompt),\n\u001b[0;32m   1264\u001b[0m     \u001b[38;5;28mself\u001b[39m\u001b[38;5;241m.\u001b[39m_parent_ident[\u001b[38;5;124m\"\u001b[39m\u001b[38;5;124mshell\u001b[39m\u001b[38;5;124m\"\u001b[39m],\n\u001b[0;32m   1265\u001b[0m     \u001b[38;5;28mself\u001b[39m\u001b[38;5;241m.\u001b[39mget_parent(\u001b[38;5;124m\"\u001b[39m\u001b[38;5;124mshell\u001b[39m\u001b[38;5;124m\"\u001b[39m),\n\u001b[0;32m   1266\u001b[0m     password\u001b[38;5;241m=\u001b[39m\u001b[38;5;28;01mFalse\u001b[39;00m,\n\u001b[0;32m   1267\u001b[0m )\n",
      "File \u001b[1;32m~\\anaconda3\\Lib\\site-packages\\ipykernel\\kernelbase.py:1305\u001b[0m, in \u001b[0;36mKernel._input_request\u001b[1;34m(self, prompt, ident, parent, password)\u001b[0m\n\u001b[0;32m   1302\u001b[0m \u001b[38;5;28;01mexcept\u001b[39;00m \u001b[38;5;167;01mKeyboardInterrupt\u001b[39;00m:\n\u001b[0;32m   1303\u001b[0m     \u001b[38;5;66;03m# re-raise KeyboardInterrupt, to truncate traceback\u001b[39;00m\n\u001b[0;32m   1304\u001b[0m     msg \u001b[38;5;241m=\u001b[39m \u001b[38;5;124m\"\u001b[39m\u001b[38;5;124mInterrupted by user\u001b[39m\u001b[38;5;124m\"\u001b[39m\n\u001b[1;32m-> 1305\u001b[0m     \u001b[38;5;28;01mraise\u001b[39;00m \u001b[38;5;167;01mKeyboardInterrupt\u001b[39;00m(msg) \u001b[38;5;28;01mfrom\u001b[39;00m \u001b[38;5;28;01mNone\u001b[39;00m\n\u001b[0;32m   1306\u001b[0m \u001b[38;5;28;01mexcept\u001b[39;00m \u001b[38;5;167;01mException\u001b[39;00m:\n\u001b[0;32m   1307\u001b[0m     \u001b[38;5;28mself\u001b[39m\u001b[38;5;241m.\u001b[39mlog\u001b[38;5;241m.\u001b[39mwarning(\u001b[38;5;124m\"\u001b[39m\u001b[38;5;124mInvalid Message:\u001b[39m\u001b[38;5;124m\"\u001b[39m, exc_info\u001b[38;5;241m=\u001b[39m\u001b[38;5;28;01mTrue\u001b[39;00m)\n",
      "\u001b[1;31mKeyboardInterrupt\u001b[0m: Interrupted by user"
     ]
    }
   ],
   "source": [
    "salary=eval(input(\"enter the salary\"))\n",
    "tax_per=eval(input(\"enter the tax_per:\"))\n",
    "tax_amount=salary+tax_per/100\n",
    "print(tax_amount)"
   ]
  },
  {
   "cell_type": "code",
   "execution_count": 7,
   "id": "44b4ed5e-6005-416e-88f1-60c008cdd502",
   "metadata": {},
   "outputs": [],
   "source": [
    "def tax():\n",
    "    salary=eval(input(\"enter the salary\"))\n",
    "    tax_per=eval(input(\"enter the tax_per:\"))\n",
    "    tax_amount=salary+tax_per/100\n",
    "    print(tax_amount)"
   ]
  },
  {
   "cell_type": "code",
   "execution_count": null,
   "id": "65361a66-02c3-445e-90bc-ab0fc79476bf",
   "metadata": {},
   "outputs": [],
   "source": [
    "tax()"
   ]
  },
  {
   "cell_type": "markdown",
   "id": "ab608f56-d503-470b-87cd-6665fcae684a",
   "metadata": {},
   "source": [
    "- for loop\n",
    "- while loop\n",
    "- any loop\n",
    "    - intial point to start the loop\n",
    "    - increment or decrement\n",
    "    - condition to  stop the loop"
   ]
  },
  {
   "cell_type": "markdown",
   "id": "1819d948-e9c1-458f-8ace-a19e77f3ef62",
   "metadata": {},
   "source": [
    "**For loop**"
   ]
  },
  {
   "cell_type": "markdown",
   "id": "4f9f6811-84d8-418f-ae38-7963eb55558d",
   "metadata": {},
   "source": [
    "$patteren-1$"
   ]
  },
  {
   "cell_type": "markdown",
   "id": "a7f447f6-7b59-46b6-a526-183aa20d5cf1",
   "metadata": {},
   "source": [
    "**range(stop)**"
   ]
  },
  {
   "cell_type": "code",
   "execution_count": null,
   "id": "44729b18-77b4-48e2-b804-de19e003c83c",
   "metadata": {},
   "outputs": [],
   "source": [
    "# syntax\n",
    "for i in range(<value>):\n",
    "    # start write your code"
   ]
  },
  {
   "cell_type": "markdown",
   "id": "b2362687-e19f-4c35-8558-158922b56532",
   "metadata": {},
   "source": [
    "- when ever you see the word range it belongs to math family\n",
    "- inside the we need to provide one value \n",
    "- if you provide only one value\n",
    "    - start value=0\n",
    "    - increment=+1\n",
    "    - last=stop-1\n",
    "- rangee(3)\n",
    "    - start value=0\n",
    "    - increment=1\n",
    "    - last=3-1=2\n",
    "    - answer are :0 1 2\n",
    "      \n",
    "      "
   ]
  },
  {
   "cell_type": "markdown",
   "id": "b03d8cfe-8f86-4bd2-8939-1991fe3fdb1d",
   "metadata": {},
   "source": [
    "**Note** \n",
    "- in python in the index always start with zero"
   ]
  },
  {
   "cell_type": "code",
   "execution_count": 12,
   "id": "990bc17d-e1bd-4985-aebc-f52055f68a70",
   "metadata": {},
   "outputs": [
    {
     "name": "stdout",
     "output_type": "stream",
     "text": [
      "0\n",
      "1\n",
      "2\n"
     ]
    }
   ],
   "source": [
    "for i in range(3):\n",
    "    print(i)"
   ]
  },
  {
   "cell_type": "code",
   "execution_count": 2,
   "id": "b67bc215-663e-4d01-9503-dd631c740d70",
   "metadata": {},
   "outputs": [
    {
     "name": "stdout",
     "output_type": "stream",
     "text": [
      "0\n",
      "1\n",
      "2\n",
      "3\n",
      "4\n"
     ]
    }
   ],
   "source": [
    "print(0)\n",
    "print(1)\n",
    "print(2)\n",
    "print(3)\n",
    "print(4)"
   ]
  },
  {
   "cell_type": "code",
   "execution_count": 5,
   "id": "a18de0ef-ff1a-426e-931a-e4727d034604",
   "metadata": {},
   "outputs": [
    {
     "name": "stdout",
     "output_type": "stream",
     "text": [
      "hello\n",
      "hello\n",
      "hello\n",
      "hello\n",
      "hello\n"
     ]
    }
   ],
   "source": [
    "# i want to peint 5 times \n",
    "for i in range(5):\n",
    "    print(\"hello\")"
   ]
  },
  {
   "cell_type": "code",
   "execution_count": 17,
   "id": "4ad6b2eb-29b7-4eb2-a12c-b10056774f18",
   "metadata": {},
   "outputs": [
    {
     "name": "stdout",
     "output_type": "stream",
     "text": [
      "86 is even\n",
      "93 is odd\n",
      "82 is even\n"
     ]
    }
   ],
   "source": [
    "# for example \n",
    "# take a random number between 1 to 100\n",
    "# print it is a evven number and add number\n",
    "# you need to generate 3 random number\n",
    "import random\n",
    "num=random.randint(1,100)\n",
    "if num%2==0:\n",
    "    print(f\"{num} is even\")\n",
    "else:\n",
    "    print(f\"{num} is odd\")\n",
    "\n",
    "import random\n",
    "num=random.randint(1,100)\n",
    "if num%2==0:\n",
    "    print(f\"{num} is even\")\n",
    "else:\n",
    "    print(f\"{num} is odd\")\n",
    "\n",
    "import random\n",
    "num=random.randint(1,100)\n",
    "if num%2==0:\n",
    "    print(f\"{num} is even\")\n",
    "else:\n",
    "    print(f\"{num} is odd\")"
   ]
  },
  {
   "cell_type": "code",
   "execution_count": 17,
   "id": "28547b6e-b93c-4626-8036-31323cbb7138",
   "metadata": {},
   "outputs": [
    {
     "name": "stdout",
     "output_type": "stream",
     "text": [
      "0 1 2 3 4 5 6 7 8 9 "
     ]
    }
   ],
   "source": [
    "for i in range(10):\n",
    "    print(i,end=\" \")"
   ]
  },
  {
   "cell_type": "code",
   "execution_count": 23,
   "id": "583da48e-7a31-472f-bed2-dbf9ca40e39f",
   "metadata": {},
   "outputs": [
    {
     "name": "stdout",
     "output_type": "stream",
     "text": [
      "0\n",
      "1\n",
      "2\n",
      "3\n",
      "4\n",
      "5\n",
      "6\n",
      "7\n",
      "8\n",
      "9\n"
     ]
    }
   ],
   "source": [
    "for i in range(10):\n",
    "    print(i)"
   ]
  },
  {
   "cell_type": "code",
   "execution_count": null,
   "id": "f880ac9c-56f0-4b45-b740-cae5236d185f",
   "metadata": {},
   "outputs": [],
   "source": [
    "# step : will separate multiple values in same print satatment\n",
    "# end : combine the multiple print statment"
   ]
  },
  {
   "cell_type": "markdown",
   "id": "c1e9340a-1afe-4aa7-9c12-da90c44bc01e",
   "metadata": {},
   "source": [
    "$pattern-2$\n",
    "- range(10,20)\n",
    "  - start value=10\n",
    "  - increment=1\n",
    "  - last=stop-1=20-19\n",
    "  - ans 10 11 12 13 14 15 16 17 18 19"
   ]
  },
  {
   "cell_type": "code",
   "execution_count": 19,
   "id": "004fee7b-ef04-4680-9db6-d45cbb926003",
   "metadata": {},
   "outputs": [
    {
     "name": "stdout",
     "output_type": "stream",
     "text": [
      "10 11 12 13 14 15 16 17 18 19 "
     ]
    }
   ],
   "source": [
    "for i in range(10,20):\n",
    "    print(i,end=\" \")"
   ]
  },
  {
   "cell_type": "code",
   "execution_count": 24,
   "id": "785dbc8b-a808-4602-ab86-d92cca0de3d1",
   "metadata": {},
   "outputs": [
    {
     "name": "stdout",
     "output_type": "stream",
     "text": [
      "400\n",
      "441\n",
      "484\n",
      "529\n",
      "576\n",
      "625\n"
     ]
    }
   ],
   "source": [
    "# wap ask the user the square of the number between 20 to 25\n",
    "for i in range(20,26):\n",
    "    print(i*i)\n"
   ]
  },
  {
   "cell_type": "code",
   "execution_count": 29,
   "id": "c91ec16a-8e87-4a52-8994-e2e509b1536f",
   "metadata": {},
   "outputs": [
    {
     "name": "stdout",
     "output_type": "stream",
     "text": [
      "10 is even\n",
      "11 is odd\n",
      "12 is even\n",
      "13 is odd\n",
      "14 is even\n",
      "15 is odd\n",
      "16 is even\n",
      "17 is odd\n",
      "18 is even\n",
      "19 is odd\n"
     ]
    }
   ],
   "source": [
    "# wap ask the user print the number is even or odd between 10 to 20\n",
    "for i in range(10,20):\n",
    "    if i%2==0:\n",
    "        print(f\"{i} is even\")\n",
    "    else:\n",
    "        print(f\"{i} is odd\")"
   ]
  },
  {
   "cell_type": "code",
   "execution_count": 27,
   "id": "95aa82ef-ee36-49fe-807b-0b49e95bd76a",
   "metadata": {},
   "outputs": [
    {
     "name": "stdout",
     "output_type": "stream",
     "text": [
      "1001 is even\n",
      "1002 is even\n",
      "1003 is even\n"
     ]
    }
   ],
   "source": [
    "import random\n",
    "for i in range(1001,1004):\n",
    "    num=random.randint(1,100)\n",
    "    if num%2==0:\n",
    "        print(f\"{i} is even\")\n",
    "    else:\n",
    "        print(f\"{i} is odd\")"
   ]
  },
  {
   "cell_type": "markdown",
   "id": "d92f9844-4a1f-4d4d-903d-97717b2832d6",
   "metadata": {},
   "source": [
    "$patteren-3$\n",
    "\n",
    "**Range(start,stop,step)**\n",
    "- start value\n",
    "- step value\n",
    "  - positive step value\n",
    "    - if step value is positive: increment\n",
    "    - last =stop_1\n",
    "  - negativestep value\n",
    "     - if step value is negative decrement\n",
    "     - last=step+1\n"
   ]
  },
  {
   "cell_type": "code",
   "execution_count": 31,
   "id": "8ff2ab90-85d5-40ea-9975-7babeb7a499e",
   "metadata": {},
   "outputs": [
    {
     "name": "stdout",
     "output_type": "stream",
     "text": [
      "2 4 6 8 10 12 14 16 18 "
     ]
    }
   ],
   "source": [
    "# case-1:\n",
    "for i in range(2,20,2):\n",
    "    print(i,end=' ')\n",
    "   \n",
    "# start=2\n",
    "# step =+ve\n",
    "# last=stop-1=20-1=19\n",
    "# 2 4 6 8 10 12 14 16 18 "
   ]
  },
  {
   "cell_type": "code",
   "execution_count": 32,
   "id": "ad43faa9-aca4-41a4-a403-ebf6ee2c2846",
   "metadata": {},
   "outputs": [],
   "source": [
    "# case-2:\n",
    "for i in range(2,20,-2):    # range(start,stop,step)\n",
    "    print(i,end=' ')\n",
    "# start=2\n",
    "# step=-2  negative \n",
    "# last=stop+1:    20+1=21"
   ]
  },
  {
   "cell_type": "code",
   "execution_count": 34,
   "id": "3bec99ea-26f2-4ad1-bd61-f2275de7ef88",
   "metadata": {},
   "outputs": [
    {
     "name": "stdout",
     "output_type": "stream",
     "text": [
      "20 18 16 14 12 10 8 6 4 "
     ]
    }
   ],
   "source": [
    "# case-3:\n",
    "for i in range(20,2,-2):\n",
    "    print(i,end=' ')\n",
    "\n",
    "# start=20\n",
    "# step=-negative direction\n",
    "# last=stop+:"
   ]
  },
  {
   "cell_type": "code",
   "execution_count": 36,
   "id": "c2a1c447-0a6c-45cf-ba1e-cd9a1e24f1b2",
   "metadata": {},
   "outputs": [],
   "source": [
    "# case-4:\n",
    "for i in range(-20,2,-2):\n",
    "    print(i,end=' ')\n",
    "\n",
    "# start=-20\n",
    "# step=-2 neg\n",
    "# last stop+1    =2+1"
   ]
  },
  {
   "cell_type": "code",
   "execution_count": 29,
   "id": "6adca5ba-64fc-436b-aa8b-d684a81466e0",
   "metadata": {},
   "outputs": [
    {
     "data": {
      "text/plain": [
       "range(-20, -3, -2)"
      ]
     },
     "execution_count": 29,
     "metadata": {},
     "output_type": "execute_result"
    }
   ],
   "source": [
    "range(3,20,2) # P\n",
    "range(3,20,-2) # NP\n",
    "range(3,-20,2) # NP\n",
    "range(3,-20,-2) # P\n",
    "range(-3,20,2) # P\n",
    "range(-3,-20,2) # NP\n",
    "range(-3,20,-2) # NP\n",
    "range(-3,-20,-2) # P\n",
    "range(20,3,2) # NP\n",
    "range(20,3,-2) # P\n",
    "range(20,-3,-2) # P\n",
    "range(-20,-3,-2) #NP"
   ]
  },
  {
   "cell_type": "code",
   "execution_count": 4,
   "id": "12b13523-fa19-4489-a84a-68f888dbc0c0",
   "metadata": {},
   "outputs": [
    {
     "name": "stdout",
     "output_type": "stream",
     "text": [
      "66 is even\n"
     ]
    }
   ],
   "source": [
    "# 1q) for example\n",
    "# take person number between 1 to 100\n",
    "# print it is a even number and odd number \n",
    "# you need to generate 3 random numbers\n",
    "import random\n",
    "for i in range(3):\n",
    "    num=random.randint(1,100)\n",
    "if num%2==0:\n",
    "    print(f\"{num} is even\")\n",
    "else:\n",
    "    print(f\"{num} is odd\")"
   ]
  },
  {
   "cell_type": "code",
   "execution_count": 11,
   "id": "3f5ca493-70fb-4c7a-8e44-b8f29eae7544",
   "metadata": {},
   "outputs": [
    {
     "name": "stdout",
     "output_type": "stream",
     "text": [
      "10 is even\n",
      "11 is odd\n",
      "12 is even\n",
      "13 is odd\n",
      "14 is even\n",
      "15 is odd\n",
      "16 is even\n",
      "17 is odd\n",
      "18 is even\n",
      "19 is odd\n"
     ]
    }
   ],
   "source": [
    "# 2q) wap ask the user print the number is even or odd between 10 to 20 \n",
    "for i in range (10,20):\n",
    "    if i%2==0:\n",
    "        print(f\"{i} is even\")\n",
    "    else:\n",
    "        print(f\"{i} is odd\")"
   ]
  },
  {
   "cell_type": "code",
   "execution_count": 12,
   "id": "593ec181-4842-4c2d-b081-aca6bb8121e3",
   "metadata": {},
   "outputs": [
    {
     "name": "stdout",
     "output_type": "stream",
     "text": [
      "square of 20 is 400\n",
      "square of 21 is 441\n",
      "square of 22 is 484\n",
      "square of 23 is 529\n",
      "square of 24 is 576\n"
     ]
    }
   ],
   "source": [
    "#3q) wap ask the user print the square of the number between \n",
    "# 20  to 25\n",
    "for i in range (20,25):\n",
    "    print(f\"square of {i} is {i*i}\")"
   ]
  },
  {
   "cell_type": "code",
   "execution_count": 1,
   "id": "ff125308-3f6e-4fbd-aa31-ce4c0a745aea",
   "metadata": {},
   "outputs": [
    {
     "name": "stdin",
     "output_type": "stream",
     "text": [
      "enter the number 3\n"
     ]
    },
    {
     "name": "stdout",
     "output_type": "stream",
     "text": [
      "the square of 3 is 9\n"
     ]
    },
    {
     "name": "stdin",
     "output_type": "stream",
     "text": [
      "enter the number 8\n"
     ]
    },
    {
     "name": "stdout",
     "output_type": "stream",
     "text": [
      "the square of 8 is 64\n"
     ]
    },
    {
     "name": "stdin",
     "output_type": "stream",
     "text": [
      "enter the number 20\n"
     ]
    },
    {
     "name": "stdout",
     "output_type": "stream",
     "text": [
      "the square of 20 is 400\n"
     ]
    }
   ],
   "source": [
    "#4q) wap ask the user enter a number three times. find the square of the number\n",
    "for i in range (3):\n",
    "    num=eval(input(\"enter the number\"))\n",
    "    print(f\"the square of {num} is {num*num}\")"
   ]
  },
  {
   "cell_type": "code",
   "execution_count": 6,
   "id": "2a92727e-c55c-41f3-8563-a086df4d9f58",
   "metadata": {},
   "outputs": [
    {
     "name": "stdin",
     "output_type": "stream",
     "text": [
      "enter the  table which you want to see 14\n"
     ]
    },
    {
     "name": "stdout",
     "output_type": "stream",
     "text": [
      "14 x 1= 14\n",
      "14 x 2= 28\n",
      "14 x 3= 42\n",
      "14 x 4= 56\n",
      "14 x 5= 70\n",
      "14 x 6= 84\n",
      "14 x 7= 98\n",
      "14 x 8= 112\n",
      "14 x 9= 126\n",
      "14 x 10= 140\n"
     ]
    }
   ],
   "source": [
    "#5q) print the 14 th table\n",
    "# ans    14x1=14\n",
    "#        14x2=28\n",
    "#        14x3=42\n",
    "#\n",
    "#\n",
    "#\n",
    "#       14x10=140\n",
    "num=eval(input(\"enter the  table which you want to see\"))\n",
    "for i in range(1,11):\n",
    "        val=i*num\n",
    "        print(f\"{num} x {i}= {val}\")"
   ]
  },
  {
   "cell_type": "code",
   "execution_count": 17,
   "id": "1f460325-f42f-4de7-8a13-cc8bea63985d",
   "metadata": {},
   "outputs": [
    {
     "name": "stdin",
     "output_type": "stream",
     "text": [
      "enter the num 75\n"
     ]
    },
    {
     "name": "stdout",
     "output_type": "stream",
     "text": [
      "1 is the divisior of 75\n",
      "3 is the divisior of 75\n",
      "5 is the divisior of 75\n",
      "15 is the divisior of 75\n",
      "25 is the divisior of 75\n",
      "75 is the divisior of 75\n"
     ]
    }
   ],
   "source": [
    "# 6Q) find the factor of 75 \n",
    "# step-1 : inereate the loop=which number factor you want\n",
    "# step-2 : apply the if condition\n",
    "#       condition=divide the number with each i\n",
    "num=eval(input(\"enter the num\"))\n",
    "for i in range(1,num+1):\n",
    "    if num%i==0:\n",
    "        print(f\"{i} is the divisior of {num}\")\n"
   ]
  },
  {
   "cell_type": "code",
   "execution_count": 14,
   "id": "ec67b0cf-d413-4e1b-80b0-93901dc216ea",
   "metadata": {},
   "outputs": [
    {
     "name": "stdout",
     "output_type": "stream",
     "text": [
      "0+1=1\n",
      "1+2=3\n",
      "3+3=6\n",
      "6+4=10\n",
      "10+5=15\n",
      "15+6=21\n",
      "21+7=28\n",
      "28+8=36\n",
      "36+9=45\n",
      "45+10=55\n"
     ]
    }
   ],
   "source": [
    "#7q) write the sum of first 10 natural number\n",
    "# 1 to 10\n",
    "# 1+2+3+4+5+6+7+8+9+10=55\n",
    "summ=0\n",
    "for i in range(1,11):\n",
    "    summ=summ+i\n",
    "    print(f\"{summ-i}+{i}={summ}\")"
   ]
  },
  {
   "cell_type": "markdown",
   "id": "0412740f-aa09-48da-9743-7a5b6ffd0f57",
   "metadata": {},
   "source": [
    "**sumation wrapper**\n",
    "- intially we need to keep summ=0\n",
    "- make sure that do not provide **sum**\n",
    "- because sum is key a key word\n",
    "- inside for loop: summ=summ+i\n"
   ]
  },
  {
   "cell_type": "code",
   "execution_count": 44,
   "id": "dc55d0a6-26c0-433e-9d88-5ff949f740f3",
   "metadata": {},
   "outputs": [
    {
     "name": "stdout",
     "output_type": "stream",
     "text": [
      "0+1=1\n",
      "1+2=3\n",
      "3+3=6\n",
      "6+4=10\n",
      "10+5=15\n",
      "15+6=21\n",
      "21+7=28\n",
      "28+8=36\n",
      "36+9=45\n"
     ]
    }
   ],
   "source": [
    "# summ=0\n",
    "# for loop\n",
    "\n",
    "   #summ=summ+i\n",
    "summ=0\n",
    "for i  in range (1,10):\n",
    "        summ=summ+i\n",
    "        print(f\"{summ-i}+{i}={summ}\")\n",
    "    \n",
    "        sum=summ+i"
   ]
  },
  {
   "cell_type": "code",
   "execution_count": 45,
   "id": "887968b8-041b-42ef-9328-1f2b04fa818f",
   "metadata": {},
   "outputs": [
    {
     "name": "stdout",
     "output_type": "stream",
     "text": [
      "1\n",
      "3\n",
      "6\n",
      "10\n",
      "15\n",
      "21\n",
      "28\n",
      "36\n",
      "45\n"
     ]
    }
   ],
   "source": [
    "summ=0\n",
    "for i  in range (1,10):\n",
    "        summ=summ+i\n",
    "        print(summ)\n",
    "        sum=summ+i"
   ]
  },
  {
   "cell_type": "markdown",
   "id": "fac8a02b-2722-4b26-8bab-6dceac720fed",
   "metadata": {},
   "source": [
    "**Note**\n",
    "- if we print answer from out of for loop,last answer will print\n"
   ]
  },
  {
   "cell_type": "code",
   "execution_count": 47,
   "id": "62ac4d04-bbd6-4cf9-8ad0-99b5feef38b1",
   "metadata": {},
   "outputs": [
    {
     "name": "stdout",
     "output_type": "stream",
     "text": [
      "0\n",
      "1\n",
      "2\n"
     ]
    },
    {
     "data": {
      "text/plain": [
       "2"
      ]
     },
     "execution_count": 47,
     "metadata": {},
     "output_type": "execute_result"
    }
   ],
   "source": [
    "for i in range(3):\n",
    "    print(i)\n",
    "\n",
    "i"
   ]
  },
  {
   "cell_type": "code",
   "execution_count": 16,
   "id": "562b254e-584e-4435-a077-b2017a7882c9",
   "metadata": {},
   "outputs": [
    {
     "name": "stdin",
     "output_type": "stream",
     "text": [
      "enter the number: 10\n"
     ]
    },
    {
     "name": "stdout",
     "output_type": "stream",
     "text": [
      "40.6\n"
     ]
    }
   ],
   "source": [
    "# 8q) average of first i to 10 number \n",
    "# avg =summation of all the number/total number\n",
    "# wap to find the avg of 'n' number in python\n",
    "summ=0\n",
    "N=eval(input(\"enter the number:\"))\n",
    "for i in range (1,N+i):\n",
    "         summ=summ+i\n",
    "print(summ/N)"
   ]
  },
  {
   "cell_type": "markdown",
   "id": "a4eb37b3-3488-4026-a59f-c9a43ec9f7b3",
   "metadata": {},
   "source": [
    "**counter wrapper**\n",
    "- before for loop intilaise with counte=0\n",
    "- under for loop count=count+1\n",
    "- counter always incerse by 1 only"
   ]
  },
  {
   "cell_type": "code",
   "execution_count": 5,
   "id": "bfc335f5-824d-4242-912a-60a3641cb084",
   "metadata": {},
   "outputs": [
    {
     "name": "stdin",
     "output_type": "stream",
     "text": [
      "which number factor you want: 75\n"
     ]
    },
    {
     "name": "stdout",
     "output_type": "stream",
     "text": [
      "the divisor for 75 is count 6\n"
     ]
    }
   ],
   "source": [
    "#9) find the number of divisor of 75\n",
    "# ans :1,3,5,15,25,\n",
    "count=0\n",
    "num=eval(input(\"which number factor you want:\"))\n",
    "for i in range (1,num+1):\n",
    "  if num%i==0:\n",
    "    count=count+1\n",
    "      \n",
    "print(f\"the divisor for {num} is count {count}\")"
   ]
  },
  {
   "cell_type": "code",
   "execution_count": 11,
   "id": "4bfb4be8-1314-44e0-9aa4-df69b5459dd9",
   "metadata": {},
   "outputs": [
    {
     "name": "stdout",
     "output_type": "stream",
     "text": [
      "9\n"
     ]
    },
    {
     "name": "stdin",
     "output_type": "stream",
     "text": [
      "enter the number between 1 to 10 9\n"
     ]
    },
    {
     "name": "stdout",
     "output_type": "stream",
     "text": [
      "won\n",
      "9\n"
     ]
    },
    {
     "name": "stdin",
     "output_type": "stream",
     "text": [
      "enter the number between 1 to 10 8\n"
     ]
    },
    {
     "name": "stdout",
     "output_type": "stream",
     "text": [
      "fail\n",
      "10\n"
     ]
    },
    {
     "name": "stdin",
     "output_type": "stream",
     "text": [
      "enter the number between 1 to 10 9\n"
     ]
    },
    {
     "name": "stdout",
     "output_type": "stream",
     "text": [
      "fail\n"
     ]
    }
   ],
   "source": [
    "#10 q)\n",
    "# get a random number between 1 to 10 : num1\n",
    "# ask the user enter anumber :num2\n",
    "# if num1==num2  then print won\n",
    "# else print fail\n",
    "\n",
    "# give 3 chance\n",
    "import random\n",
    "for i in range(3):\n",
    "    num1=random.randint(1,10)\n",
    "    print(num1)\n",
    "    num2=eval(input(\"enter the number between 1 to 10\"))\n",
    "    if num1==num2:\n",
    "        print(\"won\")\n",
    "    else:\n",
    "        print(\"fail\")"
   ]
  },
  {
   "cell_type": "code",
   "execution_count": null,
   "id": "e4144254-19d6-4439-b695-e14969562628",
   "metadata": {},
   "outputs": [
    {
     "name": "stdout",
     "output_type": "stream",
     "text": [
      "8\n"
     ]
    },
    {
     "name": "stdin",
     "output_type": "stream",
     "text": [
      "enter the number 1 to 10 2\n"
     ]
    },
    {
     "name": "stdout",
     "output_type": "stream",
     "text": [
      "2\n"
     ]
    }
   ],
   "source": [
    "# case-2:\n",
    "import random\n",
    "for i in range(3):\n",
    "    num1=random.randint(1,10)\n",
    "    print(num1)\n",
    "    num2=eval(input(\"enter the number 1 to 10\"))\n",
    "if num==num2:\n",
    "    print(\"won\")\n",
    "    break\n",
    "else:\n",
    "    print(\"fail\")"
   ]
  },
  {
   "cell_type": "code",
   "execution_count": 8,
   "id": "134944d6-1850-47e2-9e88-689e188a011c",
   "metadata": {},
   "outputs": [
    {
     "name": "stdin",
     "output_type": "stream",
     "text": [
      "enter the number between 1 to 10 5\n"
     ]
    },
    {
     "name": "stdout",
     "output_type": "stream",
     "text": [
      "won\n"
     ]
    }
   ],
   "source": [
    "# cas-3\n",
    "# suppose i want to give 4 chance \n",
    "# every time you fail I want to display \n",
    "# number of chance left \n",
    "# if all the chance you  are used \n",
    "#  try again after 24 hours\n",
    "import random\n",
    "for i in range(4):\n",
    "    num1=random.randint(1,10)\n",
    "    num2=eval(input(\"enter the number between 1 to 10\"))\n",
    "    if num1==num2:\n",
    "        print(\"won\")\n",
    "        break \n",
    "    else:\n",
    "        print(\"you lost\")\n",
    "        print(f\"the number of chance : {3-i}\")\n",
    "    if i==3:\n",
    "        print(\"try again after 24 hours\")\n",
    "\n",
    "    "
   ]
  },
  {
   "cell_type": "code",
   "execution_count": 18,
   "id": "29ffb5d1-b063-4ae0-b831-5b953ea4d3ac",
   "metadata": {},
   "outputs": [
    {
     "name": "stdin",
     "output_type": "stream",
     "text": [
      "enter the number between 1 to 10 5\n"
     ]
    },
    {
     "name": "stdout",
     "output_type": "stream",
     "text": [
      "you lost\n",
      "the number of chance : 3\n"
     ]
    },
    {
     "name": "stdin",
     "output_type": "stream",
     "text": [
      "enter the number between 1 to 10 5\n"
     ]
    },
    {
     "name": "stdout",
     "output_type": "stream",
     "text": [
      "won\n"
     ]
    }
   ],
   "source": [
    "# cas-3\n",
    "# suppose i want to give 4 chance \n",
    "# every time you fail I want to display \n",
    "# number of chance left \n",
    "# if all the chance you  are used \n",
    "#  try again after 24 hours\n",
    "import random\n",
    "for i in range(4):\n",
    "    num1=random.randint(1,10)\n",
    "    num2=eval(input(\"enter the number between 1 to 10\"))\n",
    "    if num1==num2:\n",
    "        print(\"won\")\n",
    "        break \n",
    "    else:\n",
    "        print(\"you lost\")\n",
    "        print(f\"the number of chance : {3-i}\")\n",
    "    if i==3:\n",
    "        print(\"try again after 24 hours\")"
   ]
  },
  {
   "cell_type": "code",
   "execution_count": null,
   "id": "29ade147-f042-4e87-bcc0-dc97f0121818",
   "metadata": {},
   "outputs": [],
   "source": [
    "# wap ask the user get 5 random numbers\n",
    "# get it is an even numbers or odd number \n",
    "# also count how many even numbers are there \n",
    "# and count how many odd numbers are there \n",
    "\n",
    "# idea \n",
    "# take two counters one even and count \n",
    "# for loop 5 times \n",
    "# each time take the random number\n",
    "# if condition \n",
    "# true counter update \n",
    "# else \n",
    "# update the counter"
   ]
  },
  {
   "cell_type": "code",
   "execution_count": 3,
   "id": "426ba89d-b8ea-44d5-a62d-1bba7a17f0f7",
   "metadata": {},
   "outputs": [
    {
     "name": "stdout",
     "output_type": "stream",
     "text": [
      "the total number of even numbers are : 4\n",
      "the total number of odd numbers are : 1\n"
     ]
    }
   ],
   "source": [
    "# wap ask the user get 5 random numbers\n",
    "# get it is an even numbers or odd number \n",
    "# also count how many even numbers are there \n",
    "# and count how many odd numbers are there \n",
    "import random\n",
    "even_count=0\n",
    "odd_count=0\n",
    "for i in range(5):\n",
    "    num=random.randint(1,10)\n",
    "    if num%2==0:\n",
    "        even_count=even_count+1\n",
    "    else:\n",
    "        odd_count=odd_count+1\n",
    "print(f\"the total number of even numbers are : {even_count}\")\n",
    "print(f\"the total number of odd numbers are : {odd_count}\")\n",
    "    "
   ]
  },
  {
   "cell_type": "code",
   "execution_count": 11,
   "id": "255da797-4ed2-4760-92da-32f4f1c833cc",
   "metadata": {},
   "outputs": [
    {
     "name": "stdout",
     "output_type": "stream",
     "text": [
      "the total number of even numbers are : 1\n",
      "the total number of odd numbers are : 4\n",
      "the total number of even numbers are : 6\n",
      "the total number of odd numbers are : 26\n"
     ]
    }
   ],
   "source": [
    "# idea \n",
    "# take two counters one even and count \n",
    "# for loop 5 times \n",
    "# each time take the random number\n",
    "# if condition \n",
    "# true counter update \n",
    "# else \n",
    "# update the counter\n",
    "import random\n",
    "even_count=0\n",
    "odd_count=0\n",
    "even_summ=0\n",
    "odd_summ=0\n",
    "\n",
    "for i in range(5):\n",
    "    num=random.randint(1,10)\n",
    "    if num%2==0:\n",
    "        even_count=even_count+1\n",
    "        even_summ=even_summ+num\n",
    "    else:\n",
    "        odd_count=odd_count+1\n",
    "        odd_summ=odd_summ+num\n",
    "print(f\"the total number of even numbers are : {even_count}\")\n",
    "print(f\"the total number of odd numbers are : {odd_count}\")\n",
    "print(f\"the total number of even numbers are : {even_summ}\")\n",
    "print(f\"the total number of odd numbers are : {odd_summ}\")"
   ]
  },
  {
   "cell_type": "code",
   "execution_count": 26,
   "id": "d49bf121-0a15-438e-96eb-bf78b73a7c84",
   "metadata": {},
   "outputs": [],
   "source": [
    "# create a function a above code \n",
    "# reurn all 4\n",
    "# print all 4\n",
    "import random\n",
    "def even_odd1():\n",
    "    even_count,odd_count=0,0\n",
    "    even_summ,odd_summ=0,0\n",
    "    for i in range(5):\n",
    "       num=random.randint(1,10)\n",
    "    if num%2==0:\n",
    "            even_count=even_count+1\n",
    "            even_summ=even_summ+num\n",
    "    else:\n",
    "        odd_count=odd_count+1\n",
    "        odd_summ=odd_summ+num\n",
    "    return(even_count,\n",
    "           even_summ,\n",
    "           odd_count,\n",
    "           odd_summ)"
   ]
  },
  {
   "cell_type": "code",
   "execution_count": 27,
   "id": "67c8a0a8-bd11-4cbf-b96e-cf9e69288764",
   "metadata": {},
   "outputs": [
    {
     "name": "stdout",
     "output_type": "stream",
     "text": [
      "the total number of even numbers are : 1\n",
      "the total number of odd numbers are : 0\n",
      "the total number of even numbers are : 2\n",
      "the total number of odd numbers are : 0\n"
     ]
    }
   ],
   "source": [
    "even_count,even_summ,odd_count,odd_summ=even_odd1()    \n",
    "print(f\"the total number of even numbers are : {even_count}\")\n",
    "print(f\"the total number of odd numbers are : {odd_count}\")\n",
    "print(f\"the total number of even numbers are : {even_summ}\")\n",
    "print(f\"the total number of odd numbers are : {odd_summ}\")"
   ]
  },
  {
   "cell_type": "markdown",
   "id": "25f27e96-3a60-43aa-a515-ac0b58508646",
   "metadata": {},
   "source": [
    "**in operation**"
   ]
  },
  {
   "cell_type": "code",
   "execution_count": 30,
   "id": "c8d06862-ced9-4d0a-ae1a-2af97a7fb710",
   "metadata": {},
   "outputs": [
    {
     "ename": "TypeError",
     "evalue": "'in <string>' requires string as left operand, not int",
     "output_type": "error",
     "traceback": [
      "\u001b[1;31m---------------------------------------------------------------------------\u001b[0m",
      "\u001b[1;31mTypeError\u001b[0m                                 Traceback (most recent call last)",
      "Cell \u001b[1;32mIn[30], line 6\u001b[0m\n\u001b[0;32m      3\u001b[0m \u001b[38;5;124m'\u001b[39m\u001b[38;5;124my\u001b[39m\u001b[38;5;124m'\u001b[39m \u001b[38;5;129;01min\u001b[39;00m string1\n\u001b[0;32m      4\u001b[0m \u001b[38;5;124m'\u001b[39m\u001b[38;5;124mt\u001b[39m\u001b[38;5;124m'\u001b[39m \u001b[38;5;129;01min\u001b[39;00m string1\n\u001b[1;32m----> 6\u001b[0m i \u001b[38;5;129;01min\u001b[39;00m string1\n",
      "\u001b[1;31mTypeError\u001b[0m: 'in <string>' requires string as left operand, not int"
     ]
    }
   ],
   "source": [
    "string1='python'\n",
    "'p' in string1\n",
    "'y' in string1\n",
    "'t' in string1\n",
    "\n",
    "i in string1"
   ]
  },
  {
   "cell_type": "code",
   "execution_count": 25,
   "id": "051b472d-a6ce-4830-bf6d-e96fb2796919",
   "metadata": {},
   "outputs": [
    {
     "name": "stdout",
     "output_type": "stream",
     "text": [
      "p\n",
      "y\n",
      "t\n",
      "h\n",
      "o\n",
      "n\n"
     ]
    }
   ],
   "source": [
    "for i in string1:\n",
    "    print(i)\n"
   ]
  },
  {
   "cell_type": "markdown",
   "id": "8cd51162-fc99-455e-9d1a-a745e87f3030",
   "metadata": {},
   "source": [
    "**Differnence between in operator and range operator**\n",
    "- range belong to match family\n",
    "- inside $range$ we need to keep numbers only\n",
    "- whenever if we want inerate through a english letters\n",
    "- we need to choose in opeator\n",
    "- range means number\n",
    "- in means string"
   ]
  },
  {
   "cell_type": "code",
   "execution_count": 28,
   "id": "2c900ff0-980b-4d62-a27f-25d891e42112",
   "metadata": {},
   "outputs": [
    {
     "data": {
      "text/plain": [
       "True"
      ]
     },
     "execution_count": 28,
     "metadata": {},
     "output_type": "execute_result"
    }
   ],
   "source": [
    "'p'>'P'"
   ]
  },
  {
   "cell_type": "markdown",
   "id": "effae49a-4ac4-44af-82b2-919c0dd035bc",
   "metadata": {},
   "source": [
    "- every english letter\n",
    "- every special charcter how machine will understand\n",
    "- machine language always considr as numbers\n",
    "- every non numerica assign a number\n",
    "- ASCII: amarican standard code for information interchange\n",
    "- A : 65,a:97"
   ]
  },
  {
   "cell_type": "markdown",
   "id": "1be02bd1-7a5e-4dd7-bf70-78e4d50a282d",
   "metadata": {},
   "source": [
    "**ord-chr**"
   ]
  },
  {
   "cell_type": "code",
   "execution_count": null,
   "id": "377d4441-71f4-443e-9a81-fdb483a330e8",
   "metadata": {},
   "outputs": [],
   "source": [
    "A===65====0b10000001"
   ]
  },
  {
   "cell_type": "code",
   "execution_count": 32,
   "id": "59edacfa-465e-45da-92b3-0c615c020739",
   "metadata": {},
   "outputs": [
    {
     "data": {
      "text/plain": [
       "65"
      ]
     },
     "execution_count": 32,
     "metadata": {},
     "output_type": "execute_result"
    }
   ],
   "source": [
    "0b1000001"
   ]
  },
  {
   "cell_type": "code",
   "execution_count": 35,
   "id": "5a961080-2818-4c21-a772-c3fa3e40c928",
   "metadata": {},
   "outputs": [
    {
     "data": {
      "text/plain": [
       "(65, 97)"
      ]
     },
     "execution_count": 35,
     "metadata": {},
     "output_type": "execute_result"
    }
   ],
   "source": [
    "ord('A'),ord('a')"
   ]
  },
  {
   "cell_type": "code",
   "execution_count": 37,
   "id": "de795486-709e-444e-a515-c5fd231b6369",
   "metadata": {},
   "outputs": [
    {
     "data": {
      "text/plain": [
       "(112, 80)"
      ]
     },
     "execution_count": 37,
     "metadata": {},
     "output_type": "execute_result"
    }
   ],
   "source": [
    "ord('p'),ord('P')"
   ]
  },
  {
   "cell_type": "code",
   "execution_count": 38,
   "id": "0e99ff92-abff-433d-9c14-30d1843f51ec",
   "metadata": {},
   "outputs": [
    {
     "data": {
      "text/plain": [
       "True"
      ]
     },
     "execution_count": 38,
     "metadata": {},
     "output_type": "execute_result"
    }
   ],
   "source": [
    "'p'>'P'  # 112>80"
   ]
  },
  {
   "cell_type": "code",
   "execution_count": 39,
   "id": "fcc5f56d-d763-4e66-bb41-996850e3d2b7",
   "metadata": {},
   "outputs": [
    {
     "data": {
      "text/plain": [
       "('p', 'P', 'A', 'a')"
      ]
     },
     "execution_count": 39,
     "metadata": {},
     "output_type": "execute_result"
    }
   ],
   "source": [
    "chr(112),chr(80),chr(65),chr(97)"
   ]
  },
  {
   "cell_type": "code",
   "execution_count": 40,
   "id": "d4b49332-284d-4930-82af-20c20d217b96",
   "metadata": {},
   "outputs": [
    {
     "name": "stdout",
     "output_type": "stream",
     "text": [
      "the ASCII number for p is 112\n",
      "the ASCII number for y is 121\n",
      "the ASCII number for t is 116\n",
      "the ASCII number for h is 104\n",
      "the ASCII number for o is 111\n",
      "the ASCII number for n is 110\n"
     ]
    }
   ],
   "source": [
    "# i want string1 :'python'\n",
    "# print all ascii number for 'python'\n",
    "for i in 'python':\n",
    "    print(f\"the ASCII number for {i} is {ord(i)}\")"
   ]
  },
  {
   "cell_type": "code",
   "execution_count": null,
   "id": "3e5ec0cd-81bd-47d1-baf7-7358fcec0952",
   "metadata": {},
   "outputs": [],
   "source": [
    "ascci_summ=0\n",
    "for i in 'python':\n",
    "    ascii_sum=ascii_sum+ord(i)\n",
    "    print(f\"the summation is {ascii_sum}\")"
   ]
  },
  {
   "cell_type": "code",
   "execution_count": null,
   "id": "ff8e8be2-f86b-4611-93de-bf958b22b263",
   "metadata": {},
   "outputs": [],
   "source": [
    "# i want to know all ascii number from A to Z "
   ]
  },
  {
   "cell_type": "code",
   "execution_count": null,
   "id": "ed614879-3f6a-47b1-8cca-edd7989bb9ad",
   "metadata": {},
   "outputs": [],
   "source": [
    "# package called : string\n",
    "# import the package \n",
    "# apply the dir \n",
    "# there are same methods are there \n",
    "# in that one method will capital letter\n",
    "\n",
    "# step-1:import<package_name>\n",
    "# step-2:dir(<package_name>)\n",
    "# step-3: identify the methods"
   ]
  },
  {
   "cell_type": "code",
   "execution_count": 31,
   "id": "f27398e9-9074-43e1-ba0b-b86a1bbe8aaf",
   "metadata": {},
   "outputs": [
    {
     "name": "stdout",
     "output_type": "stream",
     "text": [
      "the ascii number for A is 65\n",
      "the ascii number for B is 66\n",
      "the ascii number for C is 67\n",
      "the ascii number for D is 68\n",
      "the ascii number for E is 69\n",
      "the ascii number for F is 70\n",
      "the ascii number for G is 71\n",
      "the ascii number for H is 72\n",
      "the ascii number for I is 73\n",
      "the ascii number for J is 74\n",
      "the ascii number for K is 75\n",
      "the ascii number for L is 76\n",
      "the ascii number for M is 77\n",
      "the ascii number for N is 78\n",
      "the ascii number for O is 79\n",
      "the ascii number for P is 80\n",
      "the ascii number for Q is 81\n",
      "the ascii number for R is 82\n",
      "the ascii number for S is 83\n",
      "the ascii number for T is 84\n",
      "the ascii number for U is 85\n",
      "the ascii number for V is 86\n",
      "the ascii number for X is 88\n",
      "the ascii number for Y is 89\n",
      "the ascii number for Z is 90\n"
     ]
    }
   ],
   "source": [
    "for i in 'ABCDEFGHIJKLMNOPQRSTUVXYZ':\n",
    "    print(f\"the ascii number for {i} is {ord(i)}\")"
   ]
  },
  {
   "cell_type": "code",
   "execution_count": 34,
   "id": "017ea853-2318-4568-8f51-c35e4785dad4",
   "metadata": {},
   "outputs": [
    {
     "data": {
      "text/plain": [
       "['Formatter',\n",
       " 'Template',\n",
       " '_ChainMap',\n",
       " '__all__',\n",
       " '__builtins__',\n",
       " '__cached__',\n",
       " '__doc__',\n",
       " '__file__',\n",
       " '__loader__',\n",
       " '__name__',\n",
       " '__package__',\n",
       " '__spec__',\n",
       " '_re',\n",
       " '_sentinel_dict',\n",
       " '_string',\n",
       " 'ascii_letters',\n",
       " 'ascii_lowercase',\n",
       " 'ascii_uppercase',\n",
       " 'capwords',\n",
       " 'digits',\n",
       " 'hexdigits',\n",
       " 'octdigits',\n",
       " 'printable',\n",
       " 'punctuation',\n",
       " 'whitespace']"
      ]
     },
     "execution_count": 34,
     "metadata": {},
     "output_type": "execute_result"
    }
   ],
   "source": [
    "import string\n",
    "dir(string)"
   ]
  },
  {
   "cell_type": "code",
   "execution_count": 36,
   "id": "8fab2915-561a-45ac-b59b-dc90f773ec64",
   "metadata": {},
   "outputs": [
    {
     "data": {
      "text/plain": [
       "'abcdefghijklmnopqrstuvwxyz'"
      ]
     },
     "execution_count": 36,
     "metadata": {},
     "output_type": "execute_result"
    }
   ],
   "source": [
    "string.ascii_lowercase"
   ]
  },
  {
   "cell_type": "code",
   "execution_count": 40,
   "id": "4b83a98a-6e64-49c8-afeb-b57913d6ab5e",
   "metadata": {},
   "outputs": [
    {
     "data": {
      "text/plain": [
       "'ABCDEFGHIJKLMNOPQRSTUVWXYZ'"
      ]
     },
     "execution_count": 40,
     "metadata": {},
     "output_type": "execute_result"
    }
   ],
   "source": [
    "string.acsii_uppercase\n",
    "ascii_uppercase"
   ]
  },
  {
   "cell_type": "code",
   "execution_count": 41,
   "id": "d05dc23d-b729-4fc6-857d-8b68e66b033d",
   "metadata": {},
   "outputs": [
    {
     "name": "stdout",
     "output_type": "stream",
     "text": [
      "THE ACSII NUMBER FOR A,65\n",
      "THE ACSII NUMBER FOR B,66\n",
      "THE ACSII NUMBER FOR C,67\n",
      "THE ACSII NUMBER FOR D,68\n",
      "THE ACSII NUMBER FOR E,69\n",
      "THE ACSII NUMBER FOR F,70\n",
      "THE ACSII NUMBER FOR G,71\n",
      "THE ACSII NUMBER FOR H,72\n",
      "THE ACSII NUMBER FOR I,73\n",
      "THE ACSII NUMBER FOR J,74\n",
      "THE ACSII NUMBER FOR K,75\n",
      "THE ACSII NUMBER FOR L,76\n",
      "THE ACSII NUMBER FOR M,77\n",
      "THE ACSII NUMBER FOR N,78\n",
      "THE ACSII NUMBER FOR O,79\n",
      "THE ACSII NUMBER FOR P,80\n",
      "THE ACSII NUMBER FOR Q,81\n",
      "THE ACSII NUMBER FOR R,82\n",
      "THE ACSII NUMBER FOR S,83\n",
      "THE ACSII NUMBER FOR T,84\n",
      "THE ACSII NUMBER FOR U,85\n",
      "THE ACSII NUMBER FOR V,86\n",
      "THE ACSII NUMBER FOR W,87\n",
      "THE ACSII NUMBER FOR X,88\n",
      "THE ACSII NUMBER FOR Y,89\n",
      "THE ACSII NUMBER FOR Z,90\n"
     ]
    }
   ],
   "source": [
    "import string\n",
    "string1=string.ascii_uppercase\n",
    "for i in string1:\n",
    "    print(f\"THE ACSII NUMBER FOR {i},{ord(i)}\")"
   ]
  },
  {
   "cell_type": "code",
   "execution_count": 42,
   "id": "cc1837b6-55a2-4f44-a681-fb7b2b9f572b",
   "metadata": {},
   "outputs": [
    {
     "name": "stdout",
     "output_type": "stream",
     "text": [
      "the ascii number for a is  97\n",
      "the ascii number for b is  98\n",
      "the ascii number for c is  99\n",
      "the ascii number for d is  100\n",
      "the ascii number for e is  101\n",
      "the ascii number for f is  102\n",
      "the ascii number for g is  103\n",
      "the ascii number for h is  104\n",
      "the ascii number for i is  105\n",
      "the ascii number for j is  106\n",
      "the ascii number for k is  107\n",
      "the ascii number for l is  108\n",
      "the ascii number for m is  109\n",
      "the ascii number for n is  110\n",
      "the ascii number for o is  111\n",
      "the ascii number for p is  112\n",
      "the ascii number for q is  113\n",
      "the ascii number for r is  114\n",
      "the ascii number for s is  115\n",
      "the ascii number for t is  116\n",
      "the ascii number for u is  117\n",
      "the ascii number for v is  118\n",
      "the ascii number for w is  119\n",
      "the ascii number for x is  120\n",
      "the ascii number for y is  121\n",
      "the ascii number for z is  122\n",
      "the ascii number for A is  65\n",
      "the ascii number for B is  66\n",
      "the ascii number for C is  67\n",
      "the ascii number for D is  68\n",
      "the ascii number for E is  69\n",
      "the ascii number for F is  70\n",
      "the ascii number for G is  71\n",
      "the ascii number for H is  72\n",
      "the ascii number for I is  73\n",
      "the ascii number for J is  74\n",
      "the ascii number for K is  75\n",
      "the ascii number for L is  76\n",
      "the ascii number for M is  77\n",
      "the ascii number for N is  78\n",
      "the ascii number for O is  79\n",
      "the ascii number for P is  80\n",
      "the ascii number for Q is  81\n",
      "the ascii number for R is  82\n",
      "the ascii number for S is  83\n",
      "the ascii number for T is  84\n",
      "the ascii number for U is  85\n",
      "the ascii number for V is  86\n",
      "the ascii number for W is  87\n",
      "the ascii number for X is  88\n",
      "the ascii number for Y is  89\n",
      "the ascii number for Z is  90\n"
     ]
    }
   ],
   "source": [
    "import string \n",
    "letter=string.ascii_letters\n",
    "for i in letter:\n",
    "    print(f\"the ascii number for {i} is  {ord(i)}\")"
   ]
  },
  {
   "cell_type": "code",
   "execution_count": 44,
   "id": "98699044-eda1-446a-8bff-e716d3473178",
   "metadata": {},
   "outputs": [
    {
     "name": "stdout",
     "output_type": "stream",
     "text": [
      "the ASCII number for ! is 33\n",
      "the ASCII number for \" is 34\n",
      "the ASCII number for # is 35\n",
      "the ASCII number for $ is 36\n",
      "the ASCII number for % is 37\n",
      "the ASCII number for & is 38\n",
      "the ASCII number for ' is 39\n",
      "the ASCII number for ( is 40\n",
      "the ASCII number for ) is 41\n",
      "the ASCII number for * is 42\n",
      "the ASCII number for + is 43\n",
      "the ASCII number for , is 44\n",
      "the ASCII number for - is 45\n",
      "the ASCII number for . is 46\n",
      "the ASCII number for / is 47\n",
      "the ASCII number for : is 58\n",
      "the ASCII number for ; is 59\n",
      "the ASCII number for < is 60\n",
      "the ASCII number for = is 61\n",
      "the ASCII number for > is 62\n",
      "the ASCII number for ? is 63\n",
      "the ASCII number for @ is 64\n",
      "the ASCII number for [ is 91\n",
      "the ASCII number for \\ is 92\n",
      "the ASCII number for ] is 93\n",
      "the ASCII number for ^ is 94\n",
      "the ASCII number for _ is 95\n",
      "the ASCII number for ` is 96\n",
      "the ASCII number for { is 123\n",
      "the ASCII number for | is 124\n",
      "the ASCII number for } is 125\n",
      "the ASCII number for ~ is 126\n"
     ]
    }
   ],
   "source": [
    "import random\n",
    "letter=string.punctuation\n",
    "for i in letter:\n",
    "    print(f\"the ASCII number for {i} is {ord(i)}\")"
   ]
  },
  {
   "cell_type": "code",
   "execution_count": 60,
   "id": "e7a4948e-f499-470f-88f6-c07f9b11497a",
   "metadata": {},
   "outputs": [
    {
     "name": "stdout",
     "output_type": "stream",
     "text": [
      "33 !===>34 \"===>35 #===>36 $===>37 %===>38 &===>39 '===>40 (===>41 )===>42 *===>43 +===>44 ,===>45 -===>46 .===>47 /===>48 0===>49 1===>50 2===>51 3===>52 4===>53 5===>54 6===>55 7===>56 8===>57 9===>58 :===>59 ;===>60 <===>61 ====>62 >===>63 ?===>64 @===>65 A===>66 B===>67 C===>68 D===>69 E===>70 F===>71 G===>72 H===>73 I===>74 J===>75 K===>76 L===>77 M===>78 N===>79 O===>80 P===>81 Q===>82 R===>83 S===>84 T===>85 U===>86 V===>87 W===>88 X===>89 Y===>90 Z===>91 [===>92 \\===>93 ]===>94 ^===>95 _===>96 `===>97 a===>98 b===>99 c===>100 d===>101 e===>102 f===>103 g===>104 h===>105 i===>106 j===>107 k===>108 l===>109 m===>110 n===>111 o===>112 p===>113 q===>114 r===>115 s===>116 t===>117 u===>118 v===>119 w===>120 x===>121 y===>122 z===>123 {===>124 |===>125 }===>"
     ]
    }
   ],
   "source": [
    "# A_Z     a-z\n",
    "#A=== >  65\n",
    "# Z=== > 90\n",
    "# a===> 97\n",
    "# Z===> 122\n",
    "# !===> 33\n",
    "# ~===> 126\n",
    "for i in range (33,126):\n",
    "    print(i,chr(i),end='===>')"
   ]
  },
  {
   "cell_type": "code",
   "execution_count": 1,
   "id": "ec89bba7-71b6-4d33-b47d-9630ac6bb73c",
   "metadata": {},
   "outputs": [
    {
     "name": "stdout",
     "output_type": "stream",
     "text": [
      "3078 ఆ=>3079 ఇ=>3080 ఈ=>3081 ఉ=>3082 ఊ=>3083 ఋ=>3084 ఌ=>3085 ఍=>3086 ఎ=>3087 ఏ=>3088 ఐ=>3089 ఑=>3090 ఒ=>3091 ఓ=>3092 ఔ=>3093 క=>3094 ఖ=>3095 గ=>3096 ఘ=>3097 ఙ=>3098 చ=>3099 ఛ=>3100 జ=>3101 ఝ=>3102 ఞ=>3103 ట=>3104 ఠ=>3105 డ=>3106 ఢ=>3107 ణ=>3108 త=>3109 థ=>3110 ద=>3111 ధ=>3112 న=>3113 ఩=>3114 ప=>3115 ఫ=>3116 బ=>3117 భ=>3118 మ=>3119 య=>3120 ర=>3121 ఱ=>3122 ల=>3123 ళ=>3124 ఴ=>3125 వ=>3126 శ=>3127 ష=>3128 స=>3129 హ=>3130 ఺=>3131 ఻=>3132 ఼=>3133 ఽ=>3134 ా=>3135 ి=>3136 ీ=>3137 ు=>3138 ూ=>3139 ృ=>3140 ౄ=>3141 ౅=>3142 ె=>3143 ే=>3144 ై=>3145 ౉=>3146 ొ=>3147 ో=>3148 ౌ=>3149 ్=>3150 ౎=>3151 ౏=>3152 ౐=>3153 ౑=>3154 ౒=>3155 ౓=>3156 ౔=>3157 ౕ=>3158 ౖ=>3159 ౗=>3160 ౘ=>3161 ౙ=>3162 ౚ=>3163 ౛=>3164 ౜=>3165 ౝ=>3166 ౞=>3167 ౟=>3168 ౠ=>3169 ౡ=>3170 ౢ=>3171 ౣ=>3172 ౤=>3173 ౥=>3174 ౦=>3175 ౧=>3176 ౨=>3177 ౩=>3178 ౪=>3179 ౫=>3180 ౬=>3181 ౭=>3182 ౮=>3183 ౯=>3184 ౰=>3185 ౱=>3186 ౲=>3187 ౳=>3188 ౴=>3189 ౵=>3190 ౶=>3191 ౷=>3192 ౸=>3193 ౹=>3194 ౺=>3195 ౻=>3196 ౼=>3197 ౽=>3198 ౾=>3199 ౿=>3200 ಀ=>3201 ಁ=>3202 ಂ=>3203 ಃ=>3204 ಄=>3205 ಅ=>3206 ಆ=>3207 ಇ=>3208 ಈ=>3209 ಉ=>3210 ಊ=>3211 ಋ=>3212 ಌ=>3213 ಍=>3214 ಎ=>3215 ಏ=>3216 ಐ=>3217 ಑=>3218 ಒ=>3219 ಓ=>3220 ಔ=>3221 ಕ=>3222 ಖ=>3223 ಗ=>3224 ಘ=>3225 ಙ=>3226 ಚ=>3227 ಛ=>3228 ಜ=>3229 ಝ=>3230 ಞ=>3231 ಟ=>3232 ಠ=>3233 ಡ=>3234 ಢ=>3235 ಣ=>3236 ತ=>3237 ಥ=>3238 ದ=>3239 ಧ=>3240 ನ=>3241 ಩=>3242 ಪ=>3243 ಫ=>3244 ಬ=>3245 ಭ=>3246 ಮ=>3247 ಯ=>3248 ರ=>3249 ಱ=>3250 ಲ=>3251 ಳ=>3252 ಴=>3253 ವ=>3254 ಶ=>3255 ಷ=>3256 ಸ=>3257 ಹ=>3258 ಺=>3259 ಻=>3260 ಼=>3261 ಽ=>3262 ಾ=>3263 ಿ=>3264 ೀ=>3265 ು=>3266 ೂ=>3267 ೃ=>3268 ೄ=>3269 ೅=>3270 ೆ=>3271 ೇ=>3272 ೈ=>3273 ೉=>3274 ೊ=>3275 ೋ=>3276 ೌ=>3277 ್=>3278 ೎=>3279 ೏=>3280 ೐=>3281 ೑=>3282 ೒=>3283 ೓=>3284 ೔=>3285 ೕ=>3286 ೖ=>3287 ೗=>3288 ೘=>3289 ೙=>3290 ೚=>3291 ೛=>3292 ೜=>3293 ೝ=>3294 ೞ=>3295 ೟=>3296 ೠ=>3297 ೡ=>3298 ೢ=>3299 ೣ=>"
     ]
    }
   ],
   "source": [
    "for i in range (3078,3300):\n",
    "    print(i,chr(i),end='=>')"
   ]
  },
  {
   "cell_type": "code",
   "execution_count": null,
   "id": "3e6b2674-6928-4003-9a47-bb8952fccc20",
   "metadata": {},
   "outputs": [],
   "source": []
  }
 ],
 "metadata": {
  "kernelspec": {
   "display_name": "Python 3 (ipykernel)",
   "language": "python",
   "name": "python3"
  },
  "language_info": {
   "codemirror_mode": {
    "name": "ipython",
    "version": 3
   },
   "file_extension": ".py",
   "mimetype": "text/x-python",
   "name": "python",
   "nbconvert_exporter": "python",
   "pygments_lexer": "ipython3",
   "version": "3.11.7"
  }
 },
 "nbformat": 4,
 "nbformat_minor": 5
}
