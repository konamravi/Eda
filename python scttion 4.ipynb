{
 "cells": [
  {
   "cell_type": "markdown",
   "id": "6df70200-a5b2-4063-830d-14496f70dd32",
   "metadata": {},
   "source": [
    "**type casting**"
   ]
  },
  {
   "cell_type": "markdown",
   "id": "629b9cea-589a-42c3-9d2f-5b5216b52d82",
   "metadata": {},
   "source": [
    "- convert one data type to another data type is called type casting \n",
    "- which means we wants to convert\n",
    "- integer type to all other(float,str,bool)data types\n",
    "- float  type to all  other(int,str,bool)data type\n",
    "- str type to all other (int,float,,bool) data type\n",
    "- boolean type to allother (int,float,str) "
   ]
  },
  {
   "cell_type": "code",
   "execution_count": null,
   "id": "da009684-cb17-4584-b18d-2dabf173d8ca",
   "metadata": {},
   "outputs": [],
   "source": []
  },
  {
   "cell_type": "code",
   "execution_count": 1,
   "id": "c028d1cf-b8bc-4752-8d33-2fc23493c4a4",
   "metadata": {},
   "outputs": [
    {
     "data": {
      "text/plain": [
       "int"
      ]
     },
     "execution_count": 1,
     "metadata": {},
     "output_type": "execute_result"
    }
   ],
   "source": [
    "num=100\n",
    "type(num)"
   ]
  },
  {
   "cell_type": "code",
   "execution_count": 2,
   "id": "981c5032-7776-42ec-88eb-dec76ae59b8c",
   "metadata": {},
   "outputs": [
    {
     "data": {
      "text/plain": [
       "float"
      ]
     },
     "execution_count": 2,
     "metadata": {},
     "output_type": "execute_result"
    }
   ],
   "source": [
    "float_name=float(num)\n",
    "type(float_name)"
   ]
  },
  {
   "cell_type": "code",
   "execution_count": null,
   "id": "b6e118e5-143d-4664-b889-28ee9d5d10be",
   "metadata": {},
   "outputs": [],
   "source": [
    "str_num=100"
   ]
  },
  {
   "cell_type": "code",
   "execution_count": 3,
   "id": "6b963cbf-8aa0-4e97-9015-b1108d941582",
   "metadata": {},
   "outputs": [
    {
     "data": {
      "text/plain": [
       "True"
      ]
     },
     "execution_count": 3,
     "metadata": {},
     "output_type": "execute_result"
    }
   ],
   "source": [
    "bool(num)"
   ]
  },
  {
   "cell_type": "code",
   "execution_count": 4,
   "id": "3d840cad-9760-4c9f-a501-e6c922b0b63c",
   "metadata": {},
   "outputs": [
    {
     "data": {
      "text/plain": [
       "(200.0, '200', True)"
      ]
     },
     "execution_count": 4,
     "metadata": {},
     "output_type": "execute_result"
    }
   ],
   "source": [
    "float(200),str(200),bool(200)"
   ]
  },
  {
   "cell_type": "code",
   "execution_count": 5,
   "id": "ed331dac-f81d-4e6f-a70c-69649c816902",
   "metadata": {},
   "outputs": [
    {
     "data": {
      "text/plain": [
       "(-200.0, '-200', True)"
      ]
     },
     "execution_count": 5,
     "metadata": {},
     "output_type": "execute_result"
    }
   ],
   "source": [
    "float(-200),str(-200),bool(-200)"
   ]
  },
  {
   "cell_type": "code",
   "execution_count": 6,
   "id": "2b146b06-6a07-4e71-983b-90d465f334a4",
   "metadata": {},
   "outputs": [],
   "source": [
    "# bwhen integer of boolean conversion become false\n",
    "bool(0)"
   ]
  },
  {
   "cell_type": "code",
   "execution_count": null,
   "id": "4b8ed950-26e7-4cf7-96a3-4148acf31f34",
   "metadata": {},
   "outputs": [],
   "source": [
    "**NOTE**\n",
    "- integer =0 then only boolean conversion becomes False\n",
    "- otherwise for any possitive number or negative numberit becomes True "
   ]
  },
  {
   "cell_type": "markdown",
   "id": "dd34738f-68c9-4661-92b9-34cfb4b67a67",
   "metadata": {},
   "source": [
    "**Float to another data type**"
   ]
  },
  {
   "cell_type": "code",
   "execution_count": 9,
   "id": "ec3c198e-95bf-446d-a8e1-b691fde1f08e",
   "metadata": {},
   "outputs": [
    {
     "data": {
      "text/plain": [
       "True"
      ]
     },
     "execution_count": 9,
     "metadata": {},
     "output_type": "execute_result"
    }
   ],
   "source": [
    "int(200.5)\n",
    "str(200.5)\n",
    "bool(200.5)"
   ]
  },
  {
   "cell_type": "code",
   "execution_count": null,
   "id": "e371c5eb-bac1-4c40-b9dd-dd1be47544dd",
   "metadata": {},
   "outputs": [],
   "source": [
    "int"
   ]
  },
  {
   "cell_type": "code",
   "execution_count": null,
   "id": "2fa0b203-f334-4b67-955b-8c6b61d7ea27",
   "metadata": {},
   "outputs": [],
   "source": []
  },
  {
   "cell_type": "markdown",
   "id": "92282992-b008-41d9-ae34-a9da99beff2d",
   "metadata": {},
   "source": [
    "**string to another data type**"
   ]
  },
  {
   "cell_type": "code",
   "execution_count": null,
   "id": "d07d33fc-1531-476e-9ecc-df97d633f825",
   "metadata": {},
   "outputs": [],
   "source": [
    "#case-1"
   ]
  },
  {
   "cell_type": "code",
   "execution_count": 14,
   "id": "436c3a11-8110-47d1-943c-3cb5daf8822d",
   "metadata": {},
   "outputs": [
    {
     "ename": "SyntaxError",
     "evalue": "unterminated string literal (detected at line 1) (2019540539.py, line 1)",
     "output_type": "error",
     "traceback": [
      "\u001b[1;36m  Cell \u001b[1;32mIn[14], line 1\u001b[1;36m\u001b[0m\n\u001b[1;33m    int('apple\u001b[0m\n\u001b[1;37m        ^\u001b[0m\n\u001b[1;31mSyntaxError\u001b[0m\u001b[1;31m:\u001b[0m unterminated string literal (detected at line 1)\n"
     ]
    }
   ],
   "source": [
    "int('apple)\n",
    "print(int)"
   ]
  },
  {
   "cell_type": "code",
   "execution_count": 15,
   "id": "ca0118f1-a63c-4a3b-b94f-ca4a3f933b6f",
   "metadata": {},
   "outputs": [
    {
     "ename": "ValueError",
     "evalue": "could not convert string to float: 'apple'",
     "output_type": "error",
     "traceback": [
      "\u001b[1;31m---------------------------------------------------------------------------\u001b[0m",
      "\u001b[1;31mValueError\u001b[0m                                Traceback (most recent call last)",
      "Cell \u001b[1;32mIn[15], line 1\u001b[0m\n\u001b[1;32m----> 1\u001b[0m \u001b[38;5;28mfloat\u001b[39m(\u001b[38;5;124m'\u001b[39m\u001b[38;5;124mapple\u001b[39m\u001b[38;5;124m'\u001b[39m)\n",
      "\u001b[1;31mValueError\u001b[0m: could not convert string to float: 'apple'"
     ]
    }
   ],
   "source": [
    "float('apple')"
   ]
  },
  {
   "cell_type": "code",
   "execution_count": 16,
   "id": "0e736faf-3996-4e0c-bb46-e14e0a55df04",
   "metadata": {},
   "outputs": [
    {
     "data": {
      "text/plain": [
       "True"
      ]
     },
     "execution_count": 16,
     "metadata": {},
     "output_type": "execute_result"
    }
   ],
   "source": [
    "bool('apple')"
   ]
  },
  {
   "cell_type": "code",
   "execution_count": 20,
   "id": "b80c5be1-f540-463d-ab83-dba6025ec2a2",
   "metadata": {},
   "outputs": [
    {
     "data": {
      "text/plain": [
       "True"
      ]
     },
     "execution_count": 20,
     "metadata": {},
     "output_type": "execute_result"
    }
   ],
   "source": [
    "int('10')\n",
    "float('10')\n",
    "bool('10')"
   ]
  },
  {
   "cell_type": "code",
   "execution_count": 17,
   "id": "9a0a8cd4-acac-405b-a94d-0dcff07f5dc7",
   "metadata": {},
   "outputs": [
    {
     "data": {
      "text/plain": [
       "10"
      ]
     },
     "execution_count": 17,
     "metadata": {},
     "output_type": "execute_result"
    }
   ],
   "source": [
    "int(\"10\")"
   ]
  },
  {
   "cell_type": "code",
   "execution_count": 18,
   "id": "9d782b55-a75d-4e4f-9dac-211f874b04a6",
   "metadata": {},
   "outputs": [
    {
     "data": {
      "text/plain": [
       "10.0"
      ]
     },
     "execution_count": 18,
     "metadata": {},
     "output_type": "execute_result"
    }
   ],
   "source": [
    "float('10')"
   ]
  },
  {
   "cell_type": "code",
   "execution_count": 19,
   "id": "6d07f79b-38fb-419f-aee9-afe9b99dea24",
   "metadata": {},
   "outputs": [
    {
     "data": {
      "text/plain": [
       "True"
      ]
     },
     "execution_count": 19,
     "metadata": {},
     "output_type": "execute_result"
    }
   ],
   "source": [
    "bool('10')"
   ]
  },
  {
   "cell_type": "code",
   "execution_count": 22,
   "id": "96d44ad3-b8ea-4fdf-90ac-1a12ea594350",
   "metadata": {},
   "outputs": [
    {
     "ename": "ValueError",
     "evalue": "invalid literal for int() with base 10: '10.5'",
     "output_type": "error",
     "traceback": [
      "\u001b[1;31m---------------------------------------------------------------------------\u001b[0m",
      "\u001b[1;31mValueError\u001b[0m                                Traceback (most recent call last)",
      "Cell \u001b[1;32mIn[22], line 1\u001b[0m\n\u001b[1;32m----> 1\u001b[0m \u001b[38;5;28mint\u001b[39m(\u001b[38;5;124m'\u001b[39m\u001b[38;5;124m10.5\u001b[39m\u001b[38;5;124m'\u001b[39m)\n",
      "\u001b[1;31mValueError\u001b[0m: invalid literal for int() with base 10: '10.5'"
     ]
    }
   ],
   "source": [
    "int('10.5')"
   ]
  },
  {
   "cell_type": "code",
   "execution_count": 24,
   "id": "528b2ccb-ca18-4c20-b098-97240cf9e31d",
   "metadata": {},
   "outputs": [
    {
     "data": {
      "text/plain": [
       "10.5"
      ]
     },
     "execution_count": 24,
     "metadata": {},
     "output_type": "execute_result"
    }
   ],
   "source": [
    "float('10.5')"
   ]
  },
  {
   "cell_type": "code",
   "execution_count": 27,
   "id": "99963f6a-e61c-4f57-82e5-b0ece9c9fbac",
   "metadata": {},
   "outputs": [
    {
     "ename": "ValueError",
     "evalue": "invalid literal for int() with base 10: '10.5'",
     "output_type": "error",
     "traceback": [
      "\u001b[1;31m---------------------------------------------------------------------------\u001b[0m",
      "\u001b[1;31mValueError\u001b[0m                                Traceback (most recent call last)",
      "Cell \u001b[1;32mIn[27], line 2\u001b[0m\n\u001b[0;32m      1\u001b[0m \u001b[38;5;28mint\u001b[39m(\u001b[38;5;124m'\u001b[39m\u001b[38;5;124m10\u001b[39m\u001b[38;5;124m'\u001b[39m)\n\u001b[1;32m----> 2\u001b[0m \u001b[38;5;28mint\u001b[39m(\u001b[38;5;124m'\u001b[39m\u001b[38;5;124m10.5\u001b[39m\u001b[38;5;124m'\u001b[39m)\n\u001b[0;32m      3\u001b[0m \u001b[38;5;28mfloat\u001b[39m(\u001b[38;5;124m'\u001b[39m\u001b[38;5;124m10\u001b[39m\u001b[38;5;124m'\u001b[39m)\n\u001b[0;32m      4\u001b[0m \u001b[38;5;28mfloat\u001b[39m(\u001b[38;5;124m'\u001b[39m\u001b[38;5;124m10.5\u001b[39m\u001b[38;5;124m'\u001b[39m)\n",
      "\u001b[1;31mValueError\u001b[0m: invalid literal for int() with base 10: '10.5'"
     ]
    }
   ],
   "source": [
    "int('10')\n",
    "int('10.5')\n",
    "float('10')\n",
    "float('10.5')"
   ]
  },
  {
   "cell_type": "code",
   "execution_count": 25,
   "id": "3c186d23-6f93-4ab5-b4f3-6e261f479fbc",
   "metadata": {},
   "outputs": [
    {
     "data": {
      "text/plain": [
       "True"
      ]
     },
     "execution_count": 25,
     "metadata": {},
     "output_type": "execute_result"
    }
   ],
   "source": [
    "bool('10.5')"
   ]
  },
  {
   "cell_type": "code",
   "execution_count": null,
   "id": "94faa39c-5805-4f3f-93e8-2ae09fa6c88d",
   "metadata": {},
   "outputs": [],
   "source": [
    "- float is the boss\n",
    "- float of any value either it is  \n",
    "- or float in string formate will work\n",
    "- but integer will work only for integer "
   ]
  },
  {
   "cell_type": "code",
   "execution_count": 28,
   "id": "fd54613a-9cd5-41db-984a-b99ae73f06b9",
   "metadata": {},
   "outputs": [
    {
     "data": {
      "text/plain": [
       "False"
      ]
     },
     "execution_count": 28,
     "metadata": {},
     "output_type": "execute_result"
    }
   ],
   "source": [
    "bool('')"
   ]
  },
  {
   "cell_type": "code",
   "execution_count": 29,
   "id": "7703130b-92ae-4d62-a640-b563c1ac9c4c",
   "metadata": {},
   "outputs": [
    {
     "data": {
      "text/plain": [
       "False"
      ]
     },
     "execution_count": 29,
     "metadata": {},
     "output_type": "execute_result"
    }
   ],
   "source": [
    "bool(0)\n"
   ]
  },
  {
   "cell_type": "markdown",
   "id": "43116f0e-8760-4b53-a70e-4d8d7bd1e4ea",
   "metadata": {},
   "source": [
    "- empty string of boolean give false \n",
    "- false means no othing either 0 or empty string "
   ]
  },
  {
   "cell_type": "markdown",
   "id": "1df04693-8374-4c67-a875-3621b5526fe4",
   "metadata": {},
   "source": [
    "**boolean to another type**"
   ]
  },
  {
   "cell_type": "code",
   "execution_count": 40,
   "id": "418907b8-cbb6-4112-8976-2ae45c0eb2f2",
   "metadata": {},
   "outputs": [
    {
     "ename": "TypeError",
     "evalue": "'bool' object is not callable",
     "output_type": "error",
     "traceback": [
      "\u001b[1;31m---------------------------------------------------------------------------\u001b[0m",
      "\u001b[1;31mTypeError\u001b[0m                                 Traceback (most recent call last)",
      "Cell \u001b[1;32mIn[40], line 1\u001b[0m\n\u001b[1;32m----> 1\u001b[0m \u001b[38;5;28mint\u001b[39m(\u001b[38;5;28;01mTrue\u001b[39;00m)\n",
      "\u001b[1;31mTypeError\u001b[0m: 'bool' object is not callable"
     ]
    }
   ],
   "source": [
    "int(True)"
   ]
  },
  {
   "cell_type": "code",
   "execution_count": 41,
   "id": "79d89403-15fa-4d6f-8369-a280718e3d22",
   "metadata": {},
   "outputs": [
    {
     "name": "stdout",
     "output_type": "stream",
     "text": [
      "python\n"
     ]
    }
   ],
   "source": [
    "print('python')"
   ]
  },
  {
   "cell_type": "code",
   "execution_count": 42,
   "id": "9498e0a0-4aaf-4872-8fd9-86dcf24f8b93",
   "metadata": {},
   "outputs": [
    {
     "name": "stdout",
     "output_type": "stream",
     "text": [
      "10 10.5 NARESH It True\n"
     ]
    }
   ],
   "source": [
    "print(10,10.5,'NARESH It',True)\n"
   ]
  },
  {
   "cell_type": "code",
   "execution_count": 52,
   "id": "bb7a0270-e4dd-4c93-a350-afa29f1e14cc",
   "metadata": {},
   "outputs": [
    {
     "name": "stdout",
     "output_type": "stream",
     "text": [
      "10 10.5 NARESH IT True\n"
     ]
    }
   ],
   "source": [
    "n1=10\n",
    "n2=10.5\n",
    "n3='NARESH IT'\n",
    "n4=True\n",
    "print(n1,n2,n3,n4)"
   ]
  },
  {
   "cell_type": "code",
   "execution_count": 50,
   "id": "bc655dba-02f8-4ef8-9f11-823f3ed29cde",
   "metadata": {},
   "outputs": [
    {
     "name": "stdout",
     "output_type": "stream",
     "text": [
      "10 10.5\n",
      "(10, None)\n"
     ]
    }
   ],
   "source": [
    "print(10,10.5)\n",
    "n1=10,print(n1)"
   ]
  },
  {
   "cell_type": "markdown",
   "id": "f3a51f81-8702-49de-ba36-768e8e1069fc",
   "metadata": {},
   "source": [
    "**FORMATE**"
   ]
  },
  {
   "cell_type": "code",
   "execution_count": 54,
   "id": "f5660d64-df6e-4bff-99cd-a0d850356283",
   "metadata": {},
   "outputs": [
    {
     "name": "stdout",
     "output_type": "stream",
     "text": [
      "The additon of 10 and 20 is 30\n"
     ]
    }
   ],
   "source": [
    "a=10\n",
    "b=20\n",
    "c=a+b\n",
    "c\n",
    "# the addition of 10 and 20 is 30\n",
    "print(\"The additon of 10 and 20 is 30\")"
   ]
  },
  {
   "cell_type": "code",
   "execution_count": null,
   "id": "c1fc363e-3d2d-4a02-8912-b56e5d60db07",
   "metadata": {},
   "outputs": [],
   "source": []
  },
  {
   "cell_type": "code",
   "execution_count": 59,
   "id": "7c5fc81e-ad30-4111-be95-c1aa948300be",
   "metadata": {},
   "outputs": [
    {
     "name": "stdout",
     "output_type": "stream",
     "text": [
      "the additon of 300 and 200 is 30\n"
     ]
    }
   ],
   "source": [
    "a=100\n",
    "b=200\n",
    "a=a+b\n",
    "print(\"the additon of {} and {} is {}\".format(a,b,c))"
   ]
  },
  {
   "cell_type": "code",
   "execution_count": 64,
   "id": "2d87188a-fe53-4635-a406-ef9d32806bf9",
   "metadata": {},
   "outputs": [
    {
     "name": "stdout",
     "output_type": "stream",
     "text": [
      "my name is python ,in 10 years old and fromhyd\n"
     ]
    }
   ],
   "source": [
    "# read your name\n",
    "# read your age \n",
    "# read your city\n",
    "# my name is python ,in 10 years old in from hydarabad\n",
    "name='python'\n",
    "age=10\n",
    "city='hyd'\n",
    "print(\"my name is {} ,in {} years old and from{}\".format(name,age,city))"
   ]
  },
  {
   "cell_type": "code",
   "execution_count": 10,
   "id": "15d8612d-cd74-4b94-850f-e4e64bcdcc24",
   "metadata": {},
   "outputs": [
    {
     "ename": "AttributeError",
     "evalue": "'str' object has no attribute 'formate'",
     "output_type": "error",
     "traceback": [
      "\u001b[1;31m---------------------------------------------------------------------------\u001b[0m",
      "\u001b[1;31mAttributeError\u001b[0m                            Traceback (most recent call last)",
      "Cell \u001b[1;32mIn[10], line 7\u001b[0m\n\u001b[0;32m      5\u001b[0m roles\u001b[38;5;241m=\u001b[39m\u001b[38;5;124m'\u001b[39m\u001b[38;5;124mds\u001b[39m\u001b[38;5;124m'\u001b[39m\n\u001b[0;32m      6\u001b[0m company\u001b[38;5;241m=\u001b[39m\u001b[38;5;124m'\u001b[39m\u001b[38;5;124mgoogle\u001b[39m\u001b[38;5;124m'\u001b[39m\n\u001b[1;32m----> 7\u001b[0m \u001b[38;5;28mprint\u001b[39m(\u001b[38;5;124m\"\u001b[39m\u001b[38;5;124mmy name is \u001b[39m\u001b[38;5;132;01m{}\u001b[39;00m\u001b[38;5;124m,i wnat to become \u001b[39m\u001b[38;5;132;01m{}\u001b[39;00m\u001b[38;5;124m in \u001b[39m\u001b[38;5;132;01m{}\u001b[39;00m\u001b[38;5;124m company\u001b[39m\u001b[38;5;124m\"\u001b[39m\u001b[38;5;241m.\u001b[39mformate(name,roles,company))\n",
      "\u001b[1;31mAttributeError\u001b[0m: 'str' object has no attribute 'formate'"
     ]
    }
   ],
   "source": [
    "# employer  name\n",
    "# employer role\n",
    "# company\n",
    "name='ravi'\n",
    "roles='ds'\n",
    "company='google'\n",
    "print(\"my name is {},i wnat to become {} in {} company\".formate(name,roles,company))\n"
   ]
  },
  {
   "cell_type": "code",
   "execution_count": 11,
   "id": "14b9361c-33c0-4068-b7fe-27472b50966f",
   "metadata": {},
   "outputs": [
    {
     "name": "stdout",
     "output_type": "stream",
     "text": [
      "my name is ravi,i wnat to become ds in google company\n"
     ]
    }
   ],
   "source": [
    "print(f\"my name is {name},i wnat to become {roles} in {company} company\")"
   ]
  },
  {
   "cell_type": "code",
   "execution_count": 66,
   "id": "1660b4e9-5ac8-4553-8731-b751e7ccb069",
   "metadata": {},
   "outputs": [
    {
     "name": "stdout",
     "output_type": "stream",
     "text": [
      "the additon of 100 and 200 is 300\n"
     ]
    }
   ],
   "source": [
    "a=100\n",
    "b=200\n",
    "c=a+b\n",
    "print(f\"the additon of {a} and {b} is {c}\")"
   ]
  },
  {
   "cell_type": "code",
   "execution_count": 14,
   "id": "03a8e079-2741-4c67-893a-e663f6724513",
   "metadata": {},
   "outputs": [
    {
     "name": "stdout",
     "output_type": "stream",
     "text": [
      "my name is ravi, in i wnat become of ds in googlecompany\n"
     ]
    }
   ],
   "source": [
    "name='ravi'\n",
    "roles='ds'\n",
    "company='google'\n",
    "print(F\"my name is {name}, in i wnat become of {roles} in {company}company\")"
   ]
  },
  {
   "cell_type": "code",
   "execution_count": 41,
   "id": "ede4459b-1756-4cef-81df-0e823ec61e37",
   "metadata": {},
   "outputs": [
    {
     "ename": "AttributeError",
     "evalue": "'str' object has no attribute 'formate'",
     "output_type": "error",
     "traceback": [
      "\u001b[1;31m---------------------------------------------------------------------------\u001b[0m",
      "\u001b[1;31mAttributeError\u001b[0m                            Traceback (most recent call last)",
      "Cell \u001b[1;32mIn[41], line 5\u001b[0m\n\u001b[0;32m      3\u001b[0m average \u001b[38;5;241m=\u001b[39m(num1\u001b[38;5;241m+\u001b[39mnum2)\u001b[38;5;241m/\u001b[39m\u001b[38;5;241m2\u001b[39m\n\u001b[0;32m      4\u001b[0m \u001b[38;5;66;03m# the average of 100 and 200is :140\u001b[39;00m\n\u001b[1;32m----> 5\u001b[0m \u001b[38;5;28mprint\u001b[39m(\u001b[38;5;124m\"\u001b[39m\u001b[38;5;124mthe average the of \u001b[39m\u001b[38;5;132;01m{n1}\u001b[39;00m\u001b[38;5;124m and is:\u001b[39m\u001b[38;5;132;01m{n2}\u001b[39;00m\u001b[38;5;124m\"\u001b[39m\u001b[38;5;241m.\u001b[39mformate(num1,num2,average))\n\u001b[0;32m      6\u001b[0m \u001b[38;5;28mprint\u001b[39m(\u001b[38;5;124m\"\u001b[39m\u001b[38;5;124mthe average the of \u001b[39m\u001b[38;5;132;01m{}\u001b[39;00m\u001b[38;5;124m and  is :\u001b[39m\u001b[38;5;132;01m{nume2}\u001b[39;00m\u001b[38;5;124m\"\u001b[39m\u001b[38;5;241m.\u001b[39mformate(num1,num2,average))\n",
      "\u001b[1;31mAttributeError\u001b[0m: 'str' object has no attribute 'formate'"
     ]
    }
   ],
   "source": [
    "num1=100\n",
    "num2=200\n",
    "average =(num1+num2)/2\n",
    "# the average of 100 and 200is :140\n",
    "print(\"the average the of {n1} and is:{n2}\".formate(num1,num2,average))\n",
    "print(\"the average the of {} and  is :{nume2}\".formate(num1,num2,average))"
   ]
  },
  {
   "cell_type": "code",
   "execution_count": null,
   "id": "9d4107ff-8b8d-41e6-9084-8502ad45d3d7",
   "metadata": {},
   "outputs": [],
   "source": [
    "#take the radious of circle\n",
    "#take the pi value =3.14\n",
    "# find the area of circle=pi*radious \n",
    "print=pi balue\n",
    "radious=10\n",
    "area=pi_value"
   ]
  },
  {
   "cell_type": "code",
   "execution_count": null,
   "id": "637ab9ef-f404-4ef6-a1a4-0cdcbc68af70",
   "metadata": {},
   "outputs": [],
   "source": []
  },
  {
   "cell_type": "code",
   "execution_count": 10,
   "id": "a9b2c961-bcb3-4af6-a2fc-e041173eba95",
   "metadata": {},
   "outputs": [
    {
     "name": "stdout",
     "output_type": "stream",
     "text": [
      "the area of triangle of triangle is :100.0 \n"
     ]
    }
   ],
   "source": [
    "# take the breth of tryangle\n",
    "# take the height of the triangle\n",
    "# area of the tryangle=1/2^base*height\n",
    "base=10\n",
    "height=20\n",
    "area=0.5*base*height\n",
    "print(f\"the area of triangle of triangle is :{area} \")\n"
   ]
  },
  {
   "cell_type": "code",
   "execution_count": null,
   "id": "aed4895b-4b8b-48d8-a1fc-38162358d89b",
   "metadata": {},
   "outputs": [],
   "source": [
    "# take the bill_amount \n",
    "# take the tip_percentage\n",
    "# caluclate tip_amount\n",
    "# caluclate the total bill\n",
    "# print the total bill"
   ]
  },
  {
   "cell_type": "code",
   "execution_count": 32,
   "id": "eb5ea065-008c-4774-9c27-6ad26dfdc9d1",
   "metadata": {},
   "outputs": [
    {
     "name": "stdout",
     "output_type": "stream",
     "text": [
      "the total bill is:1100.0\n"
     ]
    }
   ],
   "source": [
    "bill_amount=1000\n",
    "tip_percentage=10\n",
    "tip_amount=1000*10/100\n",
    "total_bill =bill_amount+tip_amount\n",
    "print(f\"the total bill is:{total_bill}\")\n"
   ]
  },
  {
   "cell_type": "code",
   "execution_count": 11,
   "id": "f8dda268-bb91-4dd1-b88b-36b7b6f7b396",
   "metadata": {},
   "outputs": [],
   "source": [
    "print(10)\n"
   ]
  },
  {
   "cell_type": "code",
   "execution_count": null,
   "id": "e5c76635-f40f-4774-9900-5281e1cbf9b0",
   "metadata": {},
   "outputs": [],
   "source": []
  },
  {
   "cell_type": "code",
   "execution_count": 18,
   "id": "31ee007f-98f8-4453-a9cb-47a6781de964",
   "metadata": {},
   "outputs": [
    {
     "name": "stdout",
     "output_type": "stream",
     "text": [
      "10 20\n"
     ]
    }
   ],
   "source": [
    "print(10,20)\n"
   ]
  },
  {
   "cell_type": "code",
   "execution_count": null,
   "id": "e23331c7-6259-4e35-9ac8-14a7f1716a54",
   "metadata": {},
   "outputs": [],
   "source": [
    "end"
   ]
  },
  {
   "cell_type": "code",
   "execution_count": 22,
   "id": "355108bc-c326-40a6-ac1e-a53869b982b1",
   "metadata": {},
   "outputs": [
    {
     "name": "stdout",
     "output_type": "stream",
     "text": [
      "10   20\n"
     ]
    }
   ],
   "source": [
    "print(10,end='   ')\n",
    "print(20)"
   ]
  },
  {
   "cell_type": "code",
   "execution_count": 27,
   "id": "b3ef06ff-9896-49a3-8618-d0cf380809be",
   "metadata": {},
   "outputs": [
    {
     "name": "stdout",
     "output_type": "stream",
     "text": [
      "10,20&30\n"
     ]
    }
   ],
   "source": [
    "print(10,end=',')\n",
    "print(20,end='&')\n",
    "print(30)"
   ]
  },
  {
   "cell_type": "code",
   "execution_count": null,
   "id": "d602309d-2d34-40c3-8fa1-1f0e05b8b0f6",
   "metadata": {},
   "outputs": [],
   "source": [
    "print(10,20,30"
   ]
  },
  {
   "cell_type": "markdown",
   "id": "10cdf016-8fcb-448f-8e0c-d80163604f1e",
   "metadata": {},
   "source": [
    "$sep$\n",
    "\n",
    "- seperate the multiple values in a single print statement"
   ]
  },
  {
   "cell_type": "code",
   "execution_count": 33,
   "id": "5a767e52-c478-493e-9d96-752803bc82b0",
   "metadata": {},
   "outputs": [
    {
     "name": "stdout",
     "output_type": "stream",
     "text": [
      "10&20&30\n"
     ]
    }
   ],
   "source": [
    "# 10 & 20 & 30\n",
    "print(10,20,30,sep='&')"
   ]
  },
  {
   "cell_type": "code",
   "execution_count": 36,
   "id": "fd28fc11-9e67-42c8-9533-af2f552b61e8",
   "metadata": {},
   "outputs": [
    {
     "name": "stdout",
     "output_type": "stream",
     "text": [
      "10---->20---->30\n"
     ]
    }
   ],
   "source": [
    "print(10,20,30,sep='---->')"
   ]
  },
  {
   "cell_type": "code",
   "execution_count": 38,
   "id": "ed258abb-9587-4ce5-9191-fc99749a6fa2",
   "metadata": {},
   "outputs": [
    {
     "name": "stdout",
     "output_type": "stream",
     "text": [
      "the addition of 5 and 3 is 8.\n"
     ]
    }
   ],
   "source": [
    "print(f\"the addition of {5} and {3} is {5+3}.\")"
   ]
  },
  {
   "cell_type": "code",
   "execution_count": null,
   "id": "b6635239-a839-430a-8852-d0d02c201770",
   "metadata": {},
   "outputs": [],
   "source": [
    "print(\"the addition of {} and {}"
   ]
  }
 ],
 "metadata": {
  "kernelspec": {
   "display_name": "Python 3 (ipykernel)",
   "language": "python",
   "name": "python3"
  },
  "language_info": {
   "codemirror_mode": {
    "name": "ipython",
    "version": 3
   },
   "file_extension": ".py",
   "mimetype": "text/x-python",
   "name": "python",
   "nbconvert_exporter": "python",
   "pygments_lexer": "ipython3",
   "version": "3.11.7"
  }
 },
 "nbformat": 4,
 "nbformat_minor": 5
}
