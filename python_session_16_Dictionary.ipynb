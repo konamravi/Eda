{
 "cells": [
  {
   "cell_type": "markdown",
   "id": "5d8a52df-2827-49f3-b1db-659cfc38eca9",
   "metadata": {},
   "source": [
    "**Dictionary**"
   ]
  },
  {
   "cell_type": "markdown",
   "id": "55e46ec6-95c6-4f6e-a884-db1e10cba7e1",
   "metadata": {},
   "source": [
    "- we already seen many data types\n",
    "- string\n",
    "- List\n",
    "- Tuple\n",
    "- set\n",
    "- Dictionary\n",
    "- int float bool complex\n",
    "- range\n",
    "- bytes\n",
    "- eval is not a data type"
   ]
  },
  {
   "cell_type": "code",
   "execution_count": 1,
   "id": "5543e419-4114-4efb-a716-d3ed33c6dfc0",
   "metadata": {},
   "outputs": [],
   "source": [
    "# By using lambda list reduce\n",
    "str=b'hello'"
   ]
  },
  {
   "cell_type": "code",
   "execution_count": null,
   "id": "0647d192-123e-4e10-80ae-2c34d60e46db",
   "metadata": {},
   "outputs": [],
   "source": [
    "str=''\n",
    "list=[]\n",
    "tuple=()\n",
    "set={}\n",
    "dictionary={key:value}"
   ]
  },
  {
   "cell_type": "markdown",
   "id": "0a40fd23-1e10-4d59-9b80-668fe71d1712",
   "metadata": {},
   "source": [
    "**Zip**"
   ]
  },
  {
   "cell_type": "code",
   "execution_count": 10,
   "id": "6b7eb84f-5cc6-405a-a031-b7b596e2e712",
   "metadata": {},
   "outputs": [
    {
     "name": "stdout",
     "output_type": "stream",
     "text": [
      "Ramesh 20\n",
      "Suresh 25\n",
      "Satish 30\n"
     ]
    }
   ],
   "source": [
    "name=['Ramesh','Suresh','Satish']\n",
    "age=[20,25,30]\n",
    "for i,j in zip(name,age):\n",
    "    print(i,j)"
   ]
  },
  {
   "cell_type": "code",
   "execution_count": 8,
   "id": "6536928e-10a2-4e81-b7f9-07da9c309b5d",
   "metadata": {},
   "outputs": [
    {
     "data": {
      "text/plain": [
       "(('Ramesh', 20), ('Suresh', 25), ('Satish', 30))"
      ]
     },
     "execution_count": 8,
     "metadata": {},
     "output_type": "execute_result"
    }
   ],
   "source": [
    "tuple(zip(name,age))"
   ]
  },
  {
   "cell_type": "code",
   "execution_count": 11,
   "id": "aa716e1f-5b2a-41ed-9be7-c19d25b29ba3",
   "metadata": {},
   "outputs": [
    {
     "data": {
      "text/plain": [
       "[('Ramesh', 20), ('Suresh', 25), ('Satish', 30)]"
      ]
     },
     "execution_count": 11,
     "metadata": {},
     "output_type": "execute_result"
    }
   ],
   "source": [
    "list(zip(names,age))"
   ]
  },
  {
   "cell_type": "code",
   "execution_count": 13,
   "id": "85c82edb-64bc-40e1-b166-a8b77e46eb4d",
   "metadata": {},
   "outputs": [],
   "source": [
    "# dict1={<key>:<value>}\n",
    "#name=['Ramesh','Sureh','Satish']\n",
    "#age=[20,25,30]\n",
    "# 'Ramesh'is the key  ===== 20 its related value\n",
    "dict1={'Ramesh':20,'Suresh':25,'Satish':30}"
   ]
  },
  {
   "cell_type": "code",
   "execution_count": null,
   "id": "816cc5bc-c613-4ee5-b367-de198f6b0cd7",
   "metadata": {},
   "outputs": [],
   "source": [
    "dict1={<key>:<value>}\n",
    "names=['Ramesh','Suresh','Satish']\n",
    "age=[20,25,30]\n",
    "'Ramesh' is the key ====20 its related value\n",
    "dict1={'Ramesh':20,'Suresh':25,'Satish':30}"
   ]
  },
  {
   "cell_type": "code",
   "execution_count": 13,
   "id": "1c84a966-6e33-4970-9432-37bfd9082aac",
   "metadata": {},
   "outputs": [
    {
     "data": {
      "text/plain": [
       "dict"
      ]
     },
     "execution_count": 13,
     "metadata": {},
     "output_type": "execute_result"
    }
   ],
   "source": [
    "dict1={'Ramesh':20,'Suresh':25,'Satish':30}\n",
    "type(dict1)"
   ]
  },
  {
   "cell_type": "markdown",
   "id": "b39bde2c-5b82-4f44-bf43-ad8a48ca5a75",
   "metadata": {},
   "source": [
    "**creat all type of dictionaries**"
   ]
  },
  {
   "cell_type": "markdown",
   "id": "3c84fc52-9da6-46e2-91a1-cfccf8fb45c9",
   "metadata": {},
   "source": [
    "**intializaton**"
   ]
  },
  {
   "cell_type": "code",
   "execution_count": 15,
   "id": "d7b1ffd9-3f22-4849-858c-e83e1634498f",
   "metadata": {},
   "outputs": [
    {
     "data": {
      "text/plain": [
       "dict"
      ]
     },
     "execution_count": 15,
     "metadata": {},
     "output_type": "execute_result"
    }
   ],
   "source": [
    "dict1={'Ramesh':20,'Suresh':25,'Satish':30}\n",
    "type(dict1)"
   ]
  },
  {
   "cell_type": "code",
   "execution_count": 16,
   "id": "3cab5c5a-3103-4447-9872-2ed3c652e7f0",
   "metadata": {},
   "outputs": [
    {
     "data": {
      "text/plain": [
       "dict"
      ]
     },
     "execution_count": 16,
     "metadata": {},
     "output_type": "execute_result"
    }
   ],
   "source": [
    "dict1={'Ramesh':'20','Suresh':'25','Satish':'30'}\n",
    "type(dict1)"
   ]
  },
  {
   "cell_type": "code",
   "execution_count": null,
   "id": "3e3d7d26-2742-4798-9c26-185b6bb9515d",
   "metadata": {},
   "outputs": [],
   "source": [
    "# If both list are of different length?\n",
    "# if both list are different length \n",
    "# zip will not work"
   ]
  },
  {
   "cell_type": "markdown",
   "id": "f53b6ca6-5968-4c11-8436-bdba2c712ecc",
   "metadata": {},
   "source": [
    "- intializaton\n",
    "- type\n",
    "- max\n",
    "- min\n",
    "- len\n",
    "- reversed\n",
    "- stored\n",
    "- in\n",
    "- index\n",
    "- mutable\n",
    "- concate\n",
    "- slicing\n",
    "- method"
   ]
  },
  {
   "cell_type": "code",
   "execution_count": 18,
   "id": "4e86fb29-a993-45fc-a1ef-e81ba8ca70aa",
   "metadata": {},
   "outputs": [
    {
     "data": {
      "text/plain": [
       "{'Ramesh': 20.1, 'Suresh': 25.2, 'Satish': 30.1}"
      ]
     },
     "execution_count": 18,
     "metadata": {},
     "output_type": "execute_result"
    }
   ],
   "source": [
    "dict1={'Ramesh':20.1,'Suresh':25.2,'Satish':30.1}\n",
    "dict1"
   ]
  },
  {
   "cell_type": "code",
   "execution_count": null,
   "id": "9d461e5f-29b0-4aba-bad3-00dd99679444",
   "metadata": {},
   "outputs": [],
   "source": [
    "**Creat all"
   ]
  },
  {
   "cell_type": "code",
   "execution_count": null,
   "id": "62fd101a-9e7e-47ac-aafa-a7945ed343d3",
   "metadata": {},
   "outputs": [],
   "source": [
    "d1={'Manish':25,'Shubam':20,'Govindh':15}\n",
    "d2={'Manish':'25','Shubam':'20','Govindh':'15'}\n",
    "d3={25:'Manish',20:'Shubam',15:'Govindh'}\n",
    "d4={25:50}\n",
    "d5={'Fruits',:['Apple','Cherry'])\n",
    "d6={['Apple','Cherry']:,'Fruits'}\n",
    "d7={('Apple','Cherry'):'Fruits'}\n",
    "d8={'Ajay':25,'Ajay':30}\n",
    "d9={25:'Ajay',30:'Ajay'}\n",
    "d10={'Fruits':{'Mango':25}}"
   ]
  },
  {
   "cell_type": "markdown",
   "id": "9da8f0b0-d2d9-4cdc-85b7-b9e11ca5b7fe",
   "metadata": {},
   "source": [
    "**keys are important**"
   ]
  },
  {
   "cell_type": "markdown",
   "id": "cc3ae941-0914-4d91-aef9-e9a52f1fc6be",
   "metadata": {},
   "source": [
    "- keys have only latest value\n",
    "\n",
    "- No duplicate keys\n",
    "\n",
    "- keys should be only one\n",
    "\n",
    "- values can be duplicate\n",
    "\n",
    "- wichh mean diffient keys can have same values\n",
    "\n",
    "- List can not be a key,Because list are mutable\n",
    "\n",
    "- tuple can be a key,because tuple are immutable"
   ]
  },
  {
   "cell_type": "code",
   "execution_count": null,
   "id": "c8ee39fa-6c21-4292-af29-100ef4e9aeda",
   "metadata": {},
   "outputs": [],
   "source": [
    "d1={'Manish':25,'Shubam':20,'Govindh':15}\n",
    "d2={'Manish':'25','Shubam':'20','Govindh':'15'}\n",
    "d3={25:'Manish',20:'Shubam',15:'Govindh'}"
   ]
  },
  {
   "cell_type": "code",
   "execution_count": 19,
   "id": "e6a853cd-3a14-4e94-8146-0cd2f8226b26",
   "metadata": {},
   "outputs": [
    {
     "data": {
      "text/plain": [
       "'Shubam'"
      ]
     },
     "execution_count": 19,
     "metadata": {},
     "output_type": "execute_result"
    }
   ],
   "source": [
    "d1={'Manish':25,'Shubam':20,'Govindh':15}\n",
    "max(d1)\n",
    "\n",
    "# opeartion apply on keys\n",
    "# keys are important"
   ]
  },
  {
   "cell_type": "code",
   "execution_count": 20,
   "id": "53a34f71-24ba-46e7-81af-29099f306d4e",
   "metadata": {},
   "outputs": [
    {
     "data": {
      "text/plain": [
       "'Govindh'"
      ]
     },
     "execution_count": 20,
     "metadata": {},
     "output_type": "execute_result"
    }
   ],
   "source": [
    "min(d1)"
   ]
  },
  {
   "cell_type": "markdown",
   "id": "429e30e3-804a-4339-8c25-73aa7b4970d6",
   "metadata": {},
   "source": [
    "**revered**"
   ]
  },
  {
   "cell_type": "markdown",
   "id": "d3f01567-8742-4890-8522-432f1205520c",
   "metadata": {},
   "source": [
    "- you might have think dictionary  will reverse\n",
    "- when you apply reversed,then you got to know\n",
    "- only keys will come in reverse "
   ]
  },
  {
   "cell_type": "code",
   "execution_count": 46,
   "id": "3ed7af4a-fd1f-419c-9a88-34e7c20b124a",
   "metadata": {},
   "outputs": [
    {
     "data": {
      "text/plain": [
       "['Govindh', 'Shubam', 'Manish']"
      ]
     },
     "execution_count": 46,
     "metadata": {},
     "output_type": "execute_result"
    }
   ],
   "source": [
    "list(reversed(d1))"
   ]
  },
  {
   "cell_type": "code",
   "execution_count": 48,
   "id": "6e137c0b-86b8-4f43-8eb9-ad1fde877812",
   "metadata": {},
   "outputs": [
    {
     "data": {
      "text/plain": [
       "('Govindh', 'Shubam', 'Manish')"
      ]
     },
     "execution_count": 48,
     "metadata": {},
     "output_type": "execute_result"
    }
   ],
   "source": [
    "tuple(reversed(d1))"
   ]
  },
  {
   "cell_type": "code",
   "execution_count": 49,
   "id": "747a68a3-276c-44c5-8519-2ef2ceb6ad6d",
   "metadata": {},
   "outputs": [
    {
     "data": {
      "text/plain": [
       "['Shubam', 'Manish', 'Govindh']"
      ]
     },
     "execution_count": 49,
     "metadata": {},
     "output_type": "execute_result"
    }
   ],
   "source": [
    "list(sorted(d1,reverse=True))"
   ]
  },
  {
   "cell_type": "code",
   "execution_count": 50,
   "id": "a3afb447-0867-412d-ac0d-0ea202146b18",
   "metadata": {},
   "outputs": [
    {
     "name": "stdout",
     "output_type": "stream",
     "text": [
      "Manish\n",
      "Shubam\n",
      "Govindh\n"
     ]
    }
   ],
   "source": [
    "for i in d1:\n",
    "    print(i)"
   ]
  },
  {
   "cell_type": "code",
   "execution_count": 56,
   "id": "6c79543e-e5d2-4323-979c-08cc3fb0ca7b",
   "metadata": {},
   "outputs": [
    {
     "data": {
      "text/plain": [
       "True"
      ]
     },
     "execution_count": 56,
     "metadata": {},
     "output_type": "execute_result"
    }
   ],
   "source": [
    "'Manish' in d1"
   ]
  },
  {
   "cell_type": "code",
   "execution_count": 40,
   "id": "dedf02ba-71d6-44a1-8f56-eb0de9a6bb89",
   "metadata": {},
   "outputs": [
    {
     "data": {
      "text/plain": [
       "'Shubam'"
      ]
     },
     "execution_count": 40,
     "metadata": {},
     "output_type": "execute_result"
    }
   ],
   "source": [
    "d2={'Manish':'25','Shubam':'20','Govindh':'15'}\n",
    "max(d2)"
   ]
  },
  {
   "cell_type": "code",
   "execution_count": 39,
   "id": "c25444c1-a110-434f-90a5-dbcf30b7926c",
   "metadata": {},
   "outputs": [
    {
     "data": {
      "text/plain": [
       "'Govindh'"
      ]
     },
     "execution_count": 39,
     "metadata": {},
     "output_type": "execute_result"
    }
   ],
   "source": [
    "d2={'Manish':'25','Shubam':'20','Govindh':'15'}\n",
    "min(d2)"
   ]
  },
  {
   "cell_type": "code",
   "execution_count": 38,
   "id": "50a9f65c-ef96-48ff-a26c-d15f35cbc127",
   "metadata": {},
   "outputs": [
    {
     "data": {
      "text/plain": [
       "15"
      ]
     },
     "execution_count": 38,
     "metadata": {},
     "output_type": "execute_result"
    }
   ],
   "source": [
    "d3={25:'Manish',20:'Shubam',15:'Govindh'}\n",
    "min(d3)"
   ]
  },
  {
   "cell_type": "code",
   "execution_count": 37,
   "id": "6572a65e-cacf-472c-b20a-715fc7f972ab",
   "metadata": {},
   "outputs": [
    {
     "data": {
      "text/plain": [
       "25"
      ]
     },
     "execution_count": 37,
     "metadata": {},
     "output_type": "execute_result"
    }
   ],
   "source": [
    "max(d3)"
   ]
  },
  {
   "cell_type": "code",
   "execution_count": 35,
   "id": "bc7af530-1821-45b6-8798-4ce25681e497",
   "metadata": {},
   "outputs": [
    {
     "data": {
      "text/plain": [
       "'Shubam'"
      ]
     },
     "execution_count": 35,
     "metadata": {},
     "output_type": "execute_result"
    }
   ],
   "source": [
    "d4={'Manish':25,'Shubam':'20','Govindh':15}\n",
    "max(d4)"
   ]
  },
  {
   "cell_type": "code",
   "execution_count": 36,
   "id": "3c7662b7-5dc4-4b9f-928c-cdabde0fecd5",
   "metadata": {},
   "outputs": [
    {
     "data": {
      "text/plain": [
       "'Govindh'"
      ]
     },
     "execution_count": 36,
     "metadata": {},
     "output_type": "execute_result"
    }
   ],
   "source": [
    "min(d4)"
   ]
  },
  {
   "cell_type": "code",
   "execution_count": 33,
   "id": "1c1670c7-15d2-4b5e-92a1-01b9853b01c7",
   "metadata": {},
   "outputs": [
    {
     "ename": "TypeError",
     "evalue": "'>' not supported between instances of 'str' and 'int'",
     "output_type": "error",
     "traceback": [
      "\u001b[1;31m---------------------------------------------------------------------------\u001b[0m",
      "\u001b[1;31mTypeError\u001b[0m                                 Traceback (most recent call last)",
      "Cell \u001b[1;32mIn[33], line 2\u001b[0m\n\u001b[0;32m      1\u001b[0m d5\u001b[38;5;241m=\u001b[39m{\u001b[38;5;241m25\u001b[39m:\u001b[38;5;124m'\u001b[39m\u001b[38;5;124mManish\u001b[39m\u001b[38;5;124m'\u001b[39m,\u001b[38;5;124m'\u001b[39m\u001b[38;5;124m20\u001b[39m\u001b[38;5;124m'\u001b[39m:\u001b[38;5;124m'\u001b[39m\u001b[38;5;124mShubam\u001b[39m\u001b[38;5;124m'\u001b[39m,\u001b[38;5;241m15\u001b[39m:\u001b[38;5;124m'\u001b[39m\u001b[38;5;124mGovindh\u001b[39m\u001b[38;5;124m'\u001b[39m}\n\u001b[1;32m----> 2\u001b[0m \u001b[38;5;28mmax\u001b[39m(d5)\n",
      "\u001b[1;31mTypeError\u001b[0m: '>' not supported between instances of 'str' and 'int'"
     ]
    }
   ],
   "source": [
    "d5={25:'Manish','20':'Shubam',15:'Govindh'}\n",
    "max(d5)"
   ]
  },
  {
   "cell_type": "code",
   "execution_count": 34,
   "id": "b0cc9d62-e89c-47c9-9050-7d15289f3a6e",
   "metadata": {},
   "outputs": [
    {
     "ename": "TypeError",
     "evalue": "'<' not supported between instances of 'str' and 'int'",
     "output_type": "error",
     "traceback": [
      "\u001b[1;31m---------------------------------------------------------------------------\u001b[0m",
      "\u001b[1;31mTypeError\u001b[0m                                 Traceback (most recent call last)",
      "Cell \u001b[1;32mIn[34], line 1\u001b[0m\n\u001b[1;32m----> 1\u001b[0m \u001b[38;5;28mmin\u001b[39m(d5)\n",
      "\u001b[1;31mTypeError\u001b[0m: '<' not supported between instances of 'str' and 'int'"
     ]
    }
   ],
   "source": [
    "min(d5)"
   ]
  },
  {
   "cell_type": "code",
   "execution_count": 43,
   "id": "648c543b-8e96-433c-997c-a961b8112d0a",
   "metadata": {},
   "outputs": [
    {
     "data": {
      "text/plain": [
       "'Shubam'"
      ]
     },
     "execution_count": 43,
     "metadata": {},
     "output_type": "execute_result"
    }
   ],
   "source": [
    "d6={'Manish':20,'Shubam':20,'Govindh':20}\n",
    "max(d6)"
   ]
  },
  {
   "cell_type": "code",
   "execution_count": 44,
   "id": "15a47b83-883b-4c32-84a8-e8ec94515270",
   "metadata": {},
   "outputs": [
    {
     "data": {
      "text/plain": [
       "'Govindh'"
      ]
     },
     "execution_count": 44,
     "metadata": {},
     "output_type": "execute_result"
    }
   ],
   "source": [
    "min(d6)"
   ]
  },
  {
   "cell_type": "markdown",
   "id": "02dd60c6-d73e-4e22-9916-77eb0082de4e",
   "metadata": {},
   "source": [
    "**Index**"
   ]
  },
  {
   "cell_type": "code",
   "execution_count": 10,
   "id": "f7d1afe4-760e-41ca-9b3c-6557d249b988",
   "metadata": {},
   "outputs": [
    {
     "ename": "KeyError",
     "evalue": "0",
     "output_type": "error",
     "traceback": [
      "\u001b[1;31m---------------------------------------------------------------------------\u001b[0m",
      "\u001b[1;31mKeyError\u001b[0m                                  Traceback (most recent call last)",
      "Cell \u001b[1;32mIn[10], line 4\u001b[0m\n\u001b[0;32m      1\u001b[0m d1\u001b[38;5;241m=\u001b[39m{\u001b[38;5;124m'\u001b[39m\u001b[38;5;124mmanish\u001b[39m\u001b[38;5;124m'\u001b[39m:\u001b[38;5;241m25\u001b[39m,\u001b[38;5;124m'\u001b[39m\u001b[38;5;124mshubam\u001b[39m\u001b[38;5;124m'\u001b[39m:\u001b[38;5;241m20\u001b[39m,\u001b[38;5;124m'\u001b[39m\u001b[38;5;124mGovindh\u001b[39m\u001b[38;5;124m'\u001b[39m:\u001b[38;5;241m15\u001b[39m}\n\u001b[0;32m      2\u001b[0m \u001b[38;5;66;03m# if you want retrive the values \u001b[39;00m\n\u001b[0;32m      3\u001b[0m \u001b[38;5;66;03m# python will never give 'Manish:25\u001b[39;00m\n\u001b[1;32m----> 4\u001b[0m d1[\u001b[38;5;241m0\u001b[39m]\n",
      "\u001b[1;31mKeyError\u001b[0m: 0"
     ]
    }
   ],
   "source": [
    "d1={'manish':25,'shubam':20,'Govindh':15}\n",
    "# if you want retrive the values \n",
    "# python will never give 'Manish:25\n",
    "d1[0]"
   ]
  },
  {
   "cell_type": "code",
   "execution_count": 6,
   "id": "db5459c0-a9f6-4438-aef5-7d4329adc90b",
   "metadata": {},
   "outputs": [
    {
     "ename": "KeyError",
     "evalue": "'manish'",
     "output_type": "error",
     "traceback": [
      "\u001b[1;31m---------------------------------------------------------------------------\u001b[0m",
      "\u001b[1;31mKeyError\u001b[0m                                  Traceback (most recent call last)",
      "Cell \u001b[1;32mIn[6], line 1\u001b[0m\n\u001b[1;32m----> 1\u001b[0m d1[\u001b[38;5;124m'\u001b[39m\u001b[38;5;124mmanish\u001b[39m\u001b[38;5;124m'\u001b[39m]\n",
      "\u001b[1;31mKeyError\u001b[0m: 'manish'"
     ]
    }
   ],
   "source": [
    "d1['manish']"
   ]
  },
  {
   "cell_type": "code",
   "execution_count": 8,
   "id": "aa7fa8a3-f3f7-4cf2-8cc9-9fe6c31cb4c7",
   "metadata": {},
   "outputs": [
    {
     "data": {
      "text/plain": [
       "15"
      ]
     },
     "execution_count": 8,
     "metadata": {},
     "output_type": "execute_result"
    }
   ],
   "source": [
    "d1={'Manish':25,'Shubam':20,'Govindh':15}\n",
    "# Dictionary is a  key:value pair\n",
    "# we can not use index number directly \n",
    "# whenever you want to call a value,we will use key\n",
    "d1['Manish']\n",
    "d1['Shubam']\n",
    "d1['Govindh']\n",
    "\n",
    "d1[i]"
   ]
  },
  {
   "cell_type": "code",
   "execution_count": 3,
   "id": "37fa5701-c5c8-4ba0-8271-24b2a44ba97f",
   "metadata": {},
   "outputs": [
    {
     "name": "stdout",
     "output_type": "stream",
     "text": [
      "Manish has age 25\n",
      "Shubam has age 20\n",
      "Govindh has age 15\n"
     ]
    }
   ],
   "source": [
    "for i in d1:\n",
    "    print(f\"{i} has age {d1[i]}\")"
   ]
  },
  {
   "cell_type": "code",
   "execution_count": 9,
   "id": "8a093c33-a375-4d03-b90b-abbde3035db7",
   "metadata": {},
   "outputs": [
    {
     "name": "stdout",
     "output_type": "stream",
     "text": [
      "Vignesh has age 20\n",
      "Mohit has age 25\n",
      "Nagesh has age 30\n"
     ]
    }
   ],
   "source": [
    "names=['Vignesh','Mohit','Nagesh']\n",
    "age=[20,25,30]\n",
    "for i,j in zip(names,age):\n",
    "    print(f\"{i} has age {j}\")"
   ]
  },
  {
   "cell_type": "code",
   "execution_count": 12,
   "id": "837185ba-615d-400e-a793-19eaa40aae35",
   "metadata": {},
   "outputs": [
    {
     "data": {
      "text/plain": [
       "[25, 20, 15]"
      ]
     },
     "execution_count": 12,
     "metadata": {},
     "output_type": "execute_result"
    }
   ],
   "source": [
    "d1={'Manish':25,'Shubam':20,'Govindh':15}\n",
    "keys,value=[],[]\n",
    "for i in d1:\n",
    "    keys.append(i)\n",
    "    value.append(d1[i])\n",
    "value"
   ]
  },
  {
   "cell_type": "code",
   "execution_count": 13,
   "id": "e4b884b7-c2a8-4d3e-8e5f-f935c8e45757",
   "metadata": {},
   "outputs": [],
   "source": [
    "keys=[i for i in d1]\n",
    "values=[d1[i] for i in d1]"
   ]
  },
  {
   "cell_type": "markdown",
   "id": "95d848aa-1946-4dff-87a4-2ac86d23a2c3",
   "metadata": {},
   "source": [
    "**How to create a empty list**"
   ]
  },
  {
   "cell_type": "code",
   "execution_count": 14,
   "id": "45d62777-8d8a-4687-bb40-02f583a6431f",
   "metadata": {},
   "outputs": [
    {
     "data": {
      "text/plain": [
       "[20]"
      ]
     },
     "execution_count": 14,
     "metadata": {},
     "output_type": "execute_result"
    }
   ],
   "source": [
    "l=[]\n",
    "l.append(20)\n",
    "l"
   ]
  },
  {
   "cell_type": "markdown",
   "id": "8577fd70-34c8-4f74-a4b3-7bb8c75aeba2",
   "metadata": {},
   "source": [
    "**empty string**"
   ]
  },
  {
   "cell_type": "code",
   "execution_count": 15,
   "id": "f7166178-eaab-46fe-9b03-9a4210732383",
   "metadata": {},
   "outputs": [
    {
     "data": {
      "text/plain": [
       "'a'"
      ]
     },
     "execution_count": 15,
     "metadata": {},
     "output_type": "execute_result"
    }
   ],
   "source": [
    "s=''\n",
    "s=s+'a'\n",
    "s"
   ]
  },
  {
   "cell_type": "code",
   "execution_count": 16,
   "id": "1b433bd8-36f2-4183-84f7-4deeddaea5b2",
   "metadata": {},
   "outputs": [
    {
     "ename": "SyntaxError",
     "evalue": "closing parenthesis ']' does not match opening parenthesis '{' (2559811160.py, line 2)",
     "output_type": "error",
     "traceback": [
      "\u001b[1;36m  Cell \u001b[1;32mIn[16], line 2\u001b[1;36m\u001b[0m\n\u001b[1;33m    d{<Key>]=<value>\u001b[0m\n\u001b[1;37m           ^\u001b[0m\n\u001b[1;31mSyntaxError\u001b[0m\u001b[1;31m:\u001b[0m closing parenthesis ']' does not match opening parenthesis '{'\n"
     ]
    }
   ],
   "source": [
    "d={}\n",
    "d{<Key>]=<value>\n",
    "key,value=[],[]\n"
   ]
  },
  {
   "cell_type": "code",
   "execution_count": 17,
   "id": "daf94363-3418-4e58-8115-99b5314acad6",
   "metadata": {},
   "outputs": [
    {
     "data": {
      "text/plain": [
       "{'Ravi': 21}"
      ]
     },
     "execution_count": 17,
     "metadata": {},
     "output_type": "execute_result"
    }
   ],
   "source": [
    "d={}\n",
    "d['Ravi']=21\n",
    "d"
   ]
  },
  {
   "cell_type": "code",
   "execution_count": 20,
   "id": "eda85997-b607-44b8-9c9e-1ac67de0990c",
   "metadata": {},
   "outputs": [
    {
     "data": {
      "text/plain": [
       "{'Vignesh': 20, 'Mohit': 25, 'Nagesh': 30}"
      ]
     },
     "execution_count": 20,
     "metadata": {},
     "output_type": "execute_result"
    }
   ],
   "source": [
    "d={}\n",
    "d['Vignesh']=20\n",
    "d['Mohit']=25\n",
    "d['Nagesh']=30\n",
    "d"
   ]
  },
  {
   "cell_type": "code",
   "execution_count": 26,
   "id": "0850a860-efc8-4195-af31-ed66c30d2576",
   "metadata": {},
   "outputs": [
    {
     "data": {
      "text/plain": [
       "{'Mohit': 20, 'Vignesh': 25, 'Nagesh': 30}"
      ]
     },
     "execution_count": 26,
     "metadata": {},
     "output_type": "execute_result"
    }
   ],
   "source": [
    "names={'Vignesh','Mohit','Nagesh'}\n",
    "age=[20,25,30]\n",
    "NAMES={}\n",
    "for i,j in zip(names,age):\n",
    "    NAMES[i]=j\n",
    "NAMES"
   ]
  },
  {
   "cell_type": "markdown",
   "id": "0f1f3349-a2e9-46d5-8d9b-c51c849318b3",
   "metadata": {},
   "source": [
    "**string to list**"
   ]
  },
  {
   "cell_type": "code",
   "execution_count": 28,
   "id": "cdf20022-2184-4845-8715-f7362c71a38d",
   "metadata": {},
   "outputs": [
    {
     "data": {
      "text/plain": [
       "['helo', 'hai', 'how', 'are', 'you']"
      ]
     },
     "execution_count": 28,
     "metadata": {},
     "output_type": "execute_result"
    }
   ],
   "source": [
    "s=['helo','hai','how','are','you']\n",
    "s"
   ]
  },
  {
   "cell_type": "code",
   "execution_count": 32,
   "id": "e09dc511-6009-4c75-823a-12265a4b3aa7",
   "metadata": {},
   "outputs": [
    {
     "data": {
      "text/plain": [
       "['hello', 'hai', 'hai', 'how', 'how', 'are', 'you']"
      ]
     },
     "execution_count": 32,
     "metadata": {},
     "output_type": "execute_result"
    }
   ],
   "source": [
    "s='hello hai hai how how are you'\n",
    "s.split()"
   ]
  },
  {
   "cell_type": "markdown",
   "id": "1f01409c-b621-47dc-95ec-3f097a3e8450",
   "metadata": {},
   "source": [
    "**Word freqency**"
   ]
  },
  {
   "cell_type": "code",
   "execution_count": 33,
   "id": "ffa70946-2169-4246-ba55-6dbb777a468c",
   "metadata": {},
   "outputs": [
    {
     "ename": "SyntaxError",
     "evalue": "invalid syntax (2945495803.py, line 7)",
     "output_type": "error",
     "traceback": [
      "\u001b[1;36m  Cell \u001b[1;32mIn[33], line 7\u001b[1;36m\u001b[0m\n\u001b[1;33m    if i in not d:\u001b[0m\n\u001b[1;37m            ^\u001b[0m\n\u001b[1;31mSyntaxError\u001b[0m\u001b[1;31m:\u001b[0m invalid syntax\n"
     ]
    }
   ],
   "source": [
    "# i/p : s='hello hai hai how are you'\n",
    "# o/p: {'hello':1,'hai':2,'how':2,'are':1,'you':2}\n",
    "s='hello hai hai how how are you'\n",
    "s.split()\n",
    "d={}\n",
    "for i in d:\n",
    "    if i in not d:\n",
    "        s[i]=1\n",
    "    else:\n",
    "        d[i]+=1\n",
    "d"
   ]
  },
  {
   "cell_type": "code",
   "execution_count": 36,
   "id": "41dc184a-f75b-4ed0-95bb-eee0da86242c",
   "metadata": {},
   "outputs": [
    {
     "data": {
      "text/plain": [
       "{'hello': 1, 'hai': 2, 'how': 2, 'are': 1, 'you': 1}"
      ]
     },
     "execution_count": 36,
     "metadata": {},
     "output_type": "execute_result"
    }
   ],
   "source": [
    "s='hello hai hai how how are you'\n",
    "word_list=s.split()\n",
    "word_list\n",
    "dict1={}\n",
    "for word in word_list:\n",
    "    dict1[word]=s.count(word)\n",
    "dict1"
   ]
  },
  {
   "cell_type": "markdown",
   "id": "8d8e980b-1f53-4325-9adb-751e72294a0e",
   "metadata": {},
   "source": [
    "**Mutable-immutable**"
   ]
  },
  {
   "cell_type": "markdown",
   "id": "c4d05287-7153-4142-ba01-bd2a31e532ed",
   "metadata": {},
   "source": [
    "- change the elements using index\n",
    "\n",
    "- but the dictionary there is no index\n",
    "\n",
    "- in dictionary we will change the value based on key only\n",
    "\n",
    "- instead of using the index,change the values using key\n",
    "\n",
    "- if it change it is mutable\n",
    "\n",
    "- if it is not change it is immutable "
   ]
  },
  {
   "cell_type": "code",
   "execution_count": 39,
   "id": "2d987b60-2176-45b6-82b1-197ef7983154",
   "metadata": {},
   "outputs": [
    {
     "data": {
      "text/plain": [
       "{'Vignesh': 20, 'Mohit': 25, 'Nagesh': 22}"
      ]
     },
     "execution_count": 39,
     "metadata": {},
     "output_type": "execute_result"
    }
   ],
   "source": [
    "d={'Vignesh':20,'Mohit':25,'Nagesh':30}\n",
    "d['Nagesh']=22\n",
    "d"
   ]
  },
  {
   "cell_type": "markdown",
   "id": "9e0cd9ff-04c6-469c-b6ae-8d4536bcfc66",
   "metadata": {},
   "source": [
    "- list and dictionary are mutable\n",
    "\n",
    "- tuple and string are immutable\n",
    "\n",
    "- Difference between list and tuple"
   ]
  },
  {
   "cell_type": "code",
   "execution_count": 41,
   "id": "d5cf469e-2a09-43ec-ac0f-931e670fdbaa",
   "metadata": {},
   "outputs": [
    {
     "ename": "KeyError",
     "evalue": "'Friuts'",
     "output_type": "error",
     "traceback": [
      "\u001b[1;31m---------------------------------------------------------------------------\u001b[0m",
      "\u001b[1;31mKeyError\u001b[0m                                  Traceback (most recent call last)",
      "Cell \u001b[1;32mIn[41], line 2\u001b[0m\n\u001b[0;32m      1\u001b[0m d\u001b[38;5;241m=\u001b[39m{\u001b[38;5;124m'\u001b[39m\u001b[38;5;124mFruits\u001b[39m\u001b[38;5;124m'\u001b[39m:[\u001b[38;5;124m'\u001b[39m\u001b[38;5;124mMango\u001b[39m\u001b[38;5;124m'\u001b[39m]}\n\u001b[1;32m----> 2\u001b[0m d[\u001b[38;5;124m'\u001b[39m\u001b[38;5;124mFriuts\u001b[39m\u001b[38;5;124m'\u001b[39m][\u001b[38;5;241m0\u001b[39m]\n",
      "\u001b[1;31mKeyError\u001b[0m: 'Friuts'"
     ]
    }
   ],
   "source": [
    "d={'Fruits':['Mango']}\n",
    "d['Friuts'][0]"
   ]
  },
  {
   "cell_type": "code",
   "execution_count": 43,
   "id": "f9460904-5eb0-45a0-a105-2bece1dc58fc",
   "metadata": {},
   "outputs": [
    {
     "data": {
      "text/plain": [
       "{'Fruits': [{'Apple': ['Kashmir']}]}"
      ]
     },
     "execution_count": 43,
     "metadata": {},
     "output_type": "execute_result"
    }
   ],
   "source": [
    "d={'Fruits':[{'Apple':['Kashmir']}]}\n",
    "d"
   ]
  },
  {
   "cell_type": "code",
   "execution_count": 51,
   "id": "8473ba75-0d82-4325-a2b5-3a029e4bdce4",
   "metadata": {},
   "outputs": [
    {
     "ename": "TypeError",
     "evalue": "tuple indices must be integers or slices, not str",
     "output_type": "error",
     "traceback": [
      "\u001b[1;31m---------------------------------------------------------------------------\u001b[0m",
      "\u001b[1;31mTypeError\u001b[0m                                 Traceback (most recent call last)",
      "Cell \u001b[1;32mIn[51], line 1\u001b[0m\n\u001b[1;32m----> 1\u001b[0m d[\u001b[38;5;124m'\u001b[39m\u001b[38;5;124mFruits\u001b[39m\u001b[38;5;124m'\u001b[39m][\u001b[38;5;241m0\u001b[39m][\u001b[38;5;124m'\u001b[39m\u001b[38;5;124mApple\u001b[39m\u001b[38;5;124m'\u001b[39m][\u001b[38;5;241m0\u001b[39m]\n\u001b[0;32m      2\u001b[0m d\n",
      "\u001b[1;31mTypeError\u001b[0m: tuple indices must be integers or slices, not str"
     ]
    }
   ],
   "source": [
    "d['Fruits'][0]['Apple'][0]\n",
    "d"
   ]
  },
  {
   "cell_type": "code",
   "execution_count": 58,
   "id": "cfd3279d-042f-4372-9008-58f687d0225f",
   "metadata": {},
   "outputs": [
    {
     "data": {
      "text/plain": [
       "{'Fruites': [{'Apple': {'Kashmir': ['India']}}]}"
      ]
     },
     "execution_count": 58,
     "metadata": {},
     "output_type": "execute_result"
    }
   ],
   "source": [
    "\t\n",
    "d={'Fruites':[\n",
    "    {'Apple':\n",
    "     {'Kashmir':\n",
    "      ['India']\n",
    "     }\n",
    "    }\n",
    "     ]\n",
    "  }\n",
    "d"
   ]
  },
  {
   "cell_type": "code",
   "execution_count": 60,
   "id": "9038273b-2827-4604-a1c0-f46b65a497d3",
   "metadata": {},
   "outputs": [
    {
     "data": {
      "text/plain": [
       "'India'"
      ]
     },
     "execution_count": 60,
     "metadata": {},
     "output_type": "execute_result"
    }
   ],
   "source": [
    "d['Fruites'][0]['Apple']['Kashmir'][0]"
   ]
  },
  {
   "cell_type": "code",
   "execution_count": 57,
   "id": "bfbb9bc8-1642-4669-ad7c-b9fddd819259",
   "metadata": {},
   "outputs": [
    {
     "data": {
      "text/plain": [
       "{'Fruites': {'Benganapalli': {'Mango': {'Nagpur': {'MH': {'Shivaji': {'Shambaji'}}}}}}}"
      ]
     },
     "execution_count": 57,
     "metadata": {},
     "output_type": "execute_result"
    }
   ],
   "source": [
    "d={'Fruites':{'Benganapalli':{'Mango':{'Nagpur':{'MH':{'Shivaji':{'Shambaji'}}}}}}}\n",
    "d"
   ]
  },
  {
   "cell_type": "code",
   "execution_count": 62,
   "id": "aba1f5ba-193d-4c07-aba2-7fb9c2e9ad4c",
   "metadata": {},
   "outputs": [
    {
     "ename": "SyntaxError",
     "evalue": "invalid syntax (1795394056.py, line 1)",
     "output_type": "error",
     "traceback": [
      "\u001b[1;36m  Cell \u001b[1;32mIn[62], line 1\u001b[1;36m\u001b[0m\n\u001b[1;33m    d{['Fruites']['Benganapalli']['Mango']['Nagpur']['MH']['Shivaji']}\u001b[0m\n\u001b[1;37m     ^\u001b[0m\n\u001b[1;31mSyntaxError\u001b[0m\u001b[1;31m:\u001b[0m invalid syntax\n"
     ]
    }
   ],
   "source": [
    "d{['Fruites']['Benganapalli']['Mango']['Nagpur']['MH']['Shivaji']}\n",
    "d"
   ]
  },
  {
   "cell_type": "code",
   "execution_count": 8,
   "id": "54da07b6-6e36-4a1d-9ce8-8222442bc853",
   "metadata": {},
   "outputs": [
    {
     "ename": "NameError",
     "evalue": "name 'li' is not defined",
     "output_type": "error",
     "traceback": [
      "\u001b[1;31m---------------------------------------------------------------------------\u001b[0m",
      "\u001b[1;31mNameError\u001b[0m                                 Traceback (most recent call last)",
      "Cell \u001b[1;32mIn[8], line 15\u001b[0m\n\u001b[0;32m     13\u001b[0m \u001b[38;5;28;01mfor\u001b[39;00m i \u001b[38;5;129;01min\u001b[39;00m str2:\n\u001b[0;32m     14\u001b[0m     \u001b[38;5;28;01mif\u001b[39;00m i\u001b[38;5;241m.\u001b[39mlower()\u001b[38;5;129;01mnot\u001b[39;00m \u001b[38;5;129;01min\u001b[39;00m words_to_remove:\n\u001b[1;32m---> 15\u001b[0m         li\u001b[38;5;241m.\u001b[39mappend(i)\n\u001b[0;32m     16\u001b[0m str3\u001b[38;5;241m=\u001b[39m\u001b[38;5;124m'\u001b[39m\u001b[38;5;124m \u001b[39m\u001b[38;5;124m'\u001b[39m\u001b[38;5;241m.\u001b[39mjoin(li)\n\u001b[0;32m     17\u001b[0m str4\u001b[38;5;241m=\u001b[39mstr3\u001b[38;5;241m.\u001b[39msplit()\n",
      "\u001b[1;31mNameError\u001b[0m: name 'li' is not defined"
     ]
    }
   ],
   "source": [
    "string1=\"\"\"Data science is an interdisciplinary academic field that uses statistics,\n",
    "          scientific computing, scientific methods, processes, scientific visualization,\n",
    "          algorithms and systems to extract or extrapolate knowledge and insights from potentially noisy, structured, or unstructured data.\n",
    "         Data science also integrates domain knowledge from the underlying applicatin.Data science is multifaceted and can be described as a science,\n",
    "         a research paradigm, a research method, a discipline, a workflow, and a profession.\"\"\"\n",
    "\n",
    "#task -1: in the above sentence you need to remove a,an,is,the\n",
    "# task-2: Data first letter Ascii value: 68\n",
    "#         scince first letter Ascii value : 115\n",
    "\n",
    "str2=string1.split()\n",
    "words_to_remove=['a','an','is','the']\n",
    "for i in str2:\n",
    "    if i.lower()not in words_to_remove:\n",
    "        li.append(i)\n",
    "str3=' '.join(li)\n",
    "str4=str3.split()\n",
    "for i in range(len(str4)):\n",
    "    asciii=ord(str4[i][0])\n",
    "    d[str4[i]]=asciii\n",
    "print(d)"
   ]
  },
  {
   "cell_type": "markdown",
   "id": "3eb9a280-a537-4e85-ac4f-6125d10dc139",
   "metadata": {},
   "source": [
    "**Dictionary Method**"
   ]
  },
  {
   "cell_type": "code",
   "execution_count": 1,
   "id": "fc9c90ae-4fb0-4794-a04c-9ae2051cd28d",
   "metadata": {},
   "outputs": [
    {
     "data": {
      "text/plain": [
       "['__class__',\n",
       " '__class_getitem__',\n",
       " '__contains__',\n",
       " '__delattr__',\n",
       " '__delitem__',\n",
       " '__dir__',\n",
       " '__doc__',\n",
       " '__eq__',\n",
       " '__format__',\n",
       " '__ge__',\n",
       " '__getattribute__',\n",
       " '__getitem__',\n",
       " '__getstate__',\n",
       " '__gt__',\n",
       " '__hash__',\n",
       " '__init__',\n",
       " '__init_subclass__',\n",
       " '__ior__',\n",
       " '__iter__',\n",
       " '__le__',\n",
       " '__len__',\n",
       " '__lt__',\n",
       " '__ne__',\n",
       " '__new__',\n",
       " '__or__',\n",
       " '__reduce__',\n",
       " '__reduce_ex__',\n",
       " '__repr__',\n",
       " '__reversed__',\n",
       " '__ror__',\n",
       " '__setattr__',\n",
       " '__setitem__',\n",
       " '__sizeof__',\n",
       " '__str__',\n",
       " '__subclasshook__',\n",
       " 'clear',\n",
       " 'copy',\n",
       " 'fromkeys',\n",
       " 'get',\n",
       " 'items',\n",
       " 'keys',\n",
       " 'pop',\n",
       " 'popitem',\n",
       " 'setdefault',\n",
       " 'update',\n",
       " 'values']"
      ]
     },
     "execution_count": 1,
     "metadata": {},
     "output_type": "execute_result"
    }
   ],
   "source": [
    "dir('')  # string method \n",
    "dir([])  # List method\n",
    "dir(())  # Tuple method\n",
    "dir({})  # set method"
   ]
  },
  {
   "cell_type": "code",
   "execution_count": null,
   "id": "d4128a4b-fae5-4642-bc0f-722cb19d4969",
   "metadata": {},
   "outputs": [],
   "source": [
    "string\n",
    "list\n",
    "tuple\n",
    "dictionary all there class objects"
   ]
  },
  {
   "cell_type": "code",
   "execution_count": 2,
   "id": "8a6922c3-12e0-43ab-8419-4faf028f49ad",
   "metadata": {},
   "outputs": [
    {
     "name": "stdout",
     "output_type": "stream",
     "text": [
      "<class 'list'>\n"
     ]
    }
   ],
   "source": [
    "print(type([]))"
   ]
  },
  {
   "cell_type": "markdown",
   "id": "a1510337-35db-45b2-944c-36cced4750f4",
   "metadata": {},
   "source": [
    "**item-Keys-values**"
   ]
  },
  {
   "cell_type": "code",
   "execution_count": 4,
   "id": "218397aa-e9e7-4277-a7ef-1263039174d6",
   "metadata": {},
   "outputs": [
    {
     "data": {
      "text/plain": [
       "{'vignesh': 20, 'Mohit': 25, 'Nagesh': 30}"
      ]
     },
     "execution_count": 4,
     "metadata": {},
     "output_type": "execute_result"
    }
   ],
   "source": [
    "d={'vignesh':20,'Mohit':25,'Nagesh':30}\n",
    "d"
   ]
  },
  {
   "cell_type": "code",
   "execution_count": null,
   "id": "00c8a25c-2ff5-4568-8178-5f79d6ae4982",
   "metadata": {},
   "outputs": [],
   "source": [
    "# <package name>,<method name>"
   ]
  },
  {
   "cell_type": "code",
   "execution_count": 6,
   "id": "e768a553-b8d6-4445-ad04-261c91eb2c63",
   "metadata": {},
   "outputs": [
    {
     "data": {
      "text/plain": [
       "dict_items([('vignesh', 20), ('Mohit', 25), ('Nagesh', 30)])"
      ]
     },
     "execution_count": 6,
     "metadata": {},
     "output_type": "execute_result"
    }
   ],
   "source": [
    "d.items()"
   ]
  },
  {
   "cell_type": "code",
   "execution_count": 7,
   "id": "abf69ae8-67ae-4424-89ec-051703e839b0",
   "metadata": {},
   "outputs": [
    {
     "data": {
      "text/plain": [
       "dict_keys(['vignesh', 'Mohit', 'Nagesh'])"
      ]
     },
     "execution_count": 7,
     "metadata": {},
     "output_type": "execute_result"
    }
   ],
   "source": [
    "d.keys()"
   ]
  },
  {
   "cell_type": "code",
   "execution_count": 9,
   "id": "137ff991-0a79-4475-b960-49fbb37991f6",
   "metadata": {},
   "outputs": [
    {
     "data": {
      "text/plain": [
       "dict_values([20, 25, 30])"
      ]
     },
     "execution_count": 9,
     "metadata": {},
     "output_type": "execute_result"
    }
   ],
   "source": [
    "d.values()"
   ]
  },
  {
   "cell_type": "code",
   "execution_count": 14,
   "id": "78c13b47-2d9e-4200-8636-f8ad30d58b75",
   "metadata": {},
   "outputs": [
    {
     "name": "stdout",
     "output_type": "stream",
     "text": [
      "vignesh 20\n",
      "Mohit 25\n",
      "Nagesh 30\n"
     ]
    }
   ],
   "source": [
    "# we learn how to make a list from dictionary\n",
    "d={'vignesh':20,'Mohit':25,'Nagesh':30}\n",
    "keys,values=[],[]\n",
    "for i in d:\n",
    "    print(i,d[i])\n",
    "    keys.append(d[i])\n",
    "    values.append(d[i])"
   ]
  },
  {
   "cell_type": "code",
   "execution_count": null,
   "id": "e18fcb9f-3dbf-44c5-b584-7a53d6f4805a",
   "metadata": {},
   "outputs": [],
   "source": [
    "list(d.keys()),list(d.values"
   ]
  },
  {
   "cell_type": "code",
   "execution_count": null,
   "id": "f9310d13-4635-4d44-92ed-fc84246e2804",
   "metadata": {},
   "outputs": [],
   "source": []
  },
  {
   "cell_type": "markdown",
   "id": "4151d3b5-556c-42ae-944e-4b445b952f85",
   "metadata": {},
   "source": [
    "- Dctionary keys list will give dictionary keys items in a list\n",
    "\n",
    "- it look like a list,but it is not a list\n",
    "\n",
    "- Which means we can not apply list mehods\n",
    "\n",
    "- so we need to convert into list type,by using list type casting"
   ]
  },
  {
   "cell_type": "code",
   "execution_count": 16,
   "id": "2b8daaf8-ccca-4c15-82c2-5f899182d297",
   "metadata": {},
   "outputs": [
    {
     "data": {
      "text/plain": [
       "list[dict_keys(['vignesh', 'Mohit', 'Nagesh'])]"
      ]
     },
     "execution_count": 16,
     "metadata": {},
     "output_type": "execute_result"
    }
   ],
   "source": [
    "list[d.keys()]"
   ]
  },
  {
   "cell_type": "code",
   "execution_count": 20,
   "id": "5254d661-3692-4192-8925-9e0f9ab08754",
   "metadata": {},
   "outputs": [
    {
     "data": {
      "text/plain": [
       "'vignesh'"
      ]
     },
     "execution_count": 20,
     "metadata": {},
     "output_type": "execute_result"
    }
   ],
   "source": [
    "list(d.keys())[0]"
   ]
  },
  {
   "cell_type": "code",
   "execution_count": 23,
   "id": "ff991c2f-d85d-4662-bdd9-b57234af2f8f",
   "metadata": {},
   "outputs": [
    {
     "data": {
      "text/plain": [
       "['__and__',\n",
       " '__class__',\n",
       " '__contains__',\n",
       " '__delattr__',\n",
       " '__dir__',\n",
       " '__doc__',\n",
       " '__eq__',\n",
       " '__format__',\n",
       " '__ge__',\n",
       " '__getattribute__',\n",
       " '__getstate__',\n",
       " '__gt__',\n",
       " '__hash__',\n",
       " '__init__',\n",
       " '__init_subclass__',\n",
       " '__iter__',\n",
       " '__le__',\n",
       " '__len__',\n",
       " '__lt__',\n",
       " '__ne__',\n",
       " '__new__',\n",
       " '__or__',\n",
       " '__rand__',\n",
       " '__reduce__',\n",
       " '__reduce_ex__',\n",
       " '__repr__',\n",
       " '__reversed__',\n",
       " '__ror__',\n",
       " '__rsub__',\n",
       " '__rxor__',\n",
       " '__setattr__',\n",
       " '__sizeof__',\n",
       " '__str__',\n",
       " '__sub__',\n",
       " '__subclasshook__',\n",
       " '__xor__',\n",
       " 'isdisjoint',\n",
       " 'mapping']"
      ]
     },
     "execution_count": 23,
     "metadata": {},
     "output_type": "execute_result"
    }
   ],
   "source": [
    "dir(d.keys())"
   ]
  },
  {
   "cell_type": "code",
   "execution_count": 25,
   "id": "768354fd-88e8-48d9-b2ec-79ed816b548f",
   "metadata": {},
   "outputs": [
    {
     "data": {
      "text/plain": [
       "list[dict_keys(['vignesh', 'Mohit', 'Nagesh'])]"
      ]
     },
     "execution_count": 25,
     "metadata": {},
     "output_type": "execute_result"
    }
   ],
   "source": [
    "list[d.keys()]"
   ]
  },
  {
   "cell_type": "code",
   "execution_count": 27,
   "id": "ada296f6-0f7d-40cd-8b6d-0d740137554c",
   "metadata": {},
   "outputs": [
    {
     "ename": "SyntaxError",
     "evalue": "closing parenthesis ')' does not match opening parenthesis '[' (3905398653.py, line 1)",
     "output_type": "error",
     "traceback": [
      "\u001b[1;36m  Cell \u001b[1;32mIn[27], line 1\u001b[1;36m\u001b[0m\n\u001b[1;33m    type(list[d.keys())\u001b[0m\n\u001b[1;37m                      ^\u001b[0m\n\u001b[1;31mSyntaxError\u001b[0m\u001b[1;31m:\u001b[0m closing parenthesis ')' does not match opening parenthesis '['\n"
     ]
    }
   ],
   "source": [
    "type(list[d.keys())"
   ]
  },
  {
   "cell_type": "code",
   "execution_count": 30,
   "id": "72042cbc-90cc-4234-aeff-1fc75f044e80",
   "metadata": {},
   "outputs": [
    {
     "ename": "SyntaxError",
     "evalue": "unmatched ')' (3290049095.py, line 1)",
     "output_type": "error",
     "traceback": [
      "\u001b[1;36m  Cell \u001b[1;32mIn[30], line 1\u001b[1;36m\u001b[0m\n\u001b[1;33m    for i in list[d.keys()]):\u001b[0m\n\u001b[1;37m                           ^\u001b[0m\n\u001b[1;31mSyntaxError\u001b[0m\u001b[1;31m:\u001b[0m unmatched ')'\n"
     ]
    }
   ],
   "source": [
    "for i in list[d.keys()])"
   ]
  },
  {
   "cell_type": "markdown",
   "id": "1ed2a015-f1f4-451e-82f9-6d01287ab002",
   "metadata": {},
   "source": [
    "**Method-1**"
   ]
  },
  {
   "cell_type": "code",
   "execution_count": 32,
   "id": "85f75045-0dd6-49e1-85fd-9cf43b70c6df",
   "metadata": {},
   "outputs": [],
   "source": [
    "d={'vignesh':20,'mohit':25,'Nagesh':30}"
   ]
  },
  {
   "cell_type": "code",
   "execution_count": 33,
   "id": "d732ede5-656a-4ea7-8886-b1a7298d2a9d",
   "metadata": {},
   "outputs": [
    {
     "data": {
      "text/plain": [
       "dict_items([('vignesh', 20), ('mohit', 25), ('Nagesh', 30)])"
      ]
     },
     "execution_count": 33,
     "metadata": {},
     "output_type": "execute_result"
    }
   ],
   "source": [
    "d.items()"
   ]
  },
  {
   "cell_type": "code",
   "execution_count": 38,
   "id": "3fec6dd3-42d5-4f98-bb8d-0aa694b7cbd1",
   "metadata": {},
   "outputs": [
    {
     "name": "stdout",
     "output_type": "stream",
     "text": [
      "vignesh 20\n",
      "mohit 25\n",
      "Nagesh 30\n"
     ]
    },
    {
     "data": {
      "text/plain": [
       "(['vignesh', 'mohit', 'Nagesh'], [20, 25, 30])"
      ]
     },
     "execution_count": 38,
     "metadata": {},
     "output_type": "execute_result"
    }
   ],
   "source": [
    "keys,values=[],[]\n",
    "for i,j in d.items():\n",
    "    print(i,j)\n",
    "    keys.append(i)\n",
    "    values.append(j)\n",
    "keys,values"
   ]
  },
  {
   "cell_type": "code",
   "execution_count": null,
   "id": "c03e09c4-f335-420a-b296-9271ecd33a4e",
   "metadata": {},
   "outputs": [],
   "source": [
    "a=10,20\n",
    "a,b=10,20\n",
    "a,b=10"
   ]
  },
  {
   "cell_type": "markdown",
   "id": "45d60891-1d90-44a5-b7bb-05359c127c76",
   "metadata": {},
   "source": [
    "**Mehod-3**"
   ]
  },
  {
   "cell_type": "code",
   "execution_count": null,
   "id": "fcc81e7b-ee66-4c2d-b5ee-68cfa7d0d393",
   "metadata": {},
   "outputs": [],
   "source": [
    "path='"
   ]
  },
  {
   "cell_type": "code",
   "execution_count": null,
   "id": "6ca389fc-e39f-4acf-9de8-bb2441c912bb",
   "metadata": {},
   "outputs": [],
   "source": []
  }
 ],
 "metadata": {
  "kernelspec": {
   "display_name": "Python 3 (ipykernel)",
   "language": "python",
   "name": "python3"
  },
  "language_info": {
   "codemirror_mode": {
    "name": "ipython",
    "version": 3
   },
   "file_extension": ".py",
   "mimetype": "text/x-python",
   "name": "python",
   "nbconvert_exporter": "python",
   "pygments_lexer": "ipython3",
   "version": "3.11.7"
  }
 },
 "nbformat": 4,
 "nbformat_minor": 5
}
