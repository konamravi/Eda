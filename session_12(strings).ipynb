{
 "cells": [
  {
   "cell_type": "markdown",
   "id": "e794189d-db30-42f2-87bf-efa43ae6f634",
   "metadata": {},
   "source": [
    "################## pyhon divided 3 parts #########################\n",
    "\n",
    "------Basics\n",
    "1) variable\n",
    "2) data types\n",
    "3) type conversion\n",
    "4) eval input\n",
    "5) packages\n",
    "6) conditional statement\n",
    "7) Try-execpt\n",
    "8) function\n",
    "9) for\n",
    "10) while\n",
    "\n",
    "-------------Intermediate part\n",
    "\n",
    "\n",
    "12) strings\n",
    "13) Lists\n",
    "14) Dicionary\n",
    "15) tuple do this\n",
    "16) sets\n",
    "17) Lamda functions\n",
    "18) file handling\n",
    "    \n",
    "-------------Advanceed\n",
    "\n",
    "20) oops\n"
   ]
  },
  {
   "cell_type": "markdown",
   "id": "3a0e0f2a-d128-4c87-b008-da679e183643",
   "metadata": {},
   "source": [
    "############################## part-1##########################\n",
    "- Intialization\n",
    "- type\n",
    "- len\n",
    "- max\n",
    "- min\n",
    "- stored\n",
    "- resversed\n",
    "- in\n",
    "- for loop\n",
    "- index\n",
    "- for loop using index\n",
    "- mutable\n",
    "- concantenation\n",
    "############################### part-2 #######################\n",
    "# method"
   ]
  },
  {
   "cell_type": "markdown",
   "id": "991f2baf-dd88-4e1c-a24e-8d9ee0246fa0",
   "metadata": {},
   "source": [
    "**Intialization**"
   ]
  },
  {
   "cell_type": "code",
   "execution_count": 3,
   "id": "d5b8412b-2999-4481-b685-8fd0c48b82e6",
   "metadata": {},
   "outputs": [
    {
     "data": {
      "text/plain": [
       "'pthyhon'"
      ]
     },
     "execution_count": 3,
     "metadata": {},
     "output_type": "execute_result"
    }
   ],
   "source": [
    "str1='pthyhon'\n",
    "str1"
   ]
  },
  {
   "cell_type": "code",
   "execution_count": 6,
   "id": "46763f98-ef7c-4977-8d92-9205705cc971",
   "metadata": {},
   "outputs": [
    {
     "data": {
      "text/plain": [
       "'python'"
      ]
     },
     "execution_count": 6,
     "metadata": {},
     "output_type": "execute_result"
    }
   ],
   "source": [
    "str2=\"python\"\n",
    "str2"
   ]
  },
  {
   "cell_type": "markdown",
   "id": "ee227d21-b22d-48df-9f0e-db2cf305b319",
   "metadata": {},
   "source": [
    "**Note**\n",
    "\n",
    "- if we mentioned single code quotes or double quotes by default python provides in single quotes only\n",
    "- if we print the strings, we will answer with out quotes"
   ]
  },
  {
   "cell_type": "markdown",
   "id": "77d2b4bb-6c5f-4f16-bf30-a7a46be11a50",
   "metadata": {},
   "source": [
    "**Triple quotes**"
   ]
  },
  {
   "cell_type": "code",
   "execution_count": 7,
   "id": "fd05136e-a366-427d-8797-792dd2e84ed0",
   "metadata": {},
   "outputs": [],
   "source": [
    "str3=\"\"\"hi how are you\n",
    "        im good\"\"\""
   ]
  },
  {
   "cell_type": "code",
   "execution_count": 8,
   "id": "66c41444-a161-44ef-bb72-029d054b46c5",
   "metadata": {},
   "outputs": [
    {
     "data": {
      "text/plain": [
       "'hi how are you\\n        im good'"
      ]
     },
     "execution_count": 8,
     "metadata": {},
     "output_type": "execute_result"
    }
   ],
   "source": [
    "str3"
   ]
  },
  {
   "cell_type": "code",
   "execution_count": 9,
   "id": "3fb0a172-5ea1-4480-8a45-b0337e006b95",
   "metadata": {},
   "outputs": [
    {
     "name": "stdout",
     "output_type": "stream",
     "text": [
      "hi how are you\n",
      "        im good\n"
     ]
    }
   ],
   "source": [
    "print(str3)"
   ]
  },
  {
   "cell_type": "markdown",
   "id": "0e0eb740-84e2-41a5-ba5d-6dd3ab27293f",
   "metadata": {},
   "source": [
    "**Note**\n",
    "\n",
    "- if we mentioned single quotes or double quotes by default python provides in single quotes only\n",
    "- if we print the string we will answer with out quotes\n",
    "- triple quets are using for doc string \n",
    "- in order to convey the information about coading part will use doc string\n",
    "- anything inside the singe or double quotes is considered as string in python"
   ]
  },
  {
   "cell_type": "markdown",
   "id": "35147777-c164-4d17-ae8f-9c969a02275f",
   "metadata": {},
   "source": [
    "**type**"
   ]
  },
  {
   "cell_type": "code",
   "execution_count": null,
   "id": "216c37eb-7507-4838-bbdc-5b6cd9f4c3c9",
   "metadata": {},
   "outputs": [],
   "source": [
    "  type(str1)  # type is string time"
   ]
  },
  {
   "cell_type": "code",
   "execution_count": 11,
   "id": "729715dd-e4d6-4743-9d57-981deb3be04e",
   "metadata": {},
   "outputs": [
    {
     "data": {
      "text/plain": [
       "str"
      ]
     },
     "execution_count": 11,
     "metadata": {},
     "output_type": "execute_result"
    }
   ],
   "source": [
    "str"
   ]
  },
  {
   "cell_type": "code",
   "execution_count": null,
   "id": "c2e7883e-3bcf-4422-b20e-c2f1f06e0b31",
   "metadata": {},
   "outputs": [],
   "source": [
    "str4='10'  # integer value in the form of string \n",
    "str5='10.5' # float value in the form of string \n",
    "str6='123abc' # alpha numeric in the form of string \n",
    "str7='True' # boolean in the form of string\n",
    "str8='sinx'\n",
    "\n",
    "# All are in quotes,mean in red colour : string "
   ]
  },
  {
   "cell_type": "markdown",
   "id": "1e58fd1e-67cf-4850-b2ff-ba88ff38e5dc",
   "metadata": {},
   "source": [
    "**len**"
   ]
  },
  {
   "cell_type": "code",
   "execution_count": 8,
   "id": "acbc6941-ef57-4641-85cd-99a2e98c9993",
   "metadata": {},
   "outputs": [
    {
     "data": {
      "text/plain": [
       "6"
      ]
     },
     "execution_count": 8,
     "metadata": {},
     "output_type": "execute_result"
    }
   ],
   "source": [
    "str1='python'\n",
    "len(str1)"
   ]
  },
  {
   "cell_type": "code",
   "execution_count": 12,
   "id": "503a1f6b-7048-4fcc-b3e2-d93a7426d1d1",
   "metadata": {},
   "outputs": [
    {
     "data": {
      "text/plain": [
       "6"
      ]
     },
     "execution_count": 12,
     "metadata": {},
     "output_type": "execute_result"
    }
   ],
   "source": [
    "str2=\"python\"\n",
    "len(str2)"
   ]
  },
  {
   "cell_type": "markdown",
   "id": "d161ff19-00c2-4b18-99d1-ac71dd744ec9",
   "metadata": {},
   "source": [
    "**Max and Min**"
   ]
  },
  {
   "cell_type": "code",
   "execution_count": 13,
   "id": "c2edee06-01f8-46e1-bde5-7cd581ef4dfb",
   "metadata": {},
   "outputs": [
    {
     "data": {
      "text/plain": [
       "'h'"
      ]
     },
     "execution_count": 13,
     "metadata": {},
     "output_type": "execute_result"
    }
   ],
   "source": [
    "str1=\"python\"\n",
    "min(str1)"
   ]
  },
  {
   "cell_type": "code",
   "execution_count": 14,
   "id": "3fbf2965-fb32-495c-8f66-f0e6c6b722d8",
   "metadata": {},
   "outputs": [
    {
     "data": {
      "text/plain": [
       "'y'"
      ]
     },
     "execution_count": 14,
     "metadata": {},
     "output_type": "execute_result"
    }
   ],
   "source": [
    "str1=\"python\"\n",
    "max(str1)"
   ]
  },
  {
   "cell_type": "code",
   "execution_count": 12,
   "id": "640553a3-8995-4f25-a3de-8c378a00a947",
   "metadata": {},
   "outputs": [
    {
     "data": {
      "text/plain": [
       "(112, 121, 116, 104, 111, 110)"
      ]
     },
     "execution_count": 12,
     "metadata": {},
     "output_type": "execute_result"
    }
   ],
   "source": [
    "ord('p'),ord('y'),ord('t'),ord('h'),ord('o'),ord('n'),"
   ]
  },
  {
   "cell_type": "markdown",
   "id": "947f6659-a7cf-441f-8a90-a2e440527c52",
   "metadata": {},
   "source": [
    "**Keywords vs method**"
   ]
  },
  {
   "cell_type": "code",
   "execution_count": null,
   "id": "590cd1bf-e6b4-4d4c-86d1-86be7a72ce30",
   "metadata": {},
   "outputs": [],
   "source": [
    "type (<>)\n",
    "print (<>)\n",
    "len (<>)\n",
    "max (<>)\n",
    "min (<>)\n",
    "eval (<>)\n",
    "input (<>)\n",
    "sum(<>)"
   ]
  },
  {
   "cell_type": "code",
   "execution_count": null,
   "id": "01247619-dec1-4ced-8ddc-0e1dc69b3b28",
   "metadata": {},
   "outputs": [],
   "source": [
    "- in order to use method we need to call package \n",
    "\n",
    "import random\n",
    "random.randint()\n",
    "\n",
    "import math\n",
    "math.squrt()\n",
    "\n",
    "import  time\n",
    "time.sleep()\n"
   ]
  },
  {
   "cell_type": "code",
   "execution_count": 15,
   "id": "59fc83f7-ae83-40df-a2f9-2f66d15a532a",
   "metadata": {},
   "outputs": [
    {
     "ename": "TypeError",
     "evalue": "'str' object is not callable",
     "output_type": "error",
     "traceback": [
      "\u001b[1;31m---------------------------------------------------------------------------\u001b[0m",
      "\u001b[1;31mTypeError\u001b[0m                                 Traceback (most recent call last)",
      "Cell \u001b[1;32mIn[15], line 2\u001b[0m\n\u001b[0;32m      1\u001b[0m str1\u001b[38;5;241m=\u001b[39m(\u001b[38;5;124m'\u001b[39m\u001b[38;5;124mpython\u001b[39m\u001b[38;5;124m'\u001b[39m)\n\u001b[1;32m----> 2\u001b[0m \u001b[38;5;28msum\u001b[39m(str1)\n",
      "\u001b[1;31mTypeError\u001b[0m: 'str' object is not callable"
     ]
    }
   ],
   "source": [
    "str1=('python')\n",
    "sum(str1)"
   ]
  },
  {
   "cell_type": "code",
   "execution_count": 17,
   "id": "34b7a98d-c6f4-495b-8656-c558f17b91a3",
   "metadata": {},
   "outputs": [
    {
     "data": {
      "text/plain": [
       "'python'"
      ]
     },
     "execution_count": 17,
     "metadata": {},
     "output_type": "execute_result"
    }
   ],
   "source": [
    "'p'+'y'+'t'+'h'+'o'+'n'"
   ]
  },
  {
   "cell_type": "markdown",
   "id": "bdf53124-b765-4b53-bab8-83b211ba9844",
   "metadata": {},
   "source": [
    "**sorted**"
   ]
  },
  {
   "cell_type": "code",
   "execution_count": 18,
   "id": "e1387292-b333-4e47-b4ff-5c2a28be9ec9",
   "metadata": {},
   "outputs": [
    {
     "name": "stdout",
     "output_type": "stream",
     "text": [
      "python\n"
     ]
    },
    {
     "data": {
      "text/plain": [
       "'y'"
      ]
     },
     "execution_count": 18,
     "metadata": {},
     "output_type": "execute_result"
    }
   ],
   "source": [
    "len('python')\n",
    "max('python')\n",
    "print('python')\n",
    "min('python')\n",
    "max('python')"
   ]
  },
  {
   "cell_type": "code",
   "execution_count": 25,
   "id": "a4b9b051-ad5c-4362-8329-c9c2ec0e1e4f",
   "metadata": {},
   "outputs": [
    {
     "data": {
      "text/plain": [
       "['h', 'n', 'o', 'p', 't', 'y']"
      ]
     },
     "execution_count": 25,
     "metadata": {},
     "output_type": "execute_result"
    }
   ],
   "source": [
    "sorted('python')"
   ]
  },
  {
   "cell_type": "code",
   "execution_count": 24,
   "id": "34039a41-ad15-4181-a7bd-862e6acdd646",
   "metadata": {},
   "outputs": [
    {
     "data": {
      "text/plain": [
       "['y', 't', 'p', 'o', 'n', 'h']"
      ]
     },
     "execution_count": 24,
     "metadata": {},
     "output_type": "execute_result"
    }
   ],
   "source": [
    "sorted(str1,reverse=True)"
   ]
  },
  {
   "cell_type": "markdown",
   "id": "10fb6eb3-c262-42d3-a6e4-c9ebb8310894",
   "metadata": {},
   "source": [
    "- stored gives ascending order based on ascii on ascii numbers\n",
    "- stored is kind of a function \n",
    "- every function wehave arguments\n",
    "- in that one default argument is **reverse=False** \n",
    "- by default stored output gives **ascending order**\n",
    "- we can change the order,by providing **reverse=True**\n",
    "- **if we do not mention, it wiil give the defalut answer**"
   ]
  },
  {
   "cell_type": "code",
   "execution_count": 25,
   "id": "75e3fc22-98d3-4e8b-a809-e0244961fbc5",
   "metadata": {},
   "outputs": [
    {
     "data": {
      "text/plain": [
       "['y', 't', 'p', 'o', 'n', 'h']"
      ]
     },
     "execution_count": 25,
     "metadata": {},
     "output_type": "execute_result"
    }
   ],
   "source": [
    "sorted('python',reverse=True)"
   ]
  },
  {
   "cell_type": "code",
   "execution_count": 26,
   "id": "571cf6f6-9a36-4d37-a684-2052e5ffb34f",
   "metadata": {},
   "outputs": [
    {
     "data": {
      "text/plain": [
       "0j"
      ]
     },
     "execution_count": 26,
     "metadata": {},
     "output_type": "execute_result"
    }
   ],
   "source": [
    "complex()"
   ]
  },
  {
   "cell_type": "code",
   "execution_count": 27,
   "id": "d0963535-a730-40ea-9d20-383f557ab0a2",
   "metadata": {},
   "outputs": [
    {
     "data": {
      "text/plain": [
       "(10+20j)"
      ]
     },
     "execution_count": 27,
     "metadata": {},
     "output_type": "execute_result"
    }
   ],
   "source": [
    "complex(10,20)"
   ]
  },
  {
   "cell_type": "code",
   "execution_count": 28,
   "id": "01f064d4-283c-4efd-87fe-060a54799579",
   "metadata": {},
   "outputs": [
    {
     "data": {
      "text/plain": [
       "(10+30j)"
      ]
     },
     "execution_count": 28,
     "metadata": {},
     "output_type": "execute_result"
    }
   ],
   "source": [
    "complex(real=10,imag=30)"
   ]
  },
  {
   "cell_type": "code",
   "execution_count": 26,
   "id": "1bd62d45-daa3-4321-8612-97beeb5a4a52",
   "metadata": {},
   "outputs": [
    {
     "ename": "TypeError",
     "evalue": "Random.randint() missing 2 required positional arguments: 'a' and 'b'",
     "output_type": "error",
     "traceback": [
      "\u001b[1;31m---------------------------------------------------------------------------\u001b[0m",
      "\u001b[1;31mTypeError\u001b[0m                                 Traceback (most recent call last)",
      "Cell \u001b[1;32mIn[26], line 2\u001b[0m\n\u001b[0;32m      1\u001b[0m \u001b[38;5;28;01mimport\u001b[39;00m \u001b[38;5;21;01mrandom\u001b[39;00m\n\u001b[1;32m----> 2\u001b[0m random\u001b[38;5;241m.\u001b[39mrandint()\n",
      "\u001b[1;31mTypeError\u001b[0m: Random.randint() missing 2 required positional arguments: 'a' and 'b'"
     ]
    }
   ],
   "source": [
    "import random\n",
    "random.randint()"
   ]
  },
  {
   "cell_type": "code",
   "execution_count": null,
   "id": "879db887-a731-4fb5-be83-215f799fd4c0",
   "metadata": {},
   "outputs": [],
   "source": [
    "function()             #ANSWER\n",
    "function(a,b)         # this migt return error, if we dont give the \n",
    "function(a=10,b=10)   # ans "
   ]
  },
  {
   "cell_type": "code",
   "execution_count": 29,
   "id": "0a7b711c-7aa2-46dc-8306-7c1d9114c01b",
   "metadata": {},
   "outputs": [
    {
     "data": {
      "text/plain": [
       "0.5362006591044095"
      ]
     },
     "execution_count": 29,
     "metadata": {},
     "output_type": "execute_result"
    }
   ],
   "source": [
    "import random\n",
    "random.random()  # we will get answer but answer is not in our "
   ]
  },
  {
   "cell_type": "code",
   "execution_count": 31,
   "id": "feb0f158-f14a-436b-a682-c008c4c3da73",
   "metadata": {},
   "outputs": [
    {
     "data": {
      "text/plain": [
       "13"
      ]
     },
     "execution_count": 31,
     "metadata": {},
     "output_type": "execute_result"
    }
   ],
   "source": [
    "import random\n",
    "random.randint(10,20) # answer we can change "
   ]
  },
  {
   "cell_type": "code",
   "execution_count": 32,
   "id": "54839f04-d17e-4b7e-99b7-0300b42bc934",
   "metadata": {},
   "outputs": [
    {
     "data": {
      "text/plain": [
       "(10+20j)"
      ]
     },
     "execution_count": 32,
     "metadata": {},
     "output_type": "execute_result"
    }
   ],
   "source": [
    "complex(10,20)"
   ]
  },
  {
   "cell_type": "code",
   "execution_count": 33,
   "id": "0e1ce573-9082-4e3f-b9db-0d52dec08b3a",
   "metadata": {},
   "outputs": [
    {
     "ename": "TypeError",
     "evalue": "sorted expected 1 argument, got 0",
     "output_type": "error",
     "traceback": [
      "\u001b[1;31m---------------------------------------------------------------------------\u001b[0m",
      "\u001b[1;31mTypeError\u001b[0m                                 Traceback (most recent call last)",
      "Cell \u001b[1;32mIn[33], line 1\u001b[0m\n\u001b[1;32m----> 1\u001b[0m \u001b[38;5;28msorted\u001b[39m(iterable\u001b[38;5;241m=\u001b[39m\u001b[38;5;124m'\u001b[39m\u001b[38;5;124mpython\u001b[39m\u001b[38;5;124m'\u001b[39m)   \u001b[38;5;66;03m# Error\u001b[39;00m\n\u001b[0;32m      2\u001b[0m random\u001b[38;5;241m.\u001b[39mrandint(a\u001b[38;5;241m=\u001b[39m\u001b[38;5;241m10\u001b[39m,b\u001b[38;5;241m=\u001b[39m\u001b[38;5;241m20\u001b[39m)\n",
      "\u001b[1;31mTypeError\u001b[0m: sorted expected 1 argument, got 0"
     ]
    }
   ],
   "source": [
    "sorted(iterable='python')   # Error\n",
    "random.randint(a=10,b=20)  # answer"
   ]
  },
  {
   "cell_type": "code",
   "execution_count": 34,
   "id": "01ed9c59-6dbe-477b-961e-5032bee86ae9",
   "metadata": {},
   "outputs": [
    {
     "data": {
      "text/plain": [
       "['y', 't', 'p', 'o', 'n', 'h']"
      ]
     },
     "execution_count": 34,
     "metadata": {},
     "output_type": "execute_result"
    }
   ],
   "source": [
    "sorted('python')\n",
    "sorted('python',reverse=True)"
   ]
  },
  {
   "cell_type": "markdown",
   "id": "1a21071c-26de-4b07-af43-dec776b5cb2b",
   "metadata": {},
   "source": [
    "**Note**"
   ]
  },
  {
   "cell_type": "markdown",
   "id": "9ea195ca-20f1-4737-864a-dc2cce7b9c2b",
   "metadata": {},
   "source": [
    "- we have aruguments  before / and after slash\n",
    "- we can use the arugument anme after/only\n",
    "- for example sorted has two arguments one is iterable and another one is reversed\n",
    "- itertable is mntioned before/symbol\n",
    "- reverse is mentioned after/symbol\n",
    "- so we can use only reverse argument name while we are doing the work \n",
    "- we can not using iterable argument name\n",
    "- instead of using iterable name,we can provide direct value at that position"
   ]
  },
  {
   "cell_type": "markdown",
   "id": "1cd63006-43a8-4ee5-a407-4f25411948d0",
   "metadata": {},
   "source": [
    "**Resversed**"
   ]
  },
  {
   "cell_type": "code",
   "execution_count": null,
   "id": "f6d7ab1c-5e7d-4786-908f-d3affb664e99",
   "metadata": {},
   "outputs": [],
   "source": [
    "type()\n",
    "len()\n",
    "max()\n",
    "min()\n",
    "print()\n",
    "stored()"
   ]
  },
  {
   "cell_type": "code",
   "execution_count": 38,
   "id": "5b62b2fe-b004-4d4e-89b1-835bb62d71df",
   "metadata": {},
   "outputs": [
    {
     "data": {
      "text/plain": [
       "<reversed at 0x138ad616ce0>"
      ]
     },
     "execution_count": 38,
     "metadata": {},
     "output_type": "execute_result"
    }
   ],
   "source": [
    "reversed('python')"
   ]
  },
  {
   "cell_type": "markdown",
   "id": "3332dc25-204c-4b0f-97ca-66717395d30c",
   "metadata": {},
   "source": [
    "- i already done my work\n",
    "- your out put is stored in that memory locatin\n",
    "- whenevr you see this kind of answer less than and greater than symbol or memory\n",
    "- use for loop to see the answer"
   ]
  },
  {
   "cell_type": "code",
   "execution_count": 39,
   "id": "c4c2e39c-d723-425d-a3db-85fabdbb1b0e",
   "metadata": {},
   "outputs": [
    {
     "name": "stdout",
     "output_type": "stream",
     "text": [
      "n\n",
      "o\n",
      "h\n",
      "t\n",
      "y\n",
      "p\n"
     ]
    }
   ],
   "source": [
    "str1='python'\n",
    "output=reversed(str1)\n",
    "for i in output:\n",
    "    print(i)"
   ]
  },
  {
   "cell_type": "code",
   "execution_count": 40,
   "id": "60c185c0-1ffa-429f-9afd-9a37082f7c73",
   "metadata": {},
   "outputs": [
    {
     "name": "stdout",
     "output_type": "stream",
     "text": [
      "d\n",
      "c\n",
      "y\n",
      "z\n",
      "a\n"
     ]
    }
   ],
   "source": [
    "str1='azycd'\n",
    "output=reversed(str1)\n",
    "for i in output:\n",
    "    print(i)"
   ]
  },
  {
   "cell_type": "code",
   "execution_count": 35,
   "id": "3e6d5a6d-7188-42b5-8ccf-e835a1a75750",
   "metadata": {},
   "outputs": [
    {
     "data": {
      "text/plain": [
       "['a', 'c', 'd', 'y', 'z']"
      ]
     },
     "execution_count": 35,
     "metadata": {},
     "output_type": "execute_result"
    }
   ],
   "source": [
    "sorted('azycd')"
   ]
  },
  {
   "cell_type": "code",
   "execution_count": null,
   "id": "5bae9cb1-ff40-4f3e-9432-515c4cd56130",
   "metadata": {},
   "outputs": [],
   "source": [
    "type()\n",
    "inut()\n",
    "evel()\n",
    "max(<value>)"
   ]
  },
  {
   "cell_type": "code",
   "execution_count": 8,
   "id": "8d083d02-0ed8-4ea8-8c20-6cbc86a66894",
   "metadata": {},
   "outputs": [
    {
     "data": {
      "text/plain": [
       "['a', 'e', 'h', 'n', 'r', 's']"
      ]
     },
     "execution_count": 8,
     "metadata": {},
     "output_type": "execute_result"
    }
   ],
   "source": [
    "# sorted()\n",
    "# it will provide the values either ascending or descending\n",
    "\n",
    "sorted('naresh') # ascending or descending \n",
    "\n",
    "# when i run directly it give one answer\n",
    "# the function has a default behaviour:ascending\n",
    "\n",
    "#how this default mentioned \n",
    "# we need to understand about arguments"
   ]
  },
  {
   "cell_type": "code",
   "execution_count": 2,
   "id": "f320a679-31af-4768-a092-707f5ade8b02",
   "metadata": {},
   "outputs": [
    {
     "data": {
      "text/plain": [
       "['s', 'r', 'n', 'h', 'e', 'a']"
      ]
     },
     "execution_count": 2,
     "metadata": {},
     "output_type": "execute_result"
    }
   ],
   "source": [
    "sorted('naresh',reverse=True)\n",
    "\n",
    "# itertable \n",
    "# key \n",
    "# reverse "
   ]
  },
  {
   "cell_type": "code",
   "execution_count": 4,
   "id": "d53feda9-9125-4233-af0e-e68eb483f89b",
   "metadata": {},
   "outputs": [
    {
     "name": "stdout",
     "output_type": "stream",
     "text": [
      "h\n",
      "s\n",
      "e\n",
      "r\n",
      "a\n",
      "n\n"
     ]
    }
   ],
   "source": [
    "for i in reversed('naresh'):\n",
    "    print(i)"
   ]
  },
  {
   "cell_type": "code",
   "execution_count": 11,
   "id": "01481bd5-76fb-4bf8-90b4-c0672b64fb77",
   "metadata": {},
   "outputs": [
    {
     "data": {
      "text/plain": [
       "[1, 2, 10, 20, 30]"
      ]
     },
     "execution_count": 11,
     "metadata": {},
     "output_type": "execute_result"
    }
   ],
   "source": [
    "sorted([1,10,2,20,30])\n",
    "#1,2,10,20,30\n",
    "# 30,20,10,2,1"
   ]
  },
  {
   "cell_type": "code",
   "execution_count": 6,
   "id": "ac48fde4-c8ce-4a5f-aa0e-fbb51f76c609",
   "metadata": {},
   "outputs": [
    {
     "data": {
      "text/plain": [
       "[30, 20, 20, 2, 1]"
      ]
     },
     "execution_count": 6,
     "metadata": {},
     "output_type": "execute_result"
    }
   ],
   "source": [
    "sorted([1,20,2,20,30],reverse=True)"
   ]
  },
  {
   "cell_type": "code",
   "execution_count": 12,
   "id": "50d90e13-0586-453a-bbb1-a76204c6cf2b",
   "metadata": {},
   "outputs": [
    {
     "data": {
      "text/plain": [
       "True"
      ]
     },
     "execution_count": 12,
     "metadata": {},
     "output_type": "execute_result"
    }
   ],
   "source": [
    "str1='naresh'\n",
    "'n' in str1"
   ]
  },
  {
   "cell_type": "code",
   "execution_count": 23,
   "id": "f20baa1a-ecfd-43ed-9da3-53f8aac373a0",
   "metadata": {},
   "outputs": [
    {
     "data": {
      "text/plain": [
       "True"
      ]
     },
     "execution_count": 23,
     "metadata": {},
     "output_type": "execute_result"
    }
   ],
   "source": [
    "str1='naresh'\n",
    "'nn' not in str1"
   ]
  },
  {
   "cell_type": "code",
   "execution_count": null,
   "id": "815e1f2e-f05b-4436-a37a-91873c4f8743",
   "metadata": {},
   "outputs": [],
   "source": [
    "# string\n",
    "# list \n",
    "# tuple\n",
    "# setes\n",
    "# dictionary"
   ]
  },
  {
   "cell_type": "code",
   "execution_count": 24,
   "id": "a5287ecd-a5f8-40e6-a747-8c5a023f5e9d",
   "metadata": {},
   "outputs": [
    {
     "name": "stdout",
     "output_type": "stream",
     "text": [
      "n\n",
      "a\n",
      "r\n",
      "e\n",
      "s\n",
      "h\n"
     ]
    }
   ],
   "source": [
    "for i in str1:\n",
    "    print(i)\n",
    "    "
   ]
  },
  {
   "cell_type": "markdown",
   "id": "f063c2f2-b5a8-4ff8-993e-d571df3ba701",
   "metadata": {},
   "source": [
    "**Note**"
   ]
  },
  {
   "cell_type": "markdown",
   "id": "79709e7f-4ae1-4d96-8903-c27fd2dcf77c",
   "metadata": {},
   "source": [
    "- in operator dirctly access the letters"
   ]
  },
  {
   "cell_type": "code",
   "execution_count": 24,
   "id": "7e0a62e5-7747-45a3-8ba7-775a0af69648",
   "metadata": {},
   "outputs": [
    {
     "name": "stdout",
     "output_type": "stream",
     "text": [
      "3\n"
     ]
    }
   ],
   "source": [
    "#q1) wap ask the user count how many 'a' are present in a given string \n",
    "# str1='hai' naresh how are you\n",
    "\n",
    "\n",
    "# idea: count wapper\n",
    "# step-1: count=0\n",
    "# step-2: using for loop in operator itereate through given string \n",
    "# step-3 apply the if condition ,whenever the letter equal to 'a'\n",
    "# step-4:count=count+1\n",
    "\n",
    "\n",
    "str1= 'hai naresh it how are you'\n",
    "count=0\n",
    "for i in str1:\n",
    "    if i=='a':\n",
    "        count=count+1\n",
    "print(count)\n",
    "\n",
    "# step-1: i='h'    if  'h'=='a'     false\n",
    "# step-2: i='a'    if  'a'=='a'     true      count=0+1=1\n",
    "# step-3: i='i'    if   'i'=='a'    false      count=1\n",
    "\n",
    "# step-6: i='a'    if    'a'=='a'    true      count=1+1=2\n"
   ]
  },
  {
   "cell_type": "code",
   "execution_count": 31,
   "id": "94291b1b-d874-4fc0-8139-a07eba648ef1",
   "metadata": {},
   "outputs": [
    {
     "name": "stdout",
     "output_type": "stream",
     "text": [
      "the count is :  9\n"
     ]
    }
   ],
   "source": [
    "# wap ask the user find the how many vowels are there in a given\n",
    "# str=1 ='hai naresh how are you'\n",
    "# ans=9\n",
    "\n",
    "count=0\n",
    "str1='hai naresh how are you'\n",
    "str2='aeiou'\n",
    "for i in str1:\n",
    "    if i=='a' or i=='e'  or  i=='i'  or  i=='o' or i=='u':\n",
    "        count=count+1\n",
    "print('the count is : ',count)"
   ]
  },
  {
   "cell_type": "code",
   "execution_count": 43,
   "id": "ed5f6526-7b22-4ebc-8356-c8d9205020c4",
   "metadata": {},
   "outputs": [
    {
     "name": "stdout",
     "output_type": "stream",
     "text": [
      "9\n"
     ]
    }
   ],
   "source": [
    "count=0\n",
    "str1='hai naresh it how ar you'\n",
    "for i in str1:\n",
    "    if i in 'aeiou':\n",
    "        count=count+1\n",
    "       \n",
    "print(count)\n",
    "# step-1: i='h'  if='h' in 'aeiou   F"
   ]
  },
  {
   "cell_type": "code",
   "execution_count": 1,
   "id": "186d56b0-9019-49b2-93fa-fa4d7690dd0a",
   "metadata": {},
   "outputs": [
    {
     "name": "stdout",
     "output_type": "stream",
     "text": [
      "5 vowels are not repeated\n"
     ]
    }
   ],
   "source": [
    "#q3) home work \n",
    "# str1='hai naresh how are you'\n",
    "# repeated values are there \n",
    "# we dont want repeated vowels \n",
    "#cant the vowel avoid the represenation: unique vowels\n",
    "\n",
    "# ste-1: coun=0\n",
    "# step-2:  take one more empty string: ex=s2=' '\n",
    "# step-3: using for loop in operator iterate through given string \n",
    "# step-4: condtion-1: that letter should not avialble in s2\n",
    "# step-5: condition-2 : vowel check the condition\n",
    "# step-6:      count=coun+1\n",
    "# step-7:    update the s2=  s2=s2+<letter>\n",
    "\n",
    "str1='hai naresh how are you'\n",
    "count=0\n",
    "str2=''\n",
    "for i in str1:\n",
    "    if i in 'aeiou':\n",
    "        if i not in str2:\n",
    "            count=count+1\n",
    "        str2=str2+(i)\n",
    "print(f\"{count} vowels are not repeated\")"
   ]
  },
  {
   "cell_type": "markdown",
   "id": "65d313bc-7c6e-468e-89aa-4e6242f88c3c",
   "metadata": {},
   "source": [
    "**How to update the empty string**"
   ]
  },
  {
   "cell_type": "code",
   "execution_count": 45,
   "id": "d9f3ce63-e9a8-4eff-bc14-3e7d04a1157e",
   "metadata": {},
   "outputs": [
    {
     "data": {
      "text/plain": [
       "'python'"
      ]
     },
     "execution_count": 45,
     "metadata": {},
     "output_type": "execute_result"
    }
   ],
   "source": [
    "s1='python'\n",
    "s2=''\n",
    "\n",
    "for i in s1:\n",
    "    s2=s2+i    # concataention \n",
    "s2"
   ]
  },
  {
   "cell_type": "markdown",
   "id": "2e6bed59-b8c2-4626-b0f9-69de4254b04c",
   "metadata": {},
   "source": [
    "**Concatenation**"
   ]
  },
  {
   "cell_type": "code",
   "execution_count": 48,
   "id": "4c7baf6a-2b70-418b-addb-0c3121e40e71",
   "metadata": {},
   "outputs": [
    {
     "data": {
      "text/plain": [
       "'Hello bye'"
      ]
     },
     "execution_count": 48,
     "metadata": {},
     "output_type": "execute_result"
    }
   ],
   "source": [
    "s1='Hello '\n",
    "s2='bye'\n",
    "s1+s2"
   ]
  },
  {
   "cell_type": "code",
   "execution_count": 49,
   "id": "127a8ce7-b38e-4794-8486-b13e0f9b35f2",
   "metadata": {},
   "outputs": [
    {
     "data": {
      "text/plain": [
       "'Hello bye'"
      ]
     },
     "execution_count": 49,
     "metadata": {},
     "output_type": "execute_result"
    }
   ],
   "source": [
    "s1='Hello '\n",
    "s2=''\n",
    "s3='bye'\n",
    "s1+s2+s3"
   ]
  },
  {
   "cell_type": "code",
   "execution_count": 50,
   "id": "2be6b67e-9432-4059-b085-9b6abd784ef4",
   "metadata": {},
   "outputs": [
    {
     "data": {
      "text/plain": [
       "'Hello bye'"
      ]
     },
     "execution_count": 50,
     "metadata": {},
     "output_type": "execute_result"
    }
   ],
   "source": [
    "s1='Hello '\n",
    "s2=''\n",
    "s3='bye'\n",
    "s4=s1+s2+s3\n",
    "s4"
   ]
  },
  {
   "cell_type": "code",
   "execution_count": 51,
   "id": "5a4338dc-3ef5-4888-a812-00bd84502f62",
   "metadata": {},
   "outputs": [
    {
     "ename": "TypeError",
     "evalue": "can't multiply sequence by non-int of type 'str'",
     "output_type": "error",
     "traceback": [
      "\u001b[1;31m---------------------------------------------------------------------------\u001b[0m",
      "\u001b[1;31mTypeError\u001b[0m                                 Traceback (most recent call last)",
      "Cell \u001b[1;32mIn[51], line 3\u001b[0m\n\u001b[0;32m      1\u001b[0m s1\u001b[38;5;241m=\u001b[39m\u001b[38;5;124m'\u001b[39m\u001b[38;5;124mhello\u001b[39m\u001b[38;5;124m'\u001b[39m\n\u001b[0;32m      2\u001b[0m s2\u001b[38;5;241m=\u001b[39m\u001b[38;5;124m'\u001b[39m\u001b[38;5;124mbye\u001b[39m\u001b[38;5;124m'\u001b[39m\n\u001b[1;32m----> 3\u001b[0m s1\u001b[38;5;241m*\u001b[39ms2\n\u001b[0;32m      4\u001b[0m s1\u001b[38;5;241m/\u001b[39ms2\n\u001b[0;32m      5\u001b[0m s1\u001b[38;5;241m-\u001b[39ms2\n",
      "\u001b[1;31mTypeError\u001b[0m: can't multiply sequence by non-int of type 'str'"
     ]
    }
   ],
   "source": [
    "s1='hello'\n",
    "s2='bye'\n",
    "s1*s2\n",
    "s1/s2\n",
    "s1-s2\n",
    "# s1*s2 can't multiply sequence by non-int of type 'str'\n",
    "# s1-s2 unsupported operand type(s) for -: 'str' and 'str'\n",
    "# s1/s2: unsupported operand type(s) for /: 'str' and 'str'\n"
   ]
  },
  {
   "cell_type": "code",
   "execution_count": 53,
   "id": "c67db740-6e86-42d0-9dcb-6945b15d0282",
   "metadata": {},
   "outputs": [
    {
     "ename": "TypeError",
     "evalue": "unsupported operand type(s) for -: 'str' and 'str'",
     "output_type": "error",
     "traceback": [
      "\u001b[1;31m---------------------------------------------------------------------------\u001b[0m",
      "\u001b[1;31mTypeError\u001b[0m                                 Traceback (most recent call last)",
      "Cell \u001b[1;32mIn[53], line 1\u001b[0m\n\u001b[1;32m----> 1\u001b[0m s1\u001b[38;5;241m-\u001b[39ms2\n",
      "\u001b[1;31mTypeError\u001b[0m: unsupported operand type(s) for -: 'str' and 'str'"
     ]
    }
   ],
   "source": [
    "s1-s2"
   ]
  },
  {
   "cell_type": "code",
   "execution_count": 54,
   "id": "6d272891-651a-4eef-8b54-3e3ef1fc7773",
   "metadata": {},
   "outputs": [
    {
     "ename": "TypeError",
     "evalue": "unsupported operand type(s) for /: 'str' and 'str'",
     "output_type": "error",
     "traceback": [
      "\u001b[1;31m---------------------------------------------------------------------------\u001b[0m",
      "\u001b[1;31mTypeError\u001b[0m                                 Traceback (most recent call last)",
      "Cell \u001b[1;32mIn[54], line 1\u001b[0m\n\u001b[1;32m----> 1\u001b[0m str1\u001b[38;5;241m/\u001b[39mstr2\n",
      "\u001b[1;31mTypeError\u001b[0m: unsupported operand type(s) for /: 'str' and 'str'"
     ]
    }
   ],
   "source": [
    "str1/str2"
   ]
  },
  {
   "cell_type": "code",
   "execution_count": 56,
   "id": "1b164e19-dae9-40ce-898a-f168a01926ae",
   "metadata": {},
   "outputs": [
    {
     "data": {
      "text/plain": [
       "'hello hello '"
      ]
     },
     "execution_count": 56,
     "metadata": {},
     "output_type": "execute_result"
    }
   ],
   "source": [
    "s1='hello '\n",
    "s2=2\n",
    "s1*s2"
   ]
  },
  {
   "cell_type": "code",
   "execution_count": null,
   "id": "f09ff667-0f51-4a61-ba32-42341b00b6d8",
   "metadata": {},
   "outputs": [],
   "source": [
    "s1+s2===>s1*2\n",
    "2*3  3*2"
   ]
  },
  {
   "cell_type": "markdown",
   "id": "0e6a24f5-7224-4dbb-b0d7-7a622ef28f21",
   "metadata": {},
   "source": [
    "**Index**\n",
    "\n",
    "- index meaning  a number attched to a letter\n",
    "- in python index start with zero\n",
    "- we have two direction\n",
    "  - positive direction\n",
    "      - positive number start with zero\n",
    "  - negative dirction\n",
    "     - negative number start with-1,applicable to last letter"
   ]
  },
  {
   "cell_type": "code",
   "execution_count": null,
   "id": "8508ff11-8bda-4cb3-a9c9-2495e3b682e7",
   "metadata": {},
   "outputs": [],
   "source": [
    "s1='python'\n",
    "\n",
    "-6 -5 -4 -3 -2 -1====>negative \n",
    "p  y  t  h  o  n\n",
    "0  1  2  3  4  5 ====>positive"
   ]
  },
  {
   "cell_type": "code",
   "execution_count": 62,
   "id": "7882de95-5917-4ae6-be3a-a6f6183374c1",
   "metadata": {},
   "outputs": [
    {
     "data": {
      "text/plain": [
       "('p', 'y', 't', 'h', 'o', 'n')"
      ]
     },
     "execution_count": 62,
     "metadata": {},
     "output_type": "execute_result"
    }
   ],
   "source": [
    "s1='python'\n",
    "s1[0],s1[1],s1[2],s1[3],s1[4],s1[5]"
   ]
  },
  {
   "cell_type": "code",
   "execution_count": 63,
   "id": "67dea54b-3e28-40ee-847b-8d379bdd33bb",
   "metadata": {},
   "outputs": [
    {
     "data": {
      "text/plain": [
       "('p', 'y', 't', 'h', 'o', 'n')"
      ]
     },
     "execution_count": 63,
     "metadata": {},
     "output_type": "execute_result"
    }
   ],
   "source": [
    "s1='python'\n",
    "s1[-6],s1[-5],s1[-4],s1[-3],s1[-2],s1[-1]"
   ]
  },
  {
   "cell_type": "code",
   "execution_count": 70,
   "id": "cfa1ddff-270e-4ad2-88c6-2f3306ee6ea5",
   "metadata": {},
   "outputs": [
    {
     "data": {
      "text/plain": [
       "('n', 'o', 'h', 't', 'y', 'p')"
      ]
     },
     "execution_count": 70,
     "metadata": {},
     "output_type": "execute_result"
    }
   ],
   "source": [
    "s1='python'\n",
    "s1[-1],s1[-2],s1[-3],s1[-4],s1[-5],s1[-6]"
   ]
  },
  {
   "cell_type": "code",
   "execution_count": 76,
   "id": "50adef28-8ec3-467a-ba70-bb433bd84196",
   "metadata": {},
   "outputs": [
    {
     "data": {
      "text/plain": [
       "('n', 'o', 'h', 't', 'y', 'p')"
      ]
     },
     "execution_count": 76,
     "metadata": {},
     "output_type": "execute_result"
    }
   ],
   "source": [
    "s1='python'\n",
    "(s1[-1],s1[-2],s1[-3],s1[-4],s1[-5],s1[-6])"
   ]
  },
  {
   "cell_type": "markdown",
   "id": "80f96b50-0d27-4d0c-95e2-1e76abf1daab",
   "metadata": {},
   "source": [
    "**MUTABLE-IMMUTABLE**\n",
    "- mutable can change\n",
    "  - we can change using indexing\n",
    "- immutable can not change\n",
    "  - we can not change using index"
   ]
  },
  {
   "cell_type": "code",
   "execution_count": 4,
   "id": "127dd603-5b5a-427e-a2d1-5f99895b3abd",
   "metadata": {},
   "outputs": [
    {
     "ename": "TypeError",
     "evalue": "'str' object does not support item assignment",
     "output_type": "error",
     "traceback": [
      "\u001b[1;31m---------------------------------------------------------------------------\u001b[0m",
      "\u001b[1;31mTypeError\u001b[0m                                 Traceback (most recent call last)",
      "Cell \u001b[1;32mIn[4], line 5\u001b[0m\n\u001b[0;32m      1\u001b[0m s\u001b[38;5;241m=\u001b[39m\u001b[38;5;124m'\u001b[39m\u001b[38;5;124mWelcome\u001b[39m\u001b[38;5;124m'\u001b[39m   \u001b[38;5;66;03m# welcome \u001b[39;00m\n\u001b[0;32m      2\u001b[0m \u001b[38;5;66;03m# i want to replace 'l' with 'L'\u001b[39;00m\n\u001b[0;32m      3\u001b[0m \u001b[38;5;66;03m# Posible \u001b[39;00m\n\u001b[0;32m      4\u001b[0m \u001b[38;5;66;03m# not posible \u001b[39;00m\n\u001b[1;32m----> 5\u001b[0m s[\u001b[38;5;241m2\u001b[39m]\u001b[38;5;241m=\u001b[39m\u001b[38;5;124m'\u001b[39m\u001b[38;5;124mL\u001b[39m\u001b[38;5;124m'\u001b[39m\n",
      "\u001b[1;31mTypeError\u001b[0m: 'str' object does not support item assignment"
     ]
    }
   ],
   "source": [
    "s='Welcome'   # welcome \n",
    "# i want to replace 'l' with 'L'\n",
    "# Posible \n",
    "# Not posible \n",
    "s[2]='L'"
   ]
  },
  {
   "cell_type": "markdown",
   "id": "cdf4ab6a-5311-4714-a243-034d1416f281",
   "metadata": {},
   "source": [
    "**Note**\n",
    "-  strings are immutable it can not change"
   ]
  },
  {
   "cell_type": "markdown",
   "id": "949a1e9c-272a-49b1-ba8c-d8047723e3ab",
   "metadata": {},
   "source": [
    "## strings are immutable "
   ]
  },
  {
   "cell_type": "code",
   "execution_count": 4,
   "id": "bf2c1b5a-df16-4d20-84cc-653632c0c0d2",
   "metadata": {},
   "outputs": [
    {
     "data": {
      "text/plain": [
       "[1, 200, 3, 4]"
      ]
     },
     "execution_count": 4,
     "metadata": {},
     "output_type": "execute_result"
    }
   ],
   "source": [
    "l=[1,2,3,4]    # 2=200\n",
    "l[1]=200\n",
    "l"
   ]
  },
  {
   "cell_type": "code",
   "execution_count": 5,
   "id": "d290a1b4-a4c0-44e7-b5aa-6fa75b3722e3",
   "metadata": {},
   "outputs": [
    {
     "data": {
      "text/plain": [
       "[1, 200, 3, 4]"
      ]
     },
     "execution_count": 5,
     "metadata": {},
     "output_type": "execute_result"
    }
   ],
   "source": [
    "s='welcome'\n",
    "s[2]\n",
    "##########\n",
    "l=[1,2,3,4]\n",
    "l[1]=200\n",
    "l"
   ]
  },
  {
   "cell_type": "code",
   "execution_count": null,
   "id": "7b1e643e-f0e1-4fc2-b5d5-668f4ebc58f6",
   "metadata": {},
   "outputs": [],
   "source": []
  },
  {
   "cell_type": "code",
   "execution_count": 15,
   "id": "f0e8168a-e20f-4e36-a661-97db7176d44b",
   "metadata": {},
   "outputs": [
    {
     "name": "stdout",
     "output_type": "stream",
     "text": [
      "w\n",
      "e\n",
      "l\n",
      "c\n",
      "o\n",
      "m\n",
      "e\n"
     ]
    }
   ],
   "source": [
    "#Q4) print each letter using for loop range \n",
    "s='welcome'\n",
    "# range belong to which family\n",
    "   # math family\n",
    "# inside range bracket what we need to provide\n",
    "   # number\n",
    "# How many numbers we need to provide\n",
    "  # number of letter :len(string)\n",
    "# How to accesse the letter using number\n",
    "  # by using index\n",
    "\n",
    "for i in range(7):\n",
    "    print(s[i])\n",
    "# i=0   s[0]=w\n",
    "# i=1   s[1]=e\n"
   ]
  },
  {
   "cell_type": "markdown",
   "id": "2ff3e1a6-f73e-4076-ae78-a34959b27c32",
   "metadata": {},
   "source": [
    "- range belong to which family\n",
    "   - math family\n",
    "- inside range bracket what we need to provide\n",
    "  - number\n",
    "- How many numbers we need to provide\n",
    "  - number of letter :len(string)\n",
    "- How to accesse the letter using number\n",
    "  - by using index"
   ]
  },
  {
   "cell_type": "code",
   "execution_count": 18,
   "id": "165824d2-102d-4748-b52a-858b8cc43c64",
   "metadata": {},
   "outputs": [
    {
     "name": "stdout",
     "output_type": "stream",
     "text": [
      "w\n",
      "e\n",
      "l\n",
      "c\n",
      "o\n",
      "m\n",
      "e\n",
      " \n",
      "t\n",
      "o\n",
      " \n",
      "n\n",
      "a\n",
      "r\n",
      "e\n",
      "s\n",
      "h\n",
      " \n",
      "i\n",
      "t\n"
     ]
    }
   ],
   "source": [
    "s='welcome to naresh it'\n",
    "n=len(s)\n",
    "for i in range (n):\n",
    "    print(s[i])"
   ]
  },
  {
   "cell_type": "markdown",
   "id": "09b0658b-1b87-479a-a05e-775e4c619385",
   "metadata": {},
   "source": [
    "- **for-in** dirctly access the letter \n",
    "- **for-range** will access using index"
   ]
  },
  {
   "cell_type": "code",
   "execution_count": 20,
   "id": "01ce5568-75b1-4e3e-a71c-5276cc455bc9",
   "metadata": {},
   "outputs": [
    {
     "name": "stdout",
     "output_type": "stream",
     "text": [
      "w\n",
      "e\n",
      "l\n",
      "c\n",
      "o\n",
      "m\n",
      "e\n",
      " \n",
      "t\n",
      "o\n",
      " \n",
      "n\n",
      "a\n",
      "r\n",
      "e\n",
      "s\n",
      "h\n",
      " \n",
      "i\n",
      "t\n"
     ]
    }
   ],
   "source": [
    "s='welcome to naresh it'\n",
    "for i in s:\n",
    "    print(i)"
   ]
  },
  {
   "cell_type": "code",
   "execution_count": 6,
   "id": "b3cc24ec-6328-4a60-bad9-49a63ec86272",
   "metadata": {},
   "outputs": [
    {
     "name": "stdout",
     "output_type": "stream",
     "text": [
      "0 w\n",
      "the positive index w is 0\n",
      "1 e\n",
      "the positive index e is 1\n",
      "2 l\n",
      "the positive index l is 2\n",
      "3 c\n",
      "the positive index c is 3\n",
      "4 o\n",
      "the positive index o is 4\n",
      "5 m\n",
      "the positive index m is 5\n",
      "6 e\n",
      "the positive index e is 6\n"
     ]
    }
   ],
   "source": [
    "#Q5) wap ask the user iterate using a string\n",
    "# string='welcome'\n",
    "#print  the positive index of w is 0\n",
    "#        the positive index of e is 1\n",
    "#        the positive index of l is 1\n",
    "s='welcome'\n",
    "n=len(s)\n",
    "for i in range(n):\n",
    "    print(i,s[i])\n",
    "    print(f\"the positive index {s[i]} is {i}\")"
   ]
  },
  {
   "cell_type": "code",
   "execution_count": 30,
   "id": "c628162f-3cf8-490f-ac30-23c36c275f78",
   "metadata": {},
   "outputs": [
    {
     "name": "stdout",
     "output_type": "stream",
     "text": [
      "0 -7\n",
      "the negative index of w is -7\n",
      "1 -6\n",
      "the negative index of e is -6\n",
      "2 -5\n",
      "the negative index of l is -5\n",
      "3 -4\n",
      "the negative index of c is -4\n",
      "4 -3\n",
      "the negative index of o is -3\n",
      "5 -2\n",
      "the negative index of m is -2\n",
      "6 -1\n",
      "the negative index of e is -1\n"
     ]
    }
   ],
   "source": [
    "#q6) wap ask the user iterate using a string\n",
    "# string='welcome'\n",
    "# print the negative index of w is-7\n",
    "#       the negative index of e is-6\n",
    "#       the negative index of l is-5\n",
    "# the positive index is 0 and the negative \n",
    "s='welcome'\n",
    "for i in range(len(s)):\n",
    "    print(i,i-len(s))\n",
    "    print(f\"the negative index of {s[i]} is {i-len(s)}\")\n",
    "    #0-7====-7\n",
    "    #1-2====-6\n",
    "    # 2-7===-5\n",
    "    # 3-7===-4"
   ]
  },
  {
   "cell_type": "code",
   "execution_count": 31,
   "id": "cdb9285e-b796-4412-b4e5-b62c2e0bb91b",
   "metadata": {},
   "outputs": [
    {
     "name": "stdout",
     "output_type": "stream",
     "text": [
      " the positive index is 0 the negative index of -7 for w\n",
      " the positive index is 1 the negative index of -6 for e\n",
      " the positive index is 2 the negative index of -5 for l\n",
      " the positive index is 3 the negative index of -4 for c\n",
      " the positive index is 4 the negative index of -3 for o\n",
      " the positive index is 5 the negative index of -2 for m\n",
      " the positive index is 6 the negative index of -1 for e\n"
     ]
    }
   ],
   "source": [
    "#q7)\n",
    "s='welcome'\n",
    "for i in range(len(s)):\n",
    "    print(f\" the positive index is {i} the negative index of {i-len(s)} for {s[i]}\")"
   ]
  },
  {
   "cell_type": "code",
   "execution_count": 9,
   "id": "6dc32215-6a04-4a4c-8075-8a2d80e16fee",
   "metadata": {},
   "outputs": [
    {
     "name": "stdout",
     "output_type": "stream",
     "text": [
      "1\n",
      "8\n",
      "17\n"
     ]
    }
   ],
   "source": [
    "#Q8) wap ask the user get the index of each 'a' in a given string \n",
    "# s='hai how are you  iam good'\n",
    "str='hai how are you iam good'\n",
    "for i in range (len(str)):\n",
    "    if str[i]=='a':\n",
    "        print(i)\n",
    "        \n",
    "str='hai how are you i am good'\n",
    "for i in s:\n",
    "    if i=='a':\n",
    "        print(i)"
   ]
  },
  {
   "cell_type": "code",
   "execution_count": 12,
   "id": "bbc4081f-277e-404d-802e-fc1ebba38257",
   "metadata": {},
   "outputs": [
    {
     "name": "stdout",
     "output_type": "stream",
     "text": [
      "the total count of  3\n"
     ]
    }
   ],
   "source": [
    "#Q9) wap ask the user to to get of 'a' in agiven string \n",
    "# using for-range \n",
    "\n",
    "s=\"hai how are you i am good\"\n",
    "count=0\n",
    "for i in range(len(s)):\n",
    "      if s[i]=='a':\n",
    "        count=count+1\n",
    "print(\"the total count of \",count)\n"
   ]
  },
  {
   "cell_type": "code",
   "execution_count": 17,
   "id": "3a281ebe-56ea-4044-a129-1ea7cfb3b59a",
   "metadata": {},
   "outputs": [
    {
     "data": {
      "text/plain": [
       "84"
      ]
     },
     "execution_count": 17,
     "metadata": {},
     "output_type": "execute_result"
    }
   ],
   "source": [
    "#10Q)   wap ask the user to get the sum of all index numbers of 'a'\n",
    "# 1+8+18=28\n",
    "str='hai how are you iam good'\n",
    "count=0\n",
    "for i in range (len(str)):\n",
    "    if str[i]=='a':\n",
    "        summ=summ+i\n",
    "summ"
   ]
  },
  {
   "cell_type": "code",
   "execution_count": 20,
   "id": "bbc465da-f731-4b49-afd0-b7625ba2a5f0",
   "metadata": {},
   "outputs": [
    {
     "name": "stdout",
     "output_type": "stream",
     "text": [
      "a\n",
      "i\n",
      "o\n",
      "a\n",
      "e\n",
      "o\n",
      "u\n",
      "i\n",
      "a\n",
      "o\n",
      "o\n",
      "yhe total count of values 11\n"
     ]
    }
   ],
   "source": [
    "#Q11) wap ask the user get the vowels from a given string using for-range \n",
    "s='hai how are you iam good'\n",
    "count=0\n",
    "for i in range (len(s)):\n",
    "    if s[i] in 'aeiou':\n",
    "        print(s[i])\n",
    "        count=count+1\n",
    "        \n",
    "print(\"yhe total count of values\",count)"
   ]
  },
  {
   "cell_type": "code",
   "execution_count": 27,
   "id": "b1ec93ab-58df-4456-897b-5a7de7133c72",
   "metadata": {},
   "outputs": [
    {
     "name": "stdout",
     "output_type": "stream",
     "text": [
      "i\n",
      "o\n",
      "a\n",
      "e\n",
      "u\n",
      "the taotal number vowels  5\n"
     ]
    }
   ],
   "source": [
    "# Q12) wap ask the user get the vowels from a given string using for-range\n",
    "s='hi how are you i am good'\n",
    "s1=''\n",
    "count=0\n",
    "for i in range(len(s)):\n",
    "    if s[i] not in s1:\n",
    "       if s[i] in 'aeiou':\n",
    "        print(s[i])\n",
    "        s1=s1+s[i]\n",
    "        count=count+1\n",
    "print(\"the taotal number vowels \",count)"
   ]
  },
  {
   "cell_type": "code",
   "execution_count": null,
   "id": "cd081303-ba9b-4b10-8edc-cddd6a4f1d23",
   "metadata": {},
   "outputs": [],
   "source": [
    "# q14) string1='ola ola ola'\n",
    "# number of ola=3\n",
    "\n",
    "\n",
    "#q15)  string1='hello hello hello haw how how how are you'\n",
    "# what is the most repeated word: how \n",
    "\n",
    "# Q16) string1='helooooo length of word:hellooooo\n",
    "# what is minimum length of word is: u\n",
    "\n",
    "# with out using sorted then the sort the letters"
   ]
  },
  {
   "cell_type": "code",
   "execution_count": 6,
   "id": "bb2e4a10-6c8f-469d-8070-fcc53fd21f14",
   "metadata": {},
   "outputs": [
    {
     "name": "stdout",
     "output_type": "stream",
     "text": [
      "the taotal number vowels  0\n"
     ]
    }
   ],
   "source": [
    "#q15)  string1='hello hello hello haw how how how are you'\n",
    "# what is the most repeated word: how \n",
    "s='hello hello hello haw how how how are you'\n",
    "s='hi how are you i am good'\n",
    "s1=''\n",
    "count=0\n",
    "for i in range(len(s)):\n",
    "    "
   ]
  },
  {
   "cell_type": "markdown",
   "id": "6af49057-5175-4618-aa4d-70c51288a695",
   "metadata": {},
   "source": [
    "**Slice**"
   ]
  },
  {
   "cell_type": "markdown",
   "id": "941cda67-21cb-4447-93a9-c4b1647d08e8",
   "metadata": {},
   "source": [
    "- we can cut into pieces\n",
    "- smiliar to range concept\n",
    "- start,stop,step here also"
   ]
  },
  {
   "cell_type": "code",
   "execution_count": 2,
   "id": "f4210a9a-356a-4fe6-bd85-be3569f78d3a",
   "metadata": {},
   "outputs": [],
   "source": [
    "str1='hai how are you'"
   ]
  },
  {
   "cell_type": "code",
   "execution_count": null,
   "id": "0b52a37b-8d72-4a3b-a898-d7e6eca2ccb4",
   "metadata": {},
   "outputs": [],
   "source": [
    "-15 -14 -13-12 -11 -10 -9-8 -7-6-5  -4  -3-2-1\n",
    "h    a   i      h   o  w    a  r  e     y  o  u\n",
    "1    2  3  4    5   6  7  8 9 10 11  12 13 14 15"
   ]
  },
  {
   "cell_type": "code",
   "execution_count": null,
   "id": "5e9367e3-09a8-4f47-af87-f5eca6ebe9ef",
   "metadata": {},
   "outputs": [],
   "source": [
    "str1='hai how are you'\n",
    "str1[start:stop:step]"
   ]
  },
  {
   "cell_type": "markdown",
   "id": "4f5a2fbe-5a88-4d2b-820a-7f723ce3a126",
   "metadata": {},
   "source": [
    "$pattern-1$\n",
    "\n",
    "**str1[start:]**\n",
    "- by default start value=start only\n",
    "- last value mnothing mentioned automatically will go till=last only\n",
    "- step nothing mentioned means, it is a positive dirction and increment by 1\n"
   ]
  },
  {
   "cell_type": "code",
   "execution_count": 6,
   "id": "04d8259f-5833-4239-8bab-a28989e7bd67",
   "metadata": {},
   "outputs": [
    {
     "data": {
      "text/plain": [
       "'ow are you'"
      ]
     },
     "execution_count": 6,
     "metadata": {},
     "output_type": "execute_result"
    }
   ],
   "source": [
    "str1='hai how are you'\n",
    "str1[5:]"
   ]
  },
  {
   "cell_type": "code",
   "execution_count": 7,
   "id": "ba7d625d-b2e3-4f5c-8468-468e26798ffa",
   "metadata": {},
   "outputs": [
    {
     "data": {
      "text/plain": [
       "'e you'"
      ]
     },
     "execution_count": 7,
     "metadata": {},
     "output_type": "execute_result"
    }
   ],
   "source": [
    "str1[10:]"
   ]
  },
  {
   "cell_type": "code",
   "execution_count": 9,
   "id": "a7af45ed-667c-4c65-8d80-e88c30041a32",
   "metadata": {},
   "outputs": [
    {
     "data": {
      "text/plain": [
       "'e you'"
      ]
     },
     "execution_count": 9,
     "metadata": {},
     "output_type": "execute_result"
    }
   ],
   "source": [
    "str1[-5:]"
   ]
  },
  {
   "cell_type": "code",
   "execution_count": 10,
   "id": "c67d1ed3-cf13-40d0-93ea-2f5bff1b1e5d",
   "metadata": {},
   "outputs": [
    {
     "data": {
      "text/plain": [
       "('ow are you', 'ow are you')"
      ]
     },
     "execution_count": 10,
     "metadata": {},
     "output_type": "execute_result"
    }
   ],
   "source": [
    "str1[5:],str1[-10:]   # BOTH WILL "
   ]
  },
  {
   "cell_type": "code",
   "execution_count": 13,
   "id": "72a354b0-482e-4ad2-b8ae-2924dc7ee4cb",
   "metadata": {},
   "outputs": [
    {
     "data": {
      "text/plain": [
       "'u'"
      ]
     },
     "execution_count": 13,
     "metadata": {},
     "output_type": "execute_result"
    }
   ],
   "source": [
    "str1[14]"
   ]
  },
  {
   "cell_type": "code",
   "execution_count": 14,
   "id": "0e020ee7-f8e9-43e5-9c16-1f4c577f17ed",
   "metadata": {},
   "outputs": [
    {
     "data": {
      "text/plain": [
       "'u'"
      ]
     },
     "execution_count": 14,
     "metadata": {},
     "output_type": "execute_result"
    }
   ],
   "source": [
    "str1[-1]"
   ]
  },
  {
   "cell_type": "markdown",
   "id": "150bfe6c-9304-4ae8-a500-a993f97ac8d7",
   "metadata": {},
   "source": [
    "$pattern-2$\n",
    "str1[start:stop]\n",
    "- start value mean by default start only\n",
    "- step is not mentioned positive direction\n",
    "- last=stop-1"
   ]
  },
  {
   "cell_type": "code",
   "execution_count": 16,
   "id": "9f25d077-5dc2-41c0-a561-8b5a8c3eb026",
   "metadata": {},
   "outputs": [
    {
     "data": {
      "text/plain": [
       "'ow are yo'"
      ]
     },
     "execution_count": 16,
     "metadata": {},
     "output_type": "execute_result"
    }
   ],
   "source": [
    "#  -15  -14 -13   -12  -11 -10 -9  -8  -7-6-5   -4   -3-2-1\n",
    "#   h   a   i           h   o  w       a  r  e       y  o  u\n",
    "#  0   1   2       3    4  5   6   7   8  9 10  11   12 13 14 \n",
    "\n",
    "str1='hai how are you'\n",
    "str1[5:14]"
   ]
  },
  {
   "cell_type": "code",
   "execution_count": 17,
   "id": "6fb5d77f-cf69-4768-8839-b8435ecfbfd8",
   "metadata": {},
   "outputs": [
    {
     "data": {
      "text/plain": [
       "'e yo'"
      ]
     },
     "execution_count": 17,
     "metadata": {},
     "output_type": "execute_result"
    }
   ],
   "source": [
    "str1[-5:14]"
   ]
  },
  {
   "cell_type": "code",
   "execution_count": 20,
   "id": "e7719d5b-5685-4dd6-98d0-4a88310800af",
   "metadata": {},
   "outputs": [
    {
     "data": {
      "text/plain": [
       "''"
      ]
     },
     "execution_count": 20,
     "metadata": {},
     "output_type": "execute_result"
    }
   ],
   "source": [
    "str1[5:-14]"
   ]
  },
  {
   "cell_type": "code",
   "execution_count": 21,
   "id": "e663bf2c-1251-454c-b6ce-2c199364094b",
   "metadata": {},
   "outputs": [
    {
     "data": {
      "text/plain": [
       "''"
      ]
     },
     "execution_count": 21,
     "metadata": {},
     "output_type": "execute_result"
    }
   ],
   "source": [
    "str1[-5:14]"
   ]
  },
  {
   "cell_type": "code",
   "execution_count": null,
   "id": "2ce4d5b7-7ac6-48b3-953d-80099021da20",
   "metadata": {},
   "outputs": [],
   "source": [
    "sr1='hai how are  you'\n",
    "str1="
   ]
  },
  {
   "cell_type": "markdown",
   "id": "02d04628-c842-410c-ad54-9a8e291cca98",
   "metadata": {},
   "source": [
    "**truncation behaviour**\n",
    "\n",
    "- when ever string range is limited, but we provided unlimited number\n",
    "- string will consider till the range we have\n",
    "- in the above example our range only 15 letters\n",
    "- we provieded 500, then 500 will truncate to till 15 letter only"
   ]
  },
  {
   "cell_type": "code",
   "execution_count": null,
   "id": "d77e8b7d-8445-41e9-8d6c-2a7cbd188261",
   "metadata": {},
   "outputs": [],
   "source": [
    "str1[5:500]      # answer\n",
    "str1[-500:500]   # answer\n",
    "str1[-1:500]  # anse\n",
    "str1[500:]    # no ans\n",
    "str1[-500,-100]  # no ans"
   ]
  },
  {
   "cell_type": "markdown",
   "id": "217eed0a-ece8-4cc1-90a4-a5270d99dc77",
   "metadata": {},
   "source": [
    "$pattern-3$\n",
    "**str1 avlue means start only**\n",
    "**if step value positive**\n"
   ]
  },
  {
   "cell_type": "code",
   "execution_count": 25,
   "id": "d4e3c139-6d56-4025-a20e-39b5b7a96501",
   "metadata": {},
   "outputs": [
    {
     "data": {
      "text/plain": [
       "'ihwaey'"
      ]
     },
     "execution_count": 25,
     "metadata": {},
     "output_type": "execute_result"
    }
   ],
   "source": [
    "#  -15  -14 -13   -12  -11 -10 -9  -8  -7-6-5   -4   -3-2-1\n",
    "#   h   a   i           h   o  w       a  r  e       y  o  u\n",
    "#  0   1   2       3    4  5   6   7   8  9 10  11   12 13 14 \n",
    "\n",
    "str1='hai how are you'\n",
    "str1[2:13:2] # p\n",
    "str1[2:13:-2] # np\n",
    "str1[2:-13:2]  # np\n",
    "str1[-2:-13:2] #  np\n",
    "str1[-2:-13:-2]   #p\n",
    "str1[13:2:2]      #np\n",
    "str1[-13:2:2]     #np(CHECK)\n",
    "str1[-13:-2:2]    # p\n",
    "str1[-13:-2:-2]   #np\n",
    "str1[-13:2:-2]   # np(CHECK)"
   ]
  },
  {
   "cell_type": "code",
   "execution_count": 26,
   "id": "65e480b8-2bda-43fc-adc9-53a827647851",
   "metadata": {},
   "outputs": [
    {
     "data": {
      "text/plain": [
       "'ihwaey'"
      ]
     },
     "execution_count": 26,
     "metadata": {},
     "output_type": "execute_result"
    }
   ],
   "source": [
    "str1='hai how are you'\n",
    "str1[2:13:2] # p"
   ]
  },
  {
   "cell_type": "code",
   "execution_count": 27,
   "id": "394eed22-764a-406c-85ef-7464aa7a3ff2",
   "metadata": {},
   "outputs": [
    {
     "data": {
      "text/plain": [
       "''"
      ]
     },
     "execution_count": 27,
     "metadata": {},
     "output_type": "execute_result"
    }
   ],
   "source": [
    "str1[2:13:-2] # np"
   ]
  },
  {
   "cell_type": "code",
   "execution_count": 28,
   "id": "80292270-16c3-42ef-8f5a-8bd6963ee92f",
   "metadata": {},
   "outputs": [
    {
     "data": {
      "text/plain": [
       "''"
      ]
     },
     "execution_count": 28,
     "metadata": {},
     "output_type": "execute_result"
    }
   ],
   "source": [
    "str1[2:-13:2]  # np"
   ]
  },
  {
   "cell_type": "code",
   "execution_count": 29,
   "id": "02bbbc25-03bb-46df-968b-69d5a9c6cd47",
   "metadata": {},
   "outputs": [
    {
     "data": {
      "text/plain": [
       "'o r o '"
      ]
     },
     "execution_count": 29,
     "metadata": {},
     "output_type": "execute_result"
    }
   ],
   "source": [
    "str1[-2:-13:-2] #np"
   ]
  },
  {
   "cell_type": "code",
   "execution_count": 30,
   "id": "dbed9164-d08b-4aaa-ba2b-248e13f06aa1",
   "metadata": {},
   "outputs": [
    {
     "data": {
      "text/plain": [
       "''"
      ]
     },
     "execution_count": 30,
     "metadata": {},
     "output_type": "execute_result"
    }
   ],
   "source": [
    "str1[-2:-13:2] #  np"
   ]
  },
  {
   "cell_type": "code",
   "execution_count": 31,
   "id": "162a7888-04cb-43f5-ab07-7524dc307913",
   "metadata": {},
   "outputs": [
    {
     "data": {
      "text/plain": [
       "''"
      ]
     },
     "execution_count": 31,
     "metadata": {},
     "output_type": "execute_result"
    }
   ],
   "source": [
    "str1[13:2:2]      #np"
   ]
  },
  {
   "cell_type": "code",
   "execution_count": 32,
   "id": "a7be88ff-95ce-42d2-b89e-ec9239f71cc5",
   "metadata": {},
   "outputs": [
    {
     "data": {
      "text/plain": [
       "''"
      ]
     },
     "execution_count": 32,
     "metadata": {},
     "output_type": "execute_result"
    }
   ],
   "source": [
    "str1[-13:2:2]     #np(CHECK)"
   ]
  },
  {
   "cell_type": "code",
   "execution_count": 33,
   "id": "8ffffdcf-c6a3-48ac-88ff-60284cca11ba",
   "metadata": {},
   "outputs": [
    {
     "data": {
      "text/plain": [
       "'ihwaey'"
      ]
     },
     "execution_count": 33,
     "metadata": {},
     "output_type": "execute_result"
    }
   ],
   "source": [
    "str1[-13:-2:2]    # p"
   ]
  },
  {
   "cell_type": "code",
   "execution_count": 34,
   "id": "d957a67f-4a87-449e-a7e2-cfeb0c22d478",
   "metadata": {},
   "outputs": [
    {
     "data": {
      "text/plain": [
       "''"
      ]
     },
     "execution_count": 34,
     "metadata": {},
     "output_type": "execute_result"
    }
   ],
   "source": [
    "str1[-13:-2:-2]   #np"
   ]
  },
  {
   "cell_type": "code",
   "execution_count": 35,
   "id": "05c0b459-1027-4126-947b-1c975bf5d696",
   "metadata": {},
   "outputs": [
    {
     "data": {
      "text/plain": [
       "''"
      ]
     },
     "execution_count": 35,
     "metadata": {},
     "output_type": "execute_result"
    }
   ],
   "source": [
    "str1[-13:2:-2]   # np(CHECK)"
   ]
  },
  {
   "cell_type": "code",
   "execution_count": null,
   "id": "fa737ab1-6577-4f5b-8012-f8f9ee81b8ec",
   "metadata": {},
   "outputs": [],
   "source": [
    "str1[:]    # complete string \n",
    "str1[::]   # complete string\n",
    "str[<start>::-1]  # reverse start value=-1\n",
    "str[<start>:5:-2]"
   ]
  },
  {
   "cell_type": "markdown",
   "id": "fe1cd574-9c7b-4f98-86a8-62bf446b0d42",
   "metadata": {},
   "source": [
    "**Method**\n",
    "- starting lists tuple dictionary every data type has its own method \n",
    "- we alrsady seen that package has different method\n",
    "- for example random package :randint method\n",
    "- math package : sqrt\n",
    "- in the same way string also have method\n",
    "- in order to see method for the package\n",
    "    - we are importing the package\n",
    "    - we are applying dir\n",
    "- in the similar way in order to see the methods of string,we need to apply to dir only"
   ]
  },
  {
   "cell_type": "code",
   "execution_count": 36,
   "id": "99968627-f8ad-4b9c-8901-12541e52668a",
   "metadata": {},
   "outputs": [
    {
     "data": {
      "text/plain": [
       "['__add__',\n",
       " '__class__',\n",
       " '__contains__',\n",
       " '__delattr__',\n",
       " '__dir__',\n",
       " '__doc__',\n",
       " '__eq__',\n",
       " '__format__',\n",
       " '__ge__',\n",
       " '__getattribute__',\n",
       " '__getitem__',\n",
       " '__getnewargs__',\n",
       " '__getstate__',\n",
       " '__gt__',\n",
       " '__hash__',\n",
       " '__init__',\n",
       " '__init_subclass__',\n",
       " '__iter__',\n",
       " '__le__',\n",
       " '__len__',\n",
       " '__lt__',\n",
       " '__mod__',\n",
       " '__mul__',\n",
       " '__ne__',\n",
       " '__new__',\n",
       " '__reduce__',\n",
       " '__reduce_ex__',\n",
       " '__repr__',\n",
       " '__rmod__',\n",
       " '__rmul__',\n",
       " '__setattr__',\n",
       " '__sizeof__',\n",
       " '__str__',\n",
       " '__subclasshook__',\n",
       " 'capitalize',\n",
       " 'casefold',\n",
       " 'center',\n",
       " 'count',\n",
       " 'encode',\n",
       " 'endswith',\n",
       " 'expandtabs',\n",
       " 'find',\n",
       " 'format',\n",
       " 'format_map',\n",
       " 'index',\n",
       " 'isalnum',\n",
       " 'isalpha',\n",
       " 'isascii',\n",
       " 'isdecimal',\n",
       " 'isdigit',\n",
       " 'isidentifier',\n",
       " 'islower',\n",
       " 'isnumeric',\n",
       " 'isprintable',\n",
       " 'isspace',\n",
       " 'istitle',\n",
       " 'isupper',\n",
       " 'join',\n",
       " 'ljust',\n",
       " 'lower',\n",
       " 'lstrip',\n",
       " 'maketrans',\n",
       " 'partition',\n",
       " 'removeprefix',\n",
       " 'removesuffix',\n",
       " 'replace',\n",
       " 'rfind',\n",
       " 'rindex',\n",
       " 'rjust',\n",
       " 'rpartition',\n",
       " 'rsplit',\n",
       " 'rstrip',\n",
       " 'split',\n",
       " 'splitlines',\n",
       " 'startswith',\n",
       " 'strip',\n",
       " 'swapcase',\n",
       " 'title',\n",
       " 'translate',\n",
       " 'upper',\n",
       " 'zfill']"
      ]
     },
     "execution_count": 36,
     "metadata": {},
     "output_type": "execute_result"
    }
   ],
   "source": [
    "dir('')   \n",
    "# dir('hai')\n",
    "# str1='apple'\n",
    "#dir\n"
   ]
  },
  {
   "cell_type": "code",
   "execution_count": null,
   "id": "2cca654a-9406-41ad-b0c4-ff8e9030f614",
   "metadata": {},
   "outputs": [],
   "source": [
    "- lower \n",
    "- upper\n",
    "- captalization \n",
    "- title \n",
    "- casefold\n",
    "- center "
   ]
  },
  {
   "cell_type": "markdown",
   "id": "f3872f5b-daca-4f53-b840-e19e8aee2faa",
   "metadata": {},
   "source": [
    "**upper**"
   ]
  },
  {
   "cell_type": "code",
   "execution_count": null,
   "id": "c352d1db-526d-4108-ae52-5ac3e009ff17",
   "metadata": {},
   "outputs": [],
   "source": []
  },
  {
   "cell_type": "code",
   "execution_count": 4,
   "id": "1c164669-4250-48f8-8b9e-7ed294a74725",
   "metadata": {},
   "outputs": [
    {
     "data": {
      "text/plain": [
       "'HAI HOW ARE YOU'"
      ]
     },
     "execution_count": 4,
     "metadata": {},
     "output_type": "execute_result"
    }
   ],
   "source": [
    "str1='hai how are you'\n",
    "str1.upper()"
   ]
  },
  {
   "cell_type": "markdown",
   "id": "e444a3ce-2c40-489a-93ba-7cb79c4cea14",
   "metadata": {},
   "source": [
    "**lower**"
   ]
  },
  {
   "cell_type": "code",
   "execution_count": 5,
   "id": "7fe33a1f-2e84-48ac-a914-f84d2dce8253",
   "metadata": {},
   "outputs": [
    {
     "data": {
      "text/plain": [
       "'hai how are you'"
      ]
     },
     "execution_count": 5,
     "metadata": {},
     "output_type": "execute_result"
    }
   ],
   "source": [
    "str1.lower()"
   ]
  },
  {
   "cell_type": "markdown",
   "id": "6ed8625e-ccf5-4cf9-a971-b63c6046c2e5",
   "metadata": {},
   "source": [
    "**casefold**"
   ]
  },
  {
   "cell_type": "code",
   "execution_count": 6,
   "id": "388d0598-bee6-4a54-b69b-636f5246cc20",
   "metadata": {},
   "outputs": [
    {
     "data": {
      "text/plain": [
       "'hai how are you'"
      ]
     },
     "execution_count": 6,
     "metadata": {},
     "output_type": "execute_result"
    }
   ],
   "source": [
    "str1.casefold()"
   ]
  },
  {
   "cell_type": "markdown",
   "id": "66c3c8f0-35ad-4b43-b3ab-e5f4a578a3af",
   "metadata": {},
   "source": [
    "**Title**"
   ]
  },
  {
   "cell_type": "code",
   "execution_count": 7,
   "id": "17dc7e5c-d9a7-46b7-849e-7e11f0fa2dc8",
   "metadata": {},
   "outputs": [
    {
     "data": {
      "text/plain": [
       "'Hai How Are You'"
      ]
     },
     "execution_count": 7,
     "metadata": {},
     "output_type": "execute_result"
    }
   ],
   "source": [
    "str1.title()"
   ]
  },
  {
   "cell_type": "code",
   "execution_count": 8,
   "id": "1be08900-9cc5-4097-8d62-1826e4cc6931",
   "metadata": {},
   "outputs": [],
   "source": [
    "# str1='hai how are you'\n",
    "# o/p ='Hai How Are You'\n",
    "# with out using any method \n",
    "# one more level : iterate each letter apply captilization"
   ]
  },
  {
   "cell_type": "markdown",
   "id": "2de81ce0-3fc0-4b7e-9684-f79840f123c7",
   "metadata": {},
   "source": [
    "**center**"
   ]
  },
  {
   "cell_type": "code",
   "execution_count": 9,
   "id": "45225c62-c4d2-4c7b-a569-1b6e3e64f2ac",
   "metadata": {},
   "outputs": [
    {
     "data": {
      "text/plain": [
       "'hai how are you'"
      ]
     },
     "execution_count": 9,
     "metadata": {},
     "output_type": "execute_result"
    }
   ],
   "source": [
    "str1.center(10)"
   ]
  },
  {
   "cell_type": "code",
   "execution_count": 10,
   "id": "1fabe98e-2015-4a6b-9a46-0feb076f1a07",
   "metadata": {},
   "outputs": [
    {
     "data": {
      "text/plain": [
       "'  hai how are you   '"
      ]
     },
     "execution_count": 10,
     "metadata": {},
     "output_type": "execute_result"
    }
   ],
   "source": [
    "str1.center(20)"
   ]
  },
  {
   "cell_type": "markdown",
   "id": "dea93822-4d37-4969-a6c6-f2d6351141f7",
   "metadata": {},
   "source": [
    "- center has two aruguments\n",
    "    - width\n",
    "    - fill char\n",
    "-  original string already :15 letters\n",
    "-  we want to create a new string with 20 letter\n",
    "-  remaining 5 letter by default empty\n",
    "-  we can fill with charcters also"
   ]
  },
  {
   "cell_type": "code",
   "execution_count": 11,
   "id": "6d2d4e1e-de9f-45bb-8a11-041ee67ff364",
   "metadata": {},
   "outputs": [
    {
     "data": {
      "text/plain": [
       "'*****hai how are you******'"
      ]
     },
     "execution_count": 11,
     "metadata": {},
     "output_type": "execute_result"
    }
   ],
   "source": [
    "str1.center(26,'*')"
   ]
  },
  {
   "cell_type": "code",
   "execution_count": 12,
   "id": "935d74dd-c9fb-4ed7-bece-2c8c329f2f53",
   "metadata": {},
   "outputs": [
    {
     "ename": "TypeError",
     "evalue": "center expected at least 1 argument, got 0",
     "output_type": "error",
     "traceback": [
      "\u001b[1;31m---------------------------------------------------------------------------\u001b[0m",
      "\u001b[1;31mTypeError\u001b[0m                                 Traceback (most recent call last)",
      "Cell \u001b[1;32mIn[12], line 1\u001b[0m\n\u001b[1;32m----> 1\u001b[0m str1\u001b[38;5;241m.\u001b[39mcenter()\n",
      "\u001b[1;31mTypeError\u001b[0m: center expected at least 1 argument, got 0"
     ]
    }
   ],
   "source": [
    "str1.center()"
   ]
  },
  {
   "cell_type": "markdown",
   "id": "0439658a-faa0-4790-b630-a08a90c9f047",
   "metadata": {},
   "source": [
    "- upper \n",
    "- lower\n",
    "- casefold\n",
    "- Title \n",
    "- captalize\n",
    "- center"
   ]
  },
  {
   "cell_type": "markdown",
   "id": "42607293-cc26-4826-83fd-8b441cbf0d4d",
   "metadata": {},
   "source": [
    "**Count**"
   ]
  },
  {
   "cell_type": "code",
   "execution_count": null,
   "id": "8eb27575-4a1e-40ce-949f-23f8b61a26b4",
   "metadata": {},
   "outputs": [],
   "source": [
    "str1='hai how are you'\n",
    "# how many 'a' s there "
   ]
  },
  {
   "cell_type": "code",
   "execution_count": 14,
   "id": "f1062784-ff3b-4b72-b52a-6ae37d2e6760",
   "metadata": {},
   "outputs": [],
   "source": [
    "count=0\n",
    "for i in str1:\n",
    "    if i=='a':\n",
    "        count=count+1\n",
    "count=0"
   ]
  },
  {
   "cell_type": "code",
   "execution_count": null,
   "id": "c972866f-f188-4310-9027-685c14baa4b9",
   "metadata": {},
   "outputs": [],
   "source": [
    "# h  a  i    h  a  i    h  a  i\n",
    "# 0  1  2 3  4  5  6 7 8  9  10   "
   ]
  },
  {
   "cell_type": "code",
   "execution_count": 17,
   "id": "58995dc9-8290-4c1e-8646-1bc8ada4b5e5",
   "metadata": {},
   "outputs": [
    {
     "data": {
      "text/plain": [
       "2"
      ]
     },
     "execution_count": 17,
     "metadata": {},
     "output_type": "execute_result"
    }
   ],
   "source": [
    "str1.count('a')"
   ]
  },
  {
   "cell_type": "code",
   "execution_count": 19,
   "id": "2435a900-2b8f-4a61-8065-57af9150d8aa",
   "metadata": {},
   "outputs": [
    {
     "data": {
      "text/plain": [
       "3"
      ]
     },
     "execution_count": 19,
     "metadata": {},
     "output_type": "execute_result"
    }
   ],
   "source": [
    "str1='hai hai hai'\n",
    "str1.count('a')\n",
    "# we are serching number of 'a'fromindex"
   ]
  },
  {
   "cell_type": "markdown",
   "id": "8ff85701-9aff-4dd8-9240-fdb44daea268",
   "metadata": {},
   "source": [
    "- we want number of a from a speacific index\n",
    "- we want number of a between two index"
   ]
  },
  {
   "cell_type": "code",
   "execution_count": 20,
   "id": "ae0c48eb-99a6-4963-bc19-2a61c750f26c",
   "metadata": {},
   "outputs": [
    {
     "data": {
      "text/plain": [
       "<function str.count>"
      ]
     },
     "execution_count": 20,
     "metadata": {},
     "output_type": "execute_result"
    }
   ],
   "source": [
    "# h  a  i    h  a  i    h  a  i\n",
    "# 0  1  2 3  4  5  6 7 8  9  10   \n",
    "str1.count('a') # all the 'a'\n",
    "str1.count('a',5) # we are serching number of 'a'from index=3\n",
    "str1.count('a',4,"
   ]
  },
  {
   "cell_type": "code",
   "execution_count": null,
   "id": "1d609549-8ce2-48b3-b972-8127520ec1f3",
   "metadata": {},
   "outputs": [],
   "source": [
    "# reverse check"
   ]
  },
  {
   "cell_type": "code",
   "execution_count": 21,
   "id": "ef284344-c162-4c4e-876c-46f07904be76",
   "metadata": {},
   "outputs": [
    {
     "data": {
      "text/plain": [
       "3"
      ]
     },
     "execution_count": 21,
     "metadata": {},
     "output_type": "execute_result"
    }
   ],
   "source": [
    "str1='ola ola ola'\n",
    "str1.count('ola')"
   ]
  },
  {
   "cell_type": "code",
   "execution_count": 24,
   "id": "accc101a-9385-4473-b093-dac5500753ce",
   "metadata": {},
   "outputs": [
    {
     "name": "stdout",
     "output_type": "stream",
     "text": [
      "a\n",
      "a\n",
      "a\n"
     ]
    }
   ],
   "source": [
    "str1='ola ola ola'\n",
    "for i in str1:\n",
    "    if i=='a':\n",
    "        print(i)"
   ]
  },
  {
   "cell_type": "code",
   "execution_count": null,
   "id": "64143b61-cf83-40aa-b710-36aa816db633",
   "metadata": {},
   "outputs": [],
   "source": [
    "str1[i:i+3]\n",
    "i=0    str1[0:3]======> ola \n",
    "i=1    str1[1"
   ]
  },
  {
   "cell_type": "markdown",
   "id": "af300ac7-b7eb-4946-b6d4-9bf06d5581fb",
   "metadata": {},
   "source": [
    "**window method**"
   ]
  },
  {
   "cell_type": "code",
   "execution_count": null,
   "id": "a5f735d1-1c17-4831-a0cd-89b530533bb5",
   "metadata": {},
   "outputs": [],
   "source": [
    "step-1 count=0\n"
   ]
  },
  {
   "cell_type": "code",
   "execution_count": 29,
   "id": "9bff5e9a-13b0-436a-96b0-30e3da293471",
   "metadata": {},
   "outputs": [
    {
     "ename": "TypeError",
     "evalue": "'int' object is not iterable",
     "output_type": "error",
     "traceback": [
      "\u001b[1;31m---------------------------------------------------------------------------\u001b[0m",
      "\u001b[1;31mTypeError\u001b[0m                                 Traceback (most recent call last)",
      "Cell \u001b[1;32mIn[29], line 3\u001b[0m\n\u001b[0;32m      1\u001b[0m count\u001b[38;5;241m=\u001b[39m\u001b[38;5;241m0\u001b[39m\n\u001b[0;32m      2\u001b[0m str1\u001b[38;5;241m=\u001b[39m\u001b[38;5;124m'\u001b[39m\u001b[38;5;124mola ola ola\u001b[39m\u001b[38;5;124m'\u001b[39m\n\u001b[1;32m----> 3\u001b[0m \u001b[38;5;28;01mfor\u001b[39;00m i \u001b[38;5;129;01min\u001b[39;00m (\u001b[38;5;28mlen\u001b[39m(str1)):\n\u001b[0;32m      4\u001b[0m     \u001b[38;5;28;01mif\u001b[39;00m str1[i:i\u001b[38;5;241m+\u001b[39m\u001b[38;5;241m3\u001b[39m]\u001b[38;5;241m==\u001b[39m\u001b[38;5;124m'\u001b[39m\u001b[38;5;124mola\u001b[39m\u001b[38;5;124m'\u001b[39m:\n\u001b[0;32m      5\u001b[0m         count\u001b[38;5;241m=\u001b[39mcount\u001b[38;5;241m+\u001b[39m\u001b[38;5;241m1\u001b[39m\n",
      "\u001b[1;31mTypeError\u001b[0m: 'int' object is not iterable"
     ]
    }
   ],
   "source": [
    "count=0\n",
    "str1='ola ola ola'\n",
    "for i in (len(str1)):\n",
    "    if str1[i:i+3]=='ola':\n",
    "        count=count+1\n",
    "\n",
    "print(count)"
   ]
  },
  {
   "cell_type": "code",
   "execution_count": 30,
   "id": "e6b46aa4-c43f-4efa-89c1-cc948c7d9051",
   "metadata": {},
   "outputs": [
    {
     "data": {
      "text/plain": [
       "1"
      ]
     },
     "execution_count": 30,
     "metadata": {},
     "output_type": "execute_result"
    }
   ],
   "source": [
    "str1='ola ola ola'\n",
    "str1.count('ola ola ola')"
   ]
  },
  {
   "cell_type": "code",
   "execution_count": 31,
   "id": "9206d94c-0713-4e27-9858-c1446adceebf",
   "metadata": {},
   "outputs": [
    {
     "data": {
      "text/plain": [
       "1"
      ]
     },
     "execution_count": 31,
     "metadata": {},
     "output_type": "execute_result"
    }
   ],
   "source": [
    "str1='ola ola ola'\n",
    "str1.count(str1)"
   ]
  },
  {
   "cell_type": "code",
   "execution_count": 32,
   "id": "6b8b235f-72ad-4f6b-ac1a-9553c6070080",
   "metadata": {},
   "outputs": [
    {
     "data": {
      "text/plain": [
       "0"
      ]
     },
     "execution_count": 32,
     "metadata": {},
     "output_type": "execute_result"
    }
   ],
   "source": [
    "str1.count('z')"
   ]
  },
  {
   "cell_type": "markdown",
   "id": "d554c9e7-275f-459a-b8be-3c573a2ae62f",
   "metadata": {},
   "source": [
    "**Replace**"
   ]
  },
  {
   "cell_type": "code",
   "execution_count": null,
   "id": "f19a90ca-8620-4196-adc1-9b4089cf1588",
   "metadata": {},
   "outputs": [],
   "source": [
    "str1='welcome'\n",
    "# i want to replace 'l' with 'L'"
   ]
  },
  {
   "cell_type": "code",
   "execution_count": 34,
   "id": "848f632c-6614-4342-9e17-443648ee8dca",
   "metadata": {},
   "outputs": [
    {
     "data": {
      "text/plain": [
       "'welcome'"
      ]
     },
     "execution_count": 34,
     "metadata": {},
     "output_type": "execute_result"
    }
   ],
   "source": [
    "# we know that string are immutable \n",
    "# we can not use index operations also\n",
    "# slice and concatenation\n",
    "# divide welcome :we  come\n",
    "# s1='we'\n",
    "# s2='come'\n",
    "# s1+'L'+s2\n",
    "\n",
    "str1='welcome'\n",
    "s1=str1[0:2]\n",
    "s2=str1[3:]\n",
    "s1+'l'+s2"
   ]
  },
  {
   "cell_type": "code",
   "execution_count": 35,
   "id": "4d1802fe-b763-49cf-905f-010067bff51f",
   "metadata": {},
   "outputs": [
    {
     "data": {
      "text/plain": [
       "'weLcome'"
      ]
     },
     "execution_count": 35,
     "metadata": {},
     "output_type": "execute_result"
    }
   ],
   "source": [
    "str1='welcome'\n",
    "str1.replace('l','L')"
   ]
  },
  {
   "cell_type": "code",
   "execution_count": 37,
   "id": "46cb46cc-cefe-4f5d-9fb7-4309b2b5af37",
   "metadata": {},
   "outputs": [
    {
     "data": {
      "text/plain": [
       "'weLLcome'"
      ]
     },
     "execution_count": 37,
     "metadata": {},
     "output_type": "execute_result"
    }
   ],
   "source": [
    "str1='wellcome'\n",
    "str1.replace('l','L')"
   ]
  },
  {
   "cell_type": "code",
   "execution_count": null,
   "id": "a5cf6cd7-3eed-41f0-8e81-5bcec8930294",
   "metadata": {},
   "outputs": [],
   "source": [
    "- by default replace the all change the occurences\n",
    "- count=-1 is reponsible"
   ]
  },
  {
   "cell_type": "code",
   "execution_count": null,
   "id": "86c9daa2-e356-4521-8a02-91fff4fe7200",
   "metadata": {},
   "outputs": [],
   "source": [
    "str1='welcome'\n",
    "str1.replace('l','L',l)  # old='l', new='L' count=1\n",
    "\n",
    "# when we writte "
   ]
  },
  {
   "cell_type": "code",
   "execution_count": 39,
   "id": "8c90095a-33b0-4e39-87a7-72454de02d82",
   "metadata": {},
   "outputs": [
    {
     "data": {
      "text/plain": [
       "'weLLlcome'"
      ]
     },
     "execution_count": 39,
     "metadata": {},
     "output_type": "execute_result"
    }
   ],
   "source": [
    "str1='welllcome'\n",
    "str1.replace('l','L',2)"
   ]
  },
  {
   "cell_type": "code",
   "execution_count": null,
   "id": "80af7567-4999-4fb4-aa9e-4cd10e530de6",
   "metadata": {},
   "outputs": [],
   "source": [
    "# str1='restart'\n",
    "#i/p='resta$t'"
   ]
  },
  {
   "cell_type": "code",
   "execution_count": 46,
   "id": "a8854223-0fea-46f4-b827-6c3da9e3a82c",
   "metadata": {},
   "outputs": [
    {
     "data": {
      "text/plain": [
       "'resta$t'"
      ]
     },
     "execution_count": 46,
     "metadata": {},
     "output_type": "execute_result"
    }
   ],
   "source": [
    "str1='restart'\n",
    "s1=str1[:1]\n",
    "s2=str1[1:]\n",
    "s3=s2.replace('r','$')\n",
    "s1+s3"
   ]
  },
  {
   "cell_type": "code",
   "execution_count": 47,
   "id": "45b3a402-f77a-46e3-b96c-f8a6a1c16b6d",
   "metadata": {},
   "outputs": [
    {
     "data": {
      "text/plain": [
       "'resta$t'"
      ]
     },
     "execution_count": 47,
     "metadata": {},
     "output_type": "execute_result"
    }
   ],
   "source": [
    "str1='restart'    # this case\n",
    "str1[::-1].replace('r','$',1)[::-1]"
   ]
  },
  {
   "cell_type": "markdown",
   "id": "59cdc066-546f-4c3a-aa90-a0d50f68807f",
   "metadata": {},
   "source": [
    "**index-find**"
   ]
  },
  {
   "cell_type": "code",
   "execution_count": 48,
   "id": "84bcecce-e17d-4a7b-a66a-e556939fc70a",
   "metadata": {},
   "outputs": [
    {
     "data": {
      "text/plain": [
       "['__add__',\n",
       " '__class__',\n",
       " '__contains__',\n",
       " '__delattr__',\n",
       " '__dir__',\n",
       " '__doc__',\n",
       " '__eq__',\n",
       " '__format__',\n",
       " '__ge__',\n",
       " '__getattribute__',\n",
       " '__getitem__',\n",
       " '__getnewargs__',\n",
       " '__getstate__',\n",
       " '__gt__',\n",
       " '__hash__',\n",
       " '__init__',\n",
       " '__init_subclass__',\n",
       " '__iter__',\n",
       " '__le__',\n",
       " '__len__',\n",
       " '__lt__',\n",
       " '__mod__',\n",
       " '__mul__',\n",
       " '__ne__',\n",
       " '__new__',\n",
       " '__reduce__',\n",
       " '__reduce_ex__',\n",
       " '__repr__',\n",
       " '__rmod__',\n",
       " '__rmul__',\n",
       " '__setattr__',\n",
       " '__sizeof__',\n",
       " '__str__',\n",
       " '__subclasshook__',\n",
       " 'capitalize',\n",
       " 'casefold',\n",
       " 'center',\n",
       " 'count',\n",
       " 'encode',\n",
       " 'endswith',\n",
       " 'expandtabs',\n",
       " 'find',\n",
       " 'format',\n",
       " 'format_map',\n",
       " 'index',\n",
       " 'isalnum',\n",
       " 'isalpha',\n",
       " 'isascii',\n",
       " 'isdecimal',\n",
       " 'isdigit',\n",
       " 'isidentifier',\n",
       " 'islower',\n",
       " 'isnumeric',\n",
       " 'isprintable',\n",
       " 'isspace',\n",
       " 'istitle',\n",
       " 'isupper',\n",
       " 'join',\n",
       " 'ljust',\n",
       " 'lower',\n",
       " 'lstrip',\n",
       " 'maketrans',\n",
       " 'partition',\n",
       " 'removeprefix',\n",
       " 'removesuffix',\n",
       " 'replace',\n",
       " 'rfind',\n",
       " 'rindex',\n",
       " 'rjust',\n",
       " 'rpartition',\n",
       " 'rsplit',\n",
       " 'rstrip',\n",
       " 'split',\n",
       " 'splitlines',\n",
       " 'startswith',\n",
       " 'strip',\n",
       " 'swapcase',\n",
       " 'title',\n",
       " 'translate',\n",
       " 'upper',\n",
       " 'zfill']"
      ]
     },
     "execution_count": 48,
     "metadata": {},
     "output_type": "execute_result"
    }
   ],
   "source": [
    "dir('str')"
   ]
  },
  {
   "cell_type": "code",
   "execution_count": null,
   "id": "b4b079d2-5da1-4e8a-b618-8fa2e6c4d736",
   "metadata": {},
   "outputs": [],
   "source": [
    "'isalnum',\n",
    " 'isalpha',\n",
    " 'isascii',\n",
    " 'isdecimal',\n",
    " 'isdigit',\n",
    " 'isidentifier',\n",
    " 'islower',\n",
    " 'isnumeric',\n",
    " 'isprintable',\n",
    " 'isspace',\n",
    " 'istitle',\n",
    " 'isupper',"
   ]
  },
  {
   "cell_type": "code",
   "execution_count": 49,
   "id": "9ea4faab-a4e0-451c-ad7c-aa54884e455a",
   "metadata": {},
   "outputs": [
    {
     "data": {
      "text/plain": [
       "True"
      ]
     },
     "execution_count": 49,
     "metadata": {},
     "output_type": "execute_result"
    }
   ],
   "source": [
    "str1='HELLO'\n",
    "str1.isupper()"
   ]
  },
  {
   "cell_type": "code",
   "execution_count": 50,
   "id": "28777a1b-1ede-4fdc-931a-d4de69daf744",
   "metadata": {},
   "outputs": [
    {
     "data": {
      "text/plain": [
       "False"
      ]
     },
     "execution_count": 50,
     "metadata": {},
     "output_type": "execute_result"
    }
   ],
   "source": [
    "str1='HELLO'\n",
    "str1.islower()"
   ]
  },
  {
   "cell_type": "markdown",
   "id": "ae538ae9-1ae0-4f8d-a681-e6bf24acfaea",
   "metadata": {},
   "source": [
    "**Index-find**"
   ]
  },
  {
   "cell_type": "markdown",
   "id": "e70e83d2-378c-4e43-a8f8-90f09f26bb92",
   "metadata": {},
   "source": [
    "- index says that it will give the index of any letter in a given string \n",
    "- we already seen about count: count will give how many letters are there\n",
    "    - at what index you want to count\n",
    "    - between indexes also we can count the letters\n",
    "- index meaning it will provide index\n",
    "- imagine that there same letters repet\n",
    "- how can we find the next index"
   ]
  },
  {
   "cell_type": "code",
   "execution_count": 2,
   "id": "1a42ccc6-e249-4883-b1fa-dd1d37337876",
   "metadata": {},
   "outputs": [
    {
     "data": {
      "text/plain": [
       "1"
      ]
     },
     "execution_count": 2,
     "metadata": {},
     "output_type": "execute_result"
    }
   ],
   "source": [
    "# h a i     h a i   h a i \n",
    "# 0 1 2  3 4 5 6 7 8 9 10\n",
    "str1='hai hai hai'\n",
    "str1.index('a')\n",
    "# return "
   ]
  },
  {
   "cell_type": "code",
   "execution_count": 3,
   "id": "337b22c2-769b-446f-8179-f4daf72555b7",
   "metadata": {},
   "outputs": [
    {
     "data": {
      "text/plain": [
       "5"
      ]
     },
     "execution_count": 3,
     "metadata": {},
     "output_type": "execute_result"
    }
   ],
   "source": [
    "str1='hai hai hai'\n",
    "str1.index('a',3)"
   ]
  },
  {
   "cell_type": "code",
   "execution_count": 5,
   "id": "a3dff039-e666-4593-bb48-0927bd5b59eb",
   "metadata": {},
   "outputs": [
    {
     "data": {
      "text/plain": [
       "5"
      ]
     },
     "execution_count": 5,
     "metadata": {},
     "output_type": "execute_result"
    }
   ],
   "source": [
    "str1='hai hai hai'\n",
    "str1.index('a',3,7)"
   ]
  },
  {
   "cell_type": "code",
   "execution_count": null,
   "id": "f50bfba6-ce9e-43f9-903a-791657011a68",
   "metadata": {},
   "outputs": [],
   "source": [
    "#i always a return a lowest index only\n",
    "str1='hai hai hai'\n",
    "str1.index('a')    # amoung the index the lowest index is '1'\n",
    "\n",
    "str1='hai hai hai'\n",
    "str1.index('a',3) # after 3rd index the lowest index of a is '5' \n",
    "\n",
    "str1='hai hai hai'\n",
    "str1.index('a',3,7) # "
   ]
  },
  {
   "cell_type": "code",
   "execution_count": 6,
   "id": "a5efb58f-8e6e-4cc7-81e9-8e45e232c59b",
   "metadata": {},
   "outputs": [
    {
     "data": {
      "text/plain": [
       "9"
      ]
     },
     "execution_count": 6,
     "metadata": {},
     "output_type": "execute_result"
    }
   ],
   "source": [
    "str1='hai hai hai'\n",
    "str1.index('a',-3,-1)  # amoung all the index "
   ]
  },
  {
   "cell_type": "code",
   "execution_count": null,
   "id": "fe1fa865-9d9e-42c7-9843-157a52d923c7",
   "metadata": {},
   "outputs": [],
   "source": [
    "# -11-10-9 -8 -7-6-5 -4 -3-2-1 \n",
    "#  h a i        h a i   h a i \n",
    "# 0 1 2  3     4 5 6 7  8 9 10"
   ]
  },
  {
   "cell_type": "code",
   "execution_count": null,
   "id": "48dd5481-e075-4d70-9cae-a3a8d3f1fc4b",
   "metadata": {},
   "outputs": [],
   "source": [
    "str1='hai hai hai'\n",
    "str1.index('a',-9,-4)  # amoung all the index the lowest is '1'"
   ]
  },
  {
   "cell_type": "code",
   "execution_count": null,
   "id": "2df6067e-df0e-4f0b-99be-35b3939a5b2c",
   "metadata": {},
   "outputs": [],
   "source": [
    "# -11-10-9 -8 -7-6-5 -4 -3-2-1 \n",
    "#  h a i        h a i   h a i \n",
    "# 0 1 2  3     4 5 6 7  8 9 10\n",
    "\n",
    "str1='hai hai hai'\n",
    "print(str1.index('a'))\n",
    "                                    "
   ]
  },
  {
   "cell_type": "code",
   "execution_count": 3,
   "id": "45483f83-adf1-47cd-b068-7d31e3700366",
   "metadata": {},
   "outputs": [
    {
     "name": "stdout",
     "output_type": "stream",
     "text": [
      "1\n",
      "5\n",
      "9\n",
      "13\n"
     ]
    }
   ],
   "source": [
    "str1='hai hai hai hai'\n",
    "i1=str1.index('a')\n",
    "print(i1)\n",
    "i2=str1.index('a',i1+1)\n",
    "print(i2)\n",
    "i3=str1.index('a',i2+1)\n",
    "print(i3)\n",
    "i4=str1.index('a',i3+1)\n",
    "print(i4)"
   ]
  },
  {
   "cell_type": "code",
   "execution_count": 7,
   "id": "37d5e72c-4f36-4366-b96d-8d328fe64873",
   "metadata": {},
   "outputs": [
    {
     "name": "stdout",
     "output_type": "stream",
     "text": [
      "1\n",
      "5\n",
      "9\n",
      "13\n"
     ]
    }
   ],
   "source": [
    "# -11-10-9 -8 -7-6-5 -4 -3-2-1 \n",
    "#  h a i        h a i   h a i     h  a  i\n",
    "# 0 1 2  3     4 5 6 7  8 9 10 11 12 13 14\n",
    "str1='hai hai hai hai'\n",
    "i1=str1.index('a')\n",
    "print(i1)\n",
    "i2=str1.index('a',2)\n",
    "print(i2)\n",
    "i3=str1.index('a',6)\n",
    "print(i3)\n",
    "i4=str1.index('a',10)\n",
    "print(i4)"
   ]
  },
  {
   "cell_type": "markdown",
   "id": "01e88779-84cc-4345-93b7-25ffedcfbfcc",
   "metadata": {},
   "source": [
    "**Find**"
   ]
  },
  {
   "cell_type": "code",
   "execution_count": 19,
   "id": "5937f615-fa1e-4cec-8ad8-891e91ae7d2a",
   "metadata": {},
   "outputs": [
    {
     "name": "stdout",
     "output_type": "stream",
     "text": [
      "0\n",
      "1\n",
      "5\n",
      "9\n"
     ]
    }
   ],
   "source": [
    "str1='hai hai hai hai hai'\n",
    "i1=str1.find('h')\n",
    "print(i1)\n",
    "i2=str1.find('a',i1+1)\n",
    "print(i2)\n",
    "i3=str1.find('a',i2+1)\n",
    "print(i3)\n",
    "i4=str1.find('a',i3+1)\n",
    "print(i4)"
   ]
  },
  {
   "cell_type": "code",
   "execution_count": null,
   "id": "54f4b0c6-99cd-4b32-bd1c-37005a5310e3",
   "metadata": {},
   "outputs": [],
   "source": [
    "str1.index()  # raises value error when the substrtuting"
   ]
  },
  {
   "cell_type": "code",
   "execution_count": 20,
   "id": "35d48160-b9d1-4f62-851e-5967bbcdc643",
   "metadata": {},
   "outputs": [
    {
     "data": {
      "text/plain": [
       "0"
      ]
     },
     "execution_count": 20,
     "metadata": {},
     "output_type": "execute_result"
    }
   ],
   "source": [
    "str1='hai hai hai'\n",
    "str1.count(\"z\")"
   ]
  },
  {
   "cell_type": "code",
   "execution_count": 21,
   "id": "2608a9b7-9bbb-4021-9f1d-25f0eb643033",
   "metadata": {},
   "outputs": [
    {
     "data": {
      "text/plain": [
       "'hai hai hai'"
      ]
     },
     "execution_count": 21,
     "metadata": {},
     "output_type": "execute_result"
    }
   ],
   "source": [
    "str1='hai hai hai'\n",
    "str1.replace('z','Z')"
   ]
  },
  {
   "cell_type": "markdown",
   "id": "24231e6d-8f79-48c2-8bfa-6a09182fdd4f",
   "metadata": {},
   "source": [
    "- if substring not found \n",
    "- count method will give zero\n",
    "- replace method will give original string\n",
    "- index will give **sub string found error**\n",
    "- find will give-1"
   ]
  },
  {
   "cell_type": "code",
   "execution_count": null,
   "id": "4a5eae2c-88cf-4148-a31c-93786b774794",
   "metadata": {},
   "outputs": [],
   "source": [
    "str1='omkar.nallagoni@cognizant.com'\n",
    "# first name=omkar\n",
    "# secod company name = nallagoni \n",
    "# company name=cognizant\n",
    "str2='virat.kohli@rcb'\n",
    "str3='rohitn.sharama@mi.com\n",
    "str4='a.b@c.com'\n",
    "\n",
    "\n",
    "# idea : find the triggers\n",
    "# for first name:\n",
    "#second name:\n"
   ]
  },
  {
   "cell_type": "code",
   "execution_count": 25,
   "id": "27f1c8a4-0d5d-4891-83c4-876ce21a96f6",
   "metadata": {},
   "outputs": [
    {
     "name": "stdout",
     "output_type": "stream",
     "text": [
      "first name o\n"
     ]
    }
   ],
   "source": [
    "str1='omkar.nallagoni@cognizant.com'\n",
    "f1=str1.find('')\n",
    "print('first name',str1[f1])"
   ]
  },
  {
   "cell_type": "code",
   "execution_count": 29,
   "id": "089c0b84-c4d8-4562-968f-38b0bc8dff10",
   "metadata": {},
   "outputs": [
    {
     "data": {
      "text/plain": [
       "('omkar', 'nallagoni.', '')"
      ]
     },
     "execution_count": 29,
     "metadata": {},
     "output_type": "execute_result"
    }
   ],
   "source": [
    "str1='omkar.nallagoni.@cognizent.com'\n",
    "i1=str1.index('.')\n",
    "i2=str1.index('@')\n",
    "i3=str1.index('.',i1+1)\n",
    "first_name=str1[:i1]\n",
    "second_name=str1[i1+1:i2]\n",
    "cname=str1[i2+1:i3]\n",
    "first_name,second_name,cname"
   ]
  },
  {
   "cell_type": "markdown",
   "id": "9a9665b5-2b58-4879-b52e-42c1f3ed9b3e",
   "metadata": {},
   "source": [
    "- split\n",
    "- string/strip/rstrip\n",
    "- statrtswith/end "
   ]
  }
 ],
 "metadata": {
  "kernelspec": {
   "display_name": "Python 3 (ipykernel)",
   "language": "python",
   "name": "python3"
  },
  "language_info": {
   "codemirror_mode": {
    "name": "ipython",
    "version": 3
   },
   "file_extension": ".py",
   "mimetype": "text/x-python",
   "name": "python",
   "nbconvert_exporter": "python",
   "pygments_lexer": "ipython3",
   "version": "3.11.7"
  }
 },
 "nbformat": 4,
 "nbformat_minor": 5
}
