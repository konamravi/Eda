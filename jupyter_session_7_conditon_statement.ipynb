{
 "cells": [
  {
   "cell_type": "markdown",
   "id": "bceb062a-a1dd-4ac0-8ed0-c621c9bfe15b",
   "metadata": {},
   "source": [
    "**Condition statement**"
   ]
  },
  {
   "cell_type": "markdown",
   "id": "3670eba8-6f04-48b4-a94b-80eacd239d6c",
   "metadata": {},
   "source": [
    "- conditional statement run the code line based on condion \n",
    "- if rain comes i will not go to school other wise will go to movie\n",
    "- rani is there will effect one process\n",
    "- rain is not  there will effect another process\n",
    "- if \n",
    "- elif \n",
    "- else"
   ]
  },
  {
   "cell_type": "markdown",
   "id": "611080bc-a0bb-4aae-9641-6501a560a140",
   "metadata": {},
   "source": [
    "**if**"
   ]
  },
  {
   "cell_type": "code",
   "execution_count": null,
   "id": "6a266bbd-4225-4035-88c1-dffb56dcd975",
   "metadata": {},
   "outputs": [],
   "source": [
    "# syntax\n",
    "if <condition>:\n",
    "    <condition1>:\n",
    "    <condition2>:\n"
   ]
  },
  {
   "cell_type": "markdown",
   "id": "cbc1105e-7dd7-4c31-ab87-021b915a87c1",
   "metadata": {},
   "source": [
    "- when ever any line strat with **keyword(green)** at the end of the line we have **colon**\n",
    "- when ever we have a **colour(:)** the next  line start with some **gap**\n",
    "- and this gap is called an **indentation**\n",
    "- how many lines we are maintinanning gap (indentation) t,hat all are under one area\n"
   ]
  },
  {
   "cell_type": "markdown",
   "id": "fb3e4283-d10b-464c-a020-72a9f90df1f0",
   "metadata": {},
   "source": [
    "- if is a conditional statement,it will check the conditon is true or false\n",
    "- if the condition will true then only it will enter inside the if area\n",
    "- and excute those code lines\n",
    "- if that condition will false,then it will not enter  inside the if area\n",
    "- and it will not excute those code lines"
   ]
  },
  {
   "cell_type": "code",
   "execution_count": 6,
   "id": "5cbb2c72-56de-46bc-bd36-cf5421577509",
   "metadata": {},
   "outputs": [
    {
     "data": {
      "text/plain": [
       "True"
      ]
     },
     "execution_count": 6,
     "metadata": {},
     "output_type": "execute_result"
    }
   ],
   "source": [
    "100>0"
   ]
  },
  {
   "cell_type": "code",
   "execution_count": 2,
   "id": "225966d5-dfbc-47d0-b13e-15fcf54f02a5",
   "metadata": {},
   "outputs": [
    {
     "name": "stdout",
     "output_type": "stream",
     "text": [
      "hello\n"
     ]
    }
   ],
   "source": [
    "if 100>10:\n",
    "    print(\"hello\")"
   ]
  },
  {
   "cell_type": "code",
   "execution_count": 5,
   "id": "b143e47a-6ed3-45b7-9a65-de6ad813e7b3",
   "metadata": {},
   "outputs": [
    {
     "name": "stdout",
     "output_type": "stream",
     "text": [
      "hello\n"
     ]
    }
   ],
   "source": [
    "if 100>10:\n",
    "    print(\"hello\")"
   ]
  },
  {
   "cell_type": "markdown",
   "id": "4685225c-156c-40be-aede-1c0231090b24",
   "metadata": {},
   "source": [
    "**mistake-1**"
   ]
  },
  {
   "cell_type": "code",
   "execution_count": 9,
   "id": "af6db907-c960-4c55-ab97-d0bb41e724ac",
   "metadata": {},
   "outputs": [
    {
     "name": "stdout",
     "output_type": "stream",
     "text": [
      "hello\n"
     ]
    }
   ],
   "source": [
    "if 100>10:\n",
    " print(\"hello\")\n",
    "# indentation requires 4 speace"
   ]
  },
  {
   "cell_type": "code",
   "execution_count": 10,
   "id": "607447c6-4eec-41b4-83ce-10232cde3ac9",
   "metadata": {},
   "outputs": [
    {
     "name": "stdin",
     "output_type": "stream",
     "text": [
      " a\n"
     ]
    },
    {
     "data": {
      "text/plain": [
       "'a'"
      ]
     },
     "execution_count": 10,
     "metadata": {},
     "output_type": "execute_result"
    }
   ],
   "source": [
    "input()"
   ]
  },
  {
   "cell_type": "markdown",
   "id": "a0679b1a-379d-409a-8944-140c1a6bee88",
   "metadata": {},
   "source": [
    "**mistake-2**"
   ]
  },
  {
   "cell_type": "markdown",
   "id": "0fdfea81-e25c-49c9-bbe0-233b7e91b128",
   "metadata": {},
   "source": [
    "- coloun (:)"
   ]
  },
  {
   "cell_type": "code",
   "execution_count": 11,
   "id": "3eea4fdc-b219-4887-aab7-c8d7beef5687",
   "metadata": {},
   "outputs": [
    {
     "ename": "SyntaxError",
     "evalue": "expected ':' (1679646113.py, line 1)",
     "output_type": "error",
     "traceback": [
      "\u001b[1;36m  Cell \u001b[1;32mIn[11], line 1\u001b[1;36m\u001b[0m\n\u001b[1;33m    if 100>10\u001b[0m\n\u001b[1;37m             ^\u001b[0m\n\u001b[1;31mSyntaxError\u001b[0m\u001b[1;31m:\u001b[0m expected ':'\n"
     ]
    }
   ],
   "source": [
    "if 100>10\n",
    " print(\"hello\")"
   ]
  },
  {
   "cell_type": "markdown",
   "id": "e2028ad0-debf-42c0-9d20-b55bd2ba13c3",
   "metadata": {},
   "source": [
    "**mistake-3**"
   ]
  },
  {
   "cell_type": "markdown",
   "id": "ac770e49-7804-4ce4-9905-cbec4155b7ed",
   "metadata": {},
   "source": [
    "- if will expect a condition "
   ]
  },
  {
   "cell_type": "code",
   "execution_count": 20,
   "id": "f9002562-6ad7-4723-bbf8-d90a78d14506",
   "metadata": {},
   "outputs": [
    {
     "ename": "SyntaxError",
     "evalue": "invalid syntax (1621253530.py, line 1)",
     "output_type": "error",
     "traceback": [
      "\u001b[1;36m  Cell \u001b[1;32mIn[20], line 1\u001b[1;36m\u001b[0m\n\u001b[1;33m    if :\u001b[0m\n\u001b[1;37m       ^\u001b[0m\n\u001b[1;31mSyntaxError\u001b[0m\u001b[1;31m:\u001b[0m invalid syntax\n"
     ]
    }
   ],
   "source": [
    "if :\n",
    " print(\"hello\")"
   ]
  },
  {
   "cell_type": "markdown",
   "id": "846398e9-3298-43b1-b5cc-ef9fd8fc59a7",
   "metadata": {},
   "source": [
    "**mistake-4**\n",
    "- missing brackets (parentheses)"
   ]
  },
  {
   "cell_type": "code",
   "execution_count": 14,
   "id": "d5484f83-e9c5-4abc-807f-bc58272e0ce3",
   "metadata": {},
   "outputs": [
    {
     "ename": "SyntaxError",
     "evalue": "Missing parentheses in call to 'print'. Did you mean print(...)? (3394095289.py, line 2)",
     "output_type": "error",
     "traceback": [
      "\u001b[1;36m  Cell \u001b[1;32mIn[14], line 2\u001b[1;36m\u001b[0m\n\u001b[1;33m    print \"hello\"\u001b[0m\n\u001b[1;37m    ^\u001b[0m\n\u001b[1;31mSyntaxError\u001b[0m\u001b[1;31m:\u001b[0m Missing parentheses in call to 'print'. Did you mean print(...)?\n"
     ]
    }
   ],
   "source": [
    "if 100>10:\n",
    "    print \"hello\""
   ]
  },
  {
   "cell_type": "markdown",
   "id": "8493deb0-4d1f-49f0-83dc-6689f27e71e1",
   "metadata": {},
   "source": [
    "**mistake-5**\n",
    "- never assign a variable to print to a print statment\n",
    "- point we are using for to see the answer"
   ]
  },
  {
   "cell_type": "code",
   "execution_count": 28,
   "id": "addf1930-2ec3-4803-847a-3ac4debe3a94",
   "metadata": {},
   "outputs": [
    {
     "name": "stdout",
     "output_type": "stream",
     "text": [
      "hello\n"
     ]
    }
   ],
   "source": [
    "if 100>10:\n",
    " name=print(\"hello\")"
   ]
  },
  {
   "cell_type": "markdown",
   "id": "0bfdc204-c9d9-48e1-bb36-52de9b079844",
   "metadata": {},
   "source": [
    "**mistake-6**\n",
    "- all types of syntax\n",
    "- spealling mistake"
   ]
  },
  {
   "cell_type": "code",
   "execution_count": 16,
   "id": "4eb5c7ef-9fdd-4b9d-9378-df6d0cbe5599",
   "metadata": {},
   "outputs": [
    {
     "ename": "SyntaxError",
     "evalue": "incomplete input (2307587767.py, line 1)",
     "output_type": "error",
     "traceback": [
      "\u001b[1;36m  Cell \u001b[1;32mIn[16], line 1\u001b[1;36m\u001b[0m\n\u001b[1;33m    if 100>10:\u001b[0m\n\u001b[1;37m              ^\u001b[0m\n\u001b[1;31mSyntaxError\u001b[0m\u001b[1;31m:\u001b[0m incomplete input\n"
     ]
    }
   ],
   "source": [
    "if 100>10:"
   ]
  },
  {
   "cell_type": "code",
   "execution_count": 17,
   "id": "75a0ada1-1a35-4254-9fa0-b560eeb8b94c",
   "metadata": {},
   "outputs": [
    {
     "name": "stdout",
     "output_type": "stream",
     "text": [
      "hello\n",
      "good\n",
      "okay\n",
      "bye\n"
     ]
    }
   ],
   "source": [
    "if 100>10:\n",
    "    print(\"hello\")\n",
    "    print (\"good\")\n",
    "##############################################\n",
    "print(\"okay\")\n",
    "print(\"bye\")\n",
    "# step-1: if 100>10 if true \n",
    "# step-2: hello\n",
    "# step-3: good morning\n",
    "# step-4: okay\n",
    "# step-5: bye"
   ]
  },
  {
   "cell_type": "code",
   "execution_count": 35,
   "id": "d604f520-c889-4094-858d-4cac99b8c1bd",
   "metadata": {},
   "outputs": [
    {
     "name": "stdout",
     "output_type": "stream",
     "text": [
      "hello\n",
      "good morning\n"
     ]
    }
   ],
   "source": [
    "if 100>10:\n",
    "    print(\"hello\")\n",
    "    print (\"good morning\")"
   ]
  },
  {
   "cell_type": "code",
   "execution_count": 32,
   "id": "33db16d2-aea6-4d2f-85e2-fe9a54bbf29a",
   "metadata": {},
   "outputs": [
    {
     "name": "stdout",
     "output_type": "stream",
     "text": [
      "okay\n",
      "bye\n"
     ]
    }
   ],
   "source": [
    "print(\"okay\")\n",
    "print(\"bye\")"
   ]
  },
  {
   "cell_type": "code",
   "execution_count": 18,
   "id": "977f4f20-db25-474f-af58-31aad222f26b",
   "metadata": {},
   "outputs": [
    {
     "name": "stdout",
     "output_type": "stream",
     "text": [
      "10\n",
      "20\n",
      "hello\n",
      "good morning\n",
      "okay\n",
      "bye\n"
     ]
    }
   ],
   "source": [
    "print(10)\n",
    "print(20)\n",
    "################################################\n",
    "if 100>10:\n",
    "    print(\"hello\")\n",
    "print (\"good morning\")\n",
    "##################################\n",
    "print(\"okay\")\n",
    "print(\"bye\")"
   ]
  },
  {
   "cell_type": "code",
   "execution_count": 58,
   "id": "aa084a2b-20a5-4f8e-bbd9-644ab0c3e31b",
   "metadata": {},
   "outputs": [
    {
     "name": "stdout",
     "output_type": "stream",
     "text": [
      "10\n",
      "Hello\n",
      "good moring\n",
      "okay\n",
      "bye\n"
     ]
    }
   ],
   "source": [
    "print(10)\n",
    "if True:\n",
    "    print(\"Hello\")\n",
    "    print(\"good moring\")\n",
    "print('okay')\n",
    "print('bye')    "
   ]
  },
  {
   "cell_type": "code",
   "execution_count": 19,
   "id": "c9ca5c48-f059-4eff-8f8f-e809fb5b1087",
   "metadata": {},
   "outputs": [
    {
     "data": {
      "text/plain": [
       "True"
      ]
     },
     "execution_count": 19,
     "metadata": {},
     "output_type": "execute_result"
    }
   ],
   "source": [
    "100>10"
   ]
  },
  {
   "cell_type": "code",
   "execution_count": 23,
   "id": "94e31058-1050-4239-b1d0-328c95963a89",
   "metadata": {},
   "outputs": [
    {
     "ename": "NameError",
     "evalue": "name 'false' is not defined",
     "output_type": "error",
     "traceback": [
      "\u001b[1;31m---------------------------------------------------------------------------\u001b[0m",
      "\u001b[1;31mNameError\u001b[0m                                 Traceback (most recent call last)",
      "Cell \u001b[1;32mIn[23], line 2\u001b[0m\n\u001b[0;32m      1\u001b[0m \u001b[38;5;66;03m## print(10)\u001b[39;00m\n\u001b[1;32m----> 2\u001b[0m \u001b[38;5;28;01mif\u001b[39;00m false:\n\u001b[0;32m      3\u001b[0m     \u001b[38;5;28mprint\u001b[39m(\u001b[38;5;124m\"\u001b[39m\u001b[38;5;124mHello\u001b[39m\u001b[38;5;124m\"\u001b[39m)\n\u001b[0;32m      4\u001b[0m     \u001b[38;5;28mprint\u001b[39m(\u001b[38;5;124m\"\u001b[39m\u001b[38;5;124mgood moring\u001b[39m\u001b[38;5;124m\"\u001b[39m)\n",
      "\u001b[1;31mNameError\u001b[0m: name 'false' is not defined"
     ]
    }
   ],
   "source": [
    "## print(10)\n",
    "if false:\n",
    "    print(\"Hello\")\n",
    "    print(\"good moring\")\n",
    "print('okay')\n",
    "print('bye')    "
   ]
  },
  {
   "cell_type": "code",
   "execution_count": 49,
   "id": "05d1df07-78a0-4add-ac5a-c178c0b52ee5",
   "metadata": {},
   "outputs": [
    {
     "name": "stdout",
     "output_type": "stream",
     "text": [
      "10\n",
      "Hello\n",
      "good moring\n",
      "okay\n",
      "bye\n"
     ]
    }
   ],
   "source": [
    "print(10)\n",
    "if 100: ### bool(100) true\n",
    "    print(\"Hello\")\n",
    "    print(\"good moring\")\n",
    "print('okay')\n",
    "print('bye')    "
   ]
  },
  {
   "cell_type": "code",
   "execution_count": 50,
   "id": "9a1c1171-9d97-49af-9884-cb5af8439faa",
   "metadata": {},
   "outputs": [
    {
     "name": "stdout",
     "output_type": "stream",
     "text": [
      "10\n",
      "okay\n",
      "bye\n"
     ]
    }
   ],
   "source": [
    "print(10)\n",
    "if 00: ### bool(100) true\n",
    "    print(\"Hello\")\n",
    "    print(\"good moring\")\n",
    "print('okay')\n",
    "print('bye')    "
   ]
  },
  {
   "cell_type": "code",
   "execution_count": null,
   "id": "10e4ddc9-1d9c-4cb1-971c-0945cad2143e",
   "metadata": {},
   "outputs": [],
   "source": [
    "print(10)\n",
    "if 00: ### bool(100) true\n",
    "    print(\"Hello\")\n",
    "    print(\"good moring\")\n",
    "print('okay')\n",
    "print('bye')    "
   ]
  },
  {
   "cell_type": "code",
   "execution_count": 54,
   "id": "aec191e6-f3eb-4dd4-844e-65506d20975d",
   "metadata": {},
   "outputs": [
    {
     "name": "stdout",
     "output_type": "stream",
     "text": [
      "10\n",
      "okay\n",
      "bye\n"
     ]
    }
   ],
   "source": [
    "print(10)\n",
    "if '': ### str('hell') true\n",
    "    print(\"Hello\")\n",
    "    print(\"good moring\")\n",
    "print('okay')\n",
    "print('bye') "
   ]
  },
  {
   "cell_type": "code",
   "execution_count": null,
   "id": "a09f8f6a-eb2a-48e8-8136-c845f96f6df3",
   "metadata": {},
   "outputs": [],
   "source": [
    "print(10)\n",
    "if : ### bool(100) true\n",
    "    print(\"Hello\")\n",
    "    print(\"good moring\")\n",
    "print('okay')\n",
    "print('bye') "
   ]
  },
  {
   "cell_type": "code",
   "execution_count": 57,
   "id": "faa974d0-09e6-48eb-948b-095d4ce94186",
   "metadata": {},
   "outputs": [
    {
     "name": "stdout",
     "output_type": "stream",
     "text": [
      "10\n",
      "Hello\n",
      "good moring\n",
      "okay\n",
      "bye\n"
     ]
    }
   ],
   "source": [
    "print(10)\n",
    "if True:\n",
    "    print(\"Hello\")\n",
    "    print(\"good moring\")\n",
    "print('okay')\n",
    "print('bye')    "
   ]
  },
  {
   "cell_type": "markdown",
   "id": "e6d70b47-6607-4248-9e56-f053467d51e5",
   "metadata": {},
   "source": [
    "**if-else**"
   ]
  },
  {
   "cell_type": "markdown",
   "id": "8ba81b1f-a6a8-4694-9a94-7456621722fd",
   "metadata": {},
   "source": [
    "- if required condition \n",
    "- if that condion is True,then it will excute if block\n",
    "- other wise it can dirctly go to else block\n",
    "- so else block does not requird any conditon \n"
   ]
  },
  {
   "cell_type": "code",
   "execution_count": null,
   "id": "c7f207fb-cd2d-4eed-bf82-d2d3b5fa410d",
   "metadata": {},
   "outputs": [],
   "source": [
    "# syntax\n",
    "if<condition>:\n",
    "    <code line>\n",
    "else:\n",
    "        <code line>"
   ]
  },
  {
   "cell_type": "code",
   "execution_count": 67,
   "id": "6cffd998-b491-42f2-9f9e-99b065f1fb6c",
   "metadata": {},
   "outputs": [
    {
     "name": "stdout",
     "output_type": "stream",
     "text": [
      "good condition is correct\n",
      "why you are in middle\n"
     ]
    }
   ],
   "source": [
    "if True:\n",
    "    print(\"good condition is correct\")\n",
    "    print(\"why you are in middle\")\n",
    "   \n",
    "else:\n",
    "    print(\"not good condition\")\n",
    "    print(\"bye\")"
   ]
  },
  {
   "cell_type": "code",
   "execution_count": 28,
   "id": "594b23a5-8fa6-40ae-91fb-9d1616f34b7e",
   "metadata": {},
   "outputs": [
    {
     "name": "stdout",
     "output_type": "stream",
     "text": [
      "hello\n",
      "good condition is correct \n",
      "bye\n"
     ]
    }
   ],
   "source": [
    "print(\"hello\")\n",
    "if 100>10:\n",
    "    print(\"good condition is correct \")\n",
    "else:\n",
    "    print(\"not good condition is wrong\")\n",
    "print(\"bye\")"
   ]
  },
  {
   "cell_type": "code",
   "execution_count": 31,
   "id": "a398707d-ffa1-40a9-8c62-fa0400519be7",
   "metadata": {},
   "outputs": [
    {
     "name": "stdout",
     "output_type": "stream",
     "text": [
      "10\n",
      "0\n",
      "10\n",
      "0.0\n"
     ]
    },
    {
     "ename": "ZeroDivisionError",
     "evalue": "division by zero",
     "output_type": "error",
     "traceback": [
      "\u001b[1;31m---------------------------------------------------------------------------\u001b[0m",
      "\u001b[1;31mZeroDivisionError\u001b[0m                         Traceback (most recent call last)",
      "Cell \u001b[1;32mIn[31], line 10\u001b[0m\n\u001b[0;32m      8\u001b[0m d\u001b[38;5;241m=\u001b[39mb\u001b[38;5;241m/\u001b[39ma\n\u001b[0;32m      9\u001b[0m \u001b[38;5;28mprint\u001b[39m(d)\n\u001b[1;32m---> 10\u001b[0m e\u001b[38;5;241m=\u001b[39ma\u001b[38;5;241m/\u001b[39mb\n\u001b[0;32m     11\u001b[0m \u001b[38;5;28mprint\u001b[39m(e)\n",
      "\u001b[1;31mZeroDivisionError\u001b[0m: division by zero"
     ]
    }
   ],
   "source": [
    "if True:\n",
    "    a=10\n",
    "    b=0\n",
    "    print(a)\n",
    "    print(b)\n",
    "    c=a+b\n",
    "    print(c)\n",
    "    d=b/a\n",
    "    print(d)\n",
    "    e=a/b\n",
    "    print(e)"
   ]
  },
  {
   "cell_type": "code",
   "execution_count": null,
   "id": "71318c13-c12b-47f3-8d04-03c123da11d5",
   "metadata": {},
   "outputs": [],
   "source": [
    "10/0    0/10    0/0"
   ]
  },
  {
   "cell_type": "code",
   "execution_count": 73,
   "id": "55ea136c-6927-4c0f-86e1-5fa7d9039315",
   "metadata": {},
   "outputs": [
    {
     "data": {
      "text/plain": [
       "1.25"
      ]
     },
     "execution_count": 73,
     "metadata": {},
     "output_type": "execute_result"
    }
   ],
   "source": [
    "5/4 # noraml division"
   ]
  },
  {
   "cell_type": "code",
   "execution_count": 74,
   "id": "7948b5a4-5e9c-44c1-bca5-b8cc733b5f9f",
   "metadata": {},
   "outputs": [
    {
     "data": {
      "text/plain": [
       "1"
      ]
     },
     "execution_count": 74,
     "metadata": {},
     "output_type": "execute_result"
    }
   ],
   "source": [
    "5//4 #floor division"
   ]
  },
  {
   "cell_type": "code",
   "execution_count": 32,
   "id": "1f6eb4cb-f476-4d7b-812b-8d530051937d",
   "metadata": {},
   "outputs": [
    {
     "data": {
      "text/plain": [
       "1"
      ]
     },
     "execution_count": 32,
     "metadata": {},
     "output_type": "execute_result"
    }
   ],
   "source": [
    "# modulus operator\n",
    "5%4"
   ]
  },
  {
   "cell_type": "code",
   "execution_count": null,
   "id": "37e4ceb7-b13a-443b-835a-b126c8b9d85b",
   "metadata": {},
   "outputs": [],
   "source": [
    "/--- normal divsion (return type float)\n",
    "//---floor division(return type int)\n",
    "%---remainder(return int) sir is my thinking correct"
   ]
  },
  {
   "cell_type": "code",
   "execution_count": null,
   "id": "147a0156-132e-4893-9762-bbba958ea606",
   "metadata": {},
   "outputs": [],
   "source": [
    "# wap ask the user enter a number \n",
    "# find it even number or odd number\n",
    "# idea: any number divide by 2, the remaiander=0\n",
    "# it is called as even number\n",
    "\n",
    "# step-1 : num=eval(input())\n",
    "# step-2 : if<condion>:\n",
    "#step-3 : print()\n",
    "#step-4 : else:\n",
    "#step-5: print"
   ]
  },
  {
   "cell_type": "code",
   "execution_count": 33,
   "id": "dde8ec16-d761-4353-837a-d8a5657fa591",
   "metadata": {},
   "outputs": [
    {
     "name": "stdin",
     "output_type": "stream",
     "text": [
      "enter the number 10\n"
     ]
    },
    {
     "name": "stdout",
     "output_type": "stream",
     "text": [
      "the 10 is even\n"
     ]
    }
   ],
   "source": [
    "num=eval(input('enter the number'))\n",
    "if num%2==0:\n",
    "    print(f\"the {num} is even\")\n",
    "   \n",
    "else:\n",
    "    print(f\"the {num} is odd\")"
   ]
  },
  {
   "cell_type": "code",
   "execution_count": 48,
   "id": "f80a37ad-5e87-4083-907f-ed25d9cc0fbe",
   "metadata": {},
   "outputs": [
    {
     "name": "stdin",
     "output_type": "stream",
     "text": [
      "enter the start value 0\n",
      "enter the end value 50\n"
     ]
    },
    {
     "name": "stdout",
     "output_type": "stream",
     "text": [
      "the 13 is odd\n"
     ]
    }
   ],
   "source": [
    "# implement the above problem by taking a random input between 1,100\n",
    "import random\n",
    "start=eval(input(\"enter the start value\"))\n",
    "end=eval(input(\"enter the end value\"))\n",
    "num=random.randint(start,end)\n",
    "if num%2==0:\n",
    "    print (f\"the {num} is even \")\n",
    "else:\n",
    "      print(f\"the {num} is odd\")"
   ]
  },
  {
   "cell_type": "markdown",
   "id": "5a6449cd-c8de-4287-bfb1-91b99d46c20e",
   "metadata": {},
   "source": [
    "- we are providing values mean it is hard coded \n",
    "- code should be always generic,with out hard codings"
   ]
  },
  {
   "cell_type": "code",
   "execution_count": 57,
   "id": "72563d55-f344-44de-97d7-4500c96dd43d",
   "metadata": {},
   "outputs": [
    {
     "name": "stdin",
     "output_type": "stream",
     "text": [
      "enter the distance 250\n",
      "enter the charge in rs 10\n"
     ]
    },
    {
     "name": "stdout",
     "output_type": "stream",
     "text": [
      " the total charge is : 2500\n"
     ]
    }
   ],
   "source": [
    "# wap ask user enter the distance \n",
    "# distance greater than charge\n",
    "# orint the total cost\n",
    "# otherwise\n",
    "# print free ride\n",
    "distance=eval(input(\"enter the distance\"))\n",
    "if distance>25:\n",
    "    charge=eval(input(\"enter the charge in rs\"))\n",
    "    cost=charge*distance\n",
    "    print(f\" the total charge is : {cost}\")\n",
    "else:\n",
    "    print(\"free ride\")"
   ]
  },
  {
   "cell_type": "code",
   "execution_count": 61,
   "id": "47b92c62-3264-4acf-986e-0551b5103ea7",
   "metadata": {},
   "outputs": [
    {
     "name": "stdin",
     "output_type": "stream",
     "text": [
      "enter the distance in km  100\n"
     ]
    },
    {
     "name": "stdout",
     "output_type": "stream",
     "text": [
      "good news your charge is applicable for only remaining of 25 km\n"
     ]
    },
    {
     "name": "stdin",
     "output_type": "stream",
     "text": [
      "enter the charge in rs 10\n"
     ]
    },
    {
     "name": "stdout",
     "output_type": "stream",
     "text": [
      "the total chargei is:750\n"
     ]
    }
   ],
   "source": [
    "# wap ask user enter the distance \n",
    "# cutoff distance enter 25\n",
    "# distance greater than 25km\n",
    "# print(\"good news your charge is applicable for only remaining of 25\")\n",
    "# chargeble distance=distance-cutoff\n",
    "# then enter the charge \n",
    "# orint the total cost\n",
    "# otherwise\n",
    "# print free ride\n",
    "distance=eval(input(\"enter the distance in km \"))\n",
    "cutoff_distance=25\n",
    "if distance>25:\n",
    "    print(\"good news your charge is applicable for only remaining of 25 km\")\n",
    "    charge=eval(input(\"enter the charge in rs\"))\n",
    "    chargeble_distance=distance-cutoff_distance\n",
    "    cost=chargeble_distance*charge\n",
    "    print(f\"the total chargei is:{cost}\")\n",
    "else:\n",
    "    print(\"enjoy the free ride\")"
   ]
  },
  {
   "cell_type": "code",
   "execution_count": 67,
   "id": "448c0e7c-0ce3-4a71-a851-e28d83540dea",
   "metadata": {},
   "outputs": [
    {
     "name": "stdin",
     "output_type": "stream",
     "text": [
      "enter the course data science\n",
      "enter the insitute naresh it\n"
     ]
    },
    {
     "name": "stdout",
     "output_type": "stream",
     "text": [
      "good\n"
     ]
    }
   ],
   "source": [
    "# wap ask the user enter the course \n",
    "# ask the user enter the insitute \n",
    "# if the course equal to data science and insitute equal to naresh it \n",
    "# than you are good\n",
    "# other wise \n",
    "# you are bad\n",
    "course=input(\"enter the course\")\n",
    "insitute=input(\"enter the insitute\")\n",
    "if course=='data science' and insitute =='naresh it':\n",
    "    print(\"good\")\n",
    "else:\n",
    "    print(\"bad\")\n"
   ]
  },
  {
   "cell_type": "markdown",
   "id": "df352531-f148-4bfb-8e60-ad09bc23dd7b",
   "metadata": {},
   "source": [
    "- and means two condition need to satisfy\n",
    "- or means any one condition enough to satisfy"
   ]
  },
  {
   "cell_type": "code",
   "execution_count": null,
   "id": "a42bf469-3ddf-4894-8221-e69d75a65c23",
   "metadata": {},
   "outputs": [],
   "source": [
    "it why can't use eval in first two lines of code \n",
    "eval====evalute====match family====number only "
   ]
  },
  {
   "cell_type": "code",
   "execution_count": 74,
   "id": "285a4feb-e5d9-4dd8-b508-ce8b8ed7c06f",
   "metadata": {},
   "outputs": [
    {
     "name": "stdin",
     "output_type": "stream",
     "text": [
      " 200\n"
     ]
    },
    {
     "data": {
      "text/plain": [
       "200"
      ]
     },
     "execution_count": 74,
     "metadata": {},
     "output_type": "execute_result"
    }
   ],
   "source": [
    "eval(input())"
   ]
  },
  {
   "cell_type": "code",
   "execution_count": 14,
   "id": "bfe16ce6-bd80-403e-aa95-4175ade4f9e6",
   "metadata": {},
   "outputs": [
    {
     "ename": "SyntaxError",
     "evalue": "Missing parentheses in call to 'print'. Did you mean print(...)? (2196445593.py, line 4)",
     "output_type": "error",
     "traceback": [
      "\u001b[1;36m  Cell \u001b[1;32mIn[14], line 4\u001b[1;36m\u001b[0m\n\u001b[1;33m    print you won\u001b[0m\n\u001b[1;37m    ^\u001b[0m\n\u001b[1;31mSyntaxError\u001b[0m\u001b[1;31m:\u001b[0m Missing parentheses in call to 'print'. Did you mean print(...)?\n"
     ]
    }
   ],
   "source": [
    "# wap ask the user enter a random num between 1 to 10, treat this as number1\n",
    "# ask the user enter another number from keyboard ,treat this number2\n",
    "# if nuber1 equal to number2\n",
    "print you won\n",
    "other wise \n",
    "# print you lost\n",
    "import random\n",
    "numb1=random.randint(1,10)\n",
    "numb2=eval(input(\"enter the number2:\"))\n",
    "if numb1==num2:\n",
    "    print(\"you won\")\n",
    "else:\n",
    "     print(\"you lost\")\n"
   ]
  },
  {
   "cell_type": "code",
   "execution_count": 82,
   "id": "c86ce269-df73-4bc9-bca2-c012268f83af",
   "metadata": {},
   "outputs": [
    {
     "name": "stdin",
     "output_type": "stream",
     "text": [
      "enter the number2 3\n"
     ]
    },
    {
     "name": "stdout",
     "output_type": "stream",
     "text": [
      "you loss\n"
     ]
    }
   ],
   "source": [
    "# wap ask the user enter a random num between 1 to 10, treat this as number1\n",
    "# ask the user enter another number from keyboard ,treat this number2\n",
    "# if nuber1 equal to number2\n",
    "# print you won\n",
    "#otherwise \n",
    "# print you lost \n",
    "import random\n",
    "number1=random.randint(1,10)\n",
    "number2=eval(input(\"enter the number2\"))\n",
    "if number1==number2:\n",
    "    print(\"you won\")\n",
    "else:\n",
    "    print(\"you loss\")"
   ]
  },
  {
   "cell_type": "markdown",
   "id": "f9aa6a08-b6cf-49e9-9df3-c9e1fb9c58d3",
   "metadata": {},
   "source": [
    "- Till now we have seen are condition problem\n",
    "- which means if that condition is True will get one answer \n",
    "- if that condition False the will get another answer\n",
    "- how about if we have more than 2condition\n",
    "- if-else-if\n",
    "- two condtion mean 3 result \n",
    "- if has on condition \n",
    "- elif has second condition \n",
    "- if both are fals then the result in else"
   ]
  },
  {
   "cell_type": "code",
   "execution_count": null,
   "id": "ec6e5f77-2734-4d61-9096-ede13a4ee302",
   "metadata": {},
   "outputs": [],
   "source": [
    "if<condition>:\n",
    "    <statements>\n",
    "elif<condition>:\n",
    "    <statment>\n",
    "else:\n",
    "    <statment>\n",
    "\n",
    "if-else(1)\n",
    "if-elif-else(2)\n",
    "if-elif-elif-else(3)"
   ]
  },
  {
   "cell_type": "code",
   "execution_count": 83,
   "id": "03c1acae-87e8-4803-8307-180c34a1af9a",
   "metadata": {},
   "outputs": [
    {
     "name": "stdin",
     "output_type": "stream",
     "text": [
      "enter the num 3\n"
     ]
    },
    {
     "name": "stdout",
     "output_type": "stream",
     "text": [
      "three\n"
     ]
    }
   ],
   "source": [
    "# wap ask the user enter the number \n",
    "# if number equal to 1 than print one \n",
    "# if number equal to 2 then print two \n",
    "# if number equal to 3 then print three\n",
    "# other wise print enter a valid number\n",
    "num=eval(input(\"enter the num\"))\n",
    "if num==1:\n",
    "    print(\"one\")\n",
    "elif num==2:\n",
    "    print(\"two\")\n",
    "elif num==3:\n",
    "    print(\"three\")\n",
    "else:\n",
    "    print(\"print the valid number\")"
   ]
  },
  {
   "cell_type": "code",
   "execution_count": 18,
   "id": "71530f24-5ef4-42b2-a946-82ba2bfdba61",
   "metadata": {},
   "outputs": [
    {
     "name": "stdin",
     "output_type": "stream",
     "text": [
      "enter the num 0\n"
     ]
    },
    {
     "name": "stdout",
     "output_type": "stream",
     "text": [
      "other wise zero\n"
     ]
    }
   ],
   "source": [
    "# wap ask the user  enter a number\n",
    "# if that grater than zero print positive \n",
    "# if that number less than zero print negative \n",
    "# other wise print zero\n",
    "num=eval(input('enter the num'))\n",
    "if num>0:\n",
    "    print(\"positve \")\n",
    "elif num<0:\n",
    "    print(\"negative\")\n",
    "else:\n",
    "    print(\"other wise zero\")"
   ]
  },
  {
   "cell_type": "code",
   "execution_count": 87,
   "id": "50f8e966-f30f-405c-84d1-5b3da7e98938",
   "metadata": {},
   "outputs": [
    {
     "name": "stdin",
     "output_type": "stream",
     "text": [
      "enter the percentage of marks: 34\n"
     ]
    },
    {
     "name": "stdout",
     "output_type": "stream",
     "text": [
      "fail\n"
     ]
    }
   ],
   "source": [
    "#wap ask the user  enter the number the percenatage of marks \n",
    "# if percentage gretar than 90 print A garade\n",
    "# if percentage between 75 to 90 print B grade\n",
    "# if percentage between 50 to 75 print c garade\n",
    "# if percentage between 35 to 50 print d garade\n",
    "# if percentage less than 35 print fail\n",
    "percentage=eval(input(\"enter the percentage of marks:\"))\n",
    "if percentage>=90:\n",
    "    print(\"A grade\")\n",
    "elif percentage>=75:\n",
    "    print(\"B grade\")\n",
    "elif percentage>=50:\n",
    "    print(\"c grade \")\n",
    "elif percentage>=35:\n",
    "    print(\"D grade\")\n",
    "else :\n",
    "    print(\"fail\")\n"
   ]
  },
  {
   "cell_type": "code",
   "execution_count": 88,
   "id": "eed5b7e1-b3b4-4743-baea-8901a6391405",
   "metadata": {},
   "outputs": [
    {
     "name": "stdin",
     "output_type": "stream",
     "text": [
      "enter the age  10\n"
     ]
    },
    {
     "name": "stdout",
     "output_type": "stream",
     "text": [
      "kid\n"
     ]
    }
   ],
   "source": [
    "# wap ask the user enter the age\n",
    "# if the age gretaer than 75 print old age \n",
    "# if the age between 50 to 75 print ss\n",
    "# if the age between 30 to 50 print MA\n",
    "# if the age between 15 to 30 print young AGE \n",
    "# if the age between less than 15 print kid\n",
    "age=eval(input(\"enter the age \"))\n",
    "if age>75:\n",
    "    print(\"old\")\n",
    "elif age>50:\n",
    "    print('senior setizan')\n",
    "elif age>50:\n",
    "    print(\"ma\")\n",
    "elif age>30:\n",
    "    print(\"young age\")\n",
    "else :\n",
    "    print(\"kid\")\n"
   ]
  },
  {
   "cell_type": "code",
   "execution_count": 1,
   "id": "26ca7302-542b-4bc1-9d78-fdd390ec593d",
   "metadata": {},
   "outputs": [],
   "source": [
    "# wap ask the user enter 2 numbers \n",
    "# num1\n",
    "# num2\n",
    "# you need to print\n",
    "# enter operation 1 for addition\n",
    "# enter opereation 2 for mult\n",
    "# enter operation 3 for sub\n",
    "# enetr opperation 4 for div \n",
    "\n",
    "# enter the opperation between 1 to 4 \n",
    "# if opperation equal to 1 than do add\n",
    "# if opperation equal to 2 than do sub\n",
    "# if opperation equal to 3 than do mul\n",
    "# if opperation equal to 4 than do div\n",
    "# other wise print enter a valid number "
   ]
  },
  {
   "cell_type": "code",
   "execution_count": 10,
   "id": "c66995e6-d3c1-4e04-876f-03ce5949ffa1",
   "metadata": {},
   "outputs": [
    {
     "name": "stdin",
     "output_type": "stream",
     "text": [
      "enter the number1: 10\n",
      "enter the number2: 20\n"
     ]
    },
    {
     "name": "stdout",
     "output_type": "stream",
     "text": [
      "enter opperation 1 for addition :\n",
      "enter opperation 2 for sub\n",
      "enter opperation 3 for mul\n",
      "enter opperation 4 for div\n"
     ]
    },
    {
     "name": "stdin",
     "output_type": "stream",
     "text": [
      "enter a choice of opperation between 1 to 4: 3\n"
     ]
    },
    {
     "ename": "NameError",
     "evalue": "name 'mul' is not defined",
     "output_type": "error",
     "traceback": [
      "\u001b[1;31m---------------------------------------------------------------------------\u001b[0m",
      "\u001b[1;31mNameError\u001b[0m                                 Traceback (most recent call last)",
      "Cell \u001b[1;32mIn[10], line 15\u001b[0m\n\u001b[0;32m     13\u001b[0m     \u001b[38;5;28mprint\u001b[39m(\u001b[38;5;124mf\u001b[39m\u001b[38;5;124m\"\u001b[39m\u001b[38;5;124msub of two number is \u001b[39m\u001b[38;5;132;01m{\u001b[39;00msub\u001b[38;5;132;01m}\u001b[39;00m\u001b[38;5;124m\"\u001b[39m)\n\u001b[0;32m     14\u001b[0m \u001b[38;5;28;01melif\u001b[39;00m op\u001b[38;5;241m==\u001b[39m\u001b[38;5;241m3\u001b[39m:\n\u001b[1;32m---> 15\u001b[0m     mul\u001b[38;5;241m==\u001b[39mnum1\u001b[38;5;241m*\u001b[39mnum2\n\u001b[0;32m     16\u001b[0m     \u001b[38;5;28mprint\u001b[39m(\u001b[38;5;124mf\u001b[39m\u001b[38;5;124m\"\u001b[39m\u001b[38;5;124mmul of two numbers is \u001b[39m\u001b[38;5;132;01m{\u001b[39;00mmul\u001b[38;5;132;01m}\u001b[39;00m\u001b[38;5;124m\"\u001b[39m)\n\u001b[0;32m     17\u001b[0m \u001b[38;5;28;01melif\u001b[39;00m op\u001b[38;5;241m==\u001b[39m\u001b[38;5;241m4\u001b[39m:\n",
      "\u001b[1;31mNameError\u001b[0m: name 'mul' is not defined"
     ]
    }
   ],
   "source": [
    "num1=eval(input(\"enter the number1:\"))\n",
    "num2=eval(input(\"enter the number2:\"))\n",
    "print(\"enter opperation 1 for addition :\")\n",
    "print(\"enter opperation 2 for sub\")\n",
    "print(\"enter opperation 3 for mul\")\n",
    "print(\"enter opperation 4 for div\")\n",
    "op=eval(input(\"enter a choice of opperation between 1 to 4:\"))\n",
    "if op==1:\n",
    "    add==num1+num2\n",
    "    print(f\"addition of two number is {add}\")\n",
    "elif op==2:\n",
    "    sub==num1-num2\n",
    "    print(f\"sub of two number is {sub}\")\n",
    "elif op==3:\n",
    "    mul==num1*num2\n",
    "    print(f\"mul of two numbers is {mul}\")\n",
    "elif op==4:\n",
    "    div==num1/num2\n",
    "    print(f\"div of two numbers is {div}\")\n",
    "\n",
    "else:\n",
    "    print(f\"enter the valid number \")\n",
    "  \n",
    "  \n",
    "  \n",
    "  "
   ]
  },
  {
   "cell_type": "code",
   "execution_count": null,
   "id": "c4ea0f2e-f680-4d61-b856-3ba869d24b55",
   "metadata": {},
   "outputs": [],
   "source": []
  }
 ],
 "metadata": {
  "kernelspec": {
   "display_name": "Python 3 (ipykernel)",
   "language": "python",
   "name": "python3"
  },
  "language_info": {
   "codemirror_mode": {
    "name": "ipython",
    "version": 3
   },
   "file_extension": ".py",
   "mimetype": "text/x-python",
   "name": "python",
   "nbconvert_exporter": "python",
   "pygments_lexer": "ipython3",
   "version": "3.11.7"
  }
 },
 "nbformat": 4,
 "nbformat_minor": 5
}
