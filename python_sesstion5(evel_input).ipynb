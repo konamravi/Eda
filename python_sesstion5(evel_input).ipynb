{
 "cells": [
  {
   "cell_type": "code",
   "execution_count": 1,
   "id": "e9db5d10-30de-44a3-91f9-f86a7287987e",
   "metadata": {},
   "outputs": [],
   "source": [
    "num1=100\n",
    "num2=200\n",
    "add=num1+num2\n"
   ]
  },
  {
   "cell_type": "markdown",
   "id": "dada35b9-79cd-498e-b6a5-a8dad9ebf92f",
   "metadata": {},
   "source": [
    "$INPUT$\n",
    "- input key wpord is used to take the values from user"
   ]
  },
  {
   "cell_type": "code",
   "execution_count": 1,
   "id": "5d64b151-baf6-4ace-9fcf-b77b2a64f52a",
   "metadata": {},
   "outputs": [
    {
     "name": "stdin",
     "output_type": "stream",
     "text": [
      " 12\n"
     ]
    },
    {
     "data": {
      "text/plain": [
       "'12'"
      ]
     },
     "execution_count": 1,
     "metadata": {},
     "output_type": "execute_result"
    }
   ],
   "source": [
    "input()"
   ]
  },
  {
   "cell_type": "code",
   "execution_count": 5,
   "id": "12baa022-e9ed-42e7-b269-48f3b2e16ad4",
   "metadata": {},
   "outputs": [
    {
     "name": "stdin",
     "output_type": "stream",
     "text": [
      "enter the number 100\n"
     ]
    },
    {
     "data": {
      "text/plain": [
       "'100'"
      ]
     },
     "execution_count": 5,
     "metadata": {},
     "output_type": "execute_result"
    }
   ],
   "source": [
    "input(\"enter the number\")"
   ]
  },
  {
   "cell_type": "code",
   "execution_count": 2,
   "id": "36892cce-ee3d-4cad-88c6-8561d599f007",
   "metadata": {},
   "outputs": [
    {
     "name": "stdin",
     "output_type": "stream",
     "text": [
      " 100\n",
      " 200\n",
      " 300\n"
     ]
    },
    {
     "data": {
      "text/plain": [
       "'300'"
      ]
     },
     "execution_count": 2,
     "metadata": {},
     "output_type": "execute_result"
    }
   ],
   "source": [
    "input()\n",
    "input()\n",
    "input()"
   ]
  },
  {
   "cell_type": "code",
   "execution_count": 9,
   "id": "306a246d-2f83-4231-878b-ee9367d9131a",
   "metadata": {},
   "outputs": [
    {
     "name": "stdin",
     "output_type": "stream",
     "text": [
      "enter the number1: 1000\n",
      "enter the number2: 2000\n",
      "enter the number3: 3000\n"
     ]
    },
    {
     "data": {
      "text/plain": [
       "'3000'"
      ]
     },
     "execution_count": 9,
     "metadata": {},
     "output_type": "execute_result"
    }
   ],
   "source": [
    "input(\"enter the number1:\")\n",
    "input(\"enter the number2:\")\n",
    "input(\"enter the number3:\")"
   ]
  },
  {
   "cell_type": "code",
   "execution_count": null,
   "id": "55fa7125-123e-48e6-b95d-a1e6b27bac16",
   "metadata": {},
   "outputs": [],
   "source": []
  },
  {
   "cell_type": "markdown",
   "id": "bd2780b6-6f8c-4159-9b50-befa0cdef688",
   "metadata": {},
   "source": [
    "**Note**\n",
    "- input always give the string data type only\n",
    "- in order to perform caluclations we need to convert into numerical format i.e int or float"
   ]
  },
  {
   "cell_type": "code",
   "execution_count": 11,
   "id": "f8899d2c-63bf-4e26-b19c-a5a752a535c4",
   "metadata": {},
   "outputs": [
    {
     "name": "stdin",
     "output_type": "stream",
     "text": [
      " 100\n"
     ]
    },
    {
     "data": {
      "text/plain": [
       "'100'"
      ]
     },
     "execution_count": 11,
     "metadata": {},
     "output_type": "execute_result"
    }
   ],
   "source": [
    "input()"
   ]
  },
  {
   "cell_type": "code",
   "execution_count": 12,
   "id": "336e1d73-335e-4cd3-8af2-8a67b716a272",
   "metadata": {},
   "outputs": [
    {
     "name": "stdin",
     "output_type": "stream",
     "text": [
      "enter the number: 100\n"
     ]
    },
    {
     "data": {
      "text/plain": [
       "'100'"
      ]
     },
     "execution_count": 12,
     "metadata": {},
     "output_type": "execute_result"
    }
   ],
   "source": [
    "input(\"enter the number:\")"
   ]
  },
  {
   "cell_type": "code",
   "execution_count": 8,
   "id": "d7576867-ac55-49ad-98c9-87b1fdaffdb5",
   "metadata": {},
   "outputs": [
    {
     "name": "stdin",
     "output_type": "stream",
     "text": [
      "enter the number 100\n"
     ]
    },
    {
     "data": {
      "text/plain": [
       "'100'"
      ]
     },
     "execution_count": 8,
     "metadata": {},
     "output_type": "execute_result"
    }
   ],
   "source": [
    "a=input(\"enter the number\")\n",
    "a"
   ]
  },
  {
   "cell_type": "code",
   "execution_count": null,
   "id": "4f1a8634-210b-4cf8-b606-c75d9e11b3c2",
   "metadata": {},
   "outputs": [],
   "source": [
    "input()\n",
    "input(\"enter the number:\")\n",
    "a=input(\"enter the number1:\")"
   ]
  },
  {
   "cell_type": "code",
   "execution_count": 9,
   "id": "5560fe63-5b18-4e1d-a182-39ef4e170e8c",
   "metadata": {},
   "outputs": [
    {
     "name": "stdin",
     "output_type": "stream",
     "text": [
      "enter the number1: 100\n",
      "enter the number2: 200\n"
     ]
    },
    {
     "data": {
      "text/plain": [
       "300"
      ]
     },
     "execution_count": 9,
     "metadata": {},
     "output_type": "execute_result"
    }
   ],
   "source": [
    "num1=int(input(\"enter the number1:\"))\n",
    "num2=int(input(\"enter the number2:\"))\n",
    "num1+num2  # 100+200=100200"
   ]
  },
  {
   "cell_type": "code",
   "execution_count": 13,
   "id": "5f9aa795-4ab4-4875-ae0b-cbe4cf5673a4",
   "metadata": {},
   "outputs": [
    {
     "name": "stdin",
     "output_type": "stream",
     "text": [
      "enter the number1: 100\n",
      "enter the number2: 200\n"
     ]
    },
    {
     "data": {
      "text/plain": [
       "'100200'"
      ]
     },
     "execution_count": 13,
     "metadata": {},
     "output_type": "execute_result"
    }
   ],
   "source": [
    "num1=input(\"enter the number1:\")\n",
    "num2=input(\"enter the number2:\")\n",
    "num1+num2"
   ]
  },
  {
   "cell_type": "code",
   "execution_count": 15,
   "id": "ee2d874a-cd17-48d9-865d-a7fd8d88e124",
   "metadata": {},
   "outputs": [
    {
     "name": "stdin",
     "output_type": "stream",
     "text": [
      "enter the number1: 100\n",
      "enter the number2: 200\n"
     ]
    },
    {
     "data": {
      "text/plain": [
       "'100200'"
      ]
     },
     "execution_count": 15,
     "metadata": {},
     "output_type": "execute_result"
    }
   ],
   "source": [
    "num1=input(\"enter the number1:\")\n",
    "num2=input(\"enter the number2:\")\n",
    "num1+num2"
   ]
  },
  {
   "cell_type": "code",
   "execution_count": 18,
   "id": "e3679d04-1f31-4897-b93e-3e5d1b91ac72",
   "metadata": {},
   "outputs": [
    {
     "name": "stdin",
     "output_type": "stream",
     "text": [
      "enter the number1: 100\n",
      "enter the number2: 200\n"
     ]
    },
    {
     "data": {
      "text/plain": [
       "300"
      ]
     },
     "execution_count": 18,
     "metadata": {},
     "output_type": "execute_result"
    }
   ],
   "source": [
    "num1=input(\"enter the number1:\")\n",
    "num2=input(\"enter the number2:\")\n",
    "int(num1)+int(num2)"
   ]
  },
  {
   "cell_type": "markdown",
   "id": "85094a35-c305-4574-8a88-1efae6ebff3d",
   "metadata": {},
   "source": [
    "$eval$\n",
    "- eval means evaluate\n",
    "- what ever the number we enter ,eval will convert to responding data type\n",
    "  "
   ]
  },
  {
   "cell_type": "code",
   "execution_count": 16,
   "id": "78ca0f03-3f64-4b7c-8db6-55f018ba429b",
   "metadata": {},
   "outputs": [
    {
     "name": "stdin",
     "output_type": "stream",
     "text": [
      "enter the number1: 100.5\n",
      "enter the number2: 100.5\n"
     ]
    },
    {
     "name": "stdout",
     "output_type": "stream",
     "text": [
      "the ADDITION OF 100.5 and 100.5 is : 201.0\n"
     ]
    }
   ],
   "source": [
    "num1=eval(input(\"enter the number1:\")) #num1=int(100.5)=100\n",
    "num2=eval(input(\"enter the number2:\")) #num2=int('500')=200\n",
    "add=num1+num2\n",
    "print(f\"the ADDITION OF {num1} and {num2} is : {add}\")"
   ]
  },
  {
   "cell_type": "code",
   "execution_count": null,
   "id": "003391b7-e9a4-4985-a51b-c6405fd26683",
   "metadata": {},
   "outputs": [],
   "source": [
    "# write a program user3 number calucalulation average \n",
    "# write a program user the 2 number find thstraction ,addition,multiplication \n",
    "# wap ask the user enter radious value find the area of the circle\n",
    "# wap ask the user bill amount,\n",
    "# ask the user howmuch tip you want to pay in percentage \n",
    "# calclute total bill\n",
    "\n",
    "\n",
    "# wap ask the user bill amount in dollar \n",
    "# ask the user one dollar\n",
    "# print the bill amount in rupees\n",
    "\n",
    "# wap ask the user enter base hight caluclation area of the triangle \n",
    "# wap ask the user enter length and breadth caluclation area of the rectangular"
   ]
  },
  {
   "cell_type": "code",
   "execution_count": 17,
   "id": "95632ff1-5be9-4979-9c1c-a78c3c1b9a1d",
   "metadata": {},
   "outputs": [
    {
     "name": "stdin",
     "output_type": "stream",
     "text": [
      "enter the number1: 10\n",
      "enter the number2: 20\n",
      "enter the number3: 30\n"
     ]
    },
    {
     "name": "stdout",
     "output_type": "stream",
     "text": [
      "the average of 10 , 20 and 30 is :20.0\n"
     ]
    }
   ],
   "source": [
    "num1=eval(input(\"enter the number1:\"))\n",
    "num2=eval(input(\"enter the number2:\"))\n",
    "num3=eval(input(\"enter the number3:\"))\n",
    "avg=(num1+num2+num3)/3\n",
    "print(f\"the average of {num1} , {num2} and {num3} is :{avg}\")"
   ]
  },
  {
   "cell_type": "code",
   "execution_count": 22,
   "id": "3cec4b39-d4ad-4885-bf7f-ef83b29ee9a6",
   "metadata": {},
   "outputs": [
    {
     "name": "stdin",
     "output_type": "stream",
     "text": [
      "enter the number1: 100\n",
      "enter the number2: 200\n"
     ]
    },
    {
     "name": "stdout",
     "output_type": "stream",
     "text": [
      "the add of 2 numbers 100 and 200 is :300\n",
      "the sub of 2 numbers 100 and 200 is :-100\n",
      "the mul of 2 numbers 100 and 200 is :20000\n",
      "the div of 2 numbers 100 and 200 is :0.5\n"
     ]
    }
   ],
   "source": [
    "# write a program user the 2 number find the substraction ,addition,multiplication \n",
    "num1=eval(input(\"enter the number1:\"))\n",
    "num2=eval(input(\"enter the number2:\"))\n",
    "add=num1+num2\n",
    "sub=num1-num2\n",
    "mul=num1*num2\n",
    "div=num1/num2\n",
    "print(f\"the add of 2 numbers {num1} and {num2} is :{add}\")\n",
    "print(f\"the sub of 2 numbers {num1} and {num2} is :{sub}\")\n",
    "print(f\"the mul of 2 numbers {num1} and {num2} is :{mul}\")\n",
    "print(f\"the div of 2 numbers {num1} and {num2} is :{div}\")"
   ]
  },
  {
   "cell_type": "code",
   "execution_count": null,
   "id": "88ff179a-3b6e-4def-9488-e9eeb4840d7f",
   "metadata": {},
   "outputs": [],
   "source": []
  }
 ],
 "metadata": {
  "kernelspec": {
   "display_name": "Python 3 (ipykernel)",
   "language": "python",
   "name": "python3"
  },
  "language_info": {
   "codemirror_mode": {
    "name": "ipython",
    "version": 3
   },
   "file_extension": ".py",
   "mimetype": "text/x-python",
   "name": "python",
   "nbconvert_exporter": "python",
   "pygments_lexer": "ipython3",
   "version": "3.11.7"
  }
 },
 "nbformat": 4,
 "nbformat_minor": 5
}
