{
 "cells": [
  {
   "cell_type": "markdown",
   "id": "e8d2fc48-ce70-40bb-8e36-aff0e94a01f6",
   "metadata": {},
   "source": [
    "- let assume that our friend coder is there \n",
    "- he created an addition program \n",
    "- he feels that he only created an addition program \n",
    "- he wants to have this program to every one === package \n",
    "- he wants to anaconda orignaization \n",
    "- he makes adeal\n",
    "- who ever installed anaconda my package also automatically download\n",
    "\n",
    " thats why when your downdoading anacondsa a green colour pop is comea means so many packages are tie with anaconda downlading in your local laptop"
   ]
  },
  {
   "cell_type": "markdown",
   "id": "dc2306fd-e5d7-4a23-9de1-3cea37f10488",
   "metadata": {},
   "source": [
    "package is there in your laptop\n",
    "y0u want to use for the coading\n",
    "\n",
    "the package name : addition "
   ]
  },
  {
   "cell_type": "markdown",
   "id": "e7b8ee3e-1ee8-4498-8263-c64b98dbbbf2",
   "metadata": {},
   "source": [
    "**import**"
   ]
  },
  {
   "cell_type": "code",
   "execution_count": null,
   "id": "1da08248-0748-438e-8917-391a029a260e",
   "metadata": {},
   "outputs": [],
   "source": [
    "# syntax \n",
    "# import <package_name>"
   ]
  },
  {
   "cell_type": "code",
   "execution_count": 27,
   "id": "2295afad-2c10-4d83-ae9b-a01db7edb719",
   "metadata": {},
   "outputs": [],
   "source": [
    "# package name : random\n",
    "import random"
   ]
  },
  {
   "cell_type": "code",
   "execution_count": 28,
   "id": "9071dba9-a29e-4aae-9780-a426b51b6da5",
   "metadata": {},
   "outputs": [],
   "source": [
    "# package name :time \n",
    "import time"
   ]
  },
  {
   "cell_type": "code",
   "execution_count": null,
   "id": "e1b20721-2ec4-413a-baa8-590f12076298",
   "metadata": {},
   "outputs": [],
   "source": [
    "# package name: math\n",
    "import math"
   ]
  },
  {
   "cell_type": "code",
   "execution_count": 29,
   "id": "48e28b16-616b-4071-b440-6f51630b914c",
   "metadata": {},
   "outputs": [],
   "source": [
    "# package name :streamlit\n",
    "import streamlit "
   ]
  },
  {
   "cell_type": "code",
   "execution_count": 30,
   "id": "e194fddb-30bf-4190-9f02-10b509238fd8",
   "metadata": {},
   "outputs": [],
   "source": [
    "# module not found \n",
    "# package or module both are same "
   ]
  },
  {
   "cell_type": "code",
   "execution_count": null,
   "id": "4ebd6b7f-929a-4170-9689-9f882fe6f667",
   "metadata": {},
   "outputs": [],
   "source": [
    "import cv2"
   ]
  },
  {
   "cell_type": "code",
   "execution_count": 31,
   "id": "ec247147-596a-4f7a-bb3c-9851918858fc",
   "metadata": {},
   "outputs": [
    {
     "ename": "SyntaxError",
     "evalue": "invalid syntax (1345445851.py, line 1)",
     "output_type": "error",
     "traceback": [
      "\u001b[1;36m  Cell \u001b[1;32mIn[31], line 1\u001b[1;36m\u001b[0m\n\u001b[1;33m    cv2 guy not tie with anaconda\u001b[0m\n\u001b[1;37m        ^\u001b[0m\n\u001b[1;31mSyntaxError\u001b[0m\u001b[1;31m:\u001b[0m invalid syntax\n"
     ]
    }
   ],
   "source": [
    "cv2 guy not tie with anaconda \n",
    "no moduel name : cv2\n",
    "\n",
    "streamlit guy not tie with anaconda \n",
    "no mdule name : streamlit"
   ]
  },
  {
   "cell_type": "code",
   "execution_count": null,
   "id": "ac7a988e-c62b-424d-afea-48016a2e412f",
   "metadata": {},
   "outputs": [],
   "source": [
    "math operation \n",
    " addition \n",
    " substraction \n",
    " multiplication \n",
    " division "
   ]
  },
  {
   "cell_type": "code",
   "execution_count": 32,
   "id": "7775b7ad-3788-4d1a-b519-7464b9e0719e",
   "metadata": {},
   "outputs": [
    {
     "data": {
      "text/plain": [
       "['BPF',\n",
       " 'LOG4',\n",
       " 'NV_MAGICCONST',\n",
       " 'RECIP_BPF',\n",
       " 'Random',\n",
       " 'SG_MAGICCONST',\n",
       " 'SystemRandom',\n",
       " 'TWOPI',\n",
       " '_ONE',\n",
       " '_Sequence',\n",
       " '_Set',\n",
       " '__all__',\n",
       " '__builtins__',\n",
       " '__cached__',\n",
       " '__doc__',\n",
       " '__file__',\n",
       " '__loader__',\n",
       " '__name__',\n",
       " '__package__',\n",
       " '__spec__',\n",
       " '_accumulate',\n",
       " '_acos',\n",
       " '_bisect',\n",
       " '_ceil',\n",
       " '_cos',\n",
       " '_e',\n",
       " '_exp',\n",
       " '_floor',\n",
       " '_index',\n",
       " '_inst',\n",
       " '_isfinite',\n",
       " '_log',\n",
       " '_os',\n",
       " '_pi',\n",
       " '_random',\n",
       " '_repeat',\n",
       " '_sha512',\n",
       " '_sin',\n",
       " '_sqrt',\n",
       " '_test',\n",
       " '_test_generator',\n",
       " '_urandom',\n",
       " '_warn',\n",
       " 'betavariate',\n",
       " 'choice',\n",
       " 'choices',\n",
       " 'expovariate',\n",
       " 'gammavariate',\n",
       " 'gauss',\n",
       " 'getrandbits',\n",
       " 'getstate',\n",
       " 'lognormvariate',\n",
       " 'normalvariate',\n",
       " 'paretovariate',\n",
       " 'randbytes',\n",
       " 'randint',\n",
       " 'random',\n",
       " 'randrange',\n",
       " 'sample',\n",
       " 'seed',\n",
       " 'setstate',\n",
       " 'shuffle',\n",
       " 'triangular',\n",
       " 'uniform',\n",
       " 'vonmisesvariate',\n",
       " 'weibullvariate']"
      ]
     },
     "execution_count": 32,
     "metadata": {},
     "output_type": "execute_result"
    }
   ],
   "source": [
    "import random \n",
    "dir(random)"
   ]
  },
  {
   "cell_type": "code",
   "execution_count": 33,
   "id": "3c0c4af6-bbcf-4174-a72d-3de9753cf2e3",
   "metadata": {},
   "outputs": [],
   "source": [
    "# syntax \n",
    "# <package_name>.<method_name>\n",
    "# packagename:random\n",
    "# method name :randint "
   ]
  },
  {
   "cell_type": "code",
   "execution_count": 34,
   "id": "4b0347f7-092f-410a-8f05-284aa8f1ad73",
   "metadata": {},
   "outputs": [
    {
     "name": "stdout",
     "output_type": "stream",
     "text": [
      "Help on method randint in module random:\n",
      "\n",
      "randint(a, b) method of random.Random instance\n",
      "    Return random integer in range [a, b], including both end points.\n",
      "\n"
     ]
    }
   ],
   "source": [
    "# help(<package_name.method_name>)\n",
    "# help will give the under stranding of \n",
    "# how a method will wor\n",
    "\n",
    "# here i wnt know what randint will do ?\n",
    "\n",
    "help(random.randint)\n"
   ]
  },
  {
   "cell_type": "code",
   "execution_count": 4,
   "id": "f8bd2c99-0c83-4a41-ad84-83375c065d52",
   "metadata": {},
   "outputs": [
    {
     "data": {
      "text/plain": [
       "9"
      ]
     },
     "execution_count": 4,
     "metadata": {},
     "output_type": "execute_result"
    }
   ],
   "source": [
    "import random\n",
    "random.randint(1,10)"
   ]
  },
  {
   "cell_type": "code",
   "execution_count": 5,
   "id": "b34aa7a4-19eb-44de-af83-26345cd7df8e",
   "metadata": {},
   "outputs": [],
   "source": [
    "# step-1 :import <package_name>\n",
    "# step-2 :dir (<package_name>)\n",
    "# step-3 : help (<package_name>.<method_name>\n",
    "# package_name :random\n",
    "import random"
   ]
  },
  {
   "cell_type": "code",
   "execution_count": 37,
   "id": "aeb04e68-ec72-4617-ac2c-8933105e5b8d",
   "metadata": {},
   "outputs": [
    {
     "data": {
      "text/plain": [
       "['BPF',\n",
       " 'LOG4',\n",
       " 'NV_MAGICCONST',\n",
       " 'RECIP_BPF',\n",
       " 'Random',\n",
       " 'SG_MAGICCONST',\n",
       " 'SystemRandom',\n",
       " 'TWOPI',\n",
       " '_ONE',\n",
       " '_Sequence',\n",
       " '_Set',\n",
       " '__all__',\n",
       " '__builtins__',\n",
       " '__cached__',\n",
       " '__doc__',\n",
       " '__file__',\n",
       " '__loader__',\n",
       " '__name__',\n",
       " '__package__',\n",
       " '__spec__',\n",
       " '_accumulate',\n",
       " '_acos',\n",
       " '_bisect',\n",
       " '_ceil',\n",
       " '_cos',\n",
       " '_e',\n",
       " '_exp',\n",
       " '_floor',\n",
       " '_index',\n",
       " '_inst',\n",
       " '_isfinite',\n",
       " '_log',\n",
       " '_os',\n",
       " '_pi',\n",
       " '_random',\n",
       " '_repeat',\n",
       " '_sha512',\n",
       " '_sin',\n",
       " '_sqrt',\n",
       " '_test',\n",
       " '_test_generator',\n",
       " '_urandom',\n",
       " '_warn',\n",
       " 'betavariate',\n",
       " 'choice',\n",
       " 'choices',\n",
       " 'expovariate',\n",
       " 'gammavariate',\n",
       " 'gauss',\n",
       " 'getrandbits',\n",
       " 'getstate',\n",
       " 'lognormvariate',\n",
       " 'normalvariate',\n",
       " 'paretovariate',\n",
       " 'randbytes',\n",
       " 'randint',\n",
       " 'random',\n",
       " 'randrange',\n",
       " 'sample',\n",
       " 'seed',\n",
       " 'setstate',\n",
       " 'shuffle',\n",
       " 'triangular',\n",
       " 'uniform',\n",
       " 'vonmisesvariate',\n",
       " 'weibullvariate']"
      ]
     },
     "execution_count": 37,
     "metadata": {},
     "output_type": "execute_result"
    }
   ],
   "source": [
    "dir(random)"
   ]
  },
  {
   "cell_type": "code",
   "execution_count": 38,
   "id": "df5d362d-c8f7-4168-b95c-2b4df33e2303",
   "metadata": {},
   "outputs": [
    {
     "name": "stdout",
     "output_type": "stream",
     "text": [
      "Help on method randint in module random:\n",
      "\n",
      "randint(a, b) method of random.Random instance\n",
      "    Return random integer in range [a, b], including both end points.\n",
      "\n"
     ]
    }
   ],
   "source": [
    "help(random.randint)"
   ]
  },
  {
   "cell_type": "code",
   "execution_count": 39,
   "id": "bcd18d9b-0a37-46cb-984f-eb0147fb34b4",
   "metadata": {},
   "outputs": [
    {
     "data": {
      "text/plain": [
       "9"
      ]
     },
     "execution_count": 39,
     "metadata": {},
     "output_type": "execute_result"
    }
   ],
   "source": [
    "random.randint(1,20)"
   ]
  },
  {
   "cell_type": "code",
   "execution_count": 40,
   "id": "f20d9d49-c8c6-4a88-b0d6-e1b24982080c",
   "metadata": {},
   "outputs": [
    {
     "name": "stdout",
     "output_type": "stream",
     "text": [
      "Help on method randint in module random:\n",
      "\n",
      "randint(a, b) method of random.Random instance\n",
      "    Return random integer in range [a, b], including both end points.\n",
      "\n"
     ]
    }
   ],
   "source": [
    "# package name : random\n",
    "# method name : random \n",
    "import random \n",
    "dir(random)\n",
    "help(random.randint)"
   ]
  },
  {
   "cell_type": "code",
   "execution_count": 41,
   "id": "d1b71a6b-8b97-4f2e-b5ac-4998dc2c0870",
   "metadata": {},
   "outputs": [
    {
     "data": {
      "text/plain": [
       "0.5496785461956423"
      ]
     },
     "execution_count": 41,
     "metadata": {},
     "output_type": "execute_result"
    }
   ],
   "source": [
    "random.random()"
   ]
  },
  {
   "cell_type": "markdown",
   "id": "a9180dbc-517b-4f80-b8c3-2988d24f202e",
   "metadata": {},
   "source": [
    "**math**"
   ]
  },
  {
   "cell_type": "markdown",
   "id": "ea97c393-b9d5-470d-95a7-8c1f197db2f5",
   "metadata": {},
   "source": [
    "## package name : math\n",
    "## method pi \n",
    "## sqrt \n",
    "## sin"
   ]
  },
  {
   "cell_type": "code",
   "execution_count": 42,
   "id": "76d6a3f9-26c8-4e68-8079-39e953925219",
   "metadata": {},
   "outputs": [],
   "source": [
    "import math"
   ]
  },
  {
   "cell_type": "code",
   "execution_count": 43,
   "id": "efa21331-dfa5-48e8-825d-9de0ea5f66a8",
   "metadata": {},
   "outputs": [
    {
     "data": {
      "text/plain": [
       "['__doc__',\n",
       " '__loader__',\n",
       " '__name__',\n",
       " '__package__',\n",
       " '__spec__',\n",
       " 'acos',\n",
       " 'acosh',\n",
       " 'asin',\n",
       " 'asinh',\n",
       " 'atan',\n",
       " 'atan2',\n",
       " 'atanh',\n",
       " 'cbrt',\n",
       " 'ceil',\n",
       " 'comb',\n",
       " 'copysign',\n",
       " 'cos',\n",
       " 'cosh',\n",
       " 'degrees',\n",
       " 'dist',\n",
       " 'e',\n",
       " 'erf',\n",
       " 'erfc',\n",
       " 'exp',\n",
       " 'exp2',\n",
       " 'expm1',\n",
       " 'fabs',\n",
       " 'factorial',\n",
       " 'floor',\n",
       " 'fmod',\n",
       " 'frexp',\n",
       " 'fsum',\n",
       " 'gamma',\n",
       " 'gcd',\n",
       " 'hypot',\n",
       " 'inf',\n",
       " 'isclose',\n",
       " 'isfinite',\n",
       " 'isinf',\n",
       " 'isnan',\n",
       " 'isqrt',\n",
       " 'lcm',\n",
       " 'ldexp',\n",
       " 'lgamma',\n",
       " 'log',\n",
       " 'log10',\n",
       " 'log1p',\n",
       " 'log2',\n",
       " 'modf',\n",
       " 'nan',\n",
       " 'nextafter',\n",
       " 'perm',\n",
       " 'pi',\n",
       " 'pow',\n",
       " 'prod',\n",
       " 'radians',\n",
       " 'remainder',\n",
       " 'sin',\n",
       " 'sinh',\n",
       " 'sqrt',\n",
       " 'tan',\n",
       " 'tanh',\n",
       " 'tau',\n",
       " 'trunc',\n",
       " 'ulp']"
      ]
     },
     "execution_count": 43,
     "metadata": {},
     "output_type": "execute_result"
    }
   ],
   "source": [
    "dir(math)"
   ]
  },
  {
   "cell_type": "code",
   "execution_count": 44,
   "id": "1b6918d1-d2cc-4614-bbea-4a66ffc62443",
   "metadata": {},
   "outputs": [
    {
     "name": "stdout",
     "output_type": "stream",
     "text": [
      "Help on built-in function sqrt in module math:\n",
      "\n",
      "sqrt(x, /)\n",
      "    Return the square root of x.\n",
      "\n"
     ]
    }
   ],
   "source": [
    "# pi \n",
    "# pow \n",
    "# sqrt\n",
    "# sin\n",
    "help(math.sqrt)"
   ]
  },
  {
   "cell_type": "code",
   "execution_count": 45,
   "id": "8e6d4557-a5aa-4ad9-9826-2113a247a784",
   "metadata": {},
   "outputs": [
    {
     "data": {
      "text/plain": [
       "5.0"
      ]
     },
     "execution_count": 45,
     "metadata": {},
     "output_type": "execute_result"
    }
   ],
   "source": [
    "math.sqrt(25)"
   ]
  },
  {
   "cell_type": "code",
   "execution_count": 55,
   "id": "09757252-bb2d-4e50-98ba-8636db7df70f",
   "metadata": {},
   "outputs": [
    {
     "name": "stdout",
     "output_type": "stream",
     "text": [
      "Help on built-in function pow in module math:\n",
      "\n",
      "pow(x, y, /)\n",
      "    Return x**y (x to the power of y).\n",
      "\n"
     ]
    }
   ],
   "source": [
    "help(math.pow)"
   ]
  },
  {
   "cell_type": "code",
   "execution_count": 56,
   "id": "7a537d17-368d-4d2d-80da-0a0501dd1627",
   "metadata": {},
   "outputs": [
    {
     "data": {
      "text/plain": [
       "8.0"
      ]
     },
     "execution_count": 56,
     "metadata": {},
     "output_type": "execute_result"
    }
   ],
   "source": [
    "math.pow(2,3)"
   ]
  },
  {
   "cell_type": "code",
   "execution_count": 57,
   "id": "233e6bc8-a39d-47c8-85e4-e864d4ad736e",
   "metadata": {},
   "outputs": [
    {
     "name": "stdout",
     "output_type": "stream",
     "text": [
      "Help on built-in function sin in module math:\n",
      "\n",
      "sin(x, /)\n",
      "    Return the sine of x (measured in radians).\n",
      "\n"
     ]
    }
   ],
   "source": [
    "help(math.sin)"
   ]
  },
  {
   "cell_type": "code",
   "execution_count": 49,
   "id": "750d263e-bf8a-41f5-926f-38bf6c36e058",
   "metadata": {},
   "outputs": [
    {
     "data": {
      "text/plain": [
       "0.8939966636005579"
      ]
     },
     "execution_count": 49,
     "metadata": {},
     "output_type": "execute_result"
    }
   ],
   "source": [
    "math.sin(90)"
   ]
  },
  {
   "cell_type": "code",
   "execution_count": 58,
   "id": "f45b1152-bbd6-45d8-b707-57778c284ce4",
   "metadata": {},
   "outputs": [
    {
     "data": {
      "text/plain": [
       "0.8939966636005579"
      ]
     },
     "execution_count": 58,
     "metadata": {},
     "output_type": "execute_result"
    }
   ],
   "source": [
    "math.sqrt(25)\n",
    "math.pow(2,3)\n",
    "math.sin(90)"
   ]
  },
  {
   "cell_type": "code",
   "execution_count": 51,
   "id": "0fb252ee-4a40-4bc4-8116-ee8a5144d6a9",
   "metadata": {},
   "outputs": [
    {
     "ename": "TypeError",
     "evalue": "math.sqrt() takes no keyword arguments",
     "output_type": "error",
     "traceback": [
      "\u001b[1;31m---------------------------------------------------------------------------\u001b[0m",
      "\u001b[1;31mTypeError\u001b[0m                                 Traceback (most recent call last)",
      "Cell \u001b[1;32mIn[51], line 1\u001b[0m\n\u001b[1;32m----> 1\u001b[0m math\u001b[38;5;241m.\u001b[39msqrt(x\u001b[38;5;241m=\u001b[39m\u001b[38;5;241m25\u001b[39m)\n",
      "\u001b[1;31mTypeError\u001b[0m: math.sqrt() takes no keyword arguments"
     ]
    }
   ],
   "source": [
    "math.sqrt(x=25)\n",
    "# curosr inside the bracker\n",
    "# then apply shiftb+tab\n",
    "\n",
    "#/is mentioned means \n",
    "# do notb provide x=25 values\n",
    "# directly give"
   ]
  },
  {
   "cell_type": "code",
   "execution_count": 59,
   "id": "f630b47c-55db-481d-9dc5-2257d3142a2f",
   "metadata": {},
   "outputs": [
    {
     "data": {
      "text/plain": [
       "<function math.sqrt(x, /)>"
      ]
     },
     "execution_count": 59,
     "metadata": {},
     "output_type": "execute_result"
    }
   ],
   "source": [
    "math.sqrt"
   ]
  },
  {
   "cell_type": "markdown",
   "id": "69885565-7b05-42a2-85e5-8f0bbf32a35b",
   "metadata": {},
   "source": [
    "- function mean we are forgetting brackets\n",
    "- we need tokeep brackets \n",
    "- bound method also means forgeetig the brackets\n",
    "- not callable means remove bracket\n",
    "- whenever you see slash don't provide variable name \n",
    "- durectly give the value "
   ]
  },
  {
   "cell_type": "code",
   "execution_count": 60,
   "id": "242dbed9-1499-4262-9d61-886e437db9d9",
   "metadata": {},
   "outputs": [
    {
     "data": {
      "text/plain": [
       "5.0"
      ]
     },
     "execution_count": 60,
     "metadata": {},
     "output_type": "execute_result"
    }
   ],
   "source": [
    "math.sqrt(25)"
   ]
  },
  {
   "cell_type": "code",
   "execution_count": 61,
   "id": "89569cff-c17b-4f2f-aec4-808405cf3f4a",
   "metadata": {},
   "outputs": [
    {
     "data": {
      "text/plain": [
       "0.5451918280796408"
      ]
     },
     "execution_count": 61,
     "metadata": {},
     "output_type": "execute_result"
    }
   ],
   "source": [
    "random.random()"
   ]
  },
  {
   "cell_type": "code",
   "execution_count": 62,
   "id": "76d3d80a-0e18-42b1-aafc-be62081448f3",
   "metadata": {},
   "outputs": [
    {
     "data": {
      "text/plain": [
       "['BPF',\n",
       " 'LOG4',\n",
       " 'NV_MAGICCONST',\n",
       " 'RECIP_BPF',\n",
       " 'Random',\n",
       " 'SG_MAGICCONST',\n",
       " 'SystemRandom',\n",
       " 'TWOPI',\n",
       " '_ONE',\n",
       " '_Sequence',\n",
       " '_Set',\n",
       " '__all__',\n",
       " '__builtins__',\n",
       " '__cached__',\n",
       " '__doc__',\n",
       " '__file__',\n",
       " '__loader__',\n",
       " '__name__',\n",
       " '__package__',\n",
       " '__spec__',\n",
       " '_accumulate',\n",
       " '_acos',\n",
       " '_bisect',\n",
       " '_ceil',\n",
       " '_cos',\n",
       " '_e',\n",
       " '_exp',\n",
       " '_floor',\n",
       " '_index',\n",
       " '_inst',\n",
       " '_isfinite',\n",
       " '_log',\n",
       " '_os',\n",
       " '_pi',\n",
       " '_random',\n",
       " '_repeat',\n",
       " '_sha512',\n",
       " '_sin',\n",
       " '_sqrt',\n",
       " '_test',\n",
       " '_test_generator',\n",
       " '_urandom',\n",
       " '_warn',\n",
       " 'betavariate',\n",
       " 'choice',\n",
       " 'choices',\n",
       " 'expovariate',\n",
       " 'gammavariate',\n",
       " 'gauss',\n",
       " 'getrandbits',\n",
       " 'getstate',\n",
       " 'lognormvariate',\n",
       " 'normalvariate',\n",
       " 'paretovariate',\n",
       " 'randbytes',\n",
       " 'randint',\n",
       " 'random',\n",
       " 'randrange',\n",
       " 'sample',\n",
       " 'seed',\n",
       " 'setstate',\n",
       " 'shuffle',\n",
       " 'triangular',\n",
       " 'uniform',\n",
       " 'vonmisesvariate',\n",
       " 'weibullvariate']"
      ]
     },
     "execution_count": 62,
     "metadata": {},
     "output_type": "execute_result"
    }
   ],
   "source": [
    "dir(random)"
   ]
  },
  {
   "cell_type": "code",
   "execution_count": 65,
   "id": "f1fcd8dc-3ea2-4367-96f8-962c559eb096",
   "metadata": {},
   "outputs": [
    {
     "data": {
      "text/plain": [
       "3.141592653589793"
      ]
     },
     "execution_count": 65,
     "metadata": {},
     "output_type": "execute_result"
    }
   ],
   "source": [
    "math.pi\n",
    "# direct values never include brackets"
   ]
  },
  {
   "cell_type": "code",
   "execution_count": 66,
   "id": "3ec9007a-7777-4496-8548-6137945dd201",
   "metadata": {},
   "outputs": [],
   "source": [
    "# pakage name: keyword\n",
    "# method name :kwlist\n",
    "import keyword"
   ]
  },
  {
   "cell_type": "code",
   "execution_count": 69,
   "id": "3c9ad1e2-37c2-4e2b-b30b-2c9bb50b3fab",
   "metadata": {},
   "outputs": [
    {
     "data": {
      "text/plain": [
       "35"
      ]
     },
     "execution_count": 69,
     "metadata": {},
     "output_type": "execute_result"
    }
   ],
   "source": [
    "len(keyword.kwlist)"
   ]
  },
  {
   "cell_type": "code",
   "execution_count": 71,
   "id": "e9492e47-09fe-4b04-a385-9fa14e9e0925",
   "metadata": {},
   "outputs": [],
   "source": [
    "# step-1\n",
    "# import <pakage_name>\n",
    "\n",
    "#ste-2:\n",
    "#dir(<pakage_name>)\n",
    "\n",
    "#step-3\n",
    "#help(<package_name)\n",
    "\n",
    "#step-4\n",
    "#<package_name>.<method_name>() #99%"
   ]
  },
  {
   "cell_type": "code",
   "execution_count": 72,
   "id": "01e3ff45-fd25-41df-849c-f3228b1e4663",
   "metadata": {},
   "outputs": [],
   "source": [
    "import random"
   ]
  },
  {
   "cell_type": "code",
   "execution_count": 74,
   "id": "8a1facc6-0c8d-4363-aea4-2a4888295e94",
   "metadata": {},
   "outputs": [
    {
     "data": {
      "text/plain": [
       "['BPF',\n",
       " 'LOG4',\n",
       " 'NV_MAGICCONST',\n",
       " 'RECIP_BPF',\n",
       " 'Random',\n",
       " 'SG_MAGICCONST',\n",
       " 'SystemRandom',\n",
       " 'TWOPI',\n",
       " '_ONE',\n",
       " '_Sequence',\n",
       " '_Set',\n",
       " '__all__',\n",
       " '__builtins__',\n",
       " '__cached__',\n",
       " '__doc__',\n",
       " '__file__',\n",
       " '__loader__',\n",
       " '__name__',\n",
       " '__package__',\n",
       " '__spec__',\n",
       " '_accumulate',\n",
       " '_acos',\n",
       " '_bisect',\n",
       " '_ceil',\n",
       " '_cos',\n",
       " '_e',\n",
       " '_exp',\n",
       " '_floor',\n",
       " '_index',\n",
       " '_inst',\n",
       " '_isfinite',\n",
       " '_log',\n",
       " '_os',\n",
       " '_pi',\n",
       " '_random',\n",
       " '_repeat',\n",
       " '_sha512',\n",
       " '_sin',\n",
       " '_sqrt',\n",
       " '_test',\n",
       " '_test_generator',\n",
       " '_urandom',\n",
       " '_warn',\n",
       " 'betavariate',\n",
       " 'choice',\n",
       " 'choices',\n",
       " 'expovariate',\n",
       " 'gammavariate',\n",
       " 'gauss',\n",
       " 'getrandbits',\n",
       " 'getstate',\n",
       " 'lognormvariate',\n",
       " 'normalvariate',\n",
       " 'paretovariate',\n",
       " 'randbytes',\n",
       " 'randint',\n",
       " 'random',\n",
       " 'randrange',\n",
       " 'sample',\n",
       " 'seed',\n",
       " 'setstate',\n",
       " 'shuffle',\n",
       " 'triangular',\n",
       " 'uniform',\n",
       " 'vonmisesvariate',\n",
       " 'weibullvariate']"
      ]
     },
     "execution_count": 74,
     "metadata": {},
     "output_type": "execute_result"
    }
   ],
   "source": [
    "dir(random)"
   ]
  },
  {
   "cell_type": "raw",
   "id": "9908a163-645c-4b69-8af4-057d0f0a4e81",
   "metadata": {},
   "source": [
    "help(random.randint)"
   ]
  },
  {
   "cell_type": "code",
   "execution_count": 77,
   "id": "dc5d5b9c-018f-43fc-b096-fec928e51465",
   "metadata": {},
   "outputs": [
    {
     "data": {
      "text/plain": [
       "17"
      ]
     },
     "execution_count": 77,
     "metadata": {},
     "output_type": "execute_result"
    }
   ],
   "source": [
    "random.randint(10,20)"
   ]
  },
  {
   "cell_type": "code",
   "execution_count": 78,
   "id": "0eeeb564-5c88-40e8-b0c5-68ce4576c365",
   "metadata": {},
   "outputs": [],
   "source": [
    "import math"
   ]
  },
  {
   "cell_type": "code",
   "execution_count": 79,
   "id": "76dc078f-955a-4e7a-9773-9856b49cc610",
   "metadata": {},
   "outputs": [
    {
     "data": {
      "text/plain": [
       "3.141592653589793"
      ]
     },
     "execution_count": 79,
     "metadata": {},
     "output_type": "execute_result"
    }
   ],
   "source": [
    "math.pi"
   ]
  },
  {
   "cell_type": "markdown",
   "id": "a5f6b3e8-1932-40c2-a649-506c3b41f0cd",
   "metadata": {},
   "source": [
    "(): function or methods \n",
    "onlyfunctions says not callable means,it is not a function \n",
    "if somthing says not callable means,it is not a function \n",
    "it is not a function means,you need to remove bracket\n",
    "bound method means,you need to remove brackets\n",
    "bound method means===add the brackets\n",
    "function====add the barckets"
   ]
  },
  {
   "cell_type": "markdown",
   "id": "3e0c4877-4ad9-4b1c-b514-c9b311437b01",
   "metadata": {},
   "source": [
    "- random\n",
    "- math\n",
    "- keyword"
   ]
  },
  {
   "cell_type": "markdown",
   "id": "ba07ac0f-dff0-415a-a49b-ffdb81450255",
   "metadata": {},
   "source": [
    "**time**"
   ]
  },
  {
   "cell_type": "code",
   "execution_count": 85,
   "id": "19edae66-9b86-4375-81a3-b43d8363234f",
   "metadata": {},
   "outputs": [
    {
     "name": "stdout",
     "output_type": "stream",
     "text": [
      "father:hello\n",
      "doughter: hai papahow are you\n",
      "father:do you have school today\n"
     ]
    }
   ],
   "source": [
    "import time \n",
    "print(\"father:hello\")\n",
    "time.sleep(2)\n",
    "print(\"doughter: hai papahow are you\")\n",
    "time.sleep(2)\n",
    "print(\"father:do you have school today\")"
   ]
  },
  {
   "cell_type": "code",
   "execution_count": null,
   "id": "f3183ffe-2568-472d-9480-63343a894b31",
   "metadata": {},
   "outputs": [],
   "source": [
    "computer vision is used to image operations \n",
    "video operations\n",
    "\n",
    "we called it as open  cv"
   ]
  },
  {
   "cell_type": "code",
   "execution_count": 86,
   "id": "cc0ff630-b708-4218-bb95-3f895ee0e375",
   "metadata": {},
   "outputs": [],
   "source": [
    "import cv2"
   ]
  },
  {
   "cell_type": "markdown",
   "id": "49f4d170-ccc2-46c2-bc75-c0e3c349c924",
   "metadata": {},
   "source": [
    "- whenever module not found we need to insatll it \n",
    "- here our package name is cv2\n",
    "- 99% the installation will be like this\n",
    "###### pip install\n",
    "- some package installation name will different and python import name is different\n",
    "- in order to install the package we need internet\n",
    "- if internet problem occures while installing we will get http error "
   ]
  },
  {
   "cell_type": "code",
   "execution_count": 89,
   "id": "a97c21d7-e553-44aa-bd6d-181a08ea13be",
   "metadata": {},
   "outputs": [],
   "source": [
    "import streamlit"
   ]
  },
  {
   "cell_type": "markdown",
   "id": "ae4fd525-f552-47af-a81c-1c5cdfb3a095",
   "metadata": {},
   "source": [
    "**note**"
   ]
  },
  {
   "cell_type": "markdown",
   "id": "90ebd0c5-0526-4d08-86fb-321285da8889",
   "metadata": {},
   "source": [
    "- pip freeze is command to know the already existed package in our laptop"
   ]
  },
  {
   "cell_type": "code",
   "execution_count": 93,
   "id": "e8ba7b46-4460-47da-9e17-2235394c71a8",
   "metadata": {},
   "outputs": [],
   "source": [
    "import numpy"
   ]
  },
  {
   "cell_type": "code",
   "execution_count": 94,
   "id": "312d519f-8f33-42b3-87d0-d56ab07f9585",
   "metadata": {},
   "outputs": [
    {
     "data": {
      "text/plain": [
       "<module 'numpy' from 'C:\\\\Users\\\\Lenovo\\\\anaconda3\\\\Lib\\\\site-packages\\\\numpy\\\\__init__.py'>"
      ]
     },
     "execution_count": 94,
     "metadata": {},
     "output_type": "execute_result"
    }
   ],
   "source": [
    "numpy"
   ]
  },
  {
   "cell_type": "markdown",
   "id": "531e0df2-0d5b-4ce6-ae0d-b47908739781",
   "metadata": {},
   "source": [
    " ! pip install opencv-python\n",
    "- in jupyterb notebook we need add ! mark\n",
    "- in anaconda prompt no need of! mark\n",
    "- dirctly name you can provide"
   ]
  },
  {
   "cell_type": "code",
   "execution_count": 96,
   "id": "d35f3b32-f60e-42c8-a954-e6b76c21da1e",
   "metadata": {},
   "outputs": [
    {
     "name": "stdout",
     "output_type": "stream",
     "text": [
      "30\n"
     ]
    }
   ],
   "source": [
    "#hard coding :stitic \n",
    "# we are fixing the values \n",
    "number1=10\n",
    "number2=20\n",
    "add=number1+number2\n",
    "print(add)"
   ]
  },
  {
   "cell_type": "code",
   "execution_count": 97,
   "id": "1de6ac1a-470a-4fb6-8fa1-c04f074916cb",
   "metadata": {},
   "outputs": [
    {
     "name": "stdout",
     "output_type": "stream",
     "text": [
      "the additon of 45 and number170 is 215\n"
     ]
    }
   ],
   "source": [
    "# dynamic \n",
    "number1=random.randint(1,100)\n",
    "number2=random.randint(100,200)\n",
    "add=number1+number2\n",
    "print(f\"the additon of {number1} and number{number2} is {add}\")"
   ]
  },
  {
   "cell_type": "markdown",
   "id": "73437757-5de9-44f4-9520-f927aa6d3bbc",
   "metadata": {},
   "source": [
    "#### How we pass the numbers"
   ]
  },
  {
   "cell_type": "markdown",
   "id": "5632b1d0-35e0-4dd5-a585-9c071408769d",
   "metadata": {},
   "source": [
    "- hard coadings\n",
    "- using key board \n",
    "- using randompackage ,taking number randomly"
   ]
  },
  {
   "cell_type": "code",
   "execution_count": null,
   "id": "e7dbc573-1f79-43a4-8100-25d7ce4890ed",
   "metadata": {},
   "outputs": [],
   "source": [
    "####################################################\n",
    "number1=10\n",
    "number=20\n",
    "add=number1+number2\n",
    "print(add)\n",
    "##################################################\n",
    "number=eavl(input(\"enter the number 1:\"))\n",
    "number2=eval(input(\"enter the number 2:\"))\n",
    "add=number1+number2\n",
    "print(add)\n",
    "#####################################################\n",
    "import random\n",
    "number1=random.randint(1,100)\n",
    "number2=random.randint(100,200)\n",
    "add=numbetr1+number2\n",
    "print(f\"the addition of {number1}and {number2}) is {add}\")"
   ]
  },
  {
   "cell_type": "code",
   "execution_count": 6,
   "id": "dfbdeaa8-6d75-4ecd-b08d-8b03001bfbb8",
   "metadata": {},
   "outputs": [
    {
     "name": "stdin",
     "output_type": "stream",
     "text": [
      "enter the n2 10\n"
     ]
    },
    {
     "name": "stdout",
     "output_type": "stream",
     "text": [
      "the average of 10,10 and23 is: 14.333333333333334\n"
     ]
    }
   ],
   "source": [
    "n1=10\n",
    "n2=eval(input(\"enter the n2\"))\n",
    "n3=random.randint(1,100)\n",
    "avg=(n1+n2+n3)/3\n",
    "print(f\"the average of {n1},{n2} and{n3} is: {avg}\")"
   ]
  },
  {
   "cell_type": "code",
   "execution_count": null,
   "id": "28198421-277e-4bad-9e49-1f79cefbc3f6",
   "metadata": {},
   "outputs": [],
   "source": [
    "# in the entire note book \n",
    "# if you import packages\n",
    "# no need to import time \n",
    "# just verify it the line is executed or not \n",
    "# all the packages we wiil import at starting only line"
   ]
  },
  {
   "cell_type": "markdown",
   "id": "9e175d00-ca29-496a-8e03-b4d88c67358b",
   "metadata": {},
   "source": [
    "### round"
   ]
  },
  {
   "cell_type": "code",
   "execution_count": 8,
   "id": "3a679896-a9b1-40c9-ad25-ce0ab3b0242a",
   "metadata": {},
   "outputs": [
    {
     "data": {
      "text/plain": [
       "23"
      ]
     },
     "execution_count": 8,
     "metadata": {},
     "output_type": "execute_result"
    }
   ],
   "source": [
    "avg=22.66666\n",
    "round(avg)"
   ]
  },
  {
   "cell_type": "code",
   "execution_count": 10,
   "id": "16a05f73-7570-4026-8665-55ba6e8650ab",
   "metadata": {},
   "outputs": [
    {
     "data": {
      "text/plain": [
       "22.67"
      ]
     },
     "execution_count": 10,
     "metadata": {},
     "output_type": "execute_result"
    }
   ],
   "source": [
    "avg=22.666666\n",
    "round(avg,2)"
   ]
  },
  {
   "cell_type": "code",
   "execution_count": null,
   "id": "4bf55188-c74d-4eb7-8f33-4381370ea0a9",
   "metadata": {},
   "outputs": [],
   "source": [
    "type()\n",
    "input()\n",
    "print()\n",
    "round()"
   ]
  },
  {
   "cell_type": "code",
   "execution_count": 12,
   "id": "9c9d60ed-f172-425e-919b-e0fec5fd8dbb",
   "metadata": {},
   "outputs": [
    {
     "name": "stdin",
     "output_type": "stream",
     "text": [
      "enter the n2 10\n"
     ]
    },
    {
     "name": "stdout",
     "output_type": "stream",
     "text": [
      "the average of 10,10 and89 is: 36.333333333333336\n"
     ]
    }
   ],
   "source": [
    "n1=10\n",
    "n2=eval(input(\"enter the n2\"))\n",
    "n3=random.randint(1,100)\n",
    "avg=(n1+n2+n3)/3\n",
    "avg1=round(avg,2)\n",
    "print(f\"the average of {n1},{n2} and{n3} is: {avg}\")"
   ]
  },
  {
   "cell_type": "code",
   "execution_count": 13,
   "id": "11c48d49-4ae5-49ac-9110-fe76adbd4168",
   "metadata": {},
   "outputs": [
    {
     "name": "stdin",
     "output_type": "stream",
     "text": [
      "enter the n2 10\n"
     ]
    },
    {
     "name": "stdout",
     "output_type": "stream",
     "text": [
      "the average of 10,10 and78 is: 32.67\n"
     ]
    }
   ],
   "source": [
    "n1=10\n",
    "n2=eval(input(\"enter the n2\"))\n",
    "n3=random.randint(1,100)\n",
    "avg=round((n1+n2+n3)/3,2)\n",
    "print(f\"the average of {n1},{n2} and{n3} is: {avg}\")"
   ]
  },
  {
   "cell_type": "code",
   "execution_count": null,
   "id": "3d1eb30b-b69e-416a-9b61-411bbe95fa73",
   "metadata": {},
   "outputs": [],
   "source": []
  }
 ],
 "metadata": {
  "kernelspec": {
   "display_name": "Python 3 (ipykernel)",
   "language": "python",
   "name": "python3"
  },
  "language_info": {
   "codemirror_mode": {
    "name": "ipython",
    "version": 3
   },
   "file_extension": ".py",
   "mimetype": "text/x-python",
   "name": "python",
   "nbconvert_exporter": "python",
   "pygments_lexer": "ipython3",
   "version": "3.11.7"
  }
 },
 "nbformat": 4,
 "nbformat_minor": 5
}
