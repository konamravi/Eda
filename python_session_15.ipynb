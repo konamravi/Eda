{
 "cells": [
  {
   "cell_type": "markdown",
   "id": "746d83be-1a2f-4fd9-b6a6-4f158e2ce44b",
   "metadata": {},
   "source": [
    "**Lamada function**"
   ]
  },
  {
   "cell_type": "markdown",
   "id": "fdc61138-3bcf-4118-972e-16fce2a41668",
   "metadata": {},
   "source": [
    "- Lamda function represnts function concept\n",
    "  \n",
    "- But can write in a single line\n",
    "\n",
    "- like list comprehension,lamda function similar only\n",
    "\n",
    "- it will decrease the time complexity\n",
    "\n",
    "- always remember if we use many for loops or may condition using multiple line ,\n",
    "  the time comlexity will increse"
   ]
  },
  {
   "cell_type": "code",
   "execution_count": null,
   "id": "736c917e-95b6-4340-bcf4-ffc81f971855",
   "metadata": {},
   "outputs": [],
   "source": [
    "**It will use a keyword lamada**\n",
    "# Lamda <arguments>: <expression>"
   ]
  },
  {
   "cell_type": "code",
   "execution_count": null,
   "id": "07aa44e4-2962-4235-98fe-d623efeb339b",
   "metadata": {},
   "outputs": [],
   "source": [
    "what is the interview process for a data science position with 3 years of experiment\n",
    "\n",
    "1) coning+sql\n",
    "2)based on ML DL\n",
    "3) Techn 2,3\n",
    "\n",
    "bond: 1.5 bouns\n",
    "\n",
    "ds2=== 2 2ppl\n",
    "ds3====\n",
    "\n",
    "do you know"
   ]
  },
  {
   "cell_type": "code",
   "execution_count": null,
   "id": "b08e8cbe-d64a-44a2-86ad-e8dd41646730",
   "metadata": {},
   "outputs": [],
   "source": [
    "string \n",
    "list\n",
    "tuple set\n",
    "dictionary\n",
    "landa \n",
    "file handling \n",
    "\n",
    "oops: kwargs\n",
    "\n",
    "sir do we have right break bond with company "
   ]
  },
  {
   "cell_type": "code",
   "execution_count": 1,
   "id": "8b977a78-2a4a-4eb1-ad1c-418c201004c6",
   "metadata": {},
   "outputs": [
    {
     "data": {
      "text/plain": [
       "20"
      ]
     },
     "execution_count": 1,
     "metadata": {},
     "output_type": "execute_result"
    }
   ],
   "source": [
    "def summ(n):\n",
    "    return(n+10)\n",
    "summ(10)"
   ]
  },
  {
   "cell_type": "markdown",
   "id": "0524ec56-577a-4b87-9917-65f51a3b8050",
   "metadata": {},
   "source": [
    "$pattern-1$"
   ]
  },
  {
   "cell_type": "markdown",
   "id": "c2f17bc9-8dae-4dbc-bdda-bf3c26de1148",
   "metadata": {},
   "source": [
    "**Function with only one argument**"
   ]
  },
  {
   "cell_type": "markdown",
   "id": "c438aa7f-71f3-4153-a6b3-cbe46bfdf9cd",
   "metadata": {},
   "source": [
    "1. function name\n",
    "2. argument name\n",
    "3. return output"
   ]
  },
  {
   "cell_type": "code",
   "execution_count": null,
   "id": "494c38ae-eb54-41b6-8374-b28397cb08ce",
   "metadata": {},
   "outputs": [],
   "source": [
    "# syntax: <function name>=lamda <argument name>: <return output>\n",
    "def summ(n):\n",
    "    return(n+10)\n",
    "summ(10)\n",
    "\n",
    "# function name= summ\n",
    "# argument name= n\n",
    "# retuen output=n+10"
   ]
  },
  {
   "cell_type": "code",
   "execution_count": 2,
   "id": "9ad66fb1-5111-4f02-95a5-8345f2a277d4",
   "metadata": {},
   "outputs": [
    {
     "data": {
      "text/plain": [
       "110"
      ]
     },
     "execution_count": 2,
     "metadata": {},
     "output_type": "execute_result"
    }
   ],
   "source": [
    "summ= lambda n:n+10\n",
    "summ(100)"
   ]
  },
  {
   "cell_type": "code",
   "execution_count": 6,
   "id": "76d2f4b9-96e7-4c58-8617-94a4e35a7b18",
   "metadata": {},
   "outputs": [
    {
     "data": {
      "text/plain": [
       "1000"
      ]
     },
     "execution_count": 6,
     "metadata": {},
     "output_type": "execute_result"
    }
   ],
   "source": [
    "def cube(n):\n",
    "    return(n**3)\n",
    "cube(10)"
   ]
  },
  {
   "cell_type": "code",
   "execution_count": 8,
   "id": "47ab464f-3408-4cba-a73e-37adfdae0d81",
   "metadata": {},
   "outputs": [
    {
     "data": {
      "text/plain": [
       "1000"
      ]
     },
     "execution_count": 8,
     "metadata": {},
     "output_type": "execute_result"
    }
   ],
   "source": [
    "cube= lambda n:n**3\n",
    "cube(10)"
   ]
  },
  {
   "cell_type": "markdown",
   "id": "77cf71f7-827a-4fc6-a566-283c7f79a0d6",
   "metadata": {},
   "source": [
    "**pattern-2**"
   ]
  },
  {
   "cell_type": "markdown",
   "id": "fa7f9e88-55e0-45fe-a2ff-a1cf8c55d58c",
   "metadata": {},
   "source": [
    "**Two arugument**"
   ]
  },
  {
   "cell_type": "code",
   "execution_count": 12,
   "id": "6bf5f544-0e16-483f-bad7-83f5a1da4c6f",
   "metadata": {},
   "outputs": [
    {
     "data": {
      "text/plain": [
       "100"
      ]
     },
     "execution_count": 12,
     "metadata": {},
     "output_type": "execute_result"
    }
   ],
   "source": [
    "#syntax : <function name>= Lambda <arg1>,<arg2>:<return output>\n",
    "def add(a,b):\n",
    "    return(a+b)\n",
    "    \n",
    "add(50,50)\n",
    "# Function name : add \n",
    "# arg1=a\n",
    "# arg2=b\n",
    "# return=a+b"
   ]
  },
  {
   "cell_type": "code",
   "execution_count": 13,
   "id": "96160a0b-4c3e-4762-9a91-db0876dc9e8f",
   "metadata": {},
   "outputs": [
    {
     "data": {
      "text/plain": [
       "110"
      ]
     },
     "execution_count": 13,
     "metadata": {},
     "output_type": "execute_result"
    }
   ],
   "source": [
    "add= lambda n1,n2: n1+n2\n",
    "add(60,50)"
   ]
  },
  {
   "cell_type": "code",
   "execution_count": 14,
   "id": "45a765ac-f046-469c-9345-4a543fd55938",
   "metadata": {},
   "outputs": [
    {
     "data": {
      "text/plain": [
       "80.67"
      ]
     },
     "execution_count": 14,
     "metadata": {},
     "output_type": "execute_result"
    }
   ],
   "source": [
    "average= lambda a,b,c:round((a+b+c)/3,2)\n",
    "average(10,202,30)"
   ]
  },
  {
   "cell_type": "markdown",
   "id": "b1ff08f2-cf15-4666-85d1-688714195f03",
   "metadata": {},
   "source": [
    "**pattern-3**"
   ]
  },
  {
   "cell_type": "markdown",
   "id": "92e035c6-5bc9-4308-80b2-232eaff90499",
   "metadata": {},
   "source": [
    "**Default arguments**"
   ]
  },
  {
   "cell_type": "code",
   "execution_count": 16,
   "id": "703fcf85-e7d8-4fca-a908-20c966c74fa7",
   "metadata": {},
   "outputs": [
    {
     "data": {
      "text/plain": [
       "237.33"
      ]
     },
     "execution_count": 16,
     "metadata": {},
     "output_type": "execute_result"
    }
   ],
   "source": [
    "average=lambda a,b,c=500:round((a+b+c)/3,2)\n",
    "average(10,202)"
   ]
  },
  {
   "cell_type": "markdown",
   "id": "53cc724a-902b-4ada-ae73-7a3e768c8461",
   "metadata": {},
   "source": [
    "**pattern-4**"
   ]
  },
  {
   "cell_type": "markdown",
   "id": "c8dd8353-ff9f-4e00-9602-92f8f7950d27",
   "metadata": {},
   "source": [
    "**if-else**"
   ]
  },
  {
   "cell_type": "code",
   "execution_count": 22,
   "id": "6e70df64-2971-4fc9-b47a-7907732a2c08",
   "metadata": {},
   "outputs": [
    {
     "data": {
      "text/plain": [
       "10"
      ]
     },
     "execution_count": 22,
     "metadata": {},
     "output_type": "execute_result"
    }
   ],
   "source": [
    "def max(a,b):\n",
    "    if a>b:\n",
    "        return(a)\n",
    "    else:\n",
    "        return(b)\n",
    "max(10,20)"
   ]
  },
  {
   "cell_type": "code",
   "execution_count": null,
   "id": "abcbb846-994b-4a4d-8fd4-8c1b9963b1ff",
   "metadata": {},
   "outputs": [],
   "source": []
  },
  {
   "cell_type": "code",
   "execution_count": 23,
   "id": "befb283a-b6dd-46df-acfc-02479f5ed478",
   "metadata": {},
   "outputs": [
    {
     "data": {
      "text/plain": [
       "30"
      ]
     },
     "execution_count": 23,
     "metadata": {},
     "output_type": "execute_result"
    }
   ],
   "source": [
    "# syntax:function name= lambda <arg1>,<arg2>: <list comprhension>\n",
    "# syntax:function name=lambda <arg1>,<arg2>: <if_out><if_con><else><else_out>\n",
    "max=lambda a,b: a if a>b else b\n",
    "max(30,20)"
   ]
  },
  {
   "cell_type": "markdown",
   "id": "69f6c537-2668-48c0-969f-d75192dcdcfb",
   "metadata": {},
   "source": [
    "**patern-5**"
   ]
  },
  {
   "cell_type": "markdown",
   "id": "b19b76a7-6141-479a-8cb5-17805678b2e2",
   "metadata": {},
   "source": [
    "**using List**"
   ]
  },
  {
   "cell_type": "code",
   "execution_count": 24,
   "id": "93771612-d1cc-4f98-8450-5b9205a06822",
   "metadata": {},
   "outputs": [
    {
     "data": {
      "text/plain": [
       "['Hyd', 'Chennai', 'Mumbai']"
      ]
     },
     "execution_count": 24,
     "metadata": {},
     "output_type": "execute_result"
    }
   ],
   "source": [
    "l=['hyd','chennai','mumbai']\n",
    "# op=['Hyd','Chennai',Mumbai']\n",
    "op=[]\n",
    "for i in l:\n",
    "    op.append(i.capitalize())\n",
    "op"
   ]
  },
  {
   "cell_type": "code",
   "execution_count": null,
   "id": "912b53c6-ee9d-44d0-b26a-b24649f1a0df",
   "metadata": {},
   "outputs": [],
   "source": [
    "lambda <variable>:<op>\n",
    "# variable:i\n",
    "# op : i.capitalize()\n",
    "lambda <variable>:<op>,<iterator>\n",
    "# Qn : from where are getting 'i'-\n",
    "# <iterator> : list"
   ]
  },
  {
   "cell_type": "markdown",
   "id": "0ee9754c-017a-4b87-a0da-5c62a22c4c9c",
   "metadata": {},
   "source": [
    "**map**"
   ]
  },
  {
   "cell_type": "markdown",
   "id": "b2d7291a-d3d0-4355-82d6-7ec870dc31b2",
   "metadata": {},
   "source": [
    "- the function and iterator are variable now\n",
    "- we need to map both"
   ]
  },
  {
   "cell_type": "code",
   "execution_count": 30,
   "id": "8765098a-e6c2-4e82-aa4a-a7437cc0da33",
   "metadata": {},
   "outputs": [
    {
     "data": {
      "text/plain": [
       "(<function __main__.<lambda>(i)>, ['hyd', 'chennai', 'mumbai'])"
      ]
     },
     "execution_count": 30,
     "metadata": {},
     "output_type": "execute_result"
    }
   ],
   "source": [
    "l=['hyd','chennai','mumbai']\n",
    "lambda i: i.captalize(),l"
   ]
  },
  {
   "cell_type": "code",
   "execution_count": 31,
   "id": "b55b6b1e-7342-4c73-8296-c9ebf352cd22",
   "metadata": {},
   "outputs": [
    {
     "data": {
      "text/plain": [
       "<map at 0x21b0b248ca0>"
      ]
     },
     "execution_count": 31,
     "metadata": {},
     "output_type": "execute_result"
    }
   ],
   "source": [
    "l=['hyd','chennai','mumbai']\n",
    "map(lambda i: i.captalize(),l)"
   ]
  },
  {
   "cell_type": "code",
   "execution_count": 35,
   "id": "2b8d82c3-beb5-490e-b38d-7bbffa34292a",
   "metadata": {},
   "outputs": [
    {
     "data": {
      "text/plain": [
       "['Hyd', 'Chennai', 'Mumbai']"
      ]
     },
     "execution_count": 35,
     "metadata": {},
     "output_type": "execute_result"
    }
   ],
   "source": [
    "# apply the list to see the values\n",
    "l=['hyd','chennai','mumbai']\n",
    "list(map(lambda i:i.capitalize(),l))"
   ]
  },
  {
   "cell_type": "code",
   "execution_count": 36,
   "id": "9230c2fb-c105-462b-b0cc-4adcfb959c08",
   "metadata": {},
   "outputs": [
    {
     "data": {
      "text/plain": [
       "('Hyd', 'Chennai', 'Mumbai')"
      ]
     },
     "execution_count": 36,
     "metadata": {},
     "output_type": "execute_result"
    }
   ],
   "source": [
    "l=['hyd','chennai','mumbai']\n",
    "tuple(map(lambda i: i.capitalize(),l))"
   ]
  },
  {
   "cell_type": "code",
   "execution_count": null,
   "id": "0adb13ef-ad82-48d9-83bc-93be59287cf2",
   "metadata": {},
   "outputs": [],
   "source": [
    "# step1: Write your normal expression\n",
    "# ex: lambda <var>: <op>===>lambda i: i.capitalize()\n",
    "# step2: add the iterator\n",
    "# ex: lambda <var>: <op>,<list>===>lambda i: i.capitalize(),list1\n",
    "# Step-3: Map the both\n",
    "# ex: map(lambda <var>: <op>,<list>)===>map(lambda i: i.capitalize(),list\n",
    "# Step-4: save the values in a list,\n",
    "# ex: list(map(lambda <var>: <op>,<list>))===>list(map(lambda i: i.capital\n",
    "#Note: Those who are getting list object not callable use tuple"
   ]
  },
  {
   "cell_type": "markdown",
   "id": "e2ef496e-9932-48e1-bdb9-88b309b0b8aa",
   "metadata": {},
   "source": [
    "- case-1: Function call with one argument\n",
    "  - lambda argument: Exerssion\n",
    "  - lambda variables: return output\n",
    "    \n",
    "- case-2: Function call with two arguments\n",
    "  - lambda argument: Exerssion\n",
    "  - lambda variables: return output\n",
    "    \n",
    "- case-3: Function call with Default aruguments\n",
    "   - lambda arg1,arg2=500: Exprssion\n",
    "   - lambda var1,var2=500: returnn output\n",
    "     \n",
    "- case-4: FUnction call with two arguments and if else statment\n",
    "  - lambda ar1,arg2=500:  Expression\n",
    "  - lambda var1,var2=500: if_output if_con else els_op for\n",
    " \n",
    "     \n",
    "  \n",
    "- case-5: Lambda operations using list\n",
    "  - lambda arg: Exprssion,itearior\n",
    "  - map(lambda var: opearion,list)\n",
    "  - list(map(lambda var : operation,list)) "
   ]
  },
  {
   "cell_type": "code",
   "execution_count": 1,
   "id": "3a6d356e-ff10-400d-91d7-63ba295a53ef",
   "metadata": {},
   "outputs": [
    {
     "data": {
      "text/plain": [
       "('HYD', 'CHENNAI', 'MUMBAI')"
      ]
     },
     "execution_count": 1,
     "metadata": {},
     "output_type": "execute_result"
    }
   ],
   "source": [
    "l=['hyd','chennai','mumbai']\n",
    "# op=['HYD','CHENNAI','MUMBAI']\n",
    "#for i in l:\n",
    "     # print(i.upper())\n",
    "tuple(map(lambda i:i.upper(),l))"
   ]
  },
  {
   "cell_type": "code",
   "execution_count": 6,
   "id": "663ff82e-8a1d-48c1-8eaa-2349c6a07bf7",
   "metadata": {},
   "outputs": [],
   "source": [
    "l=['hyd','che#nnai','mum#bai','blr']\n",
    "# op=['CHE#NNAI','MUM#BAI']\n",
    "\n",
    "# for # in l:\n",
    "#     if '#' in i :\n",
    "#         print(i)\n",
    "\n",
    "\n",
    "# mistake-1: tuple (map(lambda i:if '#' in ,l))\n",
    "# do not write if "
   ]
  },
  {
   "cell_type": "code",
   "execution_count": 7,
   "id": "fcc25c9f-ae5e-4116-9bb7-7869a72a0a7e",
   "metadata": {},
   "outputs": [
    {
     "data": {
      "text/plain": [
       "(False, True, True, False)"
      ]
     },
     "execution_count": 7,
     "metadata": {},
     "output_type": "execute_result"
    }
   ],
   "source": [
    "tuple(map(lambda i:'#' in i,l))"
   ]
  },
  {
   "cell_type": "code",
   "execution_count": 10,
   "id": "69acb846-3bef-42b6-a37d-443040e7669e",
   "metadata": {},
   "outputs": [
    {
     "data": {
      "text/plain": [
       "('che#nnai', 'mum#bai')"
      ]
     },
     "execution_count": 10,
     "metadata": {},
     "output_type": "execute_result"
    }
   ],
   "source": [
    "tuple(filter(lambda i:'#' in i,l))"
   ]
  },
  {
   "cell_type": "code",
   "execution_count": 19,
   "id": "2960106f-f533-4711-8050-112984a0894d",
   "metadata": {},
   "outputs": [
    {
     "ename": "TypeError",
     "evalue": "not all arguments converted during string formatting",
     "output_type": "error",
     "traceback": [
      "\u001b[1;31m---------------------------------------------------------------------------\u001b[0m",
      "\u001b[1;31mTypeError\u001b[0m                                 Traceback (most recent call last)",
      "Cell \u001b[1;32mIn[19], line 4\u001b[0m\n\u001b[0;32m      1\u001b[0m \u001b[38;5;66;03m# numbers=[1,3,2,7,6]\u001b[39;00m\n\u001b[0;32m      2\u001b[0m \u001b[38;5;66;03m# op=[2,6]\u001b[39;00m\n\u001b[0;32m      3\u001b[0m numbers\u001b[38;5;241m=\u001b[39m[\u001b[38;5;241m1\u001b[39m,\u001b[38;5;241m3\u001b[39m,\u001b[38;5;241m2\u001b[39m,\u001b[38;5;241m7\u001b[39m,\u001b[38;5;241m6\u001b[39m]\n\u001b[1;32m----> 4\u001b[0m \u001b[38;5;28mlist\u001b[39m(\u001b[38;5;28mfilter\u001b[39m(\u001b[38;5;28;01mlambda\u001b[39;00m i: i\u001b[38;5;241m%\u001b[39m\u001b[38;5;241m2\u001b[39m\u001b[38;5;241m==\u001b[39m\u001b[38;5;241m0\u001b[39m,l))\n",
      "Cell \u001b[1;32mIn[19], line 4\u001b[0m, in \u001b[0;36m<lambda>\u001b[1;34m(i)\u001b[0m\n\u001b[0;32m      1\u001b[0m \u001b[38;5;66;03m# numbers=[1,3,2,7,6]\u001b[39;00m\n\u001b[0;32m      2\u001b[0m \u001b[38;5;66;03m# op=[2,6]\u001b[39;00m\n\u001b[0;32m      3\u001b[0m numbers\u001b[38;5;241m=\u001b[39m[\u001b[38;5;241m1\u001b[39m,\u001b[38;5;241m3\u001b[39m,\u001b[38;5;241m2\u001b[39m,\u001b[38;5;241m7\u001b[39m,\u001b[38;5;241m6\u001b[39m]\n\u001b[1;32m----> 4\u001b[0m \u001b[38;5;28mlist\u001b[39m(\u001b[38;5;28mfilter\u001b[39m(\u001b[38;5;28;01mlambda\u001b[39;00m i: i\u001b[38;5;241m%\u001b[39m\u001b[38;5;241m2\u001b[39m\u001b[38;5;241m==\u001b[39m\u001b[38;5;241m0\u001b[39m,l))\n",
      "\u001b[1;31mTypeError\u001b[0m: not all arguments converted during string formatting"
     ]
    }
   ],
   "source": [
    "# numbers=[1,3,2,7,6]\n",
    "# op=[2,6]\n",
    "numbers=[1,3,2,7,6]\n",
    "list(filter(lambda i: i%2==0,l))"
   ]
  },
  {
   "cell_type": "code",
   "execution_count": 20,
   "id": "4fe51f30-92a6-4a5b-b9ba-1249c6610db2",
   "metadata": {},
   "outputs": [
    {
     "name": "stdout",
     "output_type": "stream",
     "text": [
      "15\n"
     ]
    }
   ],
   "source": [
    "l1=[1,2,3,4,5]\n",
    "\n",
    "# i want sum of the elements in a list\n",
    "\n",
    "# method-1: sum\n",
    "sum(l1)\n",
    "\n",
    "# method-2: with out sum\n",
    "summ=0\n",
    "for i in l1:\n",
    "    summ=summ+i\n",
    "print(summ)"
   ]
  },
  {
   "cell_type": "code",
   "execution_count": 33,
   "id": "0369e945-f908-4c14-a2f9-74cedc7cf17a",
   "metadata": {},
   "outputs": [
    {
     "data": {
      "text/plain": [
       "(<function __main__.<lambda>(sum, i)>, 10, [1, 2, 3, 4, 5])"
      ]
     },
     "execution_count": 33,
     "metadata": {},
     "output_type": "execute_result"
    }
   ],
   "source": [
    "l1=[1,2,3,4,5]\n",
    "lambda sum,i:i,sum+i,l1"
   ]
  },
  {
   "cell_type": "code",
   "execution_count": null,
   "id": "f8e8f36f-8053-42e3-a2b9-1cbed5f78938",
   "metadata": {},
   "outputs": [],
   "source": [
    "l1=[1,2,3,4,5]\n",
    "max(l1)\n",
    "min(l1)\n",
    "len(l1)\n",
    "sum(l1)"
   ]
  },
  {
   "cell_type": "markdown",
   "id": "cdd9fcfe-686f-4e94-b8fc-6dbe6df05706",
   "metadata": {},
   "source": [
    "**Reduce**"
   ]
  },
  {
   "cell_type": "markdown",
   "id": "f6e49aa5-02c5-4222-a8f4-419acbbc760a",
   "metadata": {},
   "source": [
    "- All the inbutlit function can achive by reduced\n",
    "- Reduced is avilable from function  package\n",
    "- level-1: reduced(lambda summ,i:summ+i,l1)\n",
    "- level-2: reduced(lambda summ,i:summ+i,l1"
   ]
  },
  {
   "cell_type": "code",
   "execution_count": 39,
   "id": "3f66cd61-e7be-4c18-a0ae-4ac33cee7611",
   "metadata": {},
   "outputs": [],
   "source": [
    "import functools"
   ]
  },
  {
   "cell_type": "code",
   "execution_count": 41,
   "id": "7cdb2d6f-a5c2-4e91-bc49-645bc28a380a",
   "metadata": {},
   "outputs": [
    {
     "data": {
      "text/plain": [
       "['GenericAlias',\n",
       " 'RLock',\n",
       " 'WRAPPER_ASSIGNMENTS',\n",
       " 'WRAPPER_UPDATES',\n",
       " '_CacheInfo',\n",
       " '_HashedSeq',\n",
       " '_NOT_FOUND',\n",
       " '__all__',\n",
       " '__builtins__',\n",
       " '__cached__',\n",
       " '__doc__',\n",
       " '__file__',\n",
       " '__loader__',\n",
       " '__name__',\n",
       " '__package__',\n",
       " '__spec__',\n",
       " '_c3_merge',\n",
       " '_c3_mro',\n",
       " '_compose_mro',\n",
       " '_convert',\n",
       " '_find_impl',\n",
       " '_ge_from_gt',\n",
       " '_ge_from_le',\n",
       " '_ge_from_lt',\n",
       " '_gt_from_ge',\n",
       " '_gt_from_le',\n",
       " '_gt_from_lt',\n",
       " '_initial_missing',\n",
       " '_le_from_ge',\n",
       " '_le_from_gt',\n",
       " '_le_from_lt',\n",
       " '_lru_cache_wrapper',\n",
       " '_lt_from_ge',\n",
       " '_lt_from_gt',\n",
       " '_lt_from_le',\n",
       " '_make_key',\n",
       " '_unwrap_partial',\n",
       " 'cache',\n",
       " 'cached_property',\n",
       " 'cmp_to_key',\n",
       " 'get_cache_token',\n",
       " 'lru_cache',\n",
       " 'namedtuple',\n",
       " 'partial',\n",
       " 'partialmethod',\n",
       " 'recursive_repr',\n",
       " 'reduce',\n",
       " 'singledispatch',\n",
       " 'singledispatchmethod',\n",
       " 'total_ordering',\n",
       " 'update_wrapper',\n",
       " 'wraps']"
      ]
     },
     "execution_count": 41,
     "metadata": {},
     "output_type": "execute_result"
    }
   ],
   "source": [
    "dir(functools)"
   ]
  },
  {
   "cell_type": "code",
   "execution_count": 46,
   "id": "a8e15a18-b9ce-4490-afaf-d14499d3deeb",
   "metadata": {},
   "outputs": [
    {
     "data": {
      "text/plain": [
       "15"
      ]
     },
     "execution_count": 46,
     "metadata": {},
     "output_type": "execute_result"
    }
   ],
   "source": [
    "# import functools\n",
    "# functools.reduce\n",
    "\n",
    "from functools import reduce\n",
    "l1=[1,2,3,4,5]\n",
    "reduce(lambda summ,i:summ+i,l1)"
   ]
  },
  {
   "cell_type": "code",
   "execution_count": 48,
   "id": "d11639ac-d542-4967-a584-e8924d400104",
   "metadata": {},
   "outputs": [
    {
     "data": {
      "text/plain": [
       "15"
      ]
     },
     "execution_count": 48,
     "metadata": {},
     "output_type": "execute_result"
    }
   ],
   "source": [
    "import functools\n",
    "l1=[1,2,3,4,5]\n",
    "functools.reduce(lambda summ,i:summ+i,l1)"
   ]
  },
  {
   "cell_type": "code",
   "execution_count": 51,
   "id": "fed48fca-36c8-4d45-a177-9248c145f986",
   "metadata": {},
   "outputs": [
    {
     "data": {
      "text/plain": [
       "15"
      ]
     },
     "execution_count": 51,
     "metadata": {},
     "output_type": "execute_result"
    }
   ],
   "source": [
    "import functools as ft \n",
    "l1=[1,2,3,4,5]\n",
    "ft.reduce(lambda summ,i:summ+i,l1)"
   ]
  },
  {
   "cell_type": "code",
   "execution_count": 54,
   "id": "1e567e15-e97b-4bcc-8c06-32ff2a3dd919",
   "metadata": {},
   "outputs": [
    {
     "data": {
      "text/plain": [
       "17"
      ]
     },
     "execution_count": 54,
     "metadata": {},
     "output_type": "execute_result"
    }
   ],
   "source": [
    "# level-2\n",
    "import functools as ft \n",
    "l1=[1,2,3,4,5]\n",
    "ft.reduce(lambda summ,i:summ+i,l1,2)"
   ]
  },
  {
   "cell_type": "code",
   "execution_count": 56,
   "id": "f0a6a3c4-9bdd-4139-98ca-d7292e974cc3",
   "metadata": {},
   "outputs": [
    {
     "data": {
      "text/plain": [
       "120"
      ]
     },
     "execution_count": 56,
     "metadata": {},
     "output_type": "execute_result"
    }
   ],
   "source": [
    "import functools\n",
    "l1=[1,2,3,4,5]\n",
    "functools.reduce(lambda mul,i:mul*i,l1)"
   ]
  },
  {
   "cell_type": "code",
   "execution_count": null,
   "id": "4712fb54-66a9-4162-a690-55dd2fcb6106",
   "metadata": {},
   "outputs": [],
   "source": [
    "import functools\n",
    "l1=[1,2,3,4,5]\n",
    "# 1*2*3*4*5: functools.reduced(lambda x,y:x*y,l1)\n",
    "# 1+2+3+4+5: functools.reduced(lambda x,y:x+y,l1)\n",
    "functools.reduce(lambda mul,i:mul*i,l1)"
   ]
  },
  {
   "cell_type": "code",
   "execution_count": 58,
   "id": "90d04be9-a591-40fa-bc23-e7a5f0e93152",
   "metadata": {},
   "outputs": [
    {
     "data": {
      "text/plain": [
       "3.0"
      ]
     },
     "execution_count": 58,
     "metadata": {},
     "output_type": "execute_result"
    }
   ],
   "source": [
    "import numpy\n",
    "numpy.mean([1,2,3,4,5])"
   ]
  },
  {
   "cell_type": "code",
   "execution_count": 60,
   "id": "57825e39-eba0-4f08-9944-e1eaf600364b",
   "metadata": {},
   "outputs": [],
   "source": [
    "import functools"
   ]
  },
  {
   "cell_type": "code",
   "execution_count": 61,
   "id": "5eddbfe1-491c-4541-9222-42dc56de28fb",
   "metadata": {},
   "outputs": [
    {
     "data": {
      "text/plain": [
       "<module 'functools' from 'C:\\\\Users\\\\Lenovo\\\\anaconda3\\\\Lib\\\\functools.py'>"
      ]
     },
     "execution_count": 61,
     "metadata": {},
     "output_type": "execute_result"
    }
   ],
   "source": [
    "functools"
   ]
  },
  {
   "cell_type": "code",
   "execution_count": null,
   "id": "e2570178-8819-4d50-ac80-4aaccd906475",
   "metadata": {},
   "outputs": [],
   "source": [
    "# maximum value using reduce\n",
    "\n",
    "\n",
    "# map\n",
    "# filter\n",
    "# Reduce\n",
    "\n",
    "# I want deatailedword document with examples"
   ]
  },
  {
   "cell_type": "code",
   "execution_count": null,
   "id": "92626fa9-5158-46da-91f4-04a367806cf1",
   "metadata": {},
   "outputs": [],
   "source": []
  }
 ],
 "metadata": {
  "kernelspec": {
   "display_name": "Python 3 (ipykernel)",
   "language": "python",
   "name": "python3"
  },
  "language_info": {
   "codemirror_mode": {
    "name": "ipython",
    "version": 3
   },
   "file_extension": ".py",
   "mimetype": "text/x-python",
   "name": "python",
   "nbconvert_exporter": "python",
   "pygments_lexer": "ipython3",
   "version": "3.11.7"
  }
 },
 "nbformat": 4,
 "nbformat_minor": 5
}
