{
 "cells": [
  {
   "cell_type": "markdown",
   "id": "aecf4d29-f516-465e-b17b-75b06bb7239a",
   "metadata": {},
   "source": [
    "**try-excpt**\n",
    "- generally in real time we will write n number of python lines\n",
    "- there is a situation we might get an error, that error might be un known\n",
    "- this  unkonwn error does not cause any harm\n",
    "- even through we are getting error we need to proced further \n",
    "- also we need to catch that error \n",
    "- because we already known python it sequential process\n",
    "- means the lines will excute step by step\n",
    "- suppose you have an error at pariticular line,the code execution will stop at that line only\n",
    "- but you know that error is not harmful\n",
    "- so you want to continue the execution\n",
    "- then we required try-execution"
   ]
  },
  {
   "cell_type": "markdown",
   "id": "1242c60a-dfee-4a37-9d92-dd60facfa2b6",
   "metadata": {},
   "source": [
    "- try-except has two blocks \n",
    "- try block as actual code\n",
    "- except block will catch the error"
   ]
  },
  {
   "cell_type": "code",
   "execution_count": 4,
   "id": "34596a7b-e3fa-4d86-bc6f-0c168c6e8a8c",
   "metadata": {},
   "outputs": [
    {
     "name": "stdin",
     "output_type": "stream",
     "text": [
      "enter the number1 10\n",
      "enter the number2 20\n"
     ]
    },
    {
     "name": "stdout",
     "output_type": "stream",
     "text": [
      "add 30\n"
     ]
    }
   ],
   "source": [
    "try:\n",
    "    n1=eval(input(\"enter the number1\"))\n",
    "    n2=eval(input(\"enter the number2\"))\n",
    "    add=n1+n2\n",
    "    print(f\"add {add}\")\n",
    "except:\n",
    "    print(\"hello\")\n",
    "    print(\"you are getting error\")\n",
    "    print(\"check the cod \")"
   ]
  },
  {
   "cell_type": "markdown",
   "id": "e5a7cc8a-36a8-45d9-9251-a57696efa6ff",
   "metadata": {},
   "source": [
    "**note**\n",
    "- genarally try except  block will use to catch the errors"
   ]
  },
  {
   "cell_type": "code",
   "execution_count": 4,
   "id": "d744abf1-8600-446b-b13e-4498bb664d14",
   "metadata": {},
   "outputs": [
    {
     "name": "stdin",
     "output_type": "stream",
     "text": [
      "enter the number1 10\n",
      "enter the number2 20\n"
     ]
    },
    {
     "name": "stdout",
     "output_type": "stream",
     "text": [
      "30\n",
      "0.5\n"
     ]
    }
   ],
   "source": [
    "try:\n",
    "    n1=eval(input(\"enter the number1\"))\n",
    "    n2=eval(input(\"enter the number2\"))\n",
    "    add=n1+n2\n",
    "    div=n1/n2\n",
    "    print(add)\n",
    "    print(div)\n",
    "except excption as e:\n",
    "    print(f\"the error is {e}\")"
   ]
  },
  {
   "cell_type": "code",
   "execution_count": 11,
   "id": "c66bff06-4080-4bc8-97b8-51afe4dd84e2",
   "metadata": {},
   "outputs": [
    {
     "name": "stdin",
     "output_type": "stream",
     "text": [
      "enter the number1 10\n",
      "enter the number2 20\n"
     ]
    },
    {
     "name": "stdout",
     "output_type": "stream",
     "text": [
      "add 30\n"
     ]
    }
   ],
   "source": [
    "try:\n",
    "    n1=eval(input(\"enter the number1\"))\n",
    "    n2=eval(input(\"enter the number2\"))\n",
    "    add=n1+n2\n",
    "    div=n1/n2\n",
    "    print(f\"add {add}\")\n",
    "except excption as e:\n",
    "    print(f\"the erorr is {e}\")"
   ]
  },
  {
   "cell_type": "code",
   "execution_count": null,
   "id": "93e967ff-c5a0-448e-82ca-05b5623d9b79",
   "metadata": {},
   "outputs": [],
   "source": [
    "# now onwords every cod \n",
    "# need to use try-exect"
   ]
  },
  {
   "cell_type": "code",
   "execution_count": 4,
   "id": "ce6cfc3b-175d-45b8-9f5d-f9c0f4ddaecb",
   "metadata": {},
   "outputs": [
    {
     "ename": "SyntaxError",
     "evalue": "expected 'except' or 'finally' block (71204455.py, line 3)",
     "output_type": "error",
     "traceback": [
      "\u001b[1;36m  Cell \u001b[1;32mIn[4], line 3\u001b[1;36m\u001b[0m\n\u001b[1;33m    if num%2==0:\u001b[0m\n\u001b[1;37m    ^\u001b[0m\n\u001b[1;31mSyntaxError\u001b[0m\u001b[1;31m:\u001b[0m expected 'except' or 'finally' block\n"
     ]
    }
   ],
   "source": [
    "try:\n",
    "    number=eval(input(\"enter the number \"))\n",
    "if num%2==0:\n",
    "    print(f\" the {num} is even\")\n",
    "else:\n",
    "    print(f\"the {num} is odd\")\n",
    "except:\n",
    "    print(f\" the {num} is good\")"
   ]
  },
  {
   "cell_type": "code",
   "execution_count": null,
   "id": "2ab9d35f-f0ce-4c82-84e4-609733ca0e59",
   "metadata": {},
   "outputs": [],
   "source": []
  },
  {
   "cell_type": "code",
   "execution_count": null,
   "id": "9d8e53e0-80f4-4700-9e7f-71ccb47a05cc",
   "metadata": {},
   "outputs": [],
   "source": []
  },
  {
   "cell_type": "code",
   "execution_count": null,
   "id": "a2fda13d-2521-48f5-aba8-bfbe4d80e7a1",
   "metadata": {},
   "outputs": [],
   "source": []
  }
 ],
 "metadata": {
  "kernelspec": {
   "display_name": "Python 3 (ipykernel)",
   "language": "python",
   "name": "python3"
  },
  "language_info": {
   "codemirror_mode": {
    "name": "ipython",
    "version": 3
   },
   "file_extension": ".py",
   "mimetype": "text/x-python",
   "name": "python",
   "nbconvert_exporter": "python",
   "pygments_lexer": "ipython3",
   "version": "3.11.7"
  }
 },
 "nbformat": 4,
 "nbformat_minor": 5
}
