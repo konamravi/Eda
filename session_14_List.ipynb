{
 "cells": [
  {
   "cell_type": "markdown",
   "id": "aa607c55-4f8b-4515-917e-27a50d6b0e92",
   "metadata": {},
   "source": [
    "- we can store the output values by using append operations\n",
    "- we are taking list\n",
    "- we are iterating through elements from a given list\n",
    "- the result we are appending in a new list"
   ]
  },
  {
   "cell_type": "code",
   "execution_count": 2,
   "id": "4e632b05-0378-442c-bd1d-84a3d6eac54f",
   "metadata": {},
   "outputs": [
    {
     "data": {
      "text/plain": [
       "[0, 1, 4, 9, 16, 25, 36, 49, 64, 81]"
      ]
     },
     "execution_count": 2,
     "metadata": {},
     "output_type": "execute_result"
    }
   ],
   "source": [
    "square_list=[]\n",
    "for i in range(10):\n",
    "    square_list.append(i*i)\n",
    "square_list"
   ]
  },
  {
   "cell_type": "markdown",
   "id": "597f54a2-665a-41ad-b9d8-baf0fea2303c",
   "metadata": {},
   "source": [
    "- there are almost 3 lines are in the process\n",
    "- the three lines we can make into a singe line\n",
    "- the is called as LIST COMPREHNSION"
   ]
  },
  {
   "cell_type": "markdown",
   "id": "f37b7fed-62b4-4e99-8691-34a8c2eb024f",
   "metadata": {},
   "source": [
    "$pattern-1$"
   ]
  },
  {
   "cell_type": "markdown",
   "id": "ef802a8e-60c2-44c3-b283-98cbc6004e6c",
   "metadata": {},
   "source": [
    "**only for loop**"
   ]
  },
  {
   "cell_type": "code",
   "execution_count": null,
   "id": "747065ec-217c-4e52-99f6-6dc15e4b4e1e",
   "metadata": {},
   "outputs": [],
   "source": [
    "# syntax\n",
    "# [<output>  <for loop>]"
   ]
  },
  {
   "cell_type": "code",
   "execution_count": 1,
   "id": "0774dd07-83c0-457c-bc8b-f819cf1e71b0",
   "metadata": {},
   "outputs": [],
   "source": [
    "square_list=[]\n",
    "for i in range(10):\n",
    "    square_list.append(i*i)\n",
    "square_list\n",
    "\n",
    "# Q1)What is the output ? i*i\n",
    "# Q2)what is the putput list name? for i in range(10)\n",
    "# Q) What is the for loop ? for i in range(10)\n",
    "# [<output>  <for loop>]\n",
    "square_list=[i*i for i in range(10)]"
   ]
  },
  {
   "cell_type": "code",
   "execution_count": null,
   "id": "0a963c8e-cb06-443f-b1a9-a172fa74732b",
   "metadata": {},
   "outputs": [],
   "source": [
    "# q2) l1=['hyd','mumbai','chennai','blr']\n",
    "# upper_list=['Hyd','Mumbai','Chennai','Blr']\n",
    "\n",
    "\n",
    "# q3) L2=['Hyd','mumbai','Chennai','Blr']\n",
    "# lower_list=['hyd',mumbai,'chennai',blr']"
   ]
  },
  {
   "cell_type": "code",
   "execution_count": 8,
   "id": "42cda6da-35e8-4190-9bf9-5859727b5cff",
   "metadata": {},
   "outputs": [
    {
     "data": {
      "text/plain": [
       "['HYD', 'MUMBAI', 'CHENNAI', 'BLR']"
      ]
     },
     "execution_count": 8,
     "metadata": {},
     "output_type": "execute_result"
    }
   ],
   "source": [
    "# q2) l1=['hyd','mumbai','chennai','blr']\n",
    "# upper_list=['Hyd','Mumbai','Chennai','Blr']\n",
    "l1=['hyd','mumbai','chennai','blr']\n",
    "upper_list=[]\n",
    "for i in l1:\n",
    "    upper_list.append(i.upper())\n",
    "upper_list"
   ]
  },
  {
   "cell_type": "code",
   "execution_count": 13,
   "id": "f4ccc6f8-540b-4993-ae8e-b9aa0f84094e",
   "metadata": {},
   "outputs": [
    {
     "data": {
      "text/plain": [
       "['hyd', 'mumbai', 'chennai', 'blr']"
      ]
     },
     "execution_count": 13,
     "metadata": {},
     "output_type": "execute_result"
    }
   ],
   "source": [
    "# q3) L2=['Hyd','mumbai','Chennai','Blr']\n",
    "# lower_list=['hyd',mumbai,'chennai',blr']\n",
    "L2=['Hyd','mumbai','Chennai','Blr']\n",
    "lower_list=[]\n",
    "for i in l1:\n",
    "    lower_list.append(i.lower())\n",
    "lower_list"
   ]
  },
  {
   "cell_type": "code",
   "execution_count": 19,
   "id": "96acb204-c4ec-4fbf-8859-1736ada69237",
   "metadata": {},
   "outputs": [
    {
     "data": {
      "text/plain": [
       "['HYD', 'MUMBAI', 'CHENNAI', 'BLR']"
      ]
     },
     "execution_count": 19,
     "metadata": {},
     "output_type": "execute_result"
    }
   ],
   "source": [
    "# Q1) What is the output?i.upper()\n",
    "# Q2) What is the output list name? upper_list\n",
    "# Q3) What is the for loop ? for i in l1\n",
    "# [<output>  <for loop>]\n",
    "l1=['hyd','mumbai','chennai','blr']\n",
    "upper_list=[i.upper() for i in l1]\n",
    "upper_list"
   ]
  },
  {
   "cell_type": "code",
   "execution_count": 22,
   "id": "b13dcf5c-978c-453f-bc9e-c28f9128aef5",
   "metadata": {},
   "outputs": [
    {
     "data": {
      "text/plain": [
       "['hyd', 'mumbai', 'chennai', 'blr']"
      ]
     },
     "execution_count": 22,
     "metadata": {},
     "output_type": "execute_result"
    }
   ],
   "source": [
    "# q3) L2=['Hyd','mumbai','Chennai','Blr']\n",
    "# lower_list=['hyd',mumbai,'chennai',blr']\n",
    "L2=['Hyd','mumbai','Chennai','Blr']\n",
    "lower_list=[i.lower() for i in l1]\n",
    "lower_list"
   ]
  },
  {
   "cell_type": "code",
   "execution_count": 26,
   "id": "026f79c4-7574-4947-b866-c2c377d9b78e",
   "metadata": {},
   "outputs": [
    {
     "name": "stdout",
     "output_type": "stream",
     "text": [
      "0\n",
      "1\n",
      "2\n",
      "3\n"
     ]
    }
   ],
   "source": [
    "# Q4) L2=['Hyd','mumbai','Chennai','Blr']\n",
    "# sum of three index of all elemennts\n",
    "l2=['Hyd','mumbai','Chennai','Blr']\n",
    "for i in l2:\n",
    "    print(l2.index(i))"
   ]
  },
  {
   "cell_type": "code",
   "execution_count": 27,
   "id": "9a7bfc40-2ede-4ea9-8eb8-e467756d1036",
   "metadata": {},
   "outputs": [
    {
     "data": {
      "text/plain": [
       "6"
      ]
     },
     "execution_count": 27,
     "metadata": {},
     "output_type": "execute_result"
    }
   ],
   "source": [
    "L2=['Hyd','mumbai','Chennai','Blr']\n",
    "idx_list=[l2.index(i) for i in l2]\n",
    "sum(idx_list)"
   ]
  },
  {
   "cell_type": "code",
   "execution_count": null,
   "id": "f8c20fa8-3711-471a-818d-0af7d282bfee",
   "metadata": {},
   "outputs": [],
   "source": [
    "1 l1 l1=['Hyd','mumbai','Chennai','Blr']\n",
    "  2 sum_list=[i for i in range(len(l1))]\n",
    "  3 sum(sum_list)\n",
    "  4 sum_list\n",
    "typeError: 'list' object is not callable "
   ]
  },
  {
   "cell_type": "markdown",
   "id": "62da93b1-30fe-46c3-ae2e-96120d885d38",
   "metadata": {},
   "source": [
    "- making empty list will not works in list comprehension\n",
    "- intialization will not works List Comprehenshion\n",
    "- assignment operation also not working"
   ]
  },
  {
   "cell_type": "code",
   "execution_count": 34,
   "id": "a7d26d0d-014b-47ab-a385-25efcc5a393f",
   "metadata": {},
   "outputs": [
    {
     "name": "stdout",
     "output_type": "stream",
     "text": [
      "0\n",
      "1\n",
      "2\n",
      "3\n"
     ]
    }
   ],
   "source": [
    "# Fail\n",
    "l2=['Hyd','mumbai','Chennai','Blr']\n",
    "for i in l2:\n",
    "    val=l2.index(i)\n",
    "    print(val)\n",
    "    \n",
    "idx_list=[val==l2.index(i) for i in l2]"
   ]
  },
  {
   "cell_type": "markdown",
   "id": "e717ba6a-1de9-4039-84ae-31c681b55880",
   "metadata": {},
   "source": [
    "$pattern-2$"
   ]
  },
  {
   "cell_type": "markdown",
   "id": "c57843c1-16f3-4f5d-8c70-36db3daa60e7",
   "metadata": {},
   "source": [
    "**for loop-if condition**"
   ]
  },
  {
   "cell_type": "code",
   "execution_count": null,
   "id": "76bb3c10-d7e4-4744-b647-429e8450deac",
   "metadata": {},
   "outputs": [],
   "source": [
    "# syntax\n",
    "#[<output>  <for loop> <if condition>]\n"
   ]
  },
  {
   "cell_type": "code",
   "execution_count": 39,
   "id": "21475e0e-a101-45b1-b0e8-e12ce4735777",
   "metadata": {},
   "outputs": [
    {
     "name": "stdout",
     "output_type": "stream",
     "text": [
      "Mumbai\n",
      "Chennai\n"
     ]
    }
   ],
   "source": [
    "# Q5)L2=['Hyd','mumbai','Chennai','Blr']\n",
    "#ans = ['Mumbai','Channai']\n",
    "# we want lements which are len of element >4\n",
    "L1=['Hyd','Mumbai','Chennai','blr']\n",
    "for i in L1:\n",
    "    if len(i)>4:\n",
    "        print(i)"
   ]
  },
  {
   "cell_type": "code",
   "execution_count": 1,
   "id": "27d26a47-a7d3-4cf8-820c-2e539bcf90ce",
   "metadata": {},
   "outputs": [
    {
     "data": {
      "text/plain": [
       "['Mumbai', 'Chennai']"
      ]
     },
     "execution_count": 1,
     "metadata": {},
     "output_type": "execute_result"
    }
   ],
   "source": [
    "# Q1) What is the output :1\n",
    "# Q2) What is the if condition : if len(i)>4\n",
    "# Q3) what is the for loop : for i in l1\n",
    "#[<output> <for loop>  <if condition>]\n",
    "l1=['Hyd','Mumbai','Chennai','blr']\n",
    "op=[i for i in l1 if len(i)>4]\n",
    "op"
   ]
  },
  {
   "cell_type": "code",
   "execution_count": null,
   "id": "124dbdbd-ffcc-4977-9c4e-0fbb64f46651",
   "metadata": {},
   "outputs": [],
   "source": [
    "# Q3)l1=['Hyd','Mum#bai','Chen#nai','blr']\n",
    "# ans=['Mum#bai'',Chen#nai']\n",
    "# we want lements which are having '#'\n",
    "\n",
    "# Q5)l1=['Hyd','Mumbai','chennai','blr']\n",
    "# ans= ['Hyd','Mumbai']\n",
    "# we want lements which are having first letter capital\n",
    "\n",
    "# Q6)l1=['Hyd','Mum#bai','Chen#nai','blr']\n",
    "# ans_#=['Mum#bai'',Chen#nai'] for loop and if cond\n",
    "# ans_without_#=['Hyd'','blr']\n",
    "# we want lements which are having '#' for loop if cond\n",
    "\n",
    "# Q9) str1='virat.kohli@rcb.com, Rohit.sharma@mi.co, KL.Rahul@lucknow.com'\n",
    "# Firstname=[] second name=[] cname =[]\n",
    "# append first name should be in first name list\n",
    "#       second name shoul be in second name list\n",
    "#       thirs name will be in thirs name list"
   ]
  },
  {
   "cell_type": "code",
   "execution_count": 2,
   "id": "9959410a-2574-42f1-9639-945d8ebf739e",
   "metadata": {},
   "outputs": [
    {
     "data": {
      "text/plain": [
       "['Mum#bai', 'Chen#nai']"
      ]
     },
     "execution_count": 2,
     "metadata": {},
     "output_type": "execute_result"
    }
   ],
   "source": [
    "# Q6)l1=['Hyd','Mum#bai','Chen#nai','blr']\n",
    "# ans_#=['Mum#bai'',Chen#nai'] for loop and if cond\n",
    "# ans_without_#=['Hyd'','blr']\n",
    "# we want lements which are having '#' for loop if cond\n",
    "l1=['Hyd','Mum#bai','Chen#nai','blr']\n",
    "op=[]\n",
    "for i in l1:\n",
    "    if '#' in i:\n",
    "        op.append(i)\n",
    "op"
   ]
  },
  {
   "cell_type": "code",
   "execution_count": 6,
   "id": "040b7f74-8c40-466f-a82a-8aeee65da4ca",
   "metadata": {},
   "outputs": [
    {
     "data": {
      "text/plain": [
       "['Mum#bai', 'Chen#nai']"
      ]
     },
     "execution_count": 6,
     "metadata": {},
     "output_type": "execute_result"
    }
   ],
   "source": [
    "op_ash=[i for i in l1 if '#' in i]\n",
    "op_ash"
   ]
  },
  {
   "cell_type": "code",
   "execution_count": 5,
   "id": "3bd2328a-cf3e-4236-a7d5-19cc359c66c6",
   "metadata": {},
   "outputs": [
    {
     "data": {
      "text/plain": [
       "['Hyd', 'blr']"
      ]
     },
     "execution_count": 5,
     "metadata": {},
     "output_type": "execute_result"
    }
   ],
   "source": [
    "op_not_in_ash=[i for i in l1 if '#' not in i]\n",
    "op_not_in_ash"
   ]
  },
  {
   "cell_type": "code",
   "execution_count": 7,
   "id": "7d011eb3-1995-49fb-8caa-777104d08c0d",
   "metadata": {},
   "outputs": [
    {
     "data": {
      "text/plain": [
       "['Hyd']"
      ]
     },
     "execution_count": 7,
     "metadata": {},
     "output_type": "execute_result"
    }
   ],
   "source": [
    "l1=['Hyd','Mum#bai','Chen#nai','blr']\n",
    "op_title=[i for i in l1 if i.istitle()]\n",
    "op_title"
   ]
  },
  {
   "cell_type": "code",
   "execution_count": 9,
   "id": "cebc51e6-c449-4c25-bff9-dff5c4a63d5f",
   "metadata": {},
   "outputs": [
    {
     "data": {
      "text/plain": [
       "['virat', ' Rohit', ' KL']"
      ]
     },
     "execution_count": 9,
     "metadata": {},
     "output_type": "execute_result"
    }
   ],
   "source": [
    "# Q9) str1='virat.kohli@rcb.com, Rohit.sharma@mi.co, KL.Rahul@lucknow.com'\n",
    "# Firstname=[] second name=[] cname =[]\n",
    "# append first name should be in first name list\n",
    "#       second name shoul be in second name list\n",
    "#       thirs name will be in thirs name list\n",
    "\n",
    "# first name\n",
    "str1='virat.kohli@rcb.com, Rohit.sharma@mi.co, KL.Rahul@lucknow.com'\n",
    "list1=str1.split(',')\n",
    "list1[0][:list1[0].index('.')]  # virat\n",
    "list1[1][:list1[1].index('.')]  # Rohit\n",
    "list1[2][:list1[2].index('.')]  # KL\n",
    "#list[i][:<first_dot_index>]\n",
    "#list[i][:list[i].index('.')\n",
    "\n",
    "f_name=[]\n",
    "for i in list1:\n",
    "    f_name.append(i[:i.index('.')])\n",
    "[i[:i.index('.')] for i in list1]"
   ]
  },
  {
   "cell_type": "code",
   "execution_count": 10,
   "id": "f5c0dd03-ad22-491e-9069-4bf070a4a326",
   "metadata": {},
   "outputs": [
    {
     "data": {
      "text/plain": [
       "('virat.kohli@rcb.com', ' Rohit.sharma@mi.co', ' KL.Rahul@lucknow.com')"
      ]
     },
     "execution_count": 10,
     "metadata": {},
     "output_type": "execute_result"
    }
   ],
   "source": [
    "list1[0],list1[1],list1[2]"
   ]
  },
  {
   "cell_type": "code",
   "execution_count": 12,
   "id": "218c86e1-8379-4878-87ad-0246a3e38ba6",
   "metadata": {},
   "outputs": [
    {
     "data": {
      "text/plain": [
       "5"
      ]
     },
     "execution_count": 12,
     "metadata": {},
     "output_type": "execute_result"
    }
   ],
   "source": [
    "list1[0].index('.')"
   ]
  },
  {
   "cell_type": "code",
   "execution_count": 13,
   "id": "bc9d1f29-b497-470f-85fb-66e47513921e",
   "metadata": {},
   "outputs": [
    {
     "data": {
      "text/plain": [
       "' KL'"
      ]
     },
     "execution_count": 13,
     "metadata": {},
     "output_type": "execute_result"
    }
   ],
   "source": [
    "str1='virat.kohli@rcb.com, Rohit.sharma@mi.co, KL.Rahul@lucknow.com'\n",
    "list1=str1.split(',')\n",
    "list1[0].index('.')\n",
    "list1[2][:list1[2].index('.')]"
   ]
  },
  {
   "cell_type": "code",
   "execution_count": 14,
   "id": "c6b09b8b-d730-4e0d-835c-6c09bdbe74f5",
   "metadata": {},
   "outputs": [
    {
     "name": "stdout",
     "output_type": "stream",
     "text": [
      "virat\n",
      " Rohit\n",
      " KL\n"
     ]
    }
   ],
   "source": [
    "for i in range(len(list1)):\n",
    "    print(list1[i][:list1[i].index('.')])\n"
   ]
  },
  {
   "cell_type": "code",
   "execution_count": 15,
   "id": "d6a16988-edf8-43bd-a536-d1ef472576c9",
   "metadata": {},
   "outputs": [
    {
     "name": "stdout",
     "output_type": "stream",
     "text": [
      "virat\n",
      " Rohit\n",
      " KL\n"
     ]
    }
   ],
   "source": [
    "for i in list1:\n",
    "    print(i[:i.index('.')])"
   ]
  },
  {
   "cell_type": "markdown",
   "id": "465dfbd9-0d5b-427e-abdd-7f429138e28c",
   "metadata": {},
   "source": [
    "$pattern-3$"
   ]
  },
  {
   "cell_type": "markdown",
   "id": "364b4cd1-7c3f-47a0-a6ff-7f01b6246c1f",
   "metadata": {},
   "source": [
    "**if-else**"
   ]
  },
  {
   "cell_type": "code",
   "execution_count": null,
   "id": "514d335e-5a8b-4ec9-825e-deae23e2da6f",
   "metadata": {},
   "outputs": [],
   "source": [
    "[<output> <forloop>] : for loop\n",
    "[<output> <forloop> <if condition>]: for-if\n",
    "[<if_output>  <if> <else> <else_output> <for>] : if-else"
   ]
  },
  {
   "cell_type": "markdown",
   "id": "4fc398ca-9f67-475a-9888-a0134e79e2c6",
   "metadata": {},
   "source": [
    "**even-odd**"
   ]
  },
  {
   "cell_type": "code",
   "execution_count": 23,
   "id": "7eb9721f-b603-4ff7-9bde-ca77465e2423",
   "metadata": {},
   "outputs": [],
   "source": [
    "even_list,odd_list=[],[]\n",
    "for i in range(1,20):\n",
    "    if i%2==0:\n",
    "        even_list.append(f\"even:{i}\")\n",
    "    else:\n",
    "        odd_list.append(f\"odd:{i}\")"
   ]
  },
  {
   "cell_type": "code",
   "execution_count": 24,
   "id": "748508a1-b8dc-4812-a303-05c266479a07",
   "metadata": {},
   "outputs": [
    {
     "data": {
      "text/plain": [
       "(['even:2',\n",
       "  'even:4',\n",
       "  'even:6',\n",
       "  'even:8',\n",
       "  'even:10',\n",
       "  'even:12',\n",
       "  'even:14',\n",
       "  'even:16',\n",
       "  'even:18'],\n",
       " ['odd:1',\n",
       "  'odd:3',\n",
       "  'odd:5',\n",
       "  'odd:7',\n",
       "  'odd:9',\n",
       "  'odd:11',\n",
       "  'odd:13',\n",
       "  'odd:15',\n",
       "  'odd:17',\n",
       "  'odd:19'])"
      ]
     },
     "execution_count": 24,
     "metadata": {},
     "output_type": "execute_result"
    }
   ],
   "source": [
    "even_list,odd_list"
   ]
  },
  {
   "cell_type": "code",
   "execution_count": 29,
   "id": "abcc99df-07b7-4242-869d-e6fb719a1332",
   "metadata": {},
   "outputs": [
    {
     "data": {
      "text/plain": [
       "['odd:1',\n",
       " 'even:2',\n",
       " 'odd:3',\n",
       " 'even:4',\n",
       " 'odd:5',\n",
       " 'even:6',\n",
       " 'odd:7',\n",
       " 'even:8',\n",
       " 'odd:9',\n",
       " 'even:10',\n",
       " 'odd:11',\n",
       " 'even:12',\n",
       " 'odd:13',\n",
       " 'even:14',\n",
       " 'odd:15',\n",
       " 'even:16',\n",
       " 'odd:17',\n",
       " 'even:18',\n",
       " 'odd:19']"
      ]
     },
     "execution_count": 29,
     "metadata": {},
     "output_type": "execute_result"
    }
   ],
   "source": [
    "op_list=[]\n",
    "for i in range(1,20):\n",
    "    if i%2==0:\n",
    "        op_list.append(f\"even:{i}\")\n",
    "    else:\n",
    "        op_list.append(f\"odd:{i}\")\n",
    "op_list\n",
    "#[<if_op> <if_con> <else> <else>  <else_op>  <for_loop>]\n",
    "[f\"even:{i}\" if i%2==0 else f\"odd:{i}\" for i in range(1,20)]"
   ]
  },
  {
   "cell_type": "code",
   "execution_count": null,
   "id": "132c125b-6dfd-43ca-b017-3cd8d7e906ef",
   "metadata": {},
   "outputs": [],
   "source": []
  }
 ],
 "metadata": {
  "kernelspec": {
   "display_name": "Python 3 (ipykernel)",
   "language": "python",
   "name": "python3"
  },
  "language_info": {
   "codemirror_mode": {
    "name": "ipython",
    "version": 3
   },
   "file_extension": ".py",
   "mimetype": "text/x-python",
   "name": "python",
   "nbconvert_exporter": "python",
   "pygments_lexer": "ipython3",
   "version": "3.11.7"
  }
 },
 "nbformat": 4,
 "nbformat_minor": 5
}
