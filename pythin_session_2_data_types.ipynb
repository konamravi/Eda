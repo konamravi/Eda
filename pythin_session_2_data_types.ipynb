{
 "cells": [
  {
   "cell_type": "markdown",
   "id": "c9f4a3ee-cada-4dba-bbbd-201f47a0908c",
   "metadata": {},
   "source": [
    "**Data types**\n",
    "- in python type declare not required\n",
    "- python will automatically takes the type based on provided value\n",
    "- we have many data types avilable\n",
    "- the main data types are\n",
    "   - integer\n",
    "   - float\n",
    "   - string\n",
    "   - boolean\n",
    "- List \n",
    "- Dictionary\n",
    "- tuple\n",
    "- complex\n"
   ]
  },
  {
   "cell_type": "markdown",
   "id": "ebe787f0-8088-4798-892d-b7379fed12cf",
   "metadata": {},
   "source": [
    "**integer**"
   ]
  },
  {
   "cell_type": "code",
   "execution_count": 3,
   "id": "0e7a83b0-4a9a-48f6-9afc-719bdf67b9ae",
   "metadata": {},
   "outputs": [
    {
     "data": {
      "text/plain": [
       "int"
      ]
     },
     "execution_count": 3,
     "metadata": {},
     "output_type": "execute_result"
    }
   ],
   "source": [
    "n=100\n",
    "type(n)"
   ]
  },
  {
   "cell_type": "markdown",
   "id": "60d5c56a-d54a-41be-b08f-de824e0e3a43",
   "metadata": {},
   "source": [
    "**int**"
   ]
  },
  {
   "cell_type": "markdown",
   "id": "b4fdcded-439f-4ec9-bd67-8ccb64a9fac9",
   "metadata": {},
   "source": [
    "- binary representation\n",
    "- octa representation\n",
    "- hexarepresentation"
   ]
  },
  {
   "cell_type": "code",
   "execution_count": 5,
   "id": "480828ce-3cf0-4485-8075-3b2d66a03886",
   "metadata": {},
   "outputs": [
    {
     "data": {
      "text/plain": [
       "200"
      ]
     },
     "execution_count": 5,
     "metadata": {},
     "output_type": "execute_result"
    }
   ],
   "source": [
    "100000\n",
    "100\n",
    "200"
   ]
  },
  {
   "cell_type": "markdown",
   "id": "bdd30365-927f-4b0e-af61-ffa289fa1b9c",
   "metadata": {},
   "source": [
    "**Binary**"
   ]
  },
  {
   "cell_type": "markdown",
   "id": "225513f5-d755-436f-bc88-c543edcfb70d",
   "metadata": {},
   "source": [
    "- bi mean 2\n",
    "- so it require 2 digits\n",
    "- genarally we have 0 1 2 3 4 5 6 7 8 9\n",
    "- so it represent with only 0 and 1\n",
    "- represenation is 0b10, 0b01111, ob111\n",
    "- wrong representation is 0b102, 0b007"
   ]
  },
  {
   "cell_type": "code",
   "execution_count": 6,
   "id": "d98bfcdf-061f-4061-96c5-795ff81a9003",
   "metadata": {},
   "outputs": [
    {
     "data": {
      "text/plain": [
       "5"
      ]
     },
     "execution_count": 6,
     "metadata": {},
     "output_type": "execute_result"
    }
   ],
   "source": [
    "0b101"
   ]
  },
  {
   "cell_type": "code",
   "execution_count": 11,
   "id": "0c76e227-fedf-4f31-adf7-d8d29a7dda89",
   "metadata": {},
   "outputs": [
    {
     "data": {
      "text/plain": [
       "15"
      ]
     },
     "execution_count": 11,
     "metadata": {},
     "output_type": "execute_result"
    }
   ],
   "source": [
    "0b1111"
   ]
  },
  {
   "cell_type": "code",
   "execution_count": 13,
   "id": "579cbef1-69b3-48ea-b760-270070aa3949",
   "metadata": {},
   "outputs": [
    {
     "data": {
      "text/plain": [
       "9"
      ]
     },
     "execution_count": 13,
     "metadata": {},
     "output_type": "execute_result"
    }
   ],
   "source": [
    "0b1001"
   ]
  },
  {
   "cell_type": "code",
   "execution_count": 14,
   "id": "204d13a5-85b7-4063-976b-0de9b852ed61",
   "metadata": {},
   "outputs": [],
   "source": [
    "import os"
   ]
  },
  {
   "cell_type": "code",
   "execution_count": 18,
   "id": "1970c912-4767-4095-b5d2-1747565b0611",
   "metadata": {},
   "outputs": [
    {
     "data": {
      "text/plain": [
       "b'C:\\\\Users\\\\Lenovo\\\\Documents\\\\naresh it\\\\python practice notes'"
      ]
     },
     "execution_count": 18,
     "metadata": {},
     "output_type": "execute_result"
    }
   ],
   "source": [
    "os.getcwdb()\n",
    "# get current working directory\n",
    "# it will give the path\n",
    "# where our python file located"
   ]
  },
  {
   "cell_type": "code",
   "execution_count": 20,
   "id": "f722f427-e01c-4758-9681-99fa7a4a72da",
   "metadata": {},
   "outputs": [
    {
     "data": {
      "text/plain": [
       "15"
      ]
     },
     "execution_count": 20,
     "metadata": {},
     "output_type": "execute_result"
    }
   ],
   "source": [
    "# binary\n",
    "0b1111"
   ]
  },
  {
   "cell_type": "code",
   "execution_count": 22,
   "id": "f762ab67-515b-4046-a60f-a109b7e35039",
   "metadata": {},
   "outputs": [
    {
     "ename": "SyntaxError",
     "evalue": "invalid syntax (1107079293.py, line 1)",
     "output_type": "error",
     "traceback": [
      "\u001b[1;36m  Cell \u001b[1;32mIn[22], line 1\u001b[1;36m\u001b[0m\n\u001b[1;33m    8  4  2  1  num\u001b[0m\n\u001b[1;37m       ^\u001b[0m\n\u001b[1;31mSyntaxError\u001b[0m\u001b[1;31m:\u001b[0m invalid syntax\n"
     ]
    }
   ],
   "source": [
    "8  4  2  1  num\n",
    "0  0  0  0   0\n",
    "0  0  0  1   1  \n",
    "0  0  1  0   2\n",
    "0  0  1  1   3 \n",
    "0  1  0  0   4 \n",
    "0  1  0  1   5\n",
    "0  1  1  0   6  \n",
    "0  1  1  1   7\n",
    "1  0  0  0   8\n",
    "1  0  0  1   9\n",
    "1  0  1  0   10\n",
    "1  0  1  1   11 \n",
    "1  1  0  0   12\n",
    "1  1  0  1   13\n",
    "1  1  1  0   14\n",
    "1  1  1  1   15 "
   ]
  },
  {
   "cell_type": "code",
   "execution_count": 23,
   "id": "0c3701b1-b25d-43f7-96d7-89978376198e",
   "metadata": {},
   "outputs": [
    {
     "data": {
      "text/plain": [
       "29"
      ]
     },
     "execution_count": 23,
     "metadata": {},
     "output_type": "execute_result"
    }
   ],
   "source": [
    "0b11101"
   ]
  },
  {
   "cell_type": "code",
   "execution_count": 24,
   "id": "e9703cd7-fee5-425a-864e-f98a410a06c0",
   "metadata": {},
   "outputs": [
    {
     "data": {
      "text/plain": [
       "1"
      ]
     },
     "execution_count": 24,
     "metadata": {},
     "output_type": "execute_result"
    }
   ],
   "source": [
    "0b0001"
   ]
  },
  {
   "cell_type": "markdown",
   "id": "f804763e-c316-4f07-9d3b-88b3686b7c64",
   "metadata": {},
   "source": [
    "**octal**"
   ]
  },
  {
   "cell_type": "code",
   "execution_count": null,
   "id": "15420502-88cb-4eaf-a821-c5d0d64854cb",
   "metadata": {},
   "outputs": [],
   "source": [
    "- octal mean 8\n",
    "- so it require 8 digit \n",
    "- genarlly we have 0 1 2 3 4 5 6 7 8 9"
   ]
  }
 ],
 "metadata": {
  "kernelspec": {
   "display_name": "Python 3 (ipykernel)",
   "language": "python",
   "name": "python3"
  },
  "language_info": {
   "codemirror_mode": {
    "name": "ipython",
    "version": 3
   },
   "file_extension": ".py",
   "mimetype": "text/x-python",
   "name": "python",
   "nbconvert_exporter": "python",
   "pygments_lexer": "ipython3",
   "version": "3.11.7"
  }
 },
 "nbformat": 4,
 "nbformat_minor": 5
}
