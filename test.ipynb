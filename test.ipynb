{
 "cells": [
  {
   "cell_type": "code",
   "execution_count": 1,
   "id": "3b78ed88-8f93-4687-8425-e8573a90dab3",
   "metadata": {},
   "outputs": [
    {
     "name": "stdin",
     "output_type": "stream",
     "text": [
      "enter the number1: 30\n",
      "enter the number2: 20\n"
     ]
    },
    {
     "name": "stdout",
     "output_type": "stream",
     "text": [
      "tha addition 30 and 20 is :50\n",
      "tha substraction 30 and 20 is :10\n",
      "tha multiplication 30 and 20 is :600\n",
      "tha division 30 and 20 is :1.5\n"
     ]
    }
   ],
   "source": [
    "# 1) Write a program for all arithmetic operations using eval function.\n",
    "num1=eval(input(\"enter the number1:\"))\n",
    "num2=eval(input(\"enter the number2:\"))\n",
    "add=num1+num2\n",
    "sub=num1-num2\n",
    "mul=num1*num2\n",
    "div=num1/num2\n",
    "print(f\"tha addition {num1} and {num2} is :{add}\")\n",
    "print(f\"tha substraction {num1} and {num2} is :{sub}\")\n",
    "print(f\"tha multiplication {num1} and {num2} is :{mul}\")\n",
    "print(f\"tha division {num1} and {num2} is :{div}\")\n",
    "\n"
   ]
  },
  {
   "cell_type": "code",
   "execution_count": 42,
   "id": "c6c5331b-d919-4b4f-a16e-29ca0a78e7bd",
   "metadata": {},
   "outputs": [
    {
     "name": "stdout",
     "output_type": "stream",
     "text": [
      "12\n",
      "22\n",
      "32\n",
      "42\n",
      "52\n",
      "62\n",
      "72\n",
      "82\n",
      "92\n"
     ]
    }
   ],
   "source": [
    "#Generate random numbers from 1 to 100 with a step of 10.\n",
    "import random\n",
    "x=random.randint(1,100)\n",
    "for i in range(1,10):\n",
    "    print(x)\n",
    "    x=x+10\n",
    "    "
   ]
  },
  {
   "cell_type": "code",
   "execution_count": null,
   "id": "afcd939b-c80c-4b8f-98d9-bf8ae6321519",
   "metadata": {},
   "outputs": [],
   "source": [
    "# Explain slicing and indexing with examples.\n",
    "\n",
    "1. Indexing Operation:The Process of Obtaining Single Character from given str object by passing valid Index is\n",
    "                      called Indexing.\n",
    "2. Slicing Operations:\n",
    "- The Process of obtaining Range of Characters or Sub String from given Str object is called\n",
    "  Slicing .\n",
    "- Slicing Operation can performed by using 5 Syntaxes.\n",
    "Syntax-1: Strobj [Begin Index : End Index]\n",
    "This Syntax obtains range of characters from BeginIndex to EndIndex-1 provided Begin\n",
    "Index<End Index Otherwise we never get any output ( ' ')\n"
   ]
  },
  {
   "cell_type": "code",
   "execution_count": 8,
   "id": "17769c43-f962-47de-b268-76b585e34bb6",
   "metadata": {},
   "outputs": [
    {
     "name": "stdout",
     "output_type": "stream",
     "text": [
      "the indexed value is :o\n",
      "the sliced value is :hello wor\n"
     ]
    }
   ],
   "source": [
    "string=\"hello world\"              # we defining a string\n",
    "index=string[7]   # idexing the string \n",
    "print(f\"the indexed value is :{index}\")\n",
    "slice=string[0:-2]               # slicing the string \n",
    "print(f\"the sliced value is :{slice}\")"
   ]
  },
  {
   "cell_type": "code",
   "execution_count": 37,
   "id": "a35e77f1-1e38-4f57-bc66-012488ad79b9",
   "metadata": {},
   "outputs": [
    {
     "name": "stdin",
     "output_type": "stream",
     "text": [
      "enter the num 10.23\n"
     ]
    },
    {
     "name": "stdout",
     "output_type": "stream",
     "text": [
      "10.23\n",
      "the floating value convert round is 10\n"
     ]
    }
   ],
   "source": [
    "# how to round to two decimal places for a floating value\n",
    "num=eval(input(\"enter the num\"))\n",
    "print(num)\n",
    "num1=round(num)\n",
    "print(f\"the floating value convert round is {num1}\")\n"
   ]
  },
  {
   "cell_type": "code",
   "execution_count": 38,
   "id": "cedaea68-7cf2-4867-a4c7-68a55aa48112",
   "metadata": {},
   "outputs": [
    {
     "name": "stdout",
     "output_type": "stream",
     "text": [
      "10\n"
     ]
    }
   ],
   "source": [
    "# how to round to two decimal places for a floating value\n",
    "x=10.23\n",
    "y=round(x)\n",
    "print(y)"
   ]
  },
  {
   "cell_type": "markdown",
   "id": "2fedd594-9882-4360-8add-f9c68e4a2692",
   "metadata": {},
   "source": [
    "###### Explain type casting with fundamental datatypes with example.\n",
    "**fundamental datatypes**\n",
    "- integer (int)\n",
    "- float   (floating point)\n",
    "- string  (str)\n",
    "- boolean (bool)"
   ]
  },
  {
   "cell_type": "code",
   "execution_count": 45,
   "id": "b5876512-c333-4948-bac4-46cdd2949c9a",
   "metadata": {},
   "outputs": [
    {
     "data": {
      "text/plain": [
       "int"
      ]
     },
     "execution_count": 45,
     "metadata": {},
     "output_type": "execute_result"
    }
   ],
   "source": [
    "# example of fundemental data types\n",
    "n=200\n",
    "type(n)"
   ]
  },
  {
   "cell_type": "markdown",
   "id": "f8e55fc2-30b7-447c-af9c-22b5fd9ee1aa",
   "metadata": {},
   "source": [
    "##### Binary"
   ]
  },
  {
   "cell_type": "code",
   "execution_count": 73,
   "id": "2689587c-e98c-4a40-90d5-1db20db8e3a8",
   "metadata": {},
   "outputs": [
    {
     "data": {
      "text/plain": [
       "5"
      ]
     },
     "execution_count": 73,
     "metadata": {},
     "output_type": "execute_result"
    }
   ],
   "source": [
    "0b101"
   ]
  },
  {
   "cell_type": "code",
   "execution_count": 75,
   "id": "fda5db8e-1fcc-4498-b51c-e06a7ed454c6",
   "metadata": {},
   "outputs": [
    {
     "data": {
      "text/plain": [
       "47"
      ]
     },
     "execution_count": 75,
     "metadata": {},
     "output_type": "execute_result"
    }
   ],
   "source": [
    "0b101111"
   ]
  },
  {
   "cell_type": "markdown",
   "id": "3cf619e7-db57-4be3-905f-856055ab0be5",
   "metadata": {},
   "source": [
    "**octal**"
   ]
  },
  {
   "cell_type": "code",
   "execution_count": 78,
   "id": "bc192b5a-a519-4e23-a4d6-110667aa85b9",
   "metadata": {},
   "outputs": [
    {
     "data": {
      "text/plain": [
       "83"
      ]
     },
     "execution_count": 78,
     "metadata": {},
     "output_type": "execute_result"
    }
   ],
   "source": [
    "0o123"
   ]
  },
  {
   "cell_type": "code",
   "execution_count": 80,
   "id": "efd76f6b-bb04-4644-ba57-97a081abb9cc",
   "metadata": {},
   "outputs": [
    {
     "data": {
      "text/plain": [
       "668"
      ]
     },
     "execution_count": 80,
     "metadata": {},
     "output_type": "execute_result"
    }
   ],
   "source": [
    "0o1234"
   ]
  },
  {
   "cell_type": "markdown",
   "id": "6dc9ec88-7f53-4fc9-a3b1-6362e8c08429",
   "metadata": {},
   "source": [
    "**hexa**"
   ]
  },
  {
   "cell_type": "code",
   "execution_count": 45,
   "id": "b52f3ecf-8f45-4e14-a998-490dc96c87de",
   "metadata": {},
   "outputs": [
    {
     "data": {
      "text/plain": [
       "2748"
      ]
     },
     "execution_count": 45,
     "metadata": {},
     "output_type": "execute_result"
    }
   ],
   "source": [
    "0xabc"
   ]
  },
  {
   "cell_type": "code",
   "execution_count": 46,
   "id": "98df72c4-b6a5-4236-ba8e-8a07f38a57ee",
   "metadata": {},
   "outputs": [
    {
     "data": {
      "text/plain": [
       "291"
      ]
     },
     "execution_count": 46,
     "metadata": {},
     "output_type": "execute_result"
    }
   ],
   "source": [
    "0x123"
   ]
  },
  {
   "cell_type": "markdown",
   "id": "d537cfed-8c1d-44ee-9d8d-d25be39dca26",
   "metadata": {},
   "source": [
    "**string**"
   ]
  },
  {
   "cell_type": "code",
   "execution_count": 57,
   "id": "ee9964a6-006e-4231-9a38-b8b9371321ef",
   "metadata": {},
   "outputs": [
    {
     "name": "stdout",
     "output_type": "stream",
     "text": [
      "10\n"
     ]
    }
   ],
   "source": [
    "name='10'\n",
    "print(name1)"
   ]
  },
  {
   "cell_type": "code",
   "execution_count": 59,
   "id": "50598648-64b6-420d-9f9c-98ed5f741fd5",
   "metadata": {},
   "outputs": [
    {
     "name": "stdout",
     "output_type": "stream",
     "text": [
      "python\n"
     ]
    }
   ],
   "source": [
    "name='python'\n",
    "type=name\n",
    "print(name)"
   ]
  },
  {
   "cell_type": "code",
   "execution_count": 58,
   "id": "8eeee7f5-b035-450c-94e4-d80ff58d5b48",
   "metadata": {},
   "outputs": [
    {
     "data": {
      "text/plain": [
       "'10'"
      ]
     },
     "execution_count": 58,
     "metadata": {},
     "output_type": "execute_result"
    }
   ],
   "source": [
    "name"
   ]
  },
  {
   "cell_type": "code",
   "execution_count": 61,
   "id": "f05a050e-de13-4af3-aa6f-9a68ba2eaeb4",
   "metadata": {},
   "outputs": [
    {
     "name": "stdout",
     "output_type": "stream",
     "text": [
      "i like\"python\"\n"
     ]
    }
   ],
   "source": [
    "str='i like\"python\"'\n",
    "print(str)"
   ]
  },
  {
   "cell_type": "markdown",
   "id": "473ebb04-414d-44e7-9372-31bb0bb4a275",
   "metadata": {},
   "source": [
    "**boolean**"
   ]
  },
  {
   "cell_type": "code",
   "execution_count": 63,
   "id": "f0aca92b-4ea2-45e2-8224-3e025514359a",
   "metadata": {},
   "outputs": [],
   "source": [
    "true=True\n",
    "false=False"
   ]
  },
  {
   "cell_type": "code",
   "execution_count": 65,
   "id": "e3eaccc4-409a-462b-9ca1-c680415f87ec",
   "metadata": {},
   "outputs": [
    {
     "ename": "TypeError",
     "evalue": "'str' object is not callable",
     "output_type": "error",
     "traceback": [
      "\u001b[1;31m---------------------------------------------------------------------------\u001b[0m",
      "\u001b[1;31mTypeError\u001b[0m                                 Traceback (most recent call last)",
      "Cell \u001b[1;32mIn[65], line 2\u001b[0m\n\u001b[0;32m      1\u001b[0m value1\u001b[38;5;241m=\u001b[39mtrue\n\u001b[1;32m----> 2\u001b[0m \u001b[38;5;28mtype\u001b[39m(value1)\n",
      "\u001b[1;31mTypeError\u001b[0m: 'str' object is not callable"
     ]
    }
   ],
   "source": [
    "value1=true\n",
    "type(value1)"
   ]
  },
  {
   "cell_type": "code",
   "execution_count": null,
   "id": "423417f7-31d7-4f7a-bdda-6fd33166e7e2",
   "metadata": {},
   "outputs": [],
   "source": []
  }
 ],
 "metadata": {
  "kernelspec": {
   "display_name": "Python 3 (ipykernel)",
   "language": "python",
   "name": "python3"
  },
  "language_info": {
   "codemirror_mode": {
    "name": "ipython",
    "version": 3
   },
   "file_extension": ".py",
   "mimetype": "text/x-python",
   "name": "python",
   "nbconvert_exporter": "python",
   "pygments_lexer": "ipython3",
   "version": "3.11.7"
  }
 },
 "nbformat": 4,
 "nbformat_minor": 5
}
