{
 "cells": [
  {
   "cell_type": "code",
   "execution_count": 1,
   "id": "451bc2ad-1c82-4ac5-8522-d1bfa8c10477",
   "metadata": {},
   "outputs": [],
   "source": [
    "# Q5 from above output\n",
    "# you need to extract all the emails\n",
    "\n",
    "# Q6 unique emails\n",
    "\n",
    "# Q7 you need to read the text file\n",
    "# Nallgoni,omkar< omkar .nallgoni@accenture.com>\n",
    "# sname=Nallagoni\n",
    "# emailid \n",
    "# cname=accenture"
   ]
  },
  {
   "cell_type": "markdown",
   "id": "bbb11507-eb45-4fba-991f-f82dd502af3f",
   "metadata": {},
   "source": [
    "- Q5) from above output\n",
    "- you need to extract  all the mails"
   ]
  },
  {
   "cell_type": "code",
   "execution_count": 13,
   "id": "bb34c0ca-e888-4477-936e-a83e6fa54b5f",
   "metadata": {},
   "outputs": [
    {
     "data": {
      "text/plain": [
       "['jayendhran.ms@accenture.com',\n",
       " 's.t.bhattacharjee@accenture.com',\n",
       " 'vaishnavi.a.bansal@accenture.com',\n",
       " 'p.a.chandra.shekhar@accenture.com',\n",
       " 'hiren.j.doshi@accenture.com',\n",
       " 'j.shimoga.prakash@accenture.com',\n",
       " 'shreyash.akhouri@accenture.com',\n",
       " 'nupanga.nath@accenture.com',\n",
       " 'r.ponna@accenture.com',\n",
       " 'aditya.d.singhal@accenture.com',\n",
       " 'sumit.gorai@accenture.com',\n",
       " 'mariele.dyan.valdez@accenture.com',\n",
       " 'abigail.kyle.cancel@accenture.com',\n",
       " 'p.bondalakunta@accenture.com',\n",
       " 'sai.priyanka.uppala@accenture.com',\n",
       " 'nikhil.nitin.shinde@accenture.com',\n",
       " 'swapna.chidre@accenture.com',\n",
       " 's.satyapragyan.sahu@accenture.com',\n",
       " 'ankit.sikka@accenture.com',\n",
       " 'sai.madhukar.dara@accenture.com',\n",
       " 's.pattanshetti@accenture.com',\n",
       " 'ayush.ad.sharma@accenture.com',\n",
       " 'zairous.jay.latorena@accenture.com',\n",
       " 'r.abhimanyu.pradhan@accenture.com',\n",
       " 'lehar.jaiswal@accenture.com',\n",
       " 'retik.gupta@accenture.com',\n",
       " 'phanindra.r.satti@accenture.com',\n",
       " 'manish.dw.kumar@accenture.com',\n",
       " 'devi.p.balakrishnan@accenture.com',\n",
       " 'roshni.priya.m.s@accenture.com',\n",
       " 'vanaja.cheerala@accenture.com',\n",
       " 'chandrashekhar.g.d@accenture.com',\n",
       " 'm.nikhil.reddy@accenture.com',\n",
       " 'jeroshelle.v.santos@accenture.com',\n",
       " 'gerald.john.milan@accenture.com',\n",
       " 'vivek.u.gupta@accenture.com',\n",
       " 's.sunilkumar.mandal@accenture.com',\n",
       " 'ashok.prakash.shukla@accenture.com',\n",
       " 'sivakumar.naganathan@accenture.com',\n",
       " 'nikhil.gahlot@accenture.com',\n",
       " 's.a.kanti.kanjilal@accenture.com',\n",
       " 'omkar.nallagoni@accenture.com',\n",
       " 'sandra.sahajan@accenture.com',\n",
       " 'chaitanya.nelluri@accenture.com']"
      ]
     },
     "execution_count": 13,
     "metadata": {},
     "output_type": "execute_result"
    }
   ],
   "source": [
    "path='emails.txt'\n",
    "file=open(path)\n",
    "\n",
    "a=[i.replace('<','').replace('>','').split(';') for i in file]\n",
    "a=a[0]\n",
    "\n",
    "b=[i.lstrip('').split(' ')for i in a]\n",
    "\n",
    "c=[j for i in b   for j in i  if '@' in j]\n",
    "c"
   ]
  },
  {
   "cell_type": "markdown",
   "id": "25bbd832-cd89-4760-8cf1-c33fcb67dc7e",
   "metadata": {},
   "source": [
    "**Q7 you need to read the text file**"
   ]
  },
  {
   "cell_type": "markdown",
   "id": "ef90bf33-cf9b-4088-82c5-f44353a27c0b",
   "metadata": {},
   "source": [
    "- Nallagoni,Omkar omkar.nallagoni@accenture.com'\n",
    "- file=Nallagonu\n",
    "-  sname=omkar\n",
    "- emailid\n",
    "- cname=accenture"
   ]
  },
  {
   "cell_type": "code",
   "execution_count": 15,
   "id": "61efa1dc-03e2-4bc7-b409-e0714a2968b6",
   "metadata": {},
   "outputs": [
    {
     "data": {
      "text/plain": [
       "['Santhanam, Jayendhran jayendhran.ms@accenture.com',\n",
       " ' Bhattacharjee, Sankalan s.t.bhattacharjee@accenture.com',\n",
       " ' Bansal, Vaishnavi vaishnavi.a.bansal@accenture.com',\n",
       " ' Chandra Shekhar, Pavuluri p.a.chandra.shekhar@accenture.com',\n",
       " ' J Doshi, Hiren hiren.j.doshi@accenture.com',\n",
       " ' Shimoga Prakash, Jeevan j.shimoga.prakash@accenture.com',\n",
       " ' Akhouri, Shreyash shreyash.akhouri@accenture.com',\n",
       " ' Nath, Nupanga nupanga.nath@accenture.com',\n",
       " ' Ponna, Ramesh r.ponna@accenture.com',\n",
       " ' Singhal, Aditya aditya.d.singhal@accenture.com',\n",
       " ' Gorai, Sumit sumit.gorai@accenture.com',\n",
       " ' Valdez, Mariele Dyan Francely mariele.dyan.valdez@accenture.com',\n",
       " ' Cancel, Abigail Kyle abigail.kyle.cancel@accenture.com',\n",
       " ' BONDALAKUNTA, POOJITHA p.bondalakunta@accenture.com',\n",
       " ' priyanka uppala, sai sai.priyanka.uppala@accenture.com',\n",
       " ' Nitin SHINDE, NIKHIL nikhil.nitin.shinde@accenture.com',\n",
       " ' Chidre, Swapna swapna.chidre@accenture.com',\n",
       " ' Sahu, Swastik s.satyapragyan.sahu@accenture.com',\n",
       " ' Sikka, Ankit ankit.sikka@accenture.com',\n",
       " ' Dara, Sai Madhukar sai.madhukar.dara@accenture.com',\n",
       " ' Pattanshetti, Sampreet s.pattanshetti@accenture.com',\n",
       " ' Sharma, Ayush ayush.ad.sharma@accenture.com',\n",
       " ' Latorena, Zairous Jay zairous.jay.latorena@accenture.com',\n",
       " ' Abhimanyu Pradhan, Roshankumar r.abhimanyu.pradhan@accenture.com',\n",
       " ' Jaiswal, Lehar lehar.jaiswal@accenture.com',\n",
       " ' Gupta, Retik retik.gupta@accenture.com',\n",
       " ' Satti, Phanindra Reddy phanindra.r.satti@accenture.com',\n",
       " ' Kumar, Manish manish.dw.kumar@accenture.com',\n",
       " ' Balakrishnan, Devi Priya devi.p.balakrishnan@accenture.com',\n",
       " ' M S, Roshni Priya roshni.priya.m.s@accenture.com',\n",
       " ' Cheerala, Vanaja vanaja.cheerala@accenture.com',\n",
       " ' G D, Chandrashekhar chandrashekhar.g.d@accenture.com',\n",
       " ' Nikhil Reddy, Madithati m.nikhil.reddy@accenture.com',\n",
       " ' Santos, Jeroshelle V. jeroshelle.v.santos@accenture.com',\n",
       " ' Milan, Gerald John gerald.john.milan@accenture.com',\n",
       " ' Gupta, Vivek vivek.u.gupta@accenture.com',\n",
       " ' Mandal, Sumit s.sunilkumar.mandal@accenture.com',\n",
       " ' Prakash Shukla, Ashok ashok.prakash.shukla@accenture.com',\n",
       " ' Naganathan, Siva sivakumar.naganathan@accenture.com',\n",
       " ' GAHLOT, NIKHIL nikhil.gahlot@accenture.com',\n",
       " ' Kanjilal, Sourav s.a.kanti.kanjilal@accenture.com',\n",
       " ' Nallagoni, Omkar omkar.nallagoni@accenture.com',\n",
       " ' Sahajan, Sandra sandra.sahajan@accenture.com',\n",
       " ' Nelluri, Chaitanya chaitanya.nelluri@accenture.com']"
      ]
     },
     "execution_count": 15,
     "metadata": {},
     "output_type": "execute_result"
    }
   ],
   "source": [
    "path='emails.txt'\n",
    "file=open(path)\n",
    "\n",
    "a=[i.replace('<','').replace('>','').split(';') for i in file]\n",
    "a=a[0]\n",
    "\n",
    "b=[i.lstrip('')for i in a]\n",
    "b"
   ]
  },
  {
   "cell_type": "markdown",
   "id": "d1c07d6f-f859-4dbb-a3bb-0ac54e4c4525",
   "metadata": {},
   "source": [
    "**First_name**"
   ]
  },
  {
   "cell_type": "code",
   "execution_count": 17,
   "id": "295bbca0-ab04-4074-8fbc-ea765d93f22e",
   "metadata": {},
   "outputs": [
    {
     "data": {
      "text/plain": [
       "['Santhanam',\n",
       " 'Bhattacharjee',\n",
       " 'Bansal',\n",
       " 'Chandra Shekhar',\n",
       " 'J Doshi',\n",
       " 'Shimoga Prakash',\n",
       " 'Akhouri',\n",
       " 'Nath',\n",
       " 'Ponna',\n",
       " 'Singhal',\n",
       " 'Gorai',\n",
       " 'Valdez',\n",
       " 'Cancel',\n",
       " 'BONDALAKUNTA',\n",
       " 'priyanka uppala',\n",
       " 'Nitin SHINDE',\n",
       " 'Chidre',\n",
       " 'Sahu',\n",
       " 'Sikka',\n",
       " 'Dara',\n",
       " 'Pattanshetti',\n",
       " 'Sharma',\n",
       " 'Latorena',\n",
       " 'Abhimanyu Pradhan',\n",
       " 'Jaiswal',\n",
       " 'Gupta',\n",
       " 'Satti',\n",
       " 'Kumar',\n",
       " 'Balakrishnan',\n",
       " 'M S',\n",
       " 'Cheerala',\n",
       " 'G D',\n",
       " 'Nikhil Reddy',\n",
       " 'Santos',\n",
       " 'Milan',\n",
       " 'Gupta',\n",
       " 'Mandal',\n",
       " 'Prakash Shukla',\n",
       " 'Naganathan',\n",
       " 'GAHLOT',\n",
       " 'Kanjilal',\n",
       " 'Nallagoni',\n",
       " 'Sahajan',\n",
       " 'Nelluri']"
      ]
     },
     "execution_count": 17,
     "metadata": {},
     "output_type": "execute_result"
    }
   ],
   "source": [
    "path='emails.txt'\n",
    "file=open(path)\n",
    "a=[i.replace('<','').replace('>','').split(';')for i in file]\n",
    "a=a[0]\n",
    "\n",
    "b=[i.lstrip(' ') for i in a]\n",
    "\n",
    "first_name=[j[0:j.index(',')] for j in b]\n",
    "\n",
    "first_name"
   ]
  },
  {
   "cell_type": "markdown",
   "id": "c37b6203-b82f-4f99-b747-6e84c881f991",
   "metadata": {},
   "source": [
    "**second_name**"
   ]
  },
  {
   "cell_type": "code",
   "execution_count": 19,
   "id": "835d14ab-6aa4-4d07-bb7a-a37e8215622f",
   "metadata": {},
   "outputs": [
    {
     "data": {
      "text/plain": [
       "['Jayendhran',\n",
       " 'Sankalan',\n",
       " 'Vaishnavi',\n",
       " 'Pavuluri',\n",
       " 'Hiren',\n",
       " 'Jeevan',\n",
       " 'Shreyash',\n",
       " 'Nupanga',\n",
       " 'Ramesh',\n",
       " 'Aditya',\n",
       " 'Sumit',\n",
       " 'Mariele Dyan Francely',\n",
       " 'Abigail Kyle',\n",
       " 'POOJITHA',\n",
       " 'sai',\n",
       " 'NIKHIL',\n",
       " 'Swapna',\n",
       " 'Swastik',\n",
       " 'Ankit',\n",
       " 'Sai Madhukar',\n",
       " 'Sampreet',\n",
       " 'Ayush',\n",
       " 'Zairous Jay',\n",
       " 'Roshankumar',\n",
       " 'Lehar',\n",
       " 'Retik',\n",
       " 'Phanindra Reddy',\n",
       " 'Manish',\n",
       " 'Devi Priya',\n",
       " 'Roshni Priya',\n",
       " 'Vanaja',\n",
       " 'Chandrashekhar',\n",
       " 'Madithati',\n",
       " 'Jeroshelle V.',\n",
       " 'Gerald John',\n",
       " 'Vivek',\n",
       " 'Sumit',\n",
       " 'Ashok',\n",
       " 'Siva',\n",
       " 'NIKHIL',\n",
       " 'Sourav',\n",
       " 'Omkar',\n",
       " 'Sandra',\n",
       " 'Chaitanya']"
      ]
     },
     "execution_count": 19,
     "metadata": {},
     "output_type": "execute_result"
    }
   ],
   "source": [
    "path='emails.txt'\n",
    "file=open(path)\n",
    "a=[i.split(';')for i in file]\n",
    "a=a[0]\n",
    "\n",
    "b=[i.lstrip(' ') for i in a]\n",
    "\n",
    "sname=[j[j.index(',')+2:j.index('<')-1] for j in b]\n",
    "\n",
    "sname"
   ]
  },
  {
   "cell_type": "code",
   "execution_count": null,
   "id": "bc41dd70-898e-402a-af3e-3e0daa957890",
   "metadata": {},
   "outputs": [],
   "source": []
  },
  {
   "cell_type": "markdown",
   "id": "a8368f19-d1b4-4bc2-94ff-9a0c6e8dbfec",
   "metadata": {},
   "source": [
    "**cname=accenture**"
   ]
  },
  {
   "cell_type": "code",
   "execution_count": 29,
   "id": "9b78b241-9926-4f89-bcb2-360016479b41",
   "metadata": {},
   "outputs": [
    {
     "data": {
      "text/plain": [
       "['accenture',\n",
       " 'accenture',\n",
       " 'accenture',\n",
       " 'accenture',\n",
       " 'accenture',\n",
       " 'accenture',\n",
       " 'accenture',\n",
       " 'accenture',\n",
       " 'accenture',\n",
       " 'accenture',\n",
       " 'accenture',\n",
       " 'accenture',\n",
       " 'accenture',\n",
       " 'accenture',\n",
       " 'accenture',\n",
       " 'accenture',\n",
       " 'accenture',\n",
       " 'accenture',\n",
       " 'accenture',\n",
       " 'accenture',\n",
       " 'accenture',\n",
       " 'accenture',\n",
       " 'accenture',\n",
       " 'accenture',\n",
       " 'accenture',\n",
       " 'accenture',\n",
       " 'accenture',\n",
       " 'accenture',\n",
       " 'accenture',\n",
       " 'accenture',\n",
       " 'accenture',\n",
       " 'accenture',\n",
       " 'accenture',\n",
       " 'accenture',\n",
       " 'accenture',\n",
       " 'accenture',\n",
       " 'accenture',\n",
       " 'accenture',\n",
       " 'accenture',\n",
       " 'accenture',\n",
       " 'accenture',\n",
       " 'accenture',\n",
       " 'accenture',\n",
       " 'accenture']"
      ]
     },
     "execution_count": 29,
     "metadata": {},
     "output_type": "execute_result"
    }
   ],
   "source": [
    "path='emails.txt'\n",
    "file=open(path)\n",
    "\n",
    "a=[i.replace('<','').replace('>','').split(';') for i in file]\n",
    "a=a[0]\n",
    "\n",
    "b=[i.lstrip(' ').split(' ')for i in a]\n",
    "\n",
    "c=[j for i in b  for j in i if '@' in j]\n",
    "c\n",
    "cname=[]\n",
    "for i in c:\n",
    "    cname.append(i.split('@')[1].split('.')[0])\n",
    "cname"
   ]
  },
  {
   "cell_type": "code",
   "execution_count": 30,
   "id": "90b2a48a-3cab-433d-9c1e-e1f3f74588ba",
   "metadata": {},
   "outputs": [
    {
     "ename": "AttributeError",
     "evalue": "'list' object has no attribute 'split'",
     "output_type": "error",
     "traceback": [
      "\u001b[1;31m---------------------------------------------------------------------------\u001b[0m",
      "\u001b[1;31mAttributeError\u001b[0m                            Traceback (most recent call last)",
      "Cell \u001b[1;32mIn[30], line 1\u001b[0m\n\u001b[1;32m----> 1\u001b[0m a\u001b[38;5;241m.\u001b[39msplit(\u001b[38;5;124m'\u001b[39m\u001b[38;5;124m@\u001b[39m\u001b[38;5;124m'\u001b[39m)[\u001b[38;5;241m1\u001b[39m]\n",
      "\u001b[1;31mAttributeError\u001b[0m: 'list' object has no attribute 'split'"
     ]
    }
   ],
   "source": [
    "a.split('@')[1]"
   ]
  },
  {
   "cell_type": "code",
   "execution_count": null,
   "id": "3321bc86-468c-4d38-962a-2e20c4f07b24",
   "metadata": {},
   "outputs": [],
   "source": []
  }
 ],
 "metadata": {
  "kernelspec": {
   "display_name": "Python 3 (ipykernel)",
   "language": "python",
   "name": "python3"
  },
  "language_info": {
   "codemirror_mode": {
    "name": "ipython",
    "version": 3
   },
   "file_extension": ".py",
   "mimetype": "text/x-python",
   "name": "python",
   "nbconvert_exporter": "python",
   "pygments_lexer": "ipython3",
   "version": "3.11.7"
  }
 },
 "nbformat": 4,
 "nbformat_minor": 5
}
