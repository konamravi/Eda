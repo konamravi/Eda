{
 "cells": [
  {
   "cell_type": "code",
   "execution_count": null,
   "id": "5cc9d991-510a-4a21-8426-6786f2c4bb80",
   "metadata": {},
   "outputs": [],
   "source": [
    "let assume that our friend coder is there\n",
    "he created an addition program\n",
    "he feels that only created an addition program\n",
    "he wants to give this program to every one===package\n"
   ]
  },
  {
   "cell_type": "code",
   "execution_count": 1,
   "id": "9ee1f2e0-a170-4ccd-83a0-0023b616baa9",
   "metadata": {},
   "outputs": [
    {
     "ename": "SyntaxError",
     "evalue": "invalid syntax (3423112357.py, line 1)",
     "output_type": "error",
     "traceback": [
      "\u001b[1;36m  Cell \u001b[1;32mIn[1], line 1\u001b[1;36m\u001b[0m\n\u001b[1;33m    package is there in your laptop\u001b[0m\n\u001b[1;37m                             ^\u001b[0m\n\u001b[1;31mSyntaxError\u001b[0m\u001b[1;31m:\u001b[0m invalid syntax\n"
     ]
    }
   ],
   "source": [
    "package is there in your laptop\n",
    "tou wnat to use for the coding\n",
    "the package name: addition\n"
   ]
  },
  {
   "cell_type": "markdown",
   "id": "5d0163a7-d088-405f-b30d-a5f667d7cd68",
   "metadata": {},
   "source": [
    "**IMPORT**"
   ]
  },
  {
   "cell_type": "code",
   "execution_count": null,
   "id": "821b5e41-3d6e-4f33-888c-3f80aaaf920c",
   "metadata": {},
   "outputs": [],
   "source": [
    "# syntax\n",
    "# import <package_name>"
   ]
  },
  {
   "cell_type": "code",
   "execution_count": null,
   "id": "3206fa85-ff83-410c-8abf-ae7eb4bb21c7",
   "metadata": {},
   "outputs": [],
   "source": [
    "# package name : random"
   ]
  },
  {
   "cell_type": "code",
   "execution_count": 3,
   "id": "6445f67d-2f12-4d2b-b80b-20df0543235d",
   "metadata": {},
   "outputs": [],
   "source": [
    "# package name :time\n",
    "import time\n"
   ]
  },
  {
   "cell_type": "code",
   "execution_count": 4,
   "id": "8d896263-2913-4ba8-84ee-3299c456aeff",
   "metadata": {},
   "outputs": [],
   "source": [
    "# package name : math\n",
    "import math\n"
   ]
  },
  {
   "cell_type": "code",
   "execution_count": 8,
   "id": "b068ae23-dfc0-495b-8fc1-4b5eeb06c11c",
   "metadata": {},
   "outputs": [],
   "source": [
    "# package name : streamlit\n",
    "import streamlit\n"
   ]
  },
  {
   "cell_type": "code",
   "execution_count": null,
   "id": "aaa73b70-efb2-4f07-8123-24934c8a9255",
   "metadata": {},
   "outputs": [],
   "source": [
    "# module not found \n",
    "# package or module both are "
   ]
  },
  {
   "cell_type": "code",
   "execution_count": 7,
   "id": "23bcc546-2b03-42d9-833a-19756ac451ac",
   "metadata": {},
   "outputs": [
    {
     "ename": "ModuleNotFoundError",
     "evalue": "No module named 'cv2'",
     "output_type": "error",
     "traceback": [
      "\u001b[1;31m---------------------------------------------------------------------------\u001b[0m",
      "\u001b[1;31mModuleNotFoundError\u001b[0m                       Traceback (most recent call last)",
      "Cell \u001b[1;32mIn[7], line 1\u001b[0m\n\u001b[1;32m----> 1\u001b[0m \u001b[38;5;28;01mimport\u001b[39;00m \u001b[38;5;21;01mcv2\u001b[39;00m\n",
      "\u001b[1;31mModuleNotFoundError\u001b[0m: No module named 'cv2'"
     ]
    }
   ],
   "source": [
    "import cv2"
   ]
  },
  {
   "cell_type": "code",
   "execution_count": null,
   "id": "86a707ca-961c-4a98-83b5-26514647d001",
   "metadata": {},
   "outputs": [],
   "source": [
    "cv2 guy not tie with anaconda\n",
    "no moduel name:cv2"
   ]
  },
  {
   "cell_type": "code",
   "execution_count": null,
   "id": "b8291d6f-83ec-40de-851e-8114a91bdcf7",
   "metadata": {},
   "outputs": [],
   "source": [
    "streamlit guy "
   ]
  },
  {
   "cell_type": "code",
   "execution_count": null,
   "id": "aaef7ebc-c9b8-47ef-9f59-02355e4aad5a",
   "metadata": {},
   "outputs": [],
   "source": [
    "math operation \n",
    " addition\n",
    " substraction\n",
    " multiplication\n",
    " division"
   ]
  },
  {
   "cell_type": "code",
   "execution_count": 9,
   "id": "aadbe055-1104-43e2-82d0-aaf40cf4047c",
   "metadata": {},
   "outputs": [
    {
     "data": {
      "text/plain": [
       "['BPF',\n",
       " 'LOG4',\n",
       " 'NV_MAGICCONST',\n",
       " 'RECIP_BPF',\n",
       " 'Random',\n",
       " 'SG_MAGICCONST',\n",
       " 'SystemRandom',\n",
       " 'TWOPI',\n",
       " '_ONE',\n",
       " '_Sequence',\n",
       " '_Set',\n",
       " '__all__',\n",
       " '__builtins__',\n",
       " '__cached__',\n",
       " '__doc__',\n",
       " '__file__',\n",
       " '__loader__',\n",
       " '__name__',\n",
       " '__package__',\n",
       " '__spec__',\n",
       " '_accumulate',\n",
       " '_acos',\n",
       " '_bisect',\n",
       " '_ceil',\n",
       " '_cos',\n",
       " '_e',\n",
       " '_exp',\n",
       " '_floor',\n",
       " '_index',\n",
       " '_inst',\n",
       " '_isfinite',\n",
       " '_log',\n",
       " '_os',\n",
       " '_pi',\n",
       " '_random',\n",
       " '_repeat',\n",
       " '_sha512',\n",
       " '_sin',\n",
       " '_sqrt',\n",
       " '_test',\n",
       " '_test_generator',\n",
       " '_urandom',\n",
       " '_warn',\n",
       " 'betavariate',\n",
       " 'choice',\n",
       " 'choices',\n",
       " 'expovariate',\n",
       " 'gammavariate',\n",
       " 'gauss',\n",
       " 'getrandbits',\n",
       " 'getstate',\n",
       " 'lognormvariate',\n",
       " 'normalvariate',\n",
       " 'paretovariate',\n",
       " 'randbytes',\n",
       " 'randint',\n",
       " 'random',\n",
       " 'randrange',\n",
       " 'sample',\n",
       " 'seed',\n",
       " 'setstate',\n",
       " 'shuffle',\n",
       " 'triangular',\n",
       " 'uniform',\n",
       " 'vonmisesvariate',\n",
       " 'weibullvariate']"
      ]
     },
     "execution_count": 9,
     "metadata": {},
     "output_type": "execute_result"
    }
   ],
   "source": [
    "import random\n",
    "dir(random)"
   ]
  },
  {
   "cell_type": "code",
   "execution_count": null,
   "id": "c4b2c761-afab-469d-bf8c-d4d8d87cd4fb",
   "metadata": {},
   "outputs": [],
   "source": [
    "# syntax\n",
    "#<package_name>.<method_name>\n",
    "# package_name: random\n",
    "# methodname: radint"
   ]
  },
  {
   "cell_type": "code",
   "execution_count": null,
   "id": "e4c54b9c-91e9-4114-9aac-66e128340b6f",
   "metadata": {},
   "outputs": [],
   "source": [
    "#help(<package _name.method_name>)\n",
    "# help will give the understanding of\n",
    "# here i want to know what randint will do?"
   ]
  },
  {
   "cell_type": "code",
   "execution_count": null,
   "id": "0fa5861c-aa79-43ba-baf2-9f56c4c5d064",
   "metadata": {},
   "outputs": [],
   "source": [
    "help(random.randint)\n",
    "Help on method radint in module random:\n",
    "radint(a,b) method of random,random instance\n",
    "Return random integer in range  [a,b],"
   ]
  },
  {
   "cell_type": "code",
   "execution_count": 10,
   "id": "74ce6c15-b01e-4445-b8bd-d9bf18cd5fb4",
   "metadata": {},
   "outputs": [],
   "source": [
    "# step-1 : import <package_name>\n",
    "# step-2 : dir(<package_name>)\n",
    "# step-3 : "
   ]
  },
  {
   "cell_type": "code",
   "execution_count": 12,
   "id": "277aa15d-d51e-4947-8ce1-7e15348d4cfb",
   "metadata": {},
   "outputs": [
    {
     "data": {
      "text/plain": [
       "11"
      ]
     },
     "execution_count": 12,
     "metadata": {},
     "output_type": "execute_result"
    }
   ],
   "source": [
    "random.randint(1,20)"
   ]
  },
  {
   "cell_type": "code",
   "execution_count": null,
   "id": "9bd846d2-5f54-4421-820f-2a9917db7d63",
   "metadata": {},
   "outputs": [],
   "source": [
    "dir(random)\n",
    "help(random.)"
   ]
  },
  {
   "cell_type": "code",
   "execution_count": null,
   "id": "ad4e0d14-4ab2-41f3-abcc-8a403a338f2e",
   "metadata": {},
   "outputs": [],
   "source": [
    "**math**\n",
    "# pacakage name : math\n",
    "# method pi\n",
    "# sqrt\n",
    "  # sin"
   ]
  },
  {
   "cell_type": "code",
   "execution_count": 20,
   "id": "430e942d-16dd-4c90-a696-3e8615eb02c2",
   "metadata": {},
   "outputs": [
    {
     "name": "stdout",
     "output_type": "stream",
     "text": [
      "Help on float object:\n",
      "\n",
      "class float(object)\n",
      " |  float(x=0, /)\n",
      " |  \n",
      " |  Convert a string or number to a floating point number, if possible.\n",
      " |  \n",
      " |  Methods defined here:\n",
      " |  \n",
      " |  __abs__(self, /)\n",
      " |      abs(self)\n",
      " |  \n",
      " |  __add__(self, value, /)\n",
      " |      Return self+value.\n",
      " |  \n",
      " |  __bool__(self, /)\n",
      " |      True if self else False\n",
      " |  \n",
      " |  __ceil__(self, /)\n",
      " |      Return the ceiling as an Integral.\n",
      " |  \n",
      " |  __divmod__(self, value, /)\n",
      " |      Return divmod(self, value).\n",
      " |  \n",
      " |  __eq__(self, value, /)\n",
      " |      Return self==value.\n",
      " |  \n",
      " |  __float__(self, /)\n",
      " |      float(self)\n",
      " |  \n",
      " |  __floor__(self, /)\n",
      " |      Return the floor as an Integral.\n",
      " |  \n",
      " |  __floordiv__(self, value, /)\n",
      " |      Return self//value.\n",
      " |  \n",
      " |  __format__(self, format_spec, /)\n",
      " |      Formats the float according to format_spec.\n",
      " |  \n",
      " |  __ge__(self, value, /)\n",
      " |      Return self>=value.\n",
      " |  \n",
      " |  __getattribute__(self, name, /)\n",
      " |      Return getattr(self, name).\n",
      " |  \n",
      " |  __getnewargs__(self, /)\n",
      " |  \n",
      " |  __gt__(self, value, /)\n",
      " |      Return self>value.\n",
      " |  \n",
      " |  __hash__(self, /)\n",
      " |      Return hash(self).\n",
      " |  \n",
      " |  __int__(self, /)\n",
      " |      int(self)\n",
      " |  \n",
      " |  __le__(self, value, /)\n",
      " |      Return self<=value.\n",
      " |  \n",
      " |  __lt__(self, value, /)\n",
      " |      Return self<value.\n",
      " |  \n",
      " |  __mod__(self, value, /)\n",
      " |      Return self%value.\n",
      " |  \n",
      " |  __mul__(self, value, /)\n",
      " |      Return self*value.\n",
      " |  \n",
      " |  __ne__(self, value, /)\n",
      " |      Return self!=value.\n",
      " |  \n",
      " |  __neg__(self, /)\n",
      " |      -self\n",
      " |  \n",
      " |  __pos__(self, /)\n",
      " |      +self\n",
      " |  \n",
      " |  __pow__(self, value, mod=None, /)\n",
      " |      Return pow(self, value, mod).\n",
      " |  \n",
      " |  __radd__(self, value, /)\n",
      " |      Return value+self.\n",
      " |  \n",
      " |  __rdivmod__(self, value, /)\n",
      " |      Return divmod(value, self).\n",
      " |  \n",
      " |  __repr__(self, /)\n",
      " |      Return repr(self).\n",
      " |  \n",
      " |  __rfloordiv__(self, value, /)\n",
      " |      Return value//self.\n",
      " |  \n",
      " |  __rmod__(self, value, /)\n",
      " |      Return value%self.\n",
      " |  \n",
      " |  __rmul__(self, value, /)\n",
      " |      Return value*self.\n",
      " |  \n",
      " |  __round__(self, ndigits=None, /)\n",
      " |      Return the Integral closest to x, rounding half toward even.\n",
      " |      \n",
      " |      When an argument is passed, work like built-in round(x, ndigits).\n",
      " |  \n",
      " |  __rpow__(self, value, mod=None, /)\n",
      " |      Return pow(value, self, mod).\n",
      " |  \n",
      " |  __rsub__(self, value, /)\n",
      " |      Return value-self.\n",
      " |  \n",
      " |  __rtruediv__(self, value, /)\n",
      " |      Return value/self.\n",
      " |  \n",
      " |  __sub__(self, value, /)\n",
      " |      Return self-value.\n",
      " |  \n",
      " |  __truediv__(self, value, /)\n",
      " |      Return self/value.\n",
      " |  \n",
      " |  __trunc__(self, /)\n",
      " |      Return the Integral closest to x between 0 and x.\n",
      " |  \n",
      " |  as_integer_ratio(self, /)\n",
      " |      Return integer ratio.\n",
      " |      \n",
      " |      Return a pair of integers, whose ratio is exactly equal to the original float\n",
      " |      and with a positive denominator.\n",
      " |      \n",
      " |      Raise OverflowError on infinities and a ValueError on NaNs.\n",
      " |      \n",
      " |      >>> (10.0).as_integer_ratio()\n",
      " |      (10, 1)\n",
      " |      >>> (0.0).as_integer_ratio()\n",
      " |      (0, 1)\n",
      " |      >>> (-.25).as_integer_ratio()\n",
      " |      (-1, 4)\n",
      " |  \n",
      " |  conjugate(self, /)\n",
      " |      Return self, the complex conjugate of any float.\n",
      " |  \n",
      " |  hex(self, /)\n",
      " |      Return a hexadecimal representation of a floating-point number.\n",
      " |      \n",
      " |      >>> (-0.1).hex()\n",
      " |      '-0x1.999999999999ap-4'\n",
      " |      >>> 3.14159.hex()\n",
      " |      '0x1.921f9f01b866ep+1'\n",
      " |  \n",
      " |  is_integer(self, /)\n",
      " |      Return True if the float is an integer.\n",
      " |  \n",
      " |  ----------------------------------------------------------------------\n",
      " |  Class methods defined here:\n",
      " |  \n",
      " |  __getformat__(typestr, /) from builtins.type\n",
      " |      You probably don't want to use this function.\n",
      " |      \n",
      " |        typestr\n",
      " |          Must be 'double' or 'float'.\n",
      " |      \n",
      " |      It exists mainly to be used in Python's test suite.\n",
      " |      \n",
      " |      This function returns whichever of 'unknown', 'IEEE, big-endian' or 'IEEE,\n",
      " |      little-endian' best describes the format of floating point numbers used by the\n",
      " |      C type named by typestr.\n",
      " |  \n",
      " |  fromhex(string, /) from builtins.type\n",
      " |      Create a floating-point number from a hexadecimal string.\n",
      " |      \n",
      " |      >>> float.fromhex('0x1.ffffp10')\n",
      " |      2047.984375\n",
      " |      >>> float.fromhex('-0x1p-1074')\n",
      " |      -5e-324\n",
      " |  \n",
      " |  ----------------------------------------------------------------------\n",
      " |  Static methods defined here:\n",
      " |  \n",
      " |  __new__(*args, **kwargs) from builtins.type\n",
      " |      Create and return a new object.  See help(type) for accurate signature.\n",
      " |  \n",
      " |  ----------------------------------------------------------------------\n",
      " |  Data descriptors defined here:\n",
      " |  \n",
      " |  imag\n",
      " |      the imaginary part of a complex number\n",
      " |  \n",
      " |  real\n",
      " |      the real part of a complex number\n",
      "\n"
     ]
    }
   ],
   "source": [
    "help(math.pi)"
   ]
  },
  {
   "cell_type": "code",
   "execution_count": 13,
   "id": "a1abc5d7-4a22-410a-8c9b-4203d1fb73d3",
   "metadata": {},
   "outputs": [
    {
     "name": "stdout",
     "output_type": "stream",
     "text": [
      "Help on built-in function sqrt in module math:\n",
      "\n",
      "sqrt(x, /)\n",
      "    Return the square root of x.\n",
      "\n"
     ]
    }
   ],
   "source": [
    "help(math.sqrt)"
   ]
  },
  {
   "cell_type": "code",
   "execution_count": 16,
   "id": "403c83f7-6637-4618-a2ae-ada778d98790",
   "metadata": {},
   "outputs": [
    {
     "data": {
      "text/plain": [
       "5.0"
      ]
     },
     "execution_count": 16,
     "metadata": {},
     "output_type": "execute_result"
    }
   ],
   "source": [
    "math.sqrt(25)"
   ]
  },
  {
   "cell_type": "code",
   "execution_count": 17,
   "id": "28b69b9a-f141-4e10-bce5-37d8d6179f90",
   "metadata": {},
   "outputs": [
    {
     "name": "stdout",
     "output_type": "stream",
     "text": [
      "Help on built-in function sin in module math:\n",
      "\n",
      "sin(x, /)\n",
      "    Return the sine of x (measured in radians).\n",
      "\n"
     ]
    }
   ],
   "source": [
    "help(math.sin)"
   ]
  },
  {
   "cell_type": "code",
   "execution_count": 18,
   "id": "66f571c0-d6cc-4ebe-8816-f5fbc67801ff",
   "metadata": {},
   "outputs": [
    {
     "data": {
      "text/plain": [
       "-0.13235175009777303"
      ]
     },
     "execution_count": 18,
     "metadata": {},
     "output_type": "execute_result"
    }
   ],
   "source": [
    "math.sin(25)"
   ]
  },
  {
   "cell_type": "code",
   "execution_count": 21,
   "id": "ad59697c-9d3d-4771-a567-d26b11a3b602",
   "metadata": {},
   "outputs": [
    {
     "name": "stdout",
     "output_type": "stream",
     "text": [
      "Help on built-in function pow in module math:\n",
      "\n",
      "pow(x, y, /)\n",
      "    Return x**y (x to the power of y).\n",
      "\n"
     ]
    }
   ],
   "source": [
    "help(math.pow)"
   ]
  },
  {
   "cell_type": "code",
   "execution_count": 22,
   "id": "d48597eb-a310-4218-8fb6-6867dabbba5d",
   "metadata": {},
   "outputs": [
    {
     "data": {
      "text/plain": [
       "8.0"
      ]
     },
     "execution_count": 22,
     "metadata": {},
     "output_type": "execute_result"
    }
   ],
   "source": [
    "math.pow(2,3)"
   ]
  },
  {
   "cell_type": "code",
   "execution_count": 25,
   "id": "d31f5f6c-ef0e-490a-82c5-86cbbf462b98",
   "metadata": {},
   "outputs": [
    {
     "name": "stdout",
     "output_type": "stream",
     "text": [
      "Help on built-in function sin in module math:\n",
      "\n",
      "sin(x, /)\n",
      "    Return the sine of x (measured in radians).\n",
      "\n"
     ]
    }
   ],
   "source": [
    "help(math.sin)"
   ]
  },
  {
   "cell_type": "code",
   "execution_count": 24,
   "id": "b1142031-9c3f-4f22-9cc6-3961e0685eac",
   "metadata": {},
   "outputs": [
    {
     "data": {
      "text/plain": [
       "0.8939966636005579"
      ]
     },
     "execution_count": 24,
     "metadata": {},
     "output_type": "execute_result"
    }
   ],
   "source": [
    "math.sin(90)"
   ]
  },
  {
   "cell_type": "code",
   "execution_count": null,
   "id": "00768b44-c773-4fe0-bde3-702f0dc42970",
   "metadata": {},
   "outputs": [],
   "source": [
    "math.sqrt(25)\n",
    "math.pow(2,3)\n",
    "math.sin(90)"
   ]
  },
  {
   "cell_type": "code",
   "execution_count": 26,
   "id": "7fbdb185-f071-48a5-a516-3e91e0422f19",
   "metadata": {},
   "outputs": [
    {
     "data": {
      "text/plain": [
       "<function math.sqrt(x, /)>"
      ]
     },
     "execution_count": 26,
     "metadata": {},
     "output_type": "execute_result"
    }
   ],
   "source": [
    "math.sqrt\n",
    "#cursor inside the bracket\n",
    "# then apply shift+tab\n",
    "\n",
    "# / is mentioned means \n",
    "# do not provide x=25 values\n"
   ]
  },
  {
   "cell_type": "code",
   "execution_count": 31,
   "id": "a42a255b-2fa9-4e9a-b127-e9b7548e9fda",
   "metadata": {},
   "outputs": [
    {
     "data": {
      "text/plain": [
       "5.0"
      ]
     },
     "execution_count": 31,
     "metadata": {},
     "output_type": "execute_result"
    }
   ],
   "source": [
    "math.sqrt(25)"
   ]
  },
  {
   "cell_type": "code",
   "execution_count": null,
   "id": "7748a3e2-688d-4a5d-a952-c5b5c798ba0f",
   "metadata": {},
   "outputs": [],
   "source": [
    "- function means we are forgetting brackets\n",
    "- we need to keep brackets\n",
    "- bound method also mean  for getting the breacket only\n",
    "- not calleble means remove the breakets \n",
    "- when ever "
   ]
  },
  {
   "cell_type": "code",
   "execution_count": 37,
   "id": "a6922359-03e0-441f-b2f0-9df8c94582e9",
   "metadata": {},
   "outputs": [
    {
     "data": {
      "text/plain": [
       "10"
      ]
     },
     "execution_count": 37,
     "metadata": {},
     "output_type": "execute_result"
    }
   ],
   "source": [
    "random.randint(10,20)"
   ]
  },
  {
   "cell_type": "code",
   "execution_count": 45,
   "id": "9a7264dc-bb64-4bf5-8168-76361bd5ed1b",
   "metadata": {},
   "outputs": [
    {
     "data": {
      "text/plain": [
       "<function Random.random()>"
      ]
     },
     "execution_count": 45,
     "metadata": {},
     "output_type": "execute_result"
    }
   ],
   "source": [
    "random.random"
   ]
  },
  {
   "cell_type": "code",
   "execution_count": 44,
   "id": "c04e18fe-070d-4a42-a4e3-5038ac09e5df",
   "metadata": {},
   "outputs": [
    {
     "data": {
      "text/plain": [
       "['BPF',\n",
       " 'LOG4',\n",
       " 'NV_MAGICCONST',\n",
       " 'RECIP_BPF',\n",
       " 'Random',\n",
       " 'SG_MAGICCONST',\n",
       " 'SystemRandom',\n",
       " 'TWOPI',\n",
       " '_ONE',\n",
       " '_Sequence',\n",
       " '_Set',\n",
       " '__all__',\n",
       " '__builtins__',\n",
       " '__cached__',\n",
       " '__doc__',\n",
       " '__file__',\n",
       " '__loader__',\n",
       " '__name__',\n",
       " '__package__',\n",
       " '__spec__',\n",
       " '_accumulate',\n",
       " '_acos',\n",
       " '_bisect',\n",
       " '_ceil',\n",
       " '_cos',\n",
       " '_e',\n",
       " '_exp',\n",
       " '_floor',\n",
       " '_index',\n",
       " '_inst',\n",
       " '_isfinite',\n",
       " '_log',\n",
       " '_os',\n",
       " '_pi',\n",
       " '_random',\n",
       " '_repeat',\n",
       " '_sha512',\n",
       " '_sin',\n",
       " '_sqrt',\n",
       " '_test',\n",
       " '_test_generator',\n",
       " '_urandom',\n",
       " '_warn',\n",
       " 'betavariate',\n",
       " 'choice',\n",
       " 'choices',\n",
       " 'expovariate',\n",
       " 'gammavariate',\n",
       " 'gauss',\n",
       " 'getrandbits',\n",
       " 'getstate',\n",
       " 'lognormvariate',\n",
       " 'normalvariate',\n",
       " 'paretovariate',\n",
       " 'randbytes',\n",
       " 'randint',\n",
       " 'random',\n",
       " 'randrange',\n",
       " 'sample',\n",
       " 'seed',\n",
       " 'setstate',\n",
       " 'shuffle',\n",
       " 'triangular',\n",
       " 'uniform',\n",
       " 'vonmisesvariate',\n",
       " 'weibullvariate']"
      ]
     },
     "execution_count": 44,
     "metadata": {},
     "output_type": "execute_result"
    }
   ],
   "source": [
    "dir(random)"
   ]
  },
  {
   "cell_type": "code",
   "execution_count": 47,
   "id": "2b163cd2-0073-4a65-9d15-641c6b00c5a3",
   "metadata": {},
   "outputs": [
    {
     "data": {
      "text/plain": [
       "3.141592653589793"
      ]
     },
     "execution_count": 47,
     "metadata": {},
     "output_type": "execute_result"
    }
   ],
   "source": [
    "math.pi\n",
    "# direct values never include bracket"
   ]
  },
  {
   "cell_type": "code",
   "execution_count": null,
   "id": "9af986f0-ce3f-4ec6-b82e-70b3913d3da5",
   "metadata": {},
   "outputs": [],
   "source": [
    "# package name :keyword\n",
    "# method name :kwlist "
   ]
  },
  {
   "cell_type": "code",
   "execution_count": 50,
   "id": "ce6e6087-1253-47db-a8b4-809dd9c4cdc8",
   "metadata": {},
   "outputs": [],
   "source": [
    "import keyword"
   ]
  },
  {
   "cell_type": "code",
   "execution_count": 51,
   "id": "5442c042-b403-4291-a304-7817cf201224",
   "metadata": {},
   "outputs": [
    {
     "data": {
      "text/plain": [
       "['__all__',\n",
       " '__builtins__',\n",
       " '__cached__',\n",
       " '__doc__',\n",
       " '__file__',\n",
       " '__loader__',\n",
       " '__name__',\n",
       " '__package__',\n",
       " '__spec__',\n",
       " 'iskeyword',\n",
       " 'issoftkeyword',\n",
       " 'kwlist',\n",
       " 'softkwlist']"
      ]
     },
     "execution_count": 51,
     "metadata": {},
     "output_type": "execute_result"
    }
   ],
   "source": [
    "dir(keyword)"
   ]
  },
  {
   "cell_type": "code",
   "execution_count": 54,
   "id": "837730d3-e13c-4de5-aa62-6a81801a7ca4",
   "metadata": {},
   "outputs": [
    {
     "data": {
      "text/plain": [
       "['False',\n",
       " 'None',\n",
       " 'True',\n",
       " 'and',\n",
       " 'as',\n",
       " 'assert',\n",
       " 'async',\n",
       " 'await',\n",
       " 'break',\n",
       " 'class',\n",
       " 'continue',\n",
       " 'def',\n",
       " 'del',\n",
       " 'elif',\n",
       " 'else',\n",
       " 'except',\n",
       " 'finally',\n",
       " 'for',\n",
       " 'from',\n",
       " 'global',\n",
       " 'if',\n",
       " 'import',\n",
       " 'in',\n",
       " 'is',\n",
       " 'lambda',\n",
       " 'nonlocal',\n",
       " 'not',\n",
       " 'or',\n",
       " 'pass',\n",
       " 'raise',\n",
       " 'return',\n",
       " 'try',\n",
       " 'while',\n",
       " 'with',\n",
       " 'yield']"
      ]
     },
     "execution_count": 54,
     "metadata": {},
     "output_type": "execute_result"
    }
   ],
   "source": [
    "keyword.kwlist"
   ]
  },
  {
   "cell_type": "code",
   "execution_count": null,
   "id": "2053558d-3988-4844-a267-a598718a0cd5",
   "metadata": {},
   "outputs": [],
   "source": []
  }
 ],
 "metadata": {
  "kernelspec": {
   "display_name": "Python 3 (ipykernel)",
   "language": "python",
   "name": "python3"
  },
  "language_info": {
   "codemirror_mode": {
    "name": "ipython",
    "version": 3
   },
   "file_extension": ".py",
   "mimetype": "text/x-python",
   "name": "python",
   "nbconvert_exporter": "python",
   "pygments_lexer": "ipython3",
   "version": "3.11.7"
  }
 },
 "nbformat": 4,
 "nbformat_minor": 5
}
